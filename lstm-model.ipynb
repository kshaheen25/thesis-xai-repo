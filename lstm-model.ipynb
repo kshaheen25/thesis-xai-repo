{
 "cells": [
  {
   "cell_type": "code",
   "execution_count": 1,
   "id": "1d5432a9",
   "metadata": {
    "_cell_guid": "b1076dfc-b9ad-4769-8c92-a6c4dae69d19",
    "_uuid": "8f2839f25d086af736a60e9eeb907d3b93b6e0e5",
    "execution": {
     "iopub.execute_input": "2024-06-30T12:19:20.545182Z",
     "iopub.status.busy": "2024-06-30T12:19:20.544812Z",
     "iopub.status.idle": "2024-06-30T12:19:21.299531Z",
     "shell.execute_reply": "2024-06-30T12:19:21.298097Z"
    },
    "papermill": {
     "duration": 0.765416,
     "end_time": "2024-06-30T12:19:21.301807",
     "exception": false,
     "start_time": "2024-06-30T12:19:20.536391",
     "status": "completed"
    },
    "tags": []
   },
   "outputs": [
    {
     "name": "stdout",
     "output_type": "stream",
     "text": [
      "/kaggle/input/test-cases/s3.UseCase.csv\n",
      "/kaggle/input/test-cases/S1. Curated Input.csv\n",
      "/kaggle/input/test-cases/S2. Example Input.csv\n",
      "/kaggle/input/test-cases/S4Example.csv\n",
      "/kaggle/input/xai-dataset-2/clinical_mastitis_cows.csv\n"
     ]
    }
   ],
   "source": [
    "# This Python 3 environment comes with many helpful analytics libraries installed\n",
    "# It is defined by the kaggle/python Docker image: https://github.com/kaggle/docker-python\n",
    "# For example, here's several helpful packages to load\n",
    "\n",
    "import numpy as np # linear algebra\n",
    "import pandas as pd # data processing, CSV file I/O (e.g. pd.read_csv)\n",
    "\n",
    "# Input data files are available in the read-only \"../input/\" directory\n",
    "# For example, running this (by clicking run or pressing Shift+Enter) will list all files under the input directory\n",
    "\n",
    "import os\n",
    "for dirname, _, filenames in os.walk('/kaggle/input'):\n",
    "    for filename in filenames:\n",
    "        print(os.path.join(dirname, filename))\n",
    "\n",
    "# You can write up to 20GB to the current directory (/kaggle/working/) that gets preserved as output when you create a version using \"Save & Run All\" \n",
    "# You can also write temporary files to /kaggle/temp/, but they won't be saved outside of the current session"
   ]
  },
  {
   "cell_type": "code",
   "execution_count": 2,
   "id": "2486dae6",
   "metadata": {
    "execution": {
     "iopub.execute_input": "2024-06-30T12:19:21.316705Z",
     "iopub.status.busy": "2024-06-30T12:19:21.316235Z",
     "iopub.status.idle": "2024-06-30T12:19:39.198826Z",
     "shell.execute_reply": "2024-06-30T12:19:39.197970Z"
    },
    "papermill": {
     "duration": 17.892565,
     "end_time": "2024-06-30T12:19:39.201168",
     "exception": false,
     "start_time": "2024-06-30T12:19:21.308603",
     "status": "completed"
    },
    "tags": []
   },
   "outputs": [
    {
     "name": "stderr",
     "output_type": "stream",
     "text": [
      "2024-06-30 12:19:24.257192: E external/local_xla/xla/stream_executor/cuda/cuda_dnn.cc:9261] Unable to register cuDNN factory: Attempting to register factory for plugin cuDNN when one has already been registered\n",
      "2024-06-30 12:19:24.257299: E external/local_xla/xla/stream_executor/cuda/cuda_fft.cc:607] Unable to register cuFFT factory: Attempting to register factory for plugin cuFFT when one has already been registered\n",
      "2024-06-30 12:19:24.390286: E external/local_xla/xla/stream_executor/cuda/cuda_blas.cc:1515] Unable to register cuBLAS factory: Attempting to register factory for plugin cuBLAS when one has already been registered\n"
     ]
    }
   ],
   "source": [
    "# Import necessary libraries\n",
    "import pandas as pd\n",
    "from sklearn.preprocessing import LabelEncoder\n",
    "from sklearn.model_selection import train_test_split\n",
    "import numpy as np\n",
    "from tensorflow.keras.models import Sequential\n",
    "from tensorflow.keras.layers import LSTM, Dense\n",
    "import shap"
   ]
  },
  {
   "cell_type": "code",
   "execution_count": 3,
   "id": "b1062985",
   "metadata": {
    "execution": {
     "iopub.execute_input": "2024-06-30T12:19:39.216662Z",
     "iopub.status.busy": "2024-06-30T12:19:39.216005Z",
     "iopub.status.idle": "2024-06-30T12:19:39.250425Z",
     "shell.execute_reply": "2024-06-30T12:19:39.249560Z"
    },
    "papermill": {
     "duration": 0.044526,
     "end_time": "2024-06-30T12:19:39.252674",
     "exception": false,
     "start_time": "2024-06-30T12:19:39.208148",
     "status": "completed"
    },
    "tags": []
   },
   "outputs": [],
   "source": [
    "# Load the dataset\n",
    "file_path = \"/kaggle/input/test-cases/S1. Curated Input.csv\"  # Update with the correct path\n",
    "df = pd.read_csv(file_path)"
   ]
  },
  {
   "cell_type": "code",
   "execution_count": 4,
   "id": "c550472c",
   "metadata": {
    "execution": {
     "iopub.execute_input": "2024-06-30T12:19:39.267966Z",
     "iopub.status.busy": "2024-06-30T12:19:39.267603Z",
     "iopub.status.idle": "2024-06-30T12:19:39.302480Z",
     "shell.execute_reply": "2024-06-30T12:19:39.301506Z"
    },
    "papermill": {
     "duration": 0.044821,
     "end_time": "2024-06-30T12:19:39.304567",
     "exception": false,
     "start_time": "2024-06-30T12:19:39.259746",
     "status": "completed"
    },
    "tags": []
   },
   "outputs": [
    {
     "data": {
      "text/html": [
       "<div>\n",
       "<style scoped>\n",
       "    .dataframe tbody tr th:only-of-type {\n",
       "        vertical-align: middle;\n",
       "    }\n",
       "\n",
       "    .dataframe tbody tr th {\n",
       "        vertical-align: top;\n",
       "    }\n",
       "\n",
       "    .dataframe thead th {\n",
       "        text-align: right;\n",
       "    }\n",
       "</style>\n",
       "<table border=\"1\" class=\"dataframe\">\n",
       "  <thead>\n",
       "    <tr style=\"text-align: right;\">\n",
       "      <th></th>\n",
       "      <th>Months_after_giving_birth</th>\n",
       "      <th>IUFL</th>\n",
       "      <th>EUFL</th>\n",
       "      <th>IUFR</th>\n",
       "      <th>EUFR</th>\n",
       "      <th>IURL</th>\n",
       "      <th>EURL</th>\n",
       "      <th>IURR</th>\n",
       "      <th>EURR</th>\n",
       "      <th>Temperature</th>\n",
       "      <th>Health_Healthy</th>\n",
       "      <th>Health_Mastitis</th>\n",
       "    </tr>\n",
       "  </thead>\n",
       "  <tbody>\n",
       "    <tr>\n",
       "      <th>0</th>\n",
       "      <td>1</td>\n",
       "      <td>150</td>\n",
       "      <td>180</td>\n",
       "      <td>150</td>\n",
       "      <td>180</td>\n",
       "      <td>150</td>\n",
       "      <td>181</td>\n",
       "      <td>150</td>\n",
       "      <td>181</td>\n",
       "      <td>43</td>\n",
       "      <td>True</td>\n",
       "      <td>False</td>\n",
       "    </tr>\n",
       "    <tr>\n",
       "      <th>1</th>\n",
       "      <td>1</td>\n",
       "      <td>152</td>\n",
       "      <td>180</td>\n",
       "      <td>152</td>\n",
       "      <td>185</td>\n",
       "      <td>151</td>\n",
       "      <td>180</td>\n",
       "      <td>152</td>\n",
       "      <td>181</td>\n",
       "      <td>42</td>\n",
       "      <td>True</td>\n",
       "      <td>False</td>\n",
       "    </tr>\n",
       "    <tr>\n",
       "      <th>2</th>\n",
       "      <td>1</td>\n",
       "      <td>152</td>\n",
       "      <td>182</td>\n",
       "      <td>153</td>\n",
       "      <td>186</td>\n",
       "      <td>151</td>\n",
       "      <td>186</td>\n",
       "      <td>153</td>\n",
       "      <td>183</td>\n",
       "      <td>41</td>\n",
       "      <td>True</td>\n",
       "      <td>False</td>\n",
       "    </tr>\n",
       "    <tr>\n",
       "      <th>3</th>\n",
       "      <td>1</td>\n",
       "      <td>155</td>\n",
       "      <td>183</td>\n",
       "      <td>155</td>\n",
       "      <td>189</td>\n",
       "      <td>155</td>\n",
       "      <td>182</td>\n",
       "      <td>155</td>\n",
       "      <td>186</td>\n",
       "      <td>40</td>\n",
       "      <td>True</td>\n",
       "      <td>False</td>\n",
       "    </tr>\n",
       "    <tr>\n",
       "      <th>4</th>\n",
       "      <td>1</td>\n",
       "      <td>150</td>\n",
       "      <td>186</td>\n",
       "      <td>150</td>\n",
       "      <td>181</td>\n",
       "      <td>150</td>\n",
       "      <td>185</td>\n",
       "      <td>150</td>\n",
       "      <td>188</td>\n",
       "      <td>41</td>\n",
       "      <td>True</td>\n",
       "      <td>False</td>\n",
       "    </tr>\n",
       "    <tr>\n",
       "      <th>...</th>\n",
       "      <td>...</td>\n",
       "      <td>...</td>\n",
       "      <td>...</td>\n",
       "      <td>...</td>\n",
       "      <td>...</td>\n",
       "      <td>...</td>\n",
       "      <td>...</td>\n",
       "      <td>...</td>\n",
       "      <td>...</td>\n",
       "      <td>...</td>\n",
       "      <td>...</td>\n",
       "      <td>...</td>\n",
       "    </tr>\n",
       "    <tr>\n",
       "      <th>7917</th>\n",
       "      <td>6</td>\n",
       "      <td>238</td>\n",
       "      <td>277</td>\n",
       "      <td>231</td>\n",
       "      <td>273</td>\n",
       "      <td>303</td>\n",
       "      <td>355</td>\n",
       "      <td>231</td>\n",
       "      <td>275</td>\n",
       "      <td>44</td>\n",
       "      <td>False</td>\n",
       "      <td>True</td>\n",
       "    </tr>\n",
       "    <tr>\n",
       "      <th>7918</th>\n",
       "      <td>1</td>\n",
       "      <td>238</td>\n",
       "      <td>285</td>\n",
       "      <td>238</td>\n",
       "      <td>281</td>\n",
       "      <td>313</td>\n",
       "      <td>358</td>\n",
       "      <td>247</td>\n",
       "      <td>278</td>\n",
       "      <td>43</td>\n",
       "      <td>False</td>\n",
       "      <td>True</td>\n",
       "    </tr>\n",
       "    <tr>\n",
       "      <th>7919</th>\n",
       "      <td>3</td>\n",
       "      <td>311</td>\n",
       "      <td>359</td>\n",
       "      <td>236</td>\n",
       "      <td>282</td>\n",
       "      <td>245</td>\n",
       "      <td>285</td>\n",
       "      <td>238</td>\n",
       "      <td>278</td>\n",
       "      <td>43</td>\n",
       "      <td>False</td>\n",
       "      <td>True</td>\n",
       "    </tr>\n",
       "    <tr>\n",
       "      <th>7920</th>\n",
       "      <td>6</td>\n",
       "      <td>238</td>\n",
       "      <td>282</td>\n",
       "      <td>237</td>\n",
       "      <td>283</td>\n",
       "      <td>306</td>\n",
       "      <td>357</td>\n",
       "      <td>242</td>\n",
       "      <td>281</td>\n",
       "      <td>43</td>\n",
       "      <td>False</td>\n",
       "      <td>True</td>\n",
       "    </tr>\n",
       "    <tr>\n",
       "      <th>7921</th>\n",
       "      <td>6</td>\n",
       "      <td>231</td>\n",
       "      <td>256</td>\n",
       "      <td>306</td>\n",
       "      <td>361</td>\n",
       "      <td>233</td>\n",
       "      <td>262</td>\n",
       "      <td>235</td>\n",
       "      <td>256</td>\n",
       "      <td>56</td>\n",
       "      <td>False</td>\n",
       "      <td>True</td>\n",
       "    </tr>\n",
       "  </tbody>\n",
       "</table>\n",
       "<p>7922 rows × 12 columns</p>\n",
       "</div>"
      ],
      "text/plain": [
       "      Months_after_giving_birth  IUFL  EUFL  IUFR  EUFR  IURL  EURL  IURR  \\\n",
       "0                             1   150   180   150   180   150   181   150   \n",
       "1                             1   152   180   152   185   151   180   152   \n",
       "2                             1   152   182   153   186   151   186   153   \n",
       "3                             1   155   183   155   189   155   182   155   \n",
       "4                             1   150   186   150   181   150   185   150   \n",
       "...                         ...   ...   ...   ...   ...   ...   ...   ...   \n",
       "7917                          6   238   277   231   273   303   355   231   \n",
       "7918                          1   238   285   238   281   313   358   247   \n",
       "7919                          3   311   359   236   282   245   285   238   \n",
       "7920                          6   238   282   237   283   306   357   242   \n",
       "7921                          6   231   256   306   361   233   262   235   \n",
       "\n",
       "      EURR  Temperature  Health_Healthy  Health_Mastitis  \n",
       "0      181           43            True            False  \n",
       "1      181           42            True            False  \n",
       "2      183           41            True            False  \n",
       "3      186           40            True            False  \n",
       "4      188           41            True            False  \n",
       "...    ...          ...             ...              ...  \n",
       "7917   275           44           False             True  \n",
       "7918   278           43           False             True  \n",
       "7919   278           43           False             True  \n",
       "7920   281           43           False             True  \n",
       "7921   256           56           False             True  \n",
       "\n",
       "[7922 rows x 12 columns]"
      ]
     },
     "execution_count": 4,
     "metadata": {},
     "output_type": "execute_result"
    }
   ],
   "source": [
    "from sklearn.preprocessing import MinMaxScaler\n",
    "\n",
    "# Load dataset \n",
    "\n",
    "df = df.drop(columns=[ 'ID'])\n",
    "df = pd.get_dummies(df)\n",
    "\n",
    "df"
   ]
  },
  {
   "cell_type": "code",
   "execution_count": 5,
   "id": "4f620096",
   "metadata": {
    "execution": {
     "iopub.execute_input": "2024-06-30T12:19:39.320349Z",
     "iopub.status.busy": "2024-06-30T12:19:39.319697Z",
     "iopub.status.idle": "2024-06-30T12:19:39.341209Z",
     "shell.execute_reply": "2024-06-30T12:19:39.340301Z"
    },
    "papermill": {
     "duration": 0.031612,
     "end_time": "2024-06-30T12:19:39.343277",
     "exception": false,
     "start_time": "2024-06-30T12:19:39.311665",
     "status": "completed"
    },
    "tags": []
   },
   "outputs": [
    {
     "data": {
      "text/html": [
       "<div>\n",
       "<style scoped>\n",
       "    .dataframe tbody tr th:only-of-type {\n",
       "        vertical-align: middle;\n",
       "    }\n",
       "\n",
       "    .dataframe tbody tr th {\n",
       "        vertical-align: top;\n",
       "    }\n",
       "\n",
       "    .dataframe thead th {\n",
       "        text-align: right;\n",
       "    }\n",
       "</style>\n",
       "<table border=\"1\" class=\"dataframe\">\n",
       "  <thead>\n",
       "    <tr style=\"text-align: right;\">\n",
       "      <th></th>\n",
       "      <th>Months_after_giving_birth</th>\n",
       "      <th>IUFL</th>\n",
       "      <th>EUFL</th>\n",
       "      <th>IUFR</th>\n",
       "      <th>EUFR</th>\n",
       "      <th>IURL</th>\n",
       "      <th>EURL</th>\n",
       "      <th>IURR</th>\n",
       "      <th>EURR</th>\n",
       "      <th>Temperature</th>\n",
       "      <th>Health_Healthy</th>\n",
       "      <th>Health_Mastitis</th>\n",
       "    </tr>\n",
       "  </thead>\n",
       "  <tbody>\n",
       "    <tr>\n",
       "      <th>0</th>\n",
       "      <td>1</td>\n",
       "      <td>150</td>\n",
       "      <td>180</td>\n",
       "      <td>150</td>\n",
       "      <td>180</td>\n",
       "      <td>150</td>\n",
       "      <td>181</td>\n",
       "      <td>150</td>\n",
       "      <td>181</td>\n",
       "      <td>43</td>\n",
       "      <td>1</td>\n",
       "      <td>0</td>\n",
       "    </tr>\n",
       "    <tr>\n",
       "      <th>1</th>\n",
       "      <td>1</td>\n",
       "      <td>152</td>\n",
       "      <td>180</td>\n",
       "      <td>152</td>\n",
       "      <td>185</td>\n",
       "      <td>151</td>\n",
       "      <td>180</td>\n",
       "      <td>152</td>\n",
       "      <td>181</td>\n",
       "      <td>42</td>\n",
       "      <td>1</td>\n",
       "      <td>0</td>\n",
       "    </tr>\n",
       "    <tr>\n",
       "      <th>2</th>\n",
       "      <td>1</td>\n",
       "      <td>152</td>\n",
       "      <td>182</td>\n",
       "      <td>153</td>\n",
       "      <td>186</td>\n",
       "      <td>151</td>\n",
       "      <td>186</td>\n",
       "      <td>153</td>\n",
       "      <td>183</td>\n",
       "      <td>41</td>\n",
       "      <td>1</td>\n",
       "      <td>0</td>\n",
       "    </tr>\n",
       "    <tr>\n",
       "      <th>3</th>\n",
       "      <td>1</td>\n",
       "      <td>155</td>\n",
       "      <td>183</td>\n",
       "      <td>155</td>\n",
       "      <td>189</td>\n",
       "      <td>155</td>\n",
       "      <td>182</td>\n",
       "      <td>155</td>\n",
       "      <td>186</td>\n",
       "      <td>40</td>\n",
       "      <td>1</td>\n",
       "      <td>0</td>\n",
       "    </tr>\n",
       "    <tr>\n",
       "      <th>4</th>\n",
       "      <td>1</td>\n",
       "      <td>150</td>\n",
       "      <td>186</td>\n",
       "      <td>150</td>\n",
       "      <td>181</td>\n",
       "      <td>150</td>\n",
       "      <td>185</td>\n",
       "      <td>150</td>\n",
       "      <td>188</td>\n",
       "      <td>41</td>\n",
       "      <td>1</td>\n",
       "      <td>0</td>\n",
       "    </tr>\n",
       "    <tr>\n",
       "      <th>...</th>\n",
       "      <td>...</td>\n",
       "      <td>...</td>\n",
       "      <td>...</td>\n",
       "      <td>...</td>\n",
       "      <td>...</td>\n",
       "      <td>...</td>\n",
       "      <td>...</td>\n",
       "      <td>...</td>\n",
       "      <td>...</td>\n",
       "      <td>...</td>\n",
       "      <td>...</td>\n",
       "      <td>...</td>\n",
       "    </tr>\n",
       "    <tr>\n",
       "      <th>7917</th>\n",
       "      <td>6</td>\n",
       "      <td>238</td>\n",
       "      <td>277</td>\n",
       "      <td>231</td>\n",
       "      <td>273</td>\n",
       "      <td>303</td>\n",
       "      <td>355</td>\n",
       "      <td>231</td>\n",
       "      <td>275</td>\n",
       "      <td>44</td>\n",
       "      <td>0</td>\n",
       "      <td>1</td>\n",
       "    </tr>\n",
       "    <tr>\n",
       "      <th>7918</th>\n",
       "      <td>1</td>\n",
       "      <td>238</td>\n",
       "      <td>285</td>\n",
       "      <td>238</td>\n",
       "      <td>281</td>\n",
       "      <td>313</td>\n",
       "      <td>358</td>\n",
       "      <td>247</td>\n",
       "      <td>278</td>\n",
       "      <td>43</td>\n",
       "      <td>0</td>\n",
       "      <td>1</td>\n",
       "    </tr>\n",
       "    <tr>\n",
       "      <th>7919</th>\n",
       "      <td>3</td>\n",
       "      <td>311</td>\n",
       "      <td>359</td>\n",
       "      <td>236</td>\n",
       "      <td>282</td>\n",
       "      <td>245</td>\n",
       "      <td>285</td>\n",
       "      <td>238</td>\n",
       "      <td>278</td>\n",
       "      <td>43</td>\n",
       "      <td>0</td>\n",
       "      <td>1</td>\n",
       "    </tr>\n",
       "    <tr>\n",
       "      <th>7920</th>\n",
       "      <td>6</td>\n",
       "      <td>238</td>\n",
       "      <td>282</td>\n",
       "      <td>237</td>\n",
       "      <td>283</td>\n",
       "      <td>306</td>\n",
       "      <td>357</td>\n",
       "      <td>242</td>\n",
       "      <td>281</td>\n",
       "      <td>43</td>\n",
       "      <td>0</td>\n",
       "      <td>1</td>\n",
       "    </tr>\n",
       "    <tr>\n",
       "      <th>7921</th>\n",
       "      <td>6</td>\n",
       "      <td>231</td>\n",
       "      <td>256</td>\n",
       "      <td>306</td>\n",
       "      <td>361</td>\n",
       "      <td>233</td>\n",
       "      <td>262</td>\n",
       "      <td>235</td>\n",
       "      <td>256</td>\n",
       "      <td>56</td>\n",
       "      <td>0</td>\n",
       "      <td>1</td>\n",
       "    </tr>\n",
       "  </tbody>\n",
       "</table>\n",
       "<p>7922 rows × 12 columns</p>\n",
       "</div>"
      ],
      "text/plain": [
       "      Months_after_giving_birth  IUFL  EUFL  IUFR  EUFR  IURL  EURL  IURR  \\\n",
       "0                             1   150   180   150   180   150   181   150   \n",
       "1                             1   152   180   152   185   151   180   152   \n",
       "2                             1   152   182   153   186   151   186   153   \n",
       "3                             1   155   183   155   189   155   182   155   \n",
       "4                             1   150   186   150   181   150   185   150   \n",
       "...                         ...   ...   ...   ...   ...   ...   ...   ...   \n",
       "7917                          6   238   277   231   273   303   355   231   \n",
       "7918                          1   238   285   238   281   313   358   247   \n",
       "7919                          3   311   359   236   282   245   285   238   \n",
       "7920                          6   238   282   237   283   306   357   242   \n",
       "7921                          6   231   256   306   361   233   262   235   \n",
       "\n",
       "      EURR  Temperature  Health_Healthy  Health_Mastitis  \n",
       "0      181           43               1                0  \n",
       "1      181           42               1                0  \n",
       "2      183           41               1                0  \n",
       "3      186           40               1                0  \n",
       "4      188           41               1                0  \n",
       "...    ...          ...             ...              ...  \n",
       "7917   275           44               0                1  \n",
       "7918   278           43               0                1  \n",
       "7919   278           43               0                1  \n",
       "7920   281           43               0                1  \n",
       "7921   256           56               0                1  \n",
       "\n",
       "[7922 rows x 12 columns]"
      ]
     },
     "execution_count": 5,
     "metadata": {},
     "output_type": "execute_result"
    }
   ],
   "source": [
    "df['Health_Healthy'] = df['Health_Healthy'].apply(lambda x: 1 if x else 0)\n",
    "df['Health_Mastitis'] = df['Health_Mastitis'].apply(lambda x: 1 if x else 0)\n",
    "\n",
    "\n",
    "df"
   ]
  },
  {
   "cell_type": "code",
   "execution_count": 6,
   "id": "9b99ece4",
   "metadata": {
    "execution": {
     "iopub.execute_input": "2024-06-30T12:19:39.359298Z",
     "iopub.status.busy": "2024-06-30T12:19:39.358557Z",
     "iopub.status.idle": "2024-06-30T12:19:39.372746Z",
     "shell.execute_reply": "2024-06-30T12:19:39.371854Z"
    },
    "papermill": {
     "duration": 0.024156,
     "end_time": "2024-06-30T12:19:39.374729",
     "exception": false,
     "start_time": "2024-06-30T12:19:39.350573",
     "status": "completed"
    },
    "tags": []
   },
   "outputs": [
    {
     "data": {
      "text/html": [
       "<div>\n",
       "<style scoped>\n",
       "    .dataframe tbody tr th:only-of-type {\n",
       "        vertical-align: middle;\n",
       "    }\n",
       "\n",
       "    .dataframe tbody tr th {\n",
       "        vertical-align: top;\n",
       "    }\n",
       "\n",
       "    .dataframe thead th {\n",
       "        text-align: right;\n",
       "    }\n",
       "</style>\n",
       "<table border=\"1\" class=\"dataframe\">\n",
       "  <thead>\n",
       "    <tr style=\"text-align: right;\">\n",
       "      <th></th>\n",
       "      <th>Months_after_giving_birth</th>\n",
       "      <th>IUFL</th>\n",
       "      <th>EUFL</th>\n",
       "      <th>IUFR</th>\n",
       "      <th>EUFR</th>\n",
       "      <th>IURL</th>\n",
       "      <th>EURL</th>\n",
       "      <th>IURR</th>\n",
       "      <th>EURR</th>\n",
       "      <th>Temperature</th>\n",
       "      <th>Health_Mastitis</th>\n",
       "    </tr>\n",
       "  </thead>\n",
       "  <tbody>\n",
       "    <tr>\n",
       "      <th>0</th>\n",
       "      <td>1</td>\n",
       "      <td>150</td>\n",
       "      <td>180</td>\n",
       "      <td>150</td>\n",
       "      <td>180</td>\n",
       "      <td>150</td>\n",
       "      <td>181</td>\n",
       "      <td>150</td>\n",
       "      <td>181</td>\n",
       "      <td>43</td>\n",
       "      <td>0</td>\n",
       "    </tr>\n",
       "    <tr>\n",
       "      <th>1</th>\n",
       "      <td>1</td>\n",
       "      <td>152</td>\n",
       "      <td>180</td>\n",
       "      <td>152</td>\n",
       "      <td>185</td>\n",
       "      <td>151</td>\n",
       "      <td>180</td>\n",
       "      <td>152</td>\n",
       "      <td>181</td>\n",
       "      <td>42</td>\n",
       "      <td>0</td>\n",
       "    </tr>\n",
       "    <tr>\n",
       "      <th>2</th>\n",
       "      <td>1</td>\n",
       "      <td>152</td>\n",
       "      <td>182</td>\n",
       "      <td>153</td>\n",
       "      <td>186</td>\n",
       "      <td>151</td>\n",
       "      <td>186</td>\n",
       "      <td>153</td>\n",
       "      <td>183</td>\n",
       "      <td>41</td>\n",
       "      <td>0</td>\n",
       "    </tr>\n",
       "    <tr>\n",
       "      <th>3</th>\n",
       "      <td>1</td>\n",
       "      <td>155</td>\n",
       "      <td>183</td>\n",
       "      <td>155</td>\n",
       "      <td>189</td>\n",
       "      <td>155</td>\n",
       "      <td>182</td>\n",
       "      <td>155</td>\n",
       "      <td>186</td>\n",
       "      <td>40</td>\n",
       "      <td>0</td>\n",
       "    </tr>\n",
       "    <tr>\n",
       "      <th>4</th>\n",
       "      <td>1</td>\n",
       "      <td>150</td>\n",
       "      <td>186</td>\n",
       "      <td>150</td>\n",
       "      <td>181</td>\n",
       "      <td>150</td>\n",
       "      <td>185</td>\n",
       "      <td>150</td>\n",
       "      <td>188</td>\n",
       "      <td>41</td>\n",
       "      <td>0</td>\n",
       "    </tr>\n",
       "    <tr>\n",
       "      <th>...</th>\n",
       "      <td>...</td>\n",
       "      <td>...</td>\n",
       "      <td>...</td>\n",
       "      <td>...</td>\n",
       "      <td>...</td>\n",
       "      <td>...</td>\n",
       "      <td>...</td>\n",
       "      <td>...</td>\n",
       "      <td>...</td>\n",
       "      <td>...</td>\n",
       "      <td>...</td>\n",
       "    </tr>\n",
       "    <tr>\n",
       "      <th>7917</th>\n",
       "      <td>6</td>\n",
       "      <td>238</td>\n",
       "      <td>277</td>\n",
       "      <td>231</td>\n",
       "      <td>273</td>\n",
       "      <td>303</td>\n",
       "      <td>355</td>\n",
       "      <td>231</td>\n",
       "      <td>275</td>\n",
       "      <td>44</td>\n",
       "      <td>1</td>\n",
       "    </tr>\n",
       "    <tr>\n",
       "      <th>7918</th>\n",
       "      <td>1</td>\n",
       "      <td>238</td>\n",
       "      <td>285</td>\n",
       "      <td>238</td>\n",
       "      <td>281</td>\n",
       "      <td>313</td>\n",
       "      <td>358</td>\n",
       "      <td>247</td>\n",
       "      <td>278</td>\n",
       "      <td>43</td>\n",
       "      <td>1</td>\n",
       "    </tr>\n",
       "    <tr>\n",
       "      <th>7919</th>\n",
       "      <td>3</td>\n",
       "      <td>311</td>\n",
       "      <td>359</td>\n",
       "      <td>236</td>\n",
       "      <td>282</td>\n",
       "      <td>245</td>\n",
       "      <td>285</td>\n",
       "      <td>238</td>\n",
       "      <td>278</td>\n",
       "      <td>43</td>\n",
       "      <td>1</td>\n",
       "    </tr>\n",
       "    <tr>\n",
       "      <th>7920</th>\n",
       "      <td>6</td>\n",
       "      <td>238</td>\n",
       "      <td>282</td>\n",
       "      <td>237</td>\n",
       "      <td>283</td>\n",
       "      <td>306</td>\n",
       "      <td>357</td>\n",
       "      <td>242</td>\n",
       "      <td>281</td>\n",
       "      <td>43</td>\n",
       "      <td>1</td>\n",
       "    </tr>\n",
       "    <tr>\n",
       "      <th>7921</th>\n",
       "      <td>6</td>\n",
       "      <td>231</td>\n",
       "      <td>256</td>\n",
       "      <td>306</td>\n",
       "      <td>361</td>\n",
       "      <td>233</td>\n",
       "      <td>262</td>\n",
       "      <td>235</td>\n",
       "      <td>256</td>\n",
       "      <td>56</td>\n",
       "      <td>1</td>\n",
       "    </tr>\n",
       "  </tbody>\n",
       "</table>\n",
       "<p>7922 rows × 11 columns</p>\n",
       "</div>"
      ],
      "text/plain": [
       "      Months_after_giving_birth  IUFL  EUFL  IUFR  EUFR  IURL  EURL  IURR  \\\n",
       "0                             1   150   180   150   180   150   181   150   \n",
       "1                             1   152   180   152   185   151   180   152   \n",
       "2                             1   152   182   153   186   151   186   153   \n",
       "3                             1   155   183   155   189   155   182   155   \n",
       "4                             1   150   186   150   181   150   185   150   \n",
       "...                         ...   ...   ...   ...   ...   ...   ...   ...   \n",
       "7917                          6   238   277   231   273   303   355   231   \n",
       "7918                          1   238   285   238   281   313   358   247   \n",
       "7919                          3   311   359   236   282   245   285   238   \n",
       "7920                          6   238   282   237   283   306   357   242   \n",
       "7921                          6   231   256   306   361   233   262   235   \n",
       "\n",
       "      EURR  Temperature  Health_Mastitis  \n",
       "0      181           43                0  \n",
       "1      181           42                0  \n",
       "2      183           41                0  \n",
       "3      186           40                0  \n",
       "4      188           41                0  \n",
       "...    ...          ...              ...  \n",
       "7917   275           44                1  \n",
       "7918   278           43                1  \n",
       "7919   278           43                1  \n",
       "7920   281           43                1  \n",
       "7921   256           56                1  \n",
       "\n",
       "[7922 rows x 11 columns]"
      ]
     },
     "execution_count": 6,
     "metadata": {},
     "output_type": "execute_result"
    }
   ],
   "source": [
    "df= df.drop('Health_Healthy', axis=1)\n",
    "df"
   ]
  },
  {
   "cell_type": "code",
   "execution_count": 7,
   "id": "f5a83674",
   "metadata": {
    "execution": {
     "iopub.execute_input": "2024-06-30T12:19:39.391493Z",
     "iopub.status.busy": "2024-06-30T12:19:39.390775Z",
     "iopub.status.idle": "2024-06-30T12:19:39.416146Z",
     "shell.execute_reply": "2024-06-30T12:19:39.415140Z"
    },
    "papermill": {
     "duration": 0.035913,
     "end_time": "2024-06-30T12:19:39.418205",
     "exception": false,
     "start_time": "2024-06-30T12:19:39.382292",
     "status": "completed"
    },
    "tags": []
   },
   "outputs": [
    {
     "name": "stdout",
     "output_type": "stream",
     "text": [
      "<class 'pandas.core.frame.DataFrame'>\n",
      "RangeIndex: 7922 entries, 0 to 7921\n",
      "Data columns (total 10 columns):\n",
      " #   Column                     Non-Null Count  Dtype\n",
      "---  ------                     --------------  -----\n",
      " 0   Months_after_giving_birth  7922 non-null   int64\n",
      " 1   IUFL                       7922 non-null   int64\n",
      " 2   EUFL                       7922 non-null   int64\n",
      " 3   IUFR                       7922 non-null   int64\n",
      " 4   EUFR                       7922 non-null   int64\n",
      " 5   IURL                       7922 non-null   int64\n",
      " 6   EURL                       7922 non-null   int64\n",
      " 7   IURR                       7922 non-null   int64\n",
      " 8   EURR                       7922 non-null   int64\n",
      " 9   Temperature                7922 non-null   int64\n",
      "dtypes: int64(10)\n",
      "memory usage: 619.0 KB\n"
     ]
    },
    {
     "data": {
      "text/html": [
       "<div>\n",
       "<style scoped>\n",
       "    .dataframe tbody tr th:only-of-type {\n",
       "        vertical-align: middle;\n",
       "    }\n",
       "\n",
       "    .dataframe tbody tr th {\n",
       "        vertical-align: top;\n",
       "    }\n",
       "\n",
       "    .dataframe thead th {\n",
       "        text-align: right;\n",
       "    }\n",
       "</style>\n",
       "<table border=\"1\" class=\"dataframe\">\n",
       "  <thead>\n",
       "    <tr style=\"text-align: right;\">\n",
       "      <th></th>\n",
       "      <th>Months_after_giving_birth</th>\n",
       "      <th>IUFL</th>\n",
       "      <th>EUFL</th>\n",
       "      <th>IUFR</th>\n",
       "      <th>EUFR</th>\n",
       "      <th>IURL</th>\n",
       "      <th>EURL</th>\n",
       "      <th>IURR</th>\n",
       "      <th>EURR</th>\n",
       "      <th>Temperature</th>\n",
       "    </tr>\n",
       "  </thead>\n",
       "  <tbody>\n",
       "    <tr>\n",
       "      <th>0</th>\n",
       "      <td>1</td>\n",
       "      <td>150</td>\n",
       "      <td>180</td>\n",
       "      <td>150</td>\n",
       "      <td>180</td>\n",
       "      <td>150</td>\n",
       "      <td>181</td>\n",
       "      <td>150</td>\n",
       "      <td>181</td>\n",
       "      <td>43</td>\n",
       "    </tr>\n",
       "    <tr>\n",
       "      <th>1</th>\n",
       "      <td>1</td>\n",
       "      <td>152</td>\n",
       "      <td>180</td>\n",
       "      <td>152</td>\n",
       "      <td>185</td>\n",
       "      <td>151</td>\n",
       "      <td>180</td>\n",
       "      <td>152</td>\n",
       "      <td>181</td>\n",
       "      <td>42</td>\n",
       "    </tr>\n",
       "    <tr>\n",
       "      <th>2</th>\n",
       "      <td>1</td>\n",
       "      <td>152</td>\n",
       "      <td>182</td>\n",
       "      <td>153</td>\n",
       "      <td>186</td>\n",
       "      <td>151</td>\n",
       "      <td>186</td>\n",
       "      <td>153</td>\n",
       "      <td>183</td>\n",
       "      <td>41</td>\n",
       "    </tr>\n",
       "    <tr>\n",
       "      <th>3</th>\n",
       "      <td>1</td>\n",
       "      <td>155</td>\n",
       "      <td>183</td>\n",
       "      <td>155</td>\n",
       "      <td>189</td>\n",
       "      <td>155</td>\n",
       "      <td>182</td>\n",
       "      <td>155</td>\n",
       "      <td>186</td>\n",
       "      <td>40</td>\n",
       "    </tr>\n",
       "    <tr>\n",
       "      <th>4</th>\n",
       "      <td>1</td>\n",
       "      <td>150</td>\n",
       "      <td>186</td>\n",
       "      <td>150</td>\n",
       "      <td>181</td>\n",
       "      <td>150</td>\n",
       "      <td>185</td>\n",
       "      <td>150</td>\n",
       "      <td>188</td>\n",
       "      <td>41</td>\n",
       "    </tr>\n",
       "    <tr>\n",
       "      <th>...</th>\n",
       "      <td>...</td>\n",
       "      <td>...</td>\n",
       "      <td>...</td>\n",
       "      <td>...</td>\n",
       "      <td>...</td>\n",
       "      <td>...</td>\n",
       "      <td>...</td>\n",
       "      <td>...</td>\n",
       "      <td>...</td>\n",
       "      <td>...</td>\n",
       "    </tr>\n",
       "    <tr>\n",
       "      <th>7917</th>\n",
       "      <td>6</td>\n",
       "      <td>238</td>\n",
       "      <td>277</td>\n",
       "      <td>231</td>\n",
       "      <td>273</td>\n",
       "      <td>303</td>\n",
       "      <td>355</td>\n",
       "      <td>231</td>\n",
       "      <td>275</td>\n",
       "      <td>44</td>\n",
       "    </tr>\n",
       "    <tr>\n",
       "      <th>7918</th>\n",
       "      <td>1</td>\n",
       "      <td>238</td>\n",
       "      <td>285</td>\n",
       "      <td>238</td>\n",
       "      <td>281</td>\n",
       "      <td>313</td>\n",
       "      <td>358</td>\n",
       "      <td>247</td>\n",
       "      <td>278</td>\n",
       "      <td>43</td>\n",
       "    </tr>\n",
       "    <tr>\n",
       "      <th>7919</th>\n",
       "      <td>3</td>\n",
       "      <td>311</td>\n",
       "      <td>359</td>\n",
       "      <td>236</td>\n",
       "      <td>282</td>\n",
       "      <td>245</td>\n",
       "      <td>285</td>\n",
       "      <td>238</td>\n",
       "      <td>278</td>\n",
       "      <td>43</td>\n",
       "    </tr>\n",
       "    <tr>\n",
       "      <th>7920</th>\n",
       "      <td>6</td>\n",
       "      <td>238</td>\n",
       "      <td>282</td>\n",
       "      <td>237</td>\n",
       "      <td>283</td>\n",
       "      <td>306</td>\n",
       "      <td>357</td>\n",
       "      <td>242</td>\n",
       "      <td>281</td>\n",
       "      <td>43</td>\n",
       "    </tr>\n",
       "    <tr>\n",
       "      <th>7921</th>\n",
       "      <td>6</td>\n",
       "      <td>231</td>\n",
       "      <td>256</td>\n",
       "      <td>306</td>\n",
       "      <td>361</td>\n",
       "      <td>233</td>\n",
       "      <td>262</td>\n",
       "      <td>235</td>\n",
       "      <td>256</td>\n",
       "      <td>56</td>\n",
       "    </tr>\n",
       "  </tbody>\n",
       "</table>\n",
       "<p>7922 rows × 10 columns</p>\n",
       "</div>"
      ],
      "text/plain": [
       "      Months_after_giving_birth  IUFL  EUFL  IUFR  EUFR  IURL  EURL  IURR  \\\n",
       "0                             1   150   180   150   180   150   181   150   \n",
       "1                             1   152   180   152   185   151   180   152   \n",
       "2                             1   152   182   153   186   151   186   153   \n",
       "3                             1   155   183   155   189   155   182   155   \n",
       "4                             1   150   186   150   181   150   185   150   \n",
       "...                         ...   ...   ...   ...   ...   ...   ...   ...   \n",
       "7917                          6   238   277   231   273   303   355   231   \n",
       "7918                          1   238   285   238   281   313   358   247   \n",
       "7919                          3   311   359   236   282   245   285   238   \n",
       "7920                          6   238   282   237   283   306   357   242   \n",
       "7921                          6   231   256   306   361   233   262   235   \n",
       "\n",
       "      EURR  Temperature  \n",
       "0      181           43  \n",
       "1      181           42  \n",
       "2      183           41  \n",
       "3      186           40  \n",
       "4      188           41  \n",
       "...    ...          ...  \n",
       "7917   275           44  \n",
       "7918   278           43  \n",
       "7919   278           43  \n",
       "7920   281           43  \n",
       "7921   256           56  \n",
       "\n",
       "[7922 rows x 10 columns]"
      ]
     },
     "execution_count": 7,
     "metadata": {},
     "output_type": "execute_result"
    }
   ],
   "source": [
    "y = df['Health_Mastitis'].values\n",
    "\n",
    "\n",
    "x = df.drop('Health_Mastitis', axis=1)\n",
    "x.info()\n",
    "x"
   ]
  },
  {
   "cell_type": "code",
   "execution_count": 8,
   "id": "e0fffae3",
   "metadata": {
    "execution": {
     "iopub.execute_input": "2024-06-30T12:19:39.435489Z",
     "iopub.status.busy": "2024-06-30T12:19:39.435136Z",
     "iopub.status.idle": "2024-06-30T12:19:41.853094Z",
     "shell.execute_reply": "2024-06-30T12:19:41.851987Z"
    },
    "papermill": {
     "duration": 2.429051,
     "end_time": "2024-06-30T12:19:41.855262",
     "exception": false,
     "start_time": "2024-06-30T12:19:39.426211",
     "status": "completed"
    },
    "tags": []
   },
   "outputs": [
    {
     "name": "stdout",
     "output_type": "stream",
     "text": [
      "col:  Months_after_giving_birth\n"
     ]
    },
    {
     "data": {
      "image/png": "[encoded data removed]",
      "text/plain": [
       "<Figure size 640x480 with 1 Axes>"
      ]
     },
     "metadata": {},
     "output_type": "display_data"
    },
    {
     "name": "stdout",
     "output_type": "stream",
     "text": [
      "col:  IUFL\n"
     ]
    },
    {
     "data": {
      "image/png": "[encoded data removed]",
      "text/plain": [
       "<Figure size 640x480 with 1 Axes>"
      ]
     },
     "metadata": {},
     "output_type": "display_data"
    },
    {
     "name": "stdout",
     "output_type": "stream",
     "text": [
      "col:  EUFL\n"
     ]
    },
    {
     "data": {
      "image/png": "[encoded data removed]",
      "text/plain": [
       "<Figure size 640x480 with 1 Axes>"
      ]
     },
     "metadata": {},
     "output_type": "display_data"
    },
    {
     "name": "stdout",
     "output_type": "stream",
     "text": [
      "col:  IUFR\n"
     ]
    },
    {
     "data": {
      "image/png": "[encoded data removed]",
      "text/plain": [
       "<Figure size 640x480 with 1 Axes>"
      ]
     },
     "metadata": {},
     "output_type": "display_data"
    },
    {
     "name": "stdout",
     "output_type": "stream",
     "text": [
      "col:  EUFR\n"
     ]
    },
    {
     "data": {
      "image/png": "[encoded data removed]",
      "text/plain": [
       "<Figure size 640x480 with 1 Axes>"
      ]
     },
     "metadata": {},
     "output_type": "display_data"
    },
    {
     "name": "stdout",
     "output_type": "stream",
     "text": [
      "col:  IURL\n"
     ]
    },
    {
     "data": {
      "image/png": "[encoded data removed]",
      "text/plain": [
       "<Figure size 640x480 with 1 Axes>"
      ]
     },
     "metadata": {},
     "output_type": "display_data"
    },
    {
     "name": "stdout",
     "output_type": "stream",
     "text": [
      "col:  EURL\n"
     ]
    },
    {
     "data": {
      "image/png": "[encoded data removed]",
      "text/plain": [
       "<Figure size 640x480 with 1 Axes>"
      ]
     },
     "metadata": {},
     "output_type": "display_data"
    },
    {
     "name": "stdout",
     "output_type": "stream",
     "text": [
      "col:  IURR\n"
     ]
    },
    {
     "data": {
      "image/png": "[encoded data removed]",
      "text/plain": [
       "<Figure size 640x480 with 1 Axes>"
      ]
     },
     "metadata": {},
     "output_type": "display_data"
    },
    {
     "name": "stdout",
     "output_type": "stream",
     "text": [
      "col:  EURR\n"
     ]
    },
    {
     "data": {
      "image/png": "[encoded data removed]",
      "text/plain": [
       "<Figure size 640x480 with 1 Axes>"
      ]
     },
     "metadata": {},
     "output_type": "display_data"
    },
    {
     "name": "stdout",
     "output_type": "stream",
     "text": [
      "col:  Temperature\n"
     ]
    },
    {
     "data": {
      "image/png": "[encoded data removed]",
      "text/plain": [
       "<Figure size 640x480 with 1 Axes>"
      ]
     },
     "metadata": {},
     "output_type": "display_data"
    },
    {
     "name": "stdout",
     "output_type": "stream",
     "text": [
      "col:  Health_Mastitis\n"
     ]
    },
    {
     "data": {
      "image/png": "[encoded data removed]",
      "text/plain": [
       "<Figure size 640x480 with 1 Axes>"
      ]
     },
     "metadata": {},
     "output_type": "display_data"
    }
   ],
   "source": [
    "import matplotlib.pyplot as plt\n",
    "\n",
    "columns = df.columns\n",
    "for col in columns:\n",
    "    print(\"col: \", col)\n",
    "    df[col].hist()\n",
    "    plt.show()"
   ]
  },
  {
   "cell_type": "code",
   "execution_count": 9,
   "id": "73baeed2",
   "metadata": {
    "execution": {
     "iopub.execute_input": "2024-06-30T12:19:41.881928Z",
     "iopub.status.busy": "2024-06-30T12:19:41.880862Z",
     "iopub.status.idle": "2024-06-30T12:19:41.895323Z",
     "shell.execute_reply": "2024-06-30T12:19:41.894218Z"
    },
    "papermill": {
     "duration": 0.03004,
     "end_time": "2024-06-30T12:19:41.897506",
     "exception": false,
     "start_time": "2024-06-30T12:19:41.867466",
     "status": "completed"
    },
    "tags": []
   },
   "outputs": [
    {
     "name": "stdout",
     "output_type": "stream",
     "text": [
      "Training set size: 5545 or 70.0 %\n",
      "Test set size: 1592 or 20.1 %\n",
      "Validation set size: 785 or 9.9 %\n"
     ]
    }
   ],
   "source": [
    "# Split data into training, test, and validation sets\n",
    "X_train, X_temp, y_train, y_temp = train_test_split(x, y, test_size=0.3, random_state=42)\n",
    "X_test, X_val, y_test, y_val = train_test_split(X_temp, y_temp, test_size=0.33, random_state=42)\n",
    "\n",
    "print(\"Training set size:\", X_train.shape[0], \"or\", round(X_train.shape[0]/x.shape[0]*100, 1), \"%\")\n",
    "print(\"Test set size:\", X_test.shape[0], \"or\", round(X_test.shape[0]/x.shape[0]*100, 1), \"%\")\n",
    "print(\"Validation set size:\", X_val.shape[0], \"or\", round(X_val.shape[0]/x.shape[0]*100, 1), \"%\")"
   ]
  },
  {
   "cell_type": "code",
   "execution_count": 10,
   "id": "e014adca",
   "metadata": {
    "execution": {
     "iopub.execute_input": "2024-06-30T12:19:41.924961Z",
     "iopub.status.busy": "2024-06-30T12:19:41.924055Z",
     "iopub.status.idle": "2024-06-30T12:19:41.932642Z",
     "shell.execute_reply": "2024-06-30T12:19:41.931692Z"
    },
    "papermill": {
     "duration": 0.024409,
     "end_time": "2024-06-30T12:19:41.934657",
     "exception": false,
     "start_time": "2024-06-30T12:19:41.910248",
     "status": "completed"
    },
    "tags": []
   },
   "outputs": [
    {
     "data": {
      "text/plain": [
       "array([[[  6, 231, 275, ..., 232, 272,  43]],\n",
       "\n",
       "       [[  4, 159, 191, ..., 154, 190,  43]],\n",
       "\n",
       "       [[  3, 231, 267, ..., 231, 269,  43]],\n",
       "\n",
       "       ...,\n",
       "\n",
       "       [[  1, 270, 278, ..., 274, 296,  43]],\n",
       "\n",
       "       [[  1, 272, 295, ..., 270, 288,  43]],\n",
       "\n",
       "       [[  1, 304, 328, ..., 267, 296,  56]]])"
      ]
     },
     "execution_count": 10,
     "metadata": {},
     "output_type": "execute_result"
    }
   ],
   "source": [
    "# Reshape the input data for LSTM (samples, time steps, features)\n",
    "n_features = X_train.shape[1]\n",
    "X_train_reshaped = X_train.values.reshape((X_train.shape[0], 1, n_features))\n",
    "X_test_reshaped = X_test.values.reshape((X_test.shape[0], 1, n_features))\n",
    "X_val_reshaped = X_val.values.reshape((X_val.shape[0], 1, n_features))\n",
    "\n",
    "X_val_reshaped"
   ]
  },
  {
   "cell_type": "code",
   "execution_count": 11,
   "id": "a331f66c",
   "metadata": {
    "execution": {
     "iopub.execute_input": "2024-06-30T12:19:41.962781Z",
     "iopub.status.busy": "2024-06-30T12:19:41.961960Z",
     "iopub.status.idle": "2024-06-30T12:19:42.071357Z",
     "shell.execute_reply": "2024-06-30T12:19:42.070369Z"
    },
    "papermill": {
     "duration": 0.126605,
     "end_time": "2024-06-30T12:19:42.073605",
     "exception": false,
     "start_time": "2024-06-30T12:19:41.947000",
     "status": "completed"
    },
    "tags": []
   },
   "outputs": [
    {
     "name": "stderr",
     "output_type": "stream",
     "text": [
      "Do not pass an `input_shape`/`input_dim` argument to a layer. When using Sequential models, prefer using an `Input(shape)` object as the first layer in the model instead.\n"
     ]
    }
   ],
   "source": [
    "# Define and compile the LSTM model\n",
    "model = Sequential([\n",
    "    LSTM(50, return_sequences=True, input_shape=(1, n_features)),\n",
    "    LSTM(50),\n",
    "    Dense(1, activation='sigmoid')\n",
    "])"
   ]
  },
  {
   "cell_type": "code",
   "execution_count": 12,
   "id": "6af298d0",
   "metadata": {
    "execution": {
     "iopub.execute_input": "2024-06-30T12:19:42.099907Z",
     "iopub.status.busy": "2024-06-30T12:19:42.099296Z",
     "iopub.status.idle": "2024-06-30T12:19:42.113974Z",
     "shell.execute_reply": "2024-06-30T12:19:42.113154Z"
    },
    "papermill": {
     "duration": 0.03012,
     "end_time": "2024-06-30T12:19:42.116103",
     "exception": false,
     "start_time": "2024-06-30T12:19:42.085983",
     "status": "completed"
    },
    "tags": []
   },
   "outputs": [],
   "source": [
    "model.compile(optimizer='adam', loss='binary_crossentropy', metrics=['accuracy'])"
   ]
  },
  {
   "cell_type": "code",
   "execution_count": 13,
   "id": "b7f79184",
   "metadata": {
    "execution": {
     "iopub.execute_input": "2024-06-30T12:19:42.142840Z",
     "iopub.status.busy": "2024-06-30T12:19:42.142000Z",
     "iopub.status.idle": "2024-06-30T12:20:09.001172Z",
     "shell.execute_reply": "2024-06-30T12:20:09.000363Z"
    },
    "papermill": {
     "duration": 26.874802,
     "end_time": "2024-06-30T12:20:09.003342",
     "exception": false,
     "start_time": "2024-06-30T12:19:42.128540",
     "status": "completed"
    },
    "tags": []
   },
   "outputs": [
    {
     "name": "stdout",
     "output_type": "stream",
     "text": [
      "Epoch 1/50\n",
      "\u001b[1m174/174\u001b[0m \u001b[32m━━━━━━━━━━━━━━━━━━━━\u001b[0m\u001b[37m\u001b[0m \u001b[1m4s\u001b[0m 5ms/step - accuracy: 0.7973 - loss: 0.5652 - val_accuracy: 0.8675 - val_loss: 0.3594\n",
      "Epoch 2/50\n",
      "\u001b[1m174/174\u001b[0m \u001b[32m━━━━━━━━━━━━━━━━━━━━\u001b[0m\u001b[37m\u001b[0m \u001b[1m0s\u001b[0m 3ms/step - accuracy: 0.8701 - loss: 0.3343 - val_accuracy: 0.8739 - val_loss: 0.3357\n",
      "Epoch 3/50\n",
      "\u001b[1m174/174\u001b[0m \u001b[32m━━━━━━━━━━━━━━━━━━━━\u001b[0m\u001b[37m\u001b[0m \u001b[1m0s\u001b[0m 3ms/step - accuracy: 0.8712 - loss: 0.3375 - val_accuracy: 0.8688 - val_loss: 0.3442\n",
      "Epoch 4/50\n",
      "\u001b[1m174/174\u001b[0m \u001b[32m━━━━━━━━━━━━━━━━━━━━\u001b[0m\u001b[37m\u001b[0m \u001b[1m0s\u001b[0m 3ms/step - accuracy: 0.8633 - loss: 0.3387 - val_accuracy: 0.8675 - val_loss: 0.3403\n",
      "Epoch 5/50\n",
      "\u001b[1m174/174\u001b[0m \u001b[32m━━━━━━━━━━━━━━━━━━━━\u001b[0m\u001b[37m\u001b[0m \u001b[1m0s\u001b[0m 3ms/step - accuracy: 0.8702 - loss: 0.3468 - val_accuracy: 0.8675 - val_loss: 0.3336\n",
      "Epoch 6/50\n",
      "\u001b[1m174/174\u001b[0m \u001b[32m━━━━━━━━━━━━━━━━━━━━\u001b[0m\u001b[37m\u001b[0m \u001b[1m1s\u001b[0m 2ms/step - accuracy: 0.8738 - loss: 0.3209 - val_accuracy: 0.8701 - val_loss: 0.3146\n",
      "Epoch 7/50\n",
      "\u001b[1m174/174\u001b[0m \u001b[32m━━━━━━━━━━━━━━━━━━━━\u001b[0m\u001b[37m\u001b[0m \u001b[1m0s\u001b[0m 3ms/step - accuracy: 0.8736 - loss: 0.3178 - val_accuracy: 0.8688 - val_loss: 0.3414\n",
      "Epoch 8/50\n",
      "\u001b[1m174/174\u001b[0m \u001b[32m━━━━━━━━━━━━━━━━━━━━\u001b[0m\u001b[37m\u001b[0m \u001b[1m0s\u001b[0m 3ms/step - accuracy: 0.8746 - loss: 0.3283 - val_accuracy: 0.8662 - val_loss: 0.3459\n",
      "Epoch 9/50\n",
      "\u001b[1m174/174\u001b[0m \u001b[32m━━━━━━━━━━━━━━━━━━━━\u001b[0m\u001b[37m\u001b[0m \u001b[1m0s\u001b[0m 3ms/step - accuracy: 0.8727 - loss: 0.3246 - val_accuracy: 0.8688 - val_loss: 0.3557\n",
      "Epoch 10/50\n",
      "\u001b[1m174/174\u001b[0m \u001b[32m━━━━━━━━━━━━━━━━━━━━\u001b[0m\u001b[37m\u001b[0m \u001b[1m0s\u001b[0m 3ms/step - accuracy: 0.8713 - loss: 0.3433 - val_accuracy: 0.8675 - val_loss: 0.3437\n",
      "Epoch 11/50\n",
      "\u001b[1m174/174\u001b[0m \u001b[32m━━━━━━━━━━━━━━━━━━━━\u001b[0m\u001b[37m\u001b[0m \u001b[1m0s\u001b[0m 2ms/step - accuracy: 0.8699 - loss: 0.3386 - val_accuracy: 0.8688 - val_loss: 0.3405\n",
      "Epoch 12/50\n",
      "\u001b[1m174/174\u001b[0m \u001b[32m━━━━━━━━━━━━━━━━━━━━\u001b[0m\u001b[37m\u001b[0m \u001b[1m0s\u001b[0m 2ms/step - accuracy: 0.8759 - loss: 0.3301 - val_accuracy: 0.8688 - val_loss: 0.3411\n",
      "Epoch 13/50\n",
      "\u001b[1m174/174\u001b[0m \u001b[32m━━━━━━━━━━━━━━━━━━━━\u001b[0m\u001b[37m\u001b[0m \u001b[1m0s\u001b[0m 2ms/step - accuracy: 0.8609 - loss: 0.3500 - val_accuracy: 0.8726 - val_loss: 0.3303\n",
      "Epoch 14/50\n",
      "\u001b[1m174/174\u001b[0m \u001b[32m━━━━━━━━━━━━━━━━━━━━\u001b[0m\u001b[37m\u001b[0m \u001b[1m0s\u001b[0m 2ms/step - accuracy: 0.8699 - loss: 0.3374 - val_accuracy: 0.8675 - val_loss: 0.3484\n",
      "Epoch 15/50\n",
      "\u001b[1m174/174\u001b[0m \u001b[32m━━━━━━━━━━━━━━━━━━━━\u001b[0m\u001b[37m\u001b[0m \u001b[1m0s\u001b[0m 3ms/step - accuracy: 0.8669 - loss: 0.3473 - val_accuracy: 0.8713 - val_loss: 0.3443\n",
      "Epoch 16/50\n",
      "\u001b[1m174/174\u001b[0m \u001b[32m━━━━━━━━━━━━━━━━━━━━\u001b[0m\u001b[37m\u001b[0m \u001b[1m0s\u001b[0m 3ms/step - accuracy: 0.8772 - loss: 0.3312 - val_accuracy: 0.8688 - val_loss: 0.3487\n",
      "Epoch 17/50\n",
      "\u001b[1m174/174\u001b[0m \u001b[32m━━━━━━━━━━━━━━━━━━━━\u001b[0m\u001b[37m\u001b[0m \u001b[1m0s\u001b[0m 3ms/step - accuracy: 0.8714 - loss: 0.3375 - val_accuracy: 0.8688 - val_loss: 0.3452\n",
      "Epoch 18/50\n",
      "\u001b[1m174/174\u001b[0m \u001b[32m━━━━━━━━━━━━━━━━━━━━\u001b[0m\u001b[37m\u001b[0m \u001b[1m0s\u001b[0m 3ms/step - accuracy: 0.8692 - loss: 0.3402 - val_accuracy: 0.8688 - val_loss: 0.3391\n",
      "Epoch 19/50\n",
      "\u001b[1m174/174\u001b[0m \u001b[32m━━━━━━━━━━━━━━━━━━━━\u001b[0m\u001b[37m\u001b[0m \u001b[1m0s\u001b[0m 3ms/step - accuracy: 0.8756 - loss: 0.3199 - val_accuracy: 0.8726 - val_loss: 0.3284\n",
      "Epoch 20/50\n",
      "\u001b[1m174/174\u001b[0m \u001b[32m━━━━━━━━━━━━━━━━━━━━\u001b[0m\u001b[37m\u001b[0m \u001b[1m0s\u001b[0m 2ms/step - accuracy: 0.8760 - loss: 0.3257 - val_accuracy: 0.8739 - val_loss: 0.3250\n",
      "Epoch 21/50\n",
      "\u001b[1m174/174\u001b[0m \u001b[32m━━━━━━━━━━━━━━━━━━━━\u001b[0m\u001b[37m\u001b[0m \u001b[1m0s\u001b[0m 2ms/step - accuracy: 0.8709 - loss: 0.3308 - val_accuracy: 0.8739 - val_loss: 0.3249\n",
      "Epoch 22/50\n",
      "\u001b[1m174/174\u001b[0m \u001b[32m━━━━━━━━━━━━━━━━━━━━\u001b[0m\u001b[37m\u001b[0m \u001b[1m0s\u001b[0m 2ms/step - accuracy: 0.8754 - loss: 0.3259 - val_accuracy: 0.8739 - val_loss: 0.3256\n",
      "Epoch 23/50\n",
      "\u001b[1m174/174\u001b[0m \u001b[32m━━━━━━━━━━━━━━━━━━━━\u001b[0m\u001b[37m\u001b[0m \u001b[1m0s\u001b[0m 2ms/step - accuracy: 0.8763 - loss: 0.3231 - val_accuracy: 0.8726 - val_loss: 0.3261\n",
      "Epoch 24/50\n",
      "\u001b[1m174/174\u001b[0m \u001b[32m━━━━━━━━━━━━━━━━━━━━\u001b[0m\u001b[37m\u001b[0m \u001b[1m0s\u001b[0m 2ms/step - accuracy: 0.8755 - loss: 0.3243 - val_accuracy: 0.8739 - val_loss: 0.3274\n",
      "Epoch 25/50\n",
      "\u001b[1m174/174\u001b[0m \u001b[32m━━━━━━━━━━━━━━━━━━━━\u001b[0m\u001b[37m\u001b[0m \u001b[1m0s\u001b[0m 3ms/step - accuracy: 0.8697 - loss: 0.3362 - val_accuracy: 0.8739 - val_loss: 0.3261\n",
      "Epoch 26/50\n",
      "\u001b[1m174/174\u001b[0m \u001b[32m━━━━━━━━━━━━━━━━━━━━\u001b[0m\u001b[37m\u001b[0m \u001b[1m0s\u001b[0m 3ms/step - accuracy: 0.8821 - loss: 0.3131 - val_accuracy: 0.8739 - val_loss: 0.3241\n",
      "Epoch 27/50\n",
      "\u001b[1m174/174\u001b[0m \u001b[32m━━━━━━━━━━━━━━━━━━━━\u001b[0m\u001b[37m\u001b[0m \u001b[1m0s\u001b[0m 3ms/step - accuracy: 0.8825 - loss: 0.3141 - val_accuracy: 0.8739 - val_loss: 0.3247\n",
      "Epoch 28/50\n",
      "\u001b[1m174/174\u001b[0m \u001b[32m━━━━━━━━━━━━━━━━━━━━\u001b[0m\u001b[37m\u001b[0m \u001b[1m0s\u001b[0m 2ms/step - accuracy: 0.8705 - loss: 0.3340 - val_accuracy: 0.8726 - val_loss: 0.3274\n",
      "Epoch 29/50\n",
      "\u001b[1m174/174\u001b[0m \u001b[32m━━━━━━━━━━━━━━━━━━━━\u001b[0m\u001b[37m\u001b[0m \u001b[1m0s\u001b[0m 2ms/step - accuracy: 0.8800 - loss: 0.3170 - val_accuracy: 0.8739 - val_loss: 0.3237\n",
      "Epoch 30/50\n",
      "\u001b[1m174/174\u001b[0m \u001b[32m━━━━━━━━━━━━━━━━━━━━\u001b[0m\u001b[37m\u001b[0m \u001b[1m0s\u001b[0m 2ms/step - accuracy: 0.8808 - loss: 0.3160 - val_accuracy: 0.8739 - val_loss: 0.3312\n",
      "Epoch 31/50\n",
      "\u001b[1m174/174\u001b[0m \u001b[32m━━━━━━━━━━━━━━━━━━━━\u001b[0m\u001b[37m\u001b[0m \u001b[1m0s\u001b[0m 2ms/step - accuracy: 0.8791 - loss: 0.3148 - val_accuracy: 0.8739 - val_loss: 0.3283\n",
      "Epoch 32/50\n",
      "\u001b[1m174/174\u001b[0m \u001b[32m━━━━━━━━━━━━━━━━━━━━\u001b[0m\u001b[37m\u001b[0m \u001b[1m0s\u001b[0m 2ms/step - accuracy: 0.8715 - loss: 0.3294 - val_accuracy: 0.8739 - val_loss: 0.3236\n",
      "Epoch 33/50\n",
      "\u001b[1m174/174\u001b[0m \u001b[32m━━━━━━━━━━━━━━━━━━━━\u001b[0m\u001b[37m\u001b[0m \u001b[1m0s\u001b[0m 2ms/step - accuracy: 0.8783 - loss: 0.3182 - val_accuracy: 0.8726 - val_loss: 0.3273\n",
      "Epoch 34/50\n",
      "\u001b[1m174/174\u001b[0m \u001b[32m━━━━━━━━━━━━━━━━━━━━\u001b[0m\u001b[37m\u001b[0m \u001b[1m1s\u001b[0m 2ms/step - accuracy: 0.8745 - loss: 0.3294 - val_accuracy: 0.8739 - val_loss: 0.3233\n",
      "Epoch 35/50\n",
      "\u001b[1m174/174\u001b[0m \u001b[32m━━━━━━━━━━━━━━━━━━━━\u001b[0m\u001b[37m\u001b[0m \u001b[1m0s\u001b[0m 2ms/step - accuracy: 0.8747 - loss: 0.3215 - val_accuracy: 0.8739 - val_loss: 0.3259\n",
      "Epoch 36/50\n",
      "\u001b[1m174/174\u001b[0m \u001b[32m━━━━━━━━━━━━━━━━━━━━\u001b[0m\u001b[37m\u001b[0m \u001b[1m0s\u001b[0m 2ms/step - accuracy: 0.8752 - loss: 0.3236 - val_accuracy: 0.8739 - val_loss: 0.3243\n",
      "Epoch 37/50\n",
      "\u001b[1m174/174\u001b[0m \u001b[32m━━━━━━━━━━━━━━━━━━━━\u001b[0m\u001b[37m\u001b[0m \u001b[1m0s\u001b[0m 2ms/step - accuracy: 0.8778 - loss: 0.3212 - val_accuracy: 0.8739 - val_loss: 0.3238\n",
      "Epoch 38/50\n",
      "\u001b[1m174/174\u001b[0m \u001b[32m━━━━━━━━━━━━━━━━━━━━\u001b[0m\u001b[37m\u001b[0m \u001b[1m0s\u001b[0m 2ms/step - accuracy: 0.8723 - loss: 0.3288 - val_accuracy: 0.8739 - val_loss: 0.3235\n",
      "Epoch 39/50\n",
      "\u001b[1m174/174\u001b[0m \u001b[32m━━━━━━━━━━━━━━━━━━━━\u001b[0m\u001b[37m\u001b[0m \u001b[1m0s\u001b[0m 2ms/step - accuracy: 0.8727 - loss: 0.3245 - val_accuracy: 0.8739 - val_loss: 0.3235\n",
      "Epoch 40/50\n",
      "\u001b[1m174/174\u001b[0m \u001b[32m━━━━━━━━━━━━━━━━━━━━\u001b[0m\u001b[37m\u001b[0m \u001b[1m0s\u001b[0m 3ms/step - accuracy: 0.8798 - loss: 0.3172 - val_accuracy: 0.8739 - val_loss: 0.3286\n",
      "Epoch 41/50\n",
      "\u001b[1m174/174\u001b[0m \u001b[32m━━━━━━━━━━━━━━━━━━━━\u001b[0m\u001b[37m\u001b[0m \u001b[1m0s\u001b[0m 3ms/step - accuracy: 0.8746 - loss: 0.3274 - val_accuracy: 0.8739 - val_loss: 0.3241\n",
      "Epoch 42/50\n",
      "\u001b[1m174/174\u001b[0m \u001b[32m━━━━━━━━━━━━━━━━━━━━\u001b[0m\u001b[37m\u001b[0m \u001b[1m0s\u001b[0m 3ms/step - accuracy: 0.8760 - loss: 0.3181 - val_accuracy: 0.8739 - val_loss: 0.3253\n",
      "Epoch 43/50\n",
      "\u001b[1m174/174\u001b[0m \u001b[32m━━━━━━━━━━━━━━━━━━━━\u001b[0m\u001b[37m\u001b[0m \u001b[1m0s\u001b[0m 2ms/step - accuracy: 0.8788 - loss: 0.3170 - val_accuracy: 0.8739 - val_loss: 0.3245\n",
      "Epoch 44/50\n",
      "\u001b[1m174/174\u001b[0m \u001b[32m━━━━━━━━━━━━━━━━━━━━\u001b[0m\u001b[37m\u001b[0m \u001b[1m0s\u001b[0m 2ms/step - accuracy: 0.8729 - loss: 0.3267 - val_accuracy: 0.8739 - val_loss: 0.3256\n",
      "Epoch 45/50\n",
      "\u001b[1m174/174\u001b[0m \u001b[32m━━━━━━━━━━━━━━━━━━━━\u001b[0m\u001b[37m\u001b[0m \u001b[1m0s\u001b[0m 2ms/step - accuracy: 0.8748 - loss: 0.3236 - val_accuracy: 0.8739 - val_loss: 0.3243\n",
      "Epoch 46/50\n",
      "\u001b[1m174/174\u001b[0m \u001b[32m━━━━━━━━━━━━━━━━━━━━\u001b[0m\u001b[37m\u001b[0m \u001b[1m0s\u001b[0m 2ms/step - accuracy: 0.8854 - loss: 0.3096 - val_accuracy: 0.8739 - val_loss: 0.3277\n",
      "Epoch 47/50\n",
      "\u001b[1m174/174\u001b[0m \u001b[32m━━━━━━━━━━━━━━━━━━━━\u001b[0m\u001b[37m\u001b[0m \u001b[1m0s\u001b[0m 3ms/step - accuracy: 0.8737 - loss: 0.3286 - val_accuracy: 0.8739 - val_loss: 0.3236\n",
      "Epoch 48/50\n",
      "\u001b[1m174/174\u001b[0m \u001b[32m━━━━━━━━━━━━━━━━━━━━\u001b[0m\u001b[37m\u001b[0m \u001b[1m0s\u001b[0m 3ms/step - accuracy: 0.8763 - loss: 0.3174 - val_accuracy: 0.8739 - val_loss: 0.3249\n",
      "Epoch 49/50\n",
      "\u001b[1m174/174\u001b[0m \u001b[32m━━━━━━━━━━━━━━━━━━━━\u001b[0m\u001b[37m\u001b[0m \u001b[1m0s\u001b[0m 2ms/step - accuracy: 0.8782 - loss: 0.3209 - val_accuracy: 0.8739 - val_loss: 0.3247\n",
      "Epoch 50/50\n",
      "\u001b[1m174/174\u001b[0m \u001b[32m━━━━━━━━━━━━━━━━━━━━\u001b[0m\u001b[37m\u001b[0m \u001b[1m0s\u001b[0m 3ms/step - accuracy: 0.8720 - loss: 0.3250 - val_accuracy: 0.8739 - val_loss: 0.3251\n"
     ]
    }
   ],
   "source": [
    "# Train the model\n",
    "history = model.fit(X_train_reshaped, y_train, epochs=50, validation_data=(X_val_reshaped, y_val))"
   ]
  },
  {
   "cell_type": "code",
   "execution_count": 14,
   "id": "ba99f9eb",
   "metadata": {
    "execution": {
     "iopub.execute_input": "2024-06-30T12:20:09.094646Z",
     "iopub.status.busy": "2024-06-30T12:20:09.094265Z",
     "iopub.status.idle": "2024-06-30T12:20:09.114117Z",
     "shell.execute_reply": "2024-06-30T12:20:09.113213Z"
    },
    "papermill": {
     "duration": 0.068427,
     "end_time": "2024-06-30T12:20:09.116119",
     "exception": false,
     "start_time": "2024-06-30T12:20:09.047692",
     "status": "completed"
    },
    "tags": []
   },
   "outputs": [
    {
     "data": {
      "text/html": [
       "<pre style=\"white-space:pre;overflow-x:auto;line-height:normal;font-family:Menlo,'DejaVu Sans Mono',consolas,'Courier New',monospace\"><span style=\"font-weight: bold\">Model: \"sequential\"</span>\n",
       "</pre>\n"
      ],
      "text/plain": [
       "\u001b[1mModel: \"sequential\"\u001b[0m\n"
      ]
     },
     "metadata": {},
     "output_type": "display_data"
    },
    {
     "data": {
      "text/html": [
       "<pre style=\"white-space:pre;overflow-x:auto;line-height:normal;font-family:Menlo,'DejaVu Sans Mono',consolas,'Courier New',monospace\">┏━━━━━━━━━━━━━━━━━━━━━━━━━━━━━━━━━┳━━━━━━━━━━━━━━━━━━━━━━━━┳━━━━━━━━━━━━━━━┓\n",
       "┃<span style=\"font-weight: bold\"> Layer (type)                    </span>┃<span style=\"font-weight: bold\"> Output Shape           </span>┃<span style=\"font-weight: bold\">       Param # </span>┃\n",
       "┡━━━━━━━━━━━━━━━━━━━━━━━━━━━━━━━━━╇━━━━━━━━━━━━━━━━━━━━━━━━╇━━━━━━━━━━━━━━━┩\n",
       "│ lstm (<span style=\"color: #0087ff; text-decoration-color: #0087ff\">LSTM</span>)                     │ (<span style=\"color: #00d7ff; text-decoration-color: #00d7ff\">None</span>, <span style=\"color: #00af00; text-decoration-color: #00af00\">1</span>, <span style=\"color: #00af00; text-decoration-color: #00af00\">50</span>)          │        <span style=\"color: #00af00; text-decoration-color: #00af00\">12,200</span> │\n",
       "├─────────────────────────────────┼────────────────────────┼───────────────┤\n",
       "│ lstm_1 (<span style=\"color: #0087ff; text-decoration-color: #0087ff\">LSTM</span>)                   │ (<span style=\"color: #00d7ff; text-decoration-color: #00d7ff\">None</span>, <span style=\"color: #00af00; text-decoration-color: #00af00\">50</span>)             │        <span style=\"color: #00af00; text-decoration-color: #00af00\">20,200</span> │\n",
       "├─────────────────────────────────┼────────────────────────┼───────────────┤\n",
       "│ dense (<span style=\"color: #0087ff; text-decoration-color: #0087ff\">Dense</span>)                   │ (<span style=\"color: #00d7ff; text-decoration-color: #00d7ff\">None</span>, <span style=\"color: #00af00; text-decoration-color: #00af00\">1</span>)              │            <span style=\"color: #00af00; text-decoration-color: #00af00\">51</span> │\n",
       "└─────────────────────────────────┴────────────────────────┴───────────────┘\n",
       "</pre>\n"
      ],
      "text/plain": [
       "┏━━━━━━━━━━━━━━━━━━━━━━━━━━━━━━━━━┳━━━━━━━━━━━━━━━━━━━━━━━━┳━━━━━━━━━━━━━━━┓\n",
       "┃\u001b[1m \u001b[0m\u001b[1mLayer (type)                   \u001b[0m\u001b[1m \u001b[0m┃\u001b[1m \u001b[0m\u001b[1mOutput Shape          \u001b[0m\u001b[1m \u001b[0m┃\u001b[1m \u001b[0m\u001b[1m      Param #\u001b[0m\u001b[1m \u001b[0m┃\n",
       "┡━━━━━━━━━━━━━━━━━━━━━━━━━━━━━━━━━╇━━━━━━━━━━━━━━━━━━━━━━━━╇━━━━━━━━━━━━━━━┩\n",
       "│ lstm (\u001b[38;5;33mLSTM\u001b[0m)                     │ (\u001b[38;5;45mNone\u001b[0m, \u001b[38;5;34m1\u001b[0m, \u001b[38;5;34m50\u001b[0m)          │        \u001b[38;5;34m12,200\u001b[0m │\n",
       "├─────────────────────────────────┼────────────────────────┼───────────────┤\n",
       "│ lstm_1 (\u001b[38;5;33mLSTM\u001b[0m)                   │ (\u001b[38;5;45mNone\u001b[0m, \u001b[38;5;34m50\u001b[0m)             │        \u001b[38;5;34m20,200\u001b[0m │\n",
       "├─────────────────────────────────┼────────────────────────┼───────────────┤\n",
       "│ dense (\u001b[38;5;33mDense\u001b[0m)                   │ (\u001b[38;5;45mNone\u001b[0m, \u001b[38;5;34m1\u001b[0m)              │            \u001b[38;5;34m51\u001b[0m │\n",
       "└─────────────────────────────────┴────────────────────────┴───────────────┘\n"
      ]
     },
     "metadata": {},
     "output_type": "display_data"
    },
    {
     "data": {
      "text/html": [
       "<pre style=\"white-space:pre;overflow-x:auto;line-height:normal;font-family:Menlo,'DejaVu Sans Mono',consolas,'Courier New',monospace\"><span style=\"font-weight: bold\"> Total params: </span><span style=\"color: #00af00; text-decoration-color: #00af00\">97,355</span> (380.30 KB)\n",
       "</pre>\n"
      ],
      "text/plain": [
       "\u001b[1m Total params: \u001b[0m\u001b[38;5;34m97,355\u001b[0m (380.30 KB)\n"
      ]
     },
     "metadata": {},
     "output_type": "display_data"
    },
    {
     "data": {
      "text/html": [
       "<pre style=\"white-space:pre;overflow-x:auto;line-height:normal;font-family:Menlo,'DejaVu Sans Mono',consolas,'Courier New',monospace\"><span style=\"font-weight: bold\"> Trainable params: </span><span style=\"color: #00af00; text-decoration-color: #00af00\">32,451</span> (126.76 KB)\n",
       "</pre>\n"
      ],
      "text/plain": [
       "\u001b[1m Trainable params: \u001b[0m\u001b[38;5;34m32,451\u001b[0m (126.76 KB)\n"
      ]
     },
     "metadata": {},
     "output_type": "display_data"
    },
    {
     "data": {
      "text/html": [
       "<pre style=\"white-space:pre;overflow-x:auto;line-height:normal;font-family:Menlo,'DejaVu Sans Mono',consolas,'Courier New',monospace\"><span style=\"font-weight: bold\"> Non-trainable params: </span><span style=\"color: #00af00; text-decoration-color: #00af00\">0</span> (0.00 B)\n",
       "</pre>\n"
      ],
      "text/plain": [
       "\u001b[1m Non-trainable params: \u001b[0m\u001b[38;5;34m0\u001b[0m (0.00 B)\n"
      ]
     },
     "metadata": {},
     "output_type": "display_data"
    },
    {
     "data": {
      "text/html": [
       "<pre style=\"white-space:pre;overflow-x:auto;line-height:normal;font-family:Menlo,'DejaVu Sans Mono',consolas,'Courier New',monospace\"><span style=\"font-weight: bold\"> Optimizer params: </span><span style=\"color: #00af00; text-decoration-color: #00af00\">64,904</span> (253.54 KB)\n",
       "</pre>\n"
      ],
      "text/plain": [
       "\u001b[1m Optimizer params: \u001b[0m\u001b[38;5;34m64,904\u001b[0m (253.54 KB)\n"
      ]
     },
     "metadata": {},
     "output_type": "display_data"
    }
   ],
   "source": [
    "model.summary()"
   ]
  },
  {
   "cell_type": "code",
   "execution_count": 15,
   "id": "5b96b329",
   "metadata": {
    "execution": {
     "iopub.execute_input": "2024-06-30T12:20:09.207666Z",
     "iopub.status.busy": "2024-06-30T12:20:09.207257Z",
     "iopub.status.idle": "2024-06-30T12:20:09.682927Z",
     "shell.execute_reply": "2024-06-30T12:20:09.681571Z"
    },
    "papermill": {
     "duration": 0.524021,
     "end_time": "2024-06-30T12:20:09.685233",
     "exception": false,
     "start_time": "2024-06-30T12:20:09.161212",
     "status": "completed"
    },
    "tags": []
   },
   "outputs": [
    {
     "name": "stdout",
     "output_type": "stream",
     "text": [
      "\u001b[1m50/50\u001b[0m \u001b[32m━━━━━━━━━━━━━━━━━━━━\u001b[0m\u001b[37m\u001b[0m \u001b[1m0s\u001b[0m 2ms/step - accuracy: 0.8537 - loss: 0.3684\n",
      "Test Accuracy: 0.8668341636657715\n"
     ]
    }
   ],
   "source": [
    "# Evaluate the model\n",
    "test_loss, test_acc = model.evaluate(X_test_reshaped, y_test)\n",
    "print(\"Test Accuracy:\", test_acc)"
   ]
  },
  {
   "cell_type": "code",
   "execution_count": 16,
   "id": "cf66857e",
   "metadata": {
    "execution": {
     "iopub.execute_input": "2024-06-30T12:20:09.791468Z",
     "iopub.status.busy": "2024-06-30T12:20:09.790484Z",
     "iopub.status.idle": "2024-06-30T12:20:10.500595Z",
     "shell.execute_reply": "2024-06-30T12:20:10.499675Z"
    },
    "papermill": {
     "duration": 0.760258,
     "end_time": "2024-06-30T12:20:10.502989",
     "exception": false,
     "start_time": "2024-06-30T12:20:09.742731",
     "status": "completed"
    },
    "tags": []
   },
   "outputs": [
    {
     "name": "stdout",
     "output_type": "stream",
     "text": [
      "\u001b[1m50/50\u001b[0m \u001b[32m━━━━━━━━━━━━━━━━━━━━\u001b[0m\u001b[37m\u001b[0m \u001b[1m1s\u001b[0m 7ms/step\n"
     ]
    }
   ],
   "source": [
    "# Making predictions\n",
    "predictions = model.predict(X_test_reshaped)\n",
    "binary_predictions = (predictions > 0.5).astype(int)"
   ]
  },
  {
   "cell_type": "code",
   "execution_count": 17,
   "id": "018a3897",
   "metadata": {
    "execution": {
     "iopub.execute_input": "2024-06-30T12:20:10.596072Z",
     "iopub.status.busy": "2024-06-30T12:20:10.595697Z",
     "iopub.status.idle": "2024-06-30T12:20:10.604814Z",
     "shell.execute_reply": "2024-06-30T12:20:10.603875Z"
    },
    "papermill": {
     "duration": 0.05774,
     "end_time": "2024-06-30T12:20:10.606848",
     "exception": false,
     "start_time": "2024-06-30T12:20:10.549108",
     "status": "completed"
    },
    "tags": []
   },
   "outputs": [],
   "source": [
    "import pandas as pd\n",
    "\n",
    "# Assuming 'predictions' are in the format returned by model.predict() and are probabilities\n",
    "# Flatten the predictions array and round them off for better readability\n",
    "predicted_probs = predictions.flatten().round(2)\n",
    "\n",
    "# Create a DataFrame from the test set features\n",
    "test_features = pd.DataFrame(X_test_reshaped.reshape(X_test_reshaped.shape[0], n_features), columns=X_test.columns)\n",
    "\n",
    "# Add the predictions and the actual labels to the DataFrame\n",
    "test_features['Predicted Probability'] = predicted_probs\n",
    "test_features['Actual Label'] = y_test  \n",
    "\n",
    "# Sort the DataFrame by 'Predicted Probability' to get the top predictions\n",
    "test_features_sorted = test_features.sort_values(by='Predicted Probability', ascending=False)"
   ]
  },
  {
   "cell_type": "code",
   "execution_count": 18,
   "id": "e46f4062",
   "metadata": {
    "execution": {
     "iopub.execute_input": "2024-06-30T12:20:10.699719Z",
     "iopub.status.busy": "2024-06-30T12:20:10.698813Z",
     "iopub.status.idle": "2024-06-30T12:20:10.708437Z",
     "shell.execute_reply": "2024-06-30T12:20:10.707362Z"
    },
    "papermill": {
     "duration": 0.058303,
     "end_time": "2024-06-30T12:20:10.710699",
     "exception": false,
     "start_time": "2024-06-30T12:20:10.652396",
     "status": "completed"
    },
    "tags": []
   },
   "outputs": [
    {
     "name": "stdout",
     "output_type": "stream",
     "text": [
      "      Months_after_giving_birth  IUFL  EUFL  IUFR  EUFR  IURL  EURL  IURR  \\\n",
      "996                           1   240   287   240   283   315   360   249   \n",
      "693                           6   232   281   241   282   304   359   234   \n",
      "360                           2   241   281   236   280   306   361   241   \n",
      "1183                          3   304   354   154   174   151   171   153   \n",
      "1359                          4   234   277   236   274   303   364   233   \n",
      "\n",
      "      EURR  Temperature  Predicted Probability  Actual Label  \n",
      "996    280           43                    1.0             1  \n",
      "693    276           43                    1.0             1  \n",
      "360    277           43                    1.0             1  \n",
      "1183   173           47                    1.0             1  \n",
      "1359   271           43                    1.0             1  \n"
     ]
    }
   ],
   "source": [
    "# Display the top 5 predictions\n",
    "top_5_predictions = test_features_sorted.head(5)\n",
    "print(top_5_predictions)"
   ]
  },
  {
   "cell_type": "code",
   "execution_count": 19,
   "id": "491dc47d",
   "metadata": {
    "execution": {
     "iopub.execute_input": "2024-06-30T12:20:10.860824Z",
     "iopub.status.busy": "2024-06-30T12:20:10.860443Z",
     "iopub.status.idle": "2024-06-30T12:20:10.873232Z",
     "shell.execute_reply": "2024-06-30T12:20:10.872212Z"
    },
    "papermill": {
     "duration": 0.061526,
     "end_time": "2024-06-30T12:20:10.875217",
     "exception": false,
     "start_time": "2024-06-30T12:20:10.813691",
     "status": "completed"
    },
    "tags": []
   },
   "outputs": [
    {
     "data": {
      "text/plain": [
       "<bound method DataFrame.info of       Months_after_giving_birth  IUFL  EUFL  IUFR  EUFR  IURL  EURL  IURR  \\\n",
       "996                           1   240   287   240   283   315   360   249   \n",
       "693                           6   232   281   241   282   304   359   234   \n",
       "360                           2   241   281   236   280   306   361   241   \n",
       "1183                          3   304   354   154   174   151   171   153   \n",
       "1359                          4   234   277   236   274   303   364   233   \n",
       "\n",
       "      EURR  Temperature  Predicted Probability  Actual Label  \n",
       "996    280           43                    1.0             1  \n",
       "693    276           43                    1.0             1  \n",
       "360    277           43                    1.0             1  \n",
       "1183   173           47                    1.0             1  \n",
       "1359   271           43                    1.0             1  >"
      ]
     },
     "execution_count": 19,
     "metadata": {},
     "output_type": "execute_result"
    }
   ],
   "source": [
    "top_5_predictions.to_csv(\"top_5_predictions_v1.0.csv\", index=False)\n",
    "top_5_predictions.info"
   ]
  },
  {
   "cell_type": "code",
   "execution_count": 20,
   "id": "c92399ef",
   "metadata": {
    "execution": {
     "iopub.execute_input": "2024-06-30T12:20:10.968008Z",
     "iopub.status.busy": "2024-06-30T12:20:10.967639Z",
     "iopub.status.idle": "2024-06-30T12:20:10.972451Z",
     "shell.execute_reply": "2024-06-30T12:20:10.971503Z"
    },
    "papermill": {
     "duration": 0.053936,
     "end_time": "2024-06-30T12:20:10.974612",
     "exception": false,
     "start_time": "2024-06-30T12:20:10.920676",
     "status": "completed"
    },
    "tags": []
   },
   "outputs": [],
   "source": [
    "# Convert probabilities to binary predictions\n",
    "threshold = 0.5\n",
    "binary_predictions = (predictions > threshold).astype(int)"
   ]
  },
  {
   "cell_type": "code",
   "execution_count": 21,
   "id": "7f656521",
   "metadata": {
    "execution": {
     "iopub.execute_input": "2024-06-30T12:20:11.069603Z",
     "iopub.status.busy": "2024-06-30T12:20:11.068710Z",
     "iopub.status.idle": "2024-06-30T12:20:11.076257Z",
     "shell.execute_reply": "2024-06-30T12:20:11.075159Z"
    },
    "papermill": {
     "duration": 0.05686,
     "end_time": "2024-06-30T12:20:11.078621",
     "exception": false,
     "start_time": "2024-06-30T12:20:11.021761",
     "status": "completed"
    },
    "tags": []
   },
   "outputs": [],
   "source": [
    "from sklearn.metrics import confusion_matrix\n",
    "\n",
    "# Generate the confusion matrix\n",
    "conf_matrix = confusion_matrix(y_test, binary_predictions)"
   ]
  },
  {
   "cell_type": "code",
   "execution_count": 22,
   "id": "c81665b5",
   "metadata": {
    "execution": {
     "iopub.execute_input": "2024-06-30T12:20:11.171406Z",
     "iopub.status.busy": "2024-06-30T12:20:11.171023Z",
     "iopub.status.idle": "2024-06-30T12:20:11.746982Z",
     "shell.execute_reply": "2024-06-30T12:20:11.745976Z"
    },
    "papermill": {
     "duration": 0.624612,
     "end_time": "2024-06-30T12:20:11.749114",
     "exception": false,
     "start_time": "2024-06-30T12:20:11.124502",
     "status": "completed"
    },
    "tags": []
   },
   "outputs": [
    {
     "data": {
      "image/png": "[encoded data removed]",
      "text/plain": [
       "<Figure size 1200x400 with 2 Axes>"
      ]
     },
     "metadata": {},
     "output_type": "display_data"
    }
   ],
   "source": [
    "# Plot training & validation loss values\n",
    "plt.figure(figsize=(12, 4))\n",
    "plt.subplot(1, 2, 1)\n",
    "plt.plot(history.history['loss'], label='Train Loss')\n",
    "plt.plot(history.history['val_loss'], label='Validation Loss')\n",
    "plt.title('Model Loss Over Epochs')\n",
    "plt.xlabel('Epoch')\n",
    "plt.ylabel('Loss')\n",
    "plt.legend(loc='upper right')\n",
    "\n",
    "# Plot training & validation accuracy values\n",
    "plt.subplot(1, 2, 2)\n",
    "plt.plot(history.history['accuracy'], label='Train Accuracy')\n",
    "plt.plot(history.history['val_accuracy'], label='Validation Accuracy')\n",
    "plt.title('Model Accuracy Over Epochs')\n",
    "plt.xlabel('Epoch')\n",
    "plt.ylabel('Accuracy')\n",
    "plt.legend(loc='lower right')\n",
    "\n",
    "plt.tight_layout()\n",
    "plt.show()\n"
   ]
  },
  {
   "cell_type": "code",
   "execution_count": 23,
   "id": "dfaf5372",
   "metadata": {
    "execution": {
     "iopub.execute_input": "2024-06-30T12:20:11.844919Z",
     "iopub.status.busy": "2024-06-30T12:20:11.844547Z",
     "iopub.status.idle": "2024-06-30T12:20:12.277015Z",
     "shell.execute_reply": "2024-06-30T12:20:12.276065Z"
    },
    "papermill": {
     "duration": 0.483167,
     "end_time": "2024-06-30T12:20:12.279241",
     "exception": false,
     "start_time": "2024-06-30T12:20:11.796074",
     "status": "completed"
    },
    "tags": []
   },
   "outputs": [
    {
     "data": {
      "image/png": "[encoded data removed]",
      "text/plain": [
       "<Figure size 800x600 with 2 Axes>"
      ]
     },
     "metadata": {},
     "output_type": "display_data"
    }
   ],
   "source": [
    "import matplotlib.pyplot as plt\n",
    "import seaborn as sns\n",
    "\n",
    "# Define the labels for the confusion matrix (adjust labels for your specific case)\n",
    "labels = ['Negative', 'Positive']\n",
    "\n",
    "# Create a heatmap from the confusion matrix\n",
    "plt.figure(figsize=(8, 6))\n",
    "sns.heatmap(conf_matrix, annot=True, fmt='d', cmap=\"Blues\", xticklabels=labels, yticklabels=labels)\n",
    "plt.title('Confusion Matrix')\n",
    "plt.ylabel('Actual Class')\n",
    "plt.xlabel('Predicted Class')\n",
    "plt.show()"
   ]
  },
  {
   "cell_type": "code",
   "execution_count": 24,
   "id": "060c483a",
   "metadata": {
    "execution": {
     "iopub.execute_input": "2024-06-30T12:20:12.376439Z",
     "iopub.status.busy": "2024-06-30T12:20:12.375579Z",
     "iopub.status.idle": "2024-06-30T12:20:12.392347Z",
     "shell.execute_reply": "2024-06-30T12:20:12.391271Z"
    },
    "papermill": {
     "duration": 0.067436,
     "end_time": "2024-06-30T12:20:12.394300",
     "exception": false,
     "start_time": "2024-06-30T12:20:12.326864",
     "status": "completed"
    },
    "tags": []
   },
   "outputs": [
    {
     "name": "stdout",
     "output_type": "stream",
     "text": [
      "Accuracy: 0.8668341708542714\n",
      "Precision: 0.987220447284345\n",
      "Recall: 0.7518248175182481\n",
      "F1 Score: 0.8535911602209943\n"
     ]
    }
   ],
   "source": [
    "from sklearn.metrics import accuracy_score, precision_score, recall_score, f1_score\n",
    "\n",
    "# Calculate metrics\n",
    "accuracy = accuracy_score(y_test, binary_predictions)\n",
    "precision = precision_score(y_test, binary_predictions)\n",
    "recall = recall_score(y_test, binary_predictions)\n",
    "f1 = f1_score(y_test, binary_predictions)\n",
    "\n",
    "# Print metrics\n",
    "print(\"Accuracy:\", accuracy)\n",
    "print(\"Precision:\", precision)\n",
    "print(\"Recall:\", recall)\n",
    "print(\"F1 Score:\", f1)"
   ]
  },
  {
   "cell_type": "code",
   "execution_count": 25,
   "id": "cd312744",
   "metadata": {
    "execution": {
     "iopub.execute_input": "2024-06-30T12:20:12.491949Z",
     "iopub.status.busy": "2024-06-30T12:20:12.491323Z",
     "iopub.status.idle": "2024-06-30T12:20:12.888179Z",
     "shell.execute_reply": "2024-06-30T12:20:12.887209Z"
    },
    "papermill": {
     "duration": 0.44777,
     "end_time": "2024-06-30T12:20:12.890287",
     "exception": false,
     "start_time": "2024-06-30T12:20:12.442517",
     "status": "completed"
    },
    "tags": []
   },
   "outputs": [
    {
     "name": "stdout",
     "output_type": "stream",
     "text": [
      "\u001b[1m50/50\u001b[0m \u001b[32m━━━━━━━━━━━━━━━━━━━━\u001b[0m\u001b[37m\u001b[0m \u001b[1m0s\u001b[0m 1ms/step\n"
     ]
    },
    {
     "data": {
      "image/png": "[encoded data removed]",
      "text/plain": [
       "<Figure size 640x480 with 1 Axes>"
      ]
     },
     "metadata": {},
     "output_type": "display_data"
    }
   ],
   "source": [
    "from sklearn.metrics import precision_recall_curve, average_precision_score\n",
    "\n",
    "# Predict probabilities\n",
    "y_pred_prob = model.predict(X_test_reshaped).ravel()\n",
    "# Compute precision-recall pairs for different probability thresholds\n",
    "precision, recall, thresholds = precision_recall_curve(y_test, y_pred_prob)\n",
    "\n",
    "# Compute average precision score\n",
    "average_precision = average_precision_score(y_test, y_pred_prob)\n",
    "\n",
    "# Plot the precision-recall curve\n",
    "plt.figure()\n",
    "plt.plot(recall, precision, color='b', lw=2, label=f'Precision-Recall curve (area = {average_precision:.2f})')\n",
    "plt.xlabel('Recall')\n",
    "plt.ylabel('Precision')\n",
    "plt.title('Precision-Recall Curve')\n",
    "plt.legend(loc='lower left')\n",
    "plt.show()"
   ]
  },
  {
   "cell_type": "code",
   "execution_count": 26,
   "id": "40498d2f",
   "metadata": {
    "execution": {
     "iopub.execute_input": "2024-06-30T12:20:12.989071Z",
     "iopub.status.busy": "2024-06-30T12:20:12.988683Z",
     "iopub.status.idle": "2024-06-30T12:20:13.221139Z",
     "shell.execute_reply": "2024-06-30T12:20:13.220177Z"
    },
    "papermill": {
     "duration": 0.284322,
     "end_time": "2024-06-30T12:20:13.223348",
     "exception": false,
     "start_time": "2024-06-30T12:20:12.939026",
     "status": "completed"
    },
    "tags": []
   },
   "outputs": [
    {
     "name": "stdout",
     "output_type": "stream",
     "text": [
      "True Negatives (TN): 762\n",
      "False Positives (FP): 8\n",
      "False Negatives (FN): 204\n",
      "True Positives (TP): 618\n"
     ]
    },
    {
     "data": {
      "image/png": "[encoded data removed]",
      "text/plain": [
       "<Figure size 800x600 with 2 Axes>"
      ]
     },
     "metadata": {},
     "output_type": "display_data"
    }
   ],
   "source": [
    "import numpy as np\n",
    "import matplotlib.pyplot as plt\n",
    "import seaborn as sns\n",
    "from sklearn.metrics import confusion_matrix\n",
    "\n",
    "# Assuming binary_predictions and y_test are already defined\n",
    "\n",
    "# Generate the confusion matrix\n",
    "conf_matrix = confusion_matrix(y_test, binary_predictions)\n",
    "\n",
    "# Extract TN, FP, FN, TP\n",
    "TN, FP, FN, TP = conf_matrix.ravel()\n",
    "\n",
    "# Print TN, FP, FN, TP\n",
    "print(f\"True Negatives (TN): {TN}\")\n",
    "print(f\"False Positives (FP): {FP}\")\n",
    "print(f\"False Negatives (FN): {FN}\")\n",
    "print(f\"True Positives (TP): {TP}\")\n",
    "\n",
    "# Optional: Visualize the confusion matrix\n",
    "plt.figure(figsize=(8, 6))\n",
    "sns.heatmap(conf_matrix, annot=True, fmt='d', cmap=\"Blues\", xticklabels=['Healthy', 'Mastitis'], yticklabels=['Healthy', 'Mastitis'])\n",
    "plt.title('Confusion Matrix')\n",
    "plt.ylabel('Actual Class')\n",
    "plt.xlabel('Predicted Class')\n",
    "plt.show()"
   ]
  },
  {
   "cell_type": "code",
   "execution_count": 27,
   "id": "89ff0422",
   "metadata": {
    "execution": {
     "iopub.execute_input": "2024-06-30T12:20:13.324529Z",
     "iopub.status.busy": "2024-06-30T12:20:13.323854Z",
     "iopub.status.idle": "2024-06-30T12:20:13.715688Z",
     "shell.execute_reply": "2024-06-30T12:20:13.714663Z"
    },
    "papermill": {
     "duration": 0.446093,
     "end_time": "2024-06-30T12:20:13.717820",
     "exception": false,
     "start_time": "2024-06-30T12:20:13.271727",
     "status": "completed"
    },
    "tags": []
   },
   "outputs": [
    {
     "name": "stdout",
     "output_type": "stream",
     "text": [
      "\u001b[1m50/50\u001b[0m \u001b[32m━━━━━━━━━━━━━━━━━━━━\u001b[0m\u001b[37m\u001b[0m \u001b[1m0s\u001b[0m 1ms/step\n"
     ]
    },
    {
     "data": {
      "image/png": "[encoded data removed]",
      "text/plain": [
       "<Figure size 640x480 with 1 Axes>"
      ]
     },
     "metadata": {},
     "output_type": "display_data"
    }
   ],
   "source": [
    "from sklearn.metrics import roc_curve, auc\n",
    "\n",
    "# Predict probabilities\n",
    "y_pred_prob = model.predict(X_test_reshaped).ravel()\n",
    "\n",
    "# Compute ROC curve and ROC area\n",
    "fpr, tpr, thresholds = roc_curve(y_test, y_pred_prob)\n",
    "roc_auc = auc(fpr, tpr)\n",
    "\n",
    "# Plot ROC curve\n",
    "plt.figure()\n",
    "plt.plot(fpr, tpr, color='darkorange', lw=2, label=f'ROC curve (area = {roc_auc:.2f})')\n",
    "plt.plot([0, 1], [0, 1], color='navy', lw=2, linestyle='--')\n",
    "plt.xlim([0.0, 1.0])\n",
    "plt.ylim([0.0, 1.05])\n",
    "plt.xlabel('False Positive Rate')\n",
    "plt.ylabel('True Positive Rate')\n",
    "plt.title('Receiver Operating Characteristic (ROC) Curve')\n",
    "plt.legend(loc='lower right')\n",
    "plt.show()"
   ]
  },
  {
   "cell_type": "code",
   "execution_count": 28,
   "id": "0d9f1b16",
   "metadata": {
    "execution": {
     "iopub.execute_input": "2024-06-30T12:20:13.819143Z",
     "iopub.status.busy": "2024-06-30T12:20:13.818417Z",
     "iopub.status.idle": "2024-06-30T12:20:13.853922Z",
     "shell.execute_reply": "2024-06-30T12:20:13.853000Z"
    },
    "papermill": {
     "duration": 0.089125,
     "end_time": "2024-06-30T12:20:13.856296",
     "exception": false,
     "start_time": "2024-06-30T12:20:13.767171",
     "status": "completed"
    },
    "tags": []
   },
   "outputs": [],
   "source": [
    "# Save the entire model\n",
    "model.save('lstm_model.h5')"
   ]
  }
 ],
 "metadata": {
  "kaggle": {
   "accelerator": "none",
   "dataSources": [
    {
     "datasetId": 5279900,
     "sourceId": 8821041,
     "sourceType": "datasetVersion"
    },
    {
     "datasetId": 5279788,
     "sourceId": 8783492,
     "sourceType": "datasetVersion"
    }
   ],
   "dockerImageVersionId": 30732,
   "isGpuEnabled": false,
   "isInternetEnabled": false,
   "language": "python",
   "sourceType": "notebook"
  },
  "kernelspec": {
   "display_name": "Python 3",
   "language": "python",
   "name": "python3"
  },
  "language_info": {
   "codemirror_mode": {
    "name": "ipython",
    "version": 3
   },
   "file_extension": ".py",
   "mimetype": "text/x-python",
   "name": "python",
   "nbconvert_exporter": "python",
   "pygments_lexer": "ipython3",
   "version": "3.10.13"
  },
  "papermill": {
   "default_parameters": {},
   "duration": 59.003177,
   "end_time": "2024-06-30T12:20:17.006974",
   "environment_variables": {},
   "exception": null,
   "input_path": "__notebook__.ipynb",
   "output_path": "__notebook__.ipynb",
   "parameters": {},
   "start_time": "2024-06-30T12:19:18.003797",
   "version": "2.5.0"
  }
 },
 "nbformat": 4,
 "nbformat_minor": 5
}
