{
 "cells": [
  {
   "cell_type": "code",
   "execution_count": 1,
   "id": "ea5cbdd7",
   "metadata": {
    "_cell_guid": "b1076dfc-b9ad-4769-8c92-a6c4dae69d19",
    "_uuid": "8f2839f25d086af736a60e9eeb907d3b93b6e0e5",
    "execution": {
     "iopub.execute_input": "2024-06-30T20:54:13.366232Z",
     "iopub.status.busy": "2024-06-30T20:54:13.365732Z",
     "iopub.status.idle": "2024-06-30T20:54:14.333364Z",
     "shell.execute_reply": "2024-06-30T20:54:14.332202Z"
    },
    "papermill": {
     "duration": 0.982726,
     "end_time": "2024-06-30T20:54:14.336095",
     "exception": false,
     "start_time": "2024-06-30T20:54:13.353369",
     "status": "completed"
    },
    "tags": []
   },
   "outputs": [
    {
     "name": "stdout",
     "output_type": "stream",
     "text": [
      "/kaggle/input/test-cases/s3.UseCase.csv\n",
      "/kaggle/input/test-cases/S1. Curated Input.csv\n",
      "/kaggle/input/test-cases/S2. Example Input.csv\n",
      "/kaggle/input/test-cases/S4Example.csv\n",
      "/kaggle/input/xai-dataset-2/clinical_mastitis_cows.csv\n",
      "/kaggle/input/xai-dataset-2/S1. Curated Input_v1.csv\n"
     ]
    }
   ],
   "source": [
    "# This Python 3 environment comes with many helpful analytics libraries installed\n",
    "# It is defined by the kaggle/python Docker image: https://github.com/kaggle/docker-python\n",
    "# For example, here's several helpful packages to load\n",
    "\n",
    "import numpy as np # linear algebra\n",
    "import pandas as pd # data processing, CSV file I/O (e.g. pd.read_csv)\n",
    "\n",
    "# Input data files are available in the read-only \"../input/\" directory\n",
    "# For example, running this (by clicking run or pressing Shift+Enter) will list all files under the input directory\n",
    "\n",
    "import os\n",
    "for dirname, _, filenames in os.walk('/kaggle/input'):\n",
    "    for filename in filenames:\n",
    "        print(os.path.join(dirname, filename))\n",
    "\n",
    "# You can write up to 20GB to the current directory (/kaggle/working/) that gets preserved as output when you create a version using \"Save & Run All\" \n",
    "# You can also write temporary files to /kaggle/temp/, but they won't be saved outside of the current session"
   ]
  },
  {
   "cell_type": "code",
   "execution_count": 2,
   "id": "9bc5cc11",
   "metadata": {
    "execution": {
     "iopub.execute_input": "2024-06-30T20:54:14.358630Z",
     "iopub.status.busy": "2024-06-30T20:54:14.358112Z",
     "iopub.status.idle": "2024-06-30T20:54:36.528953Z",
     "shell.execute_reply": "2024-06-30T20:54:36.527689Z"
    },
    "papermill": {
     "duration": 22.185062,
     "end_time": "2024-06-30T20:54:36.531680",
     "exception": false,
     "start_time": "2024-06-30T20:54:14.346618",
     "status": "completed"
    },
    "tags": []
   },
   "outputs": [
    {
     "name": "stderr",
     "output_type": "stream",
     "text": [
      "2024-06-30 20:54:17.996113: E external/local_xla/xla/stream_executor/cuda/cuda_dnn.cc:9261] Unable to register cuDNN factory: Attempting to register factory for plugin cuDNN when one has already been registered\n",
      "2024-06-30 20:54:17.996242: E external/local_xla/xla/stream_executor/cuda/cuda_fft.cc:607] Unable to register cuFFT factory: Attempting to register factory for plugin cuFFT when one has already been registered\n",
      "2024-06-30 20:54:18.149984: E external/local_xla/xla/stream_executor/cuda/cuda_blas.cc:1515] Unable to register cuBLAS factory: Attempting to register factory for plugin cuBLAS when one has already been registered\n"
     ]
    }
   ],
   "source": [
    "# Import necessary libraries\n",
    "import pandas as pd\n",
    "from sklearn.preprocessing import LabelEncoder\n",
    "from sklearn.model_selection import train_test_split\n",
    "import numpy as np\n",
    "from tensorflow.keras.models import Sequential\n",
    "from tensorflow.keras.layers import LSTM, Dense\n",
    "import shap"
   ]
  },
  {
   "cell_type": "code",
   "execution_count": 3,
   "id": "4ab7f4f0",
   "metadata": {
    "execution": {
     "iopub.execute_input": "2024-06-30T20:54:36.554328Z",
     "iopub.status.busy": "2024-06-30T20:54:36.553596Z",
     "iopub.status.idle": "2024-06-30T20:54:36.593321Z",
     "shell.execute_reply": "2024-06-30T20:54:36.592133Z"
    },
    "papermill": {
     "duration": 0.054021,
     "end_time": "2024-06-30T20:54:36.596089",
     "exception": false,
     "start_time": "2024-06-30T20:54:36.542068",
     "status": "completed"
    },
    "tags": []
   },
   "outputs": [],
   "source": [
    "# Load the dataset\n",
    "file_path = \"/kaggle/input/xai-dataset-2/S1. Curated Input_v1.csv\"  # Update with the correct path\n",
    "df = pd.read_csv(file_path)"
   ]
  },
  {
   "cell_type": "code",
   "execution_count": 4,
   "id": "aab00ba8",
   "metadata": {
    "execution": {
     "iopub.execute_input": "2024-06-30T20:54:36.618906Z",
     "iopub.status.busy": "2024-06-30T20:54:36.618489Z",
     "iopub.status.idle": "2024-06-30T20:54:36.661827Z",
     "shell.execute_reply": "2024-06-30T20:54:36.660656Z"
    },
    "papermill": {
     "duration": 0.057453,
     "end_time": "2024-06-30T20:54:36.664201",
     "exception": false,
     "start_time": "2024-06-30T20:54:36.606748",
     "status": "completed"
    },
    "tags": []
   },
   "outputs": [
    {
     "data": {
      "text/html": [
       "<div>\n",
       "<style scoped>\n",
       "    .dataframe tbody tr th:only-of-type {\n",
       "        vertical-align: middle;\n",
       "    }\n",
       "\n",
       "    .dataframe tbody tr th {\n",
       "        vertical-align: top;\n",
       "    }\n",
       "\n",
       "    .dataframe thead th {\n",
       "        text-align: right;\n",
       "    }\n",
       "</style>\n",
       "<table border=\"1\" class=\"dataframe\">\n",
       "  <thead>\n",
       "    <tr style=\"text-align: right;\">\n",
       "      <th></th>\n",
       "      <th>Months_after_giving_birth</th>\n",
       "      <th>IUFL</th>\n",
       "      <th>EUFL</th>\n",
       "      <th>IUFR</th>\n",
       "      <th>EUFR</th>\n",
       "      <th>IURL</th>\n",
       "      <th>EURL</th>\n",
       "      <th>IURR</th>\n",
       "      <th>EURR</th>\n",
       "      <th>Temperature</th>\n",
       "      <th>Health_Healthy</th>\n",
       "      <th>Health_Mastitis</th>\n",
       "    </tr>\n",
       "  </thead>\n",
       "  <tbody>\n",
       "    <tr>\n",
       "      <th>0</th>\n",
       "      <td>1</td>\n",
       "      <td>150</td>\n",
       "      <td>180</td>\n",
       "      <td>150</td>\n",
       "      <td>180</td>\n",
       "      <td>150</td>\n",
       "      <td>181</td>\n",
       "      <td>150</td>\n",
       "      <td>181</td>\n",
       "      <td>43</td>\n",
       "      <td>False</td>\n",
       "      <td>True</td>\n",
       "    </tr>\n",
       "    <tr>\n",
       "      <th>1</th>\n",
       "      <td>1</td>\n",
       "      <td>152</td>\n",
       "      <td>180</td>\n",
       "      <td>152</td>\n",
       "      <td>185</td>\n",
       "      <td>151</td>\n",
       "      <td>180</td>\n",
       "      <td>152</td>\n",
       "      <td>181</td>\n",
       "      <td>42</td>\n",
       "      <td>True</td>\n",
       "      <td>False</td>\n",
       "    </tr>\n",
       "    <tr>\n",
       "      <th>2</th>\n",
       "      <td>1</td>\n",
       "      <td>152</td>\n",
       "      <td>182</td>\n",
       "      <td>153</td>\n",
       "      <td>186</td>\n",
       "      <td>151</td>\n",
       "      <td>186</td>\n",
       "      <td>153</td>\n",
       "      <td>183</td>\n",
       "      <td>41</td>\n",
       "      <td>True</td>\n",
       "      <td>False</td>\n",
       "    </tr>\n",
       "    <tr>\n",
       "      <th>3</th>\n",
       "      <td>1</td>\n",
       "      <td>155</td>\n",
       "      <td>183</td>\n",
       "      <td>155</td>\n",
       "      <td>189</td>\n",
       "      <td>155</td>\n",
       "      <td>182</td>\n",
       "      <td>155</td>\n",
       "      <td>186</td>\n",
       "      <td>40</td>\n",
       "      <td>True</td>\n",
       "      <td>False</td>\n",
       "    </tr>\n",
       "    <tr>\n",
       "      <th>4</th>\n",
       "      <td>1</td>\n",
       "      <td>150</td>\n",
       "      <td>186</td>\n",
       "      <td>150</td>\n",
       "      <td>181</td>\n",
       "      <td>150</td>\n",
       "      <td>185</td>\n",
       "      <td>150</td>\n",
       "      <td>188</td>\n",
       "      <td>41</td>\n",
       "      <td>True</td>\n",
       "      <td>False</td>\n",
       "    </tr>\n",
       "    <tr>\n",
       "      <th>...</th>\n",
       "      <td>...</td>\n",
       "      <td>...</td>\n",
       "      <td>...</td>\n",
       "      <td>...</td>\n",
       "      <td>...</td>\n",
       "      <td>...</td>\n",
       "      <td>...</td>\n",
       "      <td>...</td>\n",
       "      <td>...</td>\n",
       "      <td>...</td>\n",
       "      <td>...</td>\n",
       "      <td>...</td>\n",
       "    </tr>\n",
       "    <tr>\n",
       "      <th>7993</th>\n",
       "      <td>5</td>\n",
       "      <td>153</td>\n",
       "      <td>174</td>\n",
       "      <td>156</td>\n",
       "      <td>175</td>\n",
       "      <td>155</td>\n",
       "      <td>177</td>\n",
       "      <td>153</td>\n",
       "      <td>177</td>\n",
       "      <td>41</td>\n",
       "      <td>True</td>\n",
       "      <td>False</td>\n",
       "    </tr>\n",
       "    <tr>\n",
       "      <th>7994</th>\n",
       "      <td>2</td>\n",
       "      <td>241</td>\n",
       "      <td>278</td>\n",
       "      <td>235</td>\n",
       "      <td>282</td>\n",
       "      <td>234</td>\n",
       "      <td>277</td>\n",
       "      <td>238</td>\n",
       "      <td>281</td>\n",
       "      <td>41</td>\n",
       "      <td>True</td>\n",
       "      <td>False</td>\n",
       "    </tr>\n",
       "    <tr>\n",
       "      <th>7995</th>\n",
       "      <td>5</td>\n",
       "      <td>157</td>\n",
       "      <td>173</td>\n",
       "      <td>157</td>\n",
       "      <td>174</td>\n",
       "      <td>156</td>\n",
       "      <td>174</td>\n",
       "      <td>158</td>\n",
       "      <td>168</td>\n",
       "      <td>41</td>\n",
       "      <td>True</td>\n",
       "      <td>False</td>\n",
       "    </tr>\n",
       "    <tr>\n",
       "      <th>7996</th>\n",
       "      <td>3</td>\n",
       "      <td>172</td>\n",
       "      <td>196</td>\n",
       "      <td>163</td>\n",
       "      <td>191</td>\n",
       "      <td>162</td>\n",
       "      <td>192</td>\n",
       "      <td>165</td>\n",
       "      <td>194</td>\n",
       "      <td>41</td>\n",
       "      <td>True</td>\n",
       "      <td>False</td>\n",
       "    </tr>\n",
       "    <tr>\n",
       "      <th>7997</th>\n",
       "      <td>5</td>\n",
       "      <td>173</td>\n",
       "      <td>192</td>\n",
       "      <td>166</td>\n",
       "      <td>198</td>\n",
       "      <td>175</td>\n",
       "      <td>190</td>\n",
       "      <td>176</td>\n",
       "      <td>191</td>\n",
       "      <td>41</td>\n",
       "      <td>True</td>\n",
       "      <td>False</td>\n",
       "    </tr>\n",
       "  </tbody>\n",
       "</table>\n",
       "<p>7998 rows × 12 columns</p>\n",
       "</div>"
      ],
      "text/plain": [
       "      Months_after_giving_birth  IUFL  EUFL  IUFR  EUFR  IURL  EURL  IURR  \\\n",
       "0                             1   150   180   150   180   150   181   150   \n",
       "1                             1   152   180   152   185   151   180   152   \n",
       "2                             1   152   182   153   186   151   186   153   \n",
       "3                             1   155   183   155   189   155   182   155   \n",
       "4                             1   150   186   150   181   150   185   150   \n",
       "...                         ...   ...   ...   ...   ...   ...   ...   ...   \n",
       "7993                          5   153   174   156   175   155   177   153   \n",
       "7994                          2   241   278   235   282   234   277   238   \n",
       "7995                          5   157   173   157   174   156   174   158   \n",
       "7996                          3   172   196   163   191   162   192   165   \n",
       "7997                          5   173   192   166   198   175   190   176   \n",
       "\n",
       "      EURR  Temperature  Health_Healthy  Health_Mastitis  \n",
       "0      181           43           False             True  \n",
       "1      181           42            True            False  \n",
       "2      183           41            True            False  \n",
       "3      186           40            True            False  \n",
       "4      188           41            True            False  \n",
       "...    ...          ...             ...              ...  \n",
       "7993   177           41            True            False  \n",
       "7994   281           41            True            False  \n",
       "7995   168           41            True            False  \n",
       "7996   194           41            True            False  \n",
       "7997   191           41            True            False  \n",
       "\n",
       "[7998 rows x 12 columns]"
      ]
     },
     "execution_count": 4,
     "metadata": {},
     "output_type": "execute_result"
    }
   ],
   "source": [
    "from sklearn.preprocessing import MinMaxScaler\n",
    "\n",
    "# Load dataset \n",
    "\n",
    "df = df.drop(columns=[ 'ID'])\n",
    "df = pd.get_dummies(df)\n",
    "\n",
    "df"
   ]
  },
  {
   "cell_type": "code",
   "execution_count": 5,
   "id": "1c103f1d",
   "metadata": {
    "execution": {
     "iopub.execute_input": "2024-06-30T20:54:36.687546Z",
     "iopub.status.busy": "2024-06-30T20:54:36.687117Z",
     "iopub.status.idle": "2024-06-30T20:54:36.718338Z",
     "shell.execute_reply": "2024-06-30T20:54:36.717233Z"
    },
    "papermill": {
     "duration": 0.045741,
     "end_time": "2024-06-30T20:54:36.720744",
     "exception": false,
     "start_time": "2024-06-30T20:54:36.675003",
     "status": "completed"
    },
    "tags": []
   },
   "outputs": [
    {
     "data": {
      "text/html": [
       "<div>\n",
       "<style scoped>\n",
       "    .dataframe tbody tr th:only-of-type {\n",
       "        vertical-align: middle;\n",
       "    }\n",
       "\n",
       "    .dataframe tbody tr th {\n",
       "        vertical-align: top;\n",
       "    }\n",
       "\n",
       "    .dataframe thead th {\n",
       "        text-align: right;\n",
       "    }\n",
       "</style>\n",
       "<table border=\"1\" class=\"dataframe\">\n",
       "  <thead>\n",
       "    <tr style=\"text-align: right;\">\n",
       "      <th></th>\n",
       "      <th>Months_after_giving_birth</th>\n",
       "      <th>IUFL</th>\n",
       "      <th>EUFL</th>\n",
       "      <th>IUFR</th>\n",
       "      <th>EUFR</th>\n",
       "      <th>IURL</th>\n",
       "      <th>EURL</th>\n",
       "      <th>IURR</th>\n",
       "      <th>EURR</th>\n",
       "      <th>Temperature</th>\n",
       "      <th>Health_Healthy</th>\n",
       "      <th>Health_Mastitis</th>\n",
       "    </tr>\n",
       "  </thead>\n",
       "  <tbody>\n",
       "    <tr>\n",
       "      <th>0</th>\n",
       "      <td>1</td>\n",
       "      <td>150</td>\n",
       "      <td>180</td>\n",
       "      <td>150</td>\n",
       "      <td>180</td>\n",
       "      <td>150</td>\n",
       "      <td>181</td>\n",
       "      <td>150</td>\n",
       "      <td>181</td>\n",
       "      <td>43</td>\n",
       "      <td>0</td>\n",
       "      <td>1</td>\n",
       "    </tr>\n",
       "    <tr>\n",
       "      <th>1</th>\n",
       "      <td>1</td>\n",
       "      <td>152</td>\n",
       "      <td>180</td>\n",
       "      <td>152</td>\n",
       "      <td>185</td>\n",
       "      <td>151</td>\n",
       "      <td>180</td>\n",
       "      <td>152</td>\n",
       "      <td>181</td>\n",
       "      <td>42</td>\n",
       "      <td>1</td>\n",
       "      <td>0</td>\n",
       "    </tr>\n",
       "    <tr>\n",
       "      <th>2</th>\n",
       "      <td>1</td>\n",
       "      <td>152</td>\n",
       "      <td>182</td>\n",
       "      <td>153</td>\n",
       "      <td>186</td>\n",
       "      <td>151</td>\n",
       "      <td>186</td>\n",
       "      <td>153</td>\n",
       "      <td>183</td>\n",
       "      <td>41</td>\n",
       "      <td>1</td>\n",
       "      <td>0</td>\n",
       "    </tr>\n",
       "    <tr>\n",
       "      <th>3</th>\n",
       "      <td>1</td>\n",
       "      <td>155</td>\n",
       "      <td>183</td>\n",
       "      <td>155</td>\n",
       "      <td>189</td>\n",
       "      <td>155</td>\n",
       "      <td>182</td>\n",
       "      <td>155</td>\n",
       "      <td>186</td>\n",
       "      <td>40</td>\n",
       "      <td>1</td>\n",
       "      <td>0</td>\n",
       "    </tr>\n",
       "    <tr>\n",
       "      <th>4</th>\n",
       "      <td>1</td>\n",
       "      <td>150</td>\n",
       "      <td>186</td>\n",
       "      <td>150</td>\n",
       "      <td>181</td>\n",
       "      <td>150</td>\n",
       "      <td>185</td>\n",
       "      <td>150</td>\n",
       "      <td>188</td>\n",
       "      <td>41</td>\n",
       "      <td>1</td>\n",
       "      <td>0</td>\n",
       "    </tr>\n",
       "    <tr>\n",
       "      <th>...</th>\n",
       "      <td>...</td>\n",
       "      <td>...</td>\n",
       "      <td>...</td>\n",
       "      <td>...</td>\n",
       "      <td>...</td>\n",
       "      <td>...</td>\n",
       "      <td>...</td>\n",
       "      <td>...</td>\n",
       "      <td>...</td>\n",
       "      <td>...</td>\n",
       "      <td>...</td>\n",
       "      <td>...</td>\n",
       "    </tr>\n",
       "    <tr>\n",
       "      <th>7993</th>\n",
       "      <td>5</td>\n",
       "      <td>153</td>\n",
       "      <td>174</td>\n",
       "      <td>156</td>\n",
       "      <td>175</td>\n",
       "      <td>155</td>\n",
       "      <td>177</td>\n",
       "      <td>153</td>\n",
       "      <td>177</td>\n",
       "      <td>41</td>\n",
       "      <td>1</td>\n",
       "      <td>0</td>\n",
       "    </tr>\n",
       "    <tr>\n",
       "      <th>7994</th>\n",
       "      <td>2</td>\n",
       "      <td>241</td>\n",
       "      <td>278</td>\n",
       "      <td>235</td>\n",
       "      <td>282</td>\n",
       "      <td>234</td>\n",
       "      <td>277</td>\n",
       "      <td>238</td>\n",
       "      <td>281</td>\n",
       "      <td>41</td>\n",
       "      <td>1</td>\n",
       "      <td>0</td>\n",
       "    </tr>\n",
       "    <tr>\n",
       "      <th>7995</th>\n",
       "      <td>5</td>\n",
       "      <td>157</td>\n",
       "      <td>173</td>\n",
       "      <td>157</td>\n",
       "      <td>174</td>\n",
       "      <td>156</td>\n",
       "      <td>174</td>\n",
       "      <td>158</td>\n",
       "      <td>168</td>\n",
       "      <td>41</td>\n",
       "      <td>1</td>\n",
       "      <td>0</td>\n",
       "    </tr>\n",
       "    <tr>\n",
       "      <th>7996</th>\n",
       "      <td>3</td>\n",
       "      <td>172</td>\n",
       "      <td>196</td>\n",
       "      <td>163</td>\n",
       "      <td>191</td>\n",
       "      <td>162</td>\n",
       "      <td>192</td>\n",
       "      <td>165</td>\n",
       "      <td>194</td>\n",
       "      <td>41</td>\n",
       "      <td>1</td>\n",
       "      <td>0</td>\n",
       "    </tr>\n",
       "    <tr>\n",
       "      <th>7997</th>\n",
       "      <td>5</td>\n",
       "      <td>173</td>\n",
       "      <td>192</td>\n",
       "      <td>166</td>\n",
       "      <td>198</td>\n",
       "      <td>175</td>\n",
       "      <td>190</td>\n",
       "      <td>176</td>\n",
       "      <td>191</td>\n",
       "      <td>41</td>\n",
       "      <td>1</td>\n",
       "      <td>0</td>\n",
       "    </tr>\n",
       "  </tbody>\n",
       "</table>\n",
       "<p>7998 rows × 12 columns</p>\n",
       "</div>"
      ],
      "text/plain": [
       "      Months_after_giving_birth  IUFL  EUFL  IUFR  EUFR  IURL  EURL  IURR  \\\n",
       "0                             1   150   180   150   180   150   181   150   \n",
       "1                             1   152   180   152   185   151   180   152   \n",
       "2                             1   152   182   153   186   151   186   153   \n",
       "3                             1   155   183   155   189   155   182   155   \n",
       "4                             1   150   186   150   181   150   185   150   \n",
       "...                         ...   ...   ...   ...   ...   ...   ...   ...   \n",
       "7993                          5   153   174   156   175   155   177   153   \n",
       "7994                          2   241   278   235   282   234   277   238   \n",
       "7995                          5   157   173   157   174   156   174   158   \n",
       "7996                          3   172   196   163   191   162   192   165   \n",
       "7997                          5   173   192   166   198   175   190   176   \n",
       "\n",
       "      EURR  Temperature  Health_Healthy  Health_Mastitis  \n",
       "0      181           43               0                1  \n",
       "1      181           42               1                0  \n",
       "2      183           41               1                0  \n",
       "3      186           40               1                0  \n",
       "4      188           41               1                0  \n",
       "...    ...          ...             ...              ...  \n",
       "7993   177           41               1                0  \n",
       "7994   281           41               1                0  \n",
       "7995   168           41               1                0  \n",
       "7996   194           41               1                0  \n",
       "7997   191           41               1                0  \n",
       "\n",
       "[7998 rows x 12 columns]"
      ]
     },
     "execution_count": 5,
     "metadata": {},
     "output_type": "execute_result"
    }
   ],
   "source": [
    "df['Health_Healthy'] = df['Health_Healthy'].apply(lambda x: 1 if x else 0)\n",
    "df['Health_Mastitis'] = df['Health_Mastitis'].apply(lambda x: 1 if x else 0)\n",
    "\n",
    "\n",
    "df"
   ]
  },
  {
   "cell_type": "code",
   "execution_count": 6,
   "id": "4b9e09fa",
   "metadata": {
    "execution": {
     "iopub.execute_input": "2024-06-30T20:54:36.744814Z",
     "iopub.status.busy": "2024-06-30T20:54:36.744401Z",
     "iopub.status.idle": "2024-06-30T20:54:36.761932Z",
     "shell.execute_reply": "2024-06-30T20:54:36.760847Z"
    },
    "papermill": {
     "duration": 0.032558,
     "end_time": "2024-06-30T20:54:36.764593",
     "exception": false,
     "start_time": "2024-06-30T20:54:36.732035",
     "status": "completed"
    },
    "tags": []
   },
   "outputs": [
    {
     "data": {
      "text/html": [
       "<div>\n",
       "<style scoped>\n",
       "    .dataframe tbody tr th:only-of-type {\n",
       "        vertical-align: middle;\n",
       "    }\n",
       "\n",
       "    .dataframe tbody tr th {\n",
       "        vertical-align: top;\n",
       "    }\n",
       "\n",
       "    .dataframe thead th {\n",
       "        text-align: right;\n",
       "    }\n",
       "</style>\n",
       "<table border=\"1\" class=\"dataframe\">\n",
       "  <thead>\n",
       "    <tr style=\"text-align: right;\">\n",
       "      <th></th>\n",
       "      <th>Months_after_giving_birth</th>\n",
       "      <th>IUFL</th>\n",
       "      <th>EUFL</th>\n",
       "      <th>IUFR</th>\n",
       "      <th>EUFR</th>\n",
       "      <th>IURL</th>\n",
       "      <th>EURL</th>\n",
       "      <th>IURR</th>\n",
       "      <th>EURR</th>\n",
       "      <th>Temperature</th>\n",
       "      <th>Health_Mastitis</th>\n",
       "    </tr>\n",
       "  </thead>\n",
       "  <tbody>\n",
       "    <tr>\n",
       "      <th>0</th>\n",
       "      <td>1</td>\n",
       "      <td>150</td>\n",
       "      <td>180</td>\n",
       "      <td>150</td>\n",
       "      <td>180</td>\n",
       "      <td>150</td>\n",
       "      <td>181</td>\n",
       "      <td>150</td>\n",
       "      <td>181</td>\n",
       "      <td>43</td>\n",
       "      <td>1</td>\n",
       "    </tr>\n",
       "    <tr>\n",
       "      <th>1</th>\n",
       "      <td>1</td>\n",
       "      <td>152</td>\n",
       "      <td>180</td>\n",
       "      <td>152</td>\n",
       "      <td>185</td>\n",
       "      <td>151</td>\n",
       "      <td>180</td>\n",
       "      <td>152</td>\n",
       "      <td>181</td>\n",
       "      <td>42</td>\n",
       "      <td>0</td>\n",
       "    </tr>\n",
       "    <tr>\n",
       "      <th>2</th>\n",
       "      <td>1</td>\n",
       "      <td>152</td>\n",
       "      <td>182</td>\n",
       "      <td>153</td>\n",
       "      <td>186</td>\n",
       "      <td>151</td>\n",
       "      <td>186</td>\n",
       "      <td>153</td>\n",
       "      <td>183</td>\n",
       "      <td>41</td>\n",
       "      <td>0</td>\n",
       "    </tr>\n",
       "    <tr>\n",
       "      <th>3</th>\n",
       "      <td>1</td>\n",
       "      <td>155</td>\n",
       "      <td>183</td>\n",
       "      <td>155</td>\n",
       "      <td>189</td>\n",
       "      <td>155</td>\n",
       "      <td>182</td>\n",
       "      <td>155</td>\n",
       "      <td>186</td>\n",
       "      <td>40</td>\n",
       "      <td>0</td>\n",
       "    </tr>\n",
       "    <tr>\n",
       "      <th>4</th>\n",
       "      <td>1</td>\n",
       "      <td>150</td>\n",
       "      <td>186</td>\n",
       "      <td>150</td>\n",
       "      <td>181</td>\n",
       "      <td>150</td>\n",
       "      <td>185</td>\n",
       "      <td>150</td>\n",
       "      <td>188</td>\n",
       "      <td>41</td>\n",
       "      <td>0</td>\n",
       "    </tr>\n",
       "    <tr>\n",
       "      <th>...</th>\n",
       "      <td>...</td>\n",
       "      <td>...</td>\n",
       "      <td>...</td>\n",
       "      <td>...</td>\n",
       "      <td>...</td>\n",
       "      <td>...</td>\n",
       "      <td>...</td>\n",
       "      <td>...</td>\n",
       "      <td>...</td>\n",
       "      <td>...</td>\n",
       "      <td>...</td>\n",
       "    </tr>\n",
       "    <tr>\n",
       "      <th>7993</th>\n",
       "      <td>5</td>\n",
       "      <td>153</td>\n",
       "      <td>174</td>\n",
       "      <td>156</td>\n",
       "      <td>175</td>\n",
       "      <td>155</td>\n",
       "      <td>177</td>\n",
       "      <td>153</td>\n",
       "      <td>177</td>\n",
       "      <td>41</td>\n",
       "      <td>0</td>\n",
       "    </tr>\n",
       "    <tr>\n",
       "      <th>7994</th>\n",
       "      <td>2</td>\n",
       "      <td>241</td>\n",
       "      <td>278</td>\n",
       "      <td>235</td>\n",
       "      <td>282</td>\n",
       "      <td>234</td>\n",
       "      <td>277</td>\n",
       "      <td>238</td>\n",
       "      <td>281</td>\n",
       "      <td>41</td>\n",
       "      <td>0</td>\n",
       "    </tr>\n",
       "    <tr>\n",
       "      <th>7995</th>\n",
       "      <td>5</td>\n",
       "      <td>157</td>\n",
       "      <td>173</td>\n",
       "      <td>157</td>\n",
       "      <td>174</td>\n",
       "      <td>156</td>\n",
       "      <td>174</td>\n",
       "      <td>158</td>\n",
       "      <td>168</td>\n",
       "      <td>41</td>\n",
       "      <td>0</td>\n",
       "    </tr>\n",
       "    <tr>\n",
       "      <th>7996</th>\n",
       "      <td>3</td>\n",
       "      <td>172</td>\n",
       "      <td>196</td>\n",
       "      <td>163</td>\n",
       "      <td>191</td>\n",
       "      <td>162</td>\n",
       "      <td>192</td>\n",
       "      <td>165</td>\n",
       "      <td>194</td>\n",
       "      <td>41</td>\n",
       "      <td>0</td>\n",
       "    </tr>\n",
       "    <tr>\n",
       "      <th>7997</th>\n",
       "      <td>5</td>\n",
       "      <td>173</td>\n",
       "      <td>192</td>\n",
       "      <td>166</td>\n",
       "      <td>198</td>\n",
       "      <td>175</td>\n",
       "      <td>190</td>\n",
       "      <td>176</td>\n",
       "      <td>191</td>\n",
       "      <td>41</td>\n",
       "      <td>0</td>\n",
       "    </tr>\n",
       "  </tbody>\n",
       "</table>\n",
       "<p>7998 rows × 11 columns</p>\n",
       "</div>"
      ],
      "text/plain": [
       "      Months_after_giving_birth  IUFL  EUFL  IUFR  EUFR  IURL  EURL  IURR  \\\n",
       "0                             1   150   180   150   180   150   181   150   \n",
       "1                             1   152   180   152   185   151   180   152   \n",
       "2                             1   152   182   153   186   151   186   153   \n",
       "3                             1   155   183   155   189   155   182   155   \n",
       "4                             1   150   186   150   181   150   185   150   \n",
       "...                         ...   ...   ...   ...   ...   ...   ...   ...   \n",
       "7993                          5   153   174   156   175   155   177   153   \n",
       "7994                          2   241   278   235   282   234   277   238   \n",
       "7995                          5   157   173   157   174   156   174   158   \n",
       "7996                          3   172   196   163   191   162   192   165   \n",
       "7997                          5   173   192   166   198   175   190   176   \n",
       "\n",
       "      EURR  Temperature  Health_Mastitis  \n",
       "0      181           43                1  \n",
       "1      181           42                0  \n",
       "2      183           41                0  \n",
       "3      186           40                0  \n",
       "4      188           41                0  \n",
       "...    ...          ...              ...  \n",
       "7993   177           41                0  \n",
       "7994   281           41                0  \n",
       "7995   168           41                0  \n",
       "7996   194           41                0  \n",
       "7997   191           41                0  \n",
       "\n",
       "[7998 rows x 11 columns]"
      ]
     },
     "execution_count": 6,
     "metadata": {},
     "output_type": "execute_result"
    }
   ],
   "source": [
    "df= df.drop('Health_Healthy', axis=1)\n",
    "df"
   ]
  },
  {
   "cell_type": "code",
   "execution_count": 7,
   "id": "60911ffd",
   "metadata": {
    "execution": {
     "iopub.execute_input": "2024-06-30T20:54:36.791990Z",
     "iopub.status.busy": "2024-06-30T20:54:36.791610Z",
     "iopub.status.idle": "2024-06-30T20:54:36.822828Z",
     "shell.execute_reply": "2024-06-30T20:54:36.821640Z"
    },
    "papermill": {
     "duration": 0.047126,
     "end_time": "2024-06-30T20:54:36.825109",
     "exception": false,
     "start_time": "2024-06-30T20:54:36.777983",
     "status": "completed"
    },
    "tags": []
   },
   "outputs": [
    {
     "name": "stdout",
     "output_type": "stream",
     "text": [
      "<class 'pandas.core.frame.DataFrame'>\n",
      "RangeIndex: 7998 entries, 0 to 7997\n",
      "Data columns (total 10 columns):\n",
      " #   Column                     Non-Null Count  Dtype\n",
      "---  ------                     --------------  -----\n",
      " 0   Months_after_giving_birth  7998 non-null   int64\n",
      " 1   IUFL                       7998 non-null   int64\n",
      " 2   EUFL                       7998 non-null   int64\n",
      " 3   IUFR                       7998 non-null   int64\n",
      " 4   EUFR                       7998 non-null   int64\n",
      " 5   IURL                       7998 non-null   int64\n",
      " 6   EURL                       7998 non-null   int64\n",
      " 7   IURR                       7998 non-null   int64\n",
      " 8   EURR                       7998 non-null   int64\n",
      " 9   Temperature                7998 non-null   int64\n",
      "dtypes: int64(10)\n",
      "memory usage: 625.0 KB\n"
     ]
    },
    {
     "data": {
      "text/html": [
       "<div>\n",
       "<style scoped>\n",
       "    .dataframe tbody tr th:only-of-type {\n",
       "        vertical-align: middle;\n",
       "    }\n",
       "\n",
       "    .dataframe tbody tr th {\n",
       "        vertical-align: top;\n",
       "    }\n",
       "\n",
       "    .dataframe thead th {\n",
       "        text-align: right;\n",
       "    }\n",
       "</style>\n",
       "<table border=\"1\" class=\"dataframe\">\n",
       "  <thead>\n",
       "    <tr style=\"text-align: right;\">\n",
       "      <th></th>\n",
       "      <th>Months_after_giving_birth</th>\n",
       "      <th>IUFL</th>\n",
       "      <th>EUFL</th>\n",
       "      <th>IUFR</th>\n",
       "      <th>EUFR</th>\n",
       "      <th>IURL</th>\n",
       "      <th>EURL</th>\n",
       "      <th>IURR</th>\n",
       "      <th>EURR</th>\n",
       "      <th>Temperature</th>\n",
       "    </tr>\n",
       "  </thead>\n",
       "  <tbody>\n",
       "    <tr>\n",
       "      <th>0</th>\n",
       "      <td>1</td>\n",
       "      <td>150</td>\n",
       "      <td>180</td>\n",
       "      <td>150</td>\n",
       "      <td>180</td>\n",
       "      <td>150</td>\n",
       "      <td>181</td>\n",
       "      <td>150</td>\n",
       "      <td>181</td>\n",
       "      <td>43</td>\n",
       "    </tr>\n",
       "    <tr>\n",
       "      <th>1</th>\n",
       "      <td>1</td>\n",
       "      <td>152</td>\n",
       "      <td>180</td>\n",
       "      <td>152</td>\n",
       "      <td>185</td>\n",
       "      <td>151</td>\n",
       "      <td>180</td>\n",
       "      <td>152</td>\n",
       "      <td>181</td>\n",
       "      <td>42</td>\n",
       "    </tr>\n",
       "    <tr>\n",
       "      <th>2</th>\n",
       "      <td>1</td>\n",
       "      <td>152</td>\n",
       "      <td>182</td>\n",
       "      <td>153</td>\n",
       "      <td>186</td>\n",
       "      <td>151</td>\n",
       "      <td>186</td>\n",
       "      <td>153</td>\n",
       "      <td>183</td>\n",
       "      <td>41</td>\n",
       "    </tr>\n",
       "    <tr>\n",
       "      <th>3</th>\n",
       "      <td>1</td>\n",
       "      <td>155</td>\n",
       "      <td>183</td>\n",
       "      <td>155</td>\n",
       "      <td>189</td>\n",
       "      <td>155</td>\n",
       "      <td>182</td>\n",
       "      <td>155</td>\n",
       "      <td>186</td>\n",
       "      <td>40</td>\n",
       "    </tr>\n",
       "    <tr>\n",
       "      <th>4</th>\n",
       "      <td>1</td>\n",
       "      <td>150</td>\n",
       "      <td>186</td>\n",
       "      <td>150</td>\n",
       "      <td>181</td>\n",
       "      <td>150</td>\n",
       "      <td>185</td>\n",
       "      <td>150</td>\n",
       "      <td>188</td>\n",
       "      <td>41</td>\n",
       "    </tr>\n",
       "    <tr>\n",
       "      <th>...</th>\n",
       "      <td>...</td>\n",
       "      <td>...</td>\n",
       "      <td>...</td>\n",
       "      <td>...</td>\n",
       "      <td>...</td>\n",
       "      <td>...</td>\n",
       "      <td>...</td>\n",
       "      <td>...</td>\n",
       "      <td>...</td>\n",
       "      <td>...</td>\n",
       "    </tr>\n",
       "    <tr>\n",
       "      <th>7993</th>\n",
       "      <td>5</td>\n",
       "      <td>153</td>\n",
       "      <td>174</td>\n",
       "      <td>156</td>\n",
       "      <td>175</td>\n",
       "      <td>155</td>\n",
       "      <td>177</td>\n",
       "      <td>153</td>\n",
       "      <td>177</td>\n",
       "      <td>41</td>\n",
       "    </tr>\n",
       "    <tr>\n",
       "      <th>7994</th>\n",
       "      <td>2</td>\n",
       "      <td>241</td>\n",
       "      <td>278</td>\n",
       "      <td>235</td>\n",
       "      <td>282</td>\n",
       "      <td>234</td>\n",
       "      <td>277</td>\n",
       "      <td>238</td>\n",
       "      <td>281</td>\n",
       "      <td>41</td>\n",
       "    </tr>\n",
       "    <tr>\n",
       "      <th>7995</th>\n",
       "      <td>5</td>\n",
       "      <td>157</td>\n",
       "      <td>173</td>\n",
       "      <td>157</td>\n",
       "      <td>174</td>\n",
       "      <td>156</td>\n",
       "      <td>174</td>\n",
       "      <td>158</td>\n",
       "      <td>168</td>\n",
       "      <td>41</td>\n",
       "    </tr>\n",
       "    <tr>\n",
       "      <th>7996</th>\n",
       "      <td>3</td>\n",
       "      <td>172</td>\n",
       "      <td>196</td>\n",
       "      <td>163</td>\n",
       "      <td>191</td>\n",
       "      <td>162</td>\n",
       "      <td>192</td>\n",
       "      <td>165</td>\n",
       "      <td>194</td>\n",
       "      <td>41</td>\n",
       "    </tr>\n",
       "    <tr>\n",
       "      <th>7997</th>\n",
       "      <td>5</td>\n",
       "      <td>173</td>\n",
       "      <td>192</td>\n",
       "      <td>166</td>\n",
       "      <td>198</td>\n",
       "      <td>175</td>\n",
       "      <td>190</td>\n",
       "      <td>176</td>\n",
       "      <td>191</td>\n",
       "      <td>41</td>\n",
       "    </tr>\n",
       "  </tbody>\n",
       "</table>\n",
       "<p>7998 rows × 10 columns</p>\n",
       "</div>"
      ],
      "text/plain": [
       "      Months_after_giving_birth  IUFL  EUFL  IUFR  EUFR  IURL  EURL  IURR  \\\n",
       "0                             1   150   180   150   180   150   181   150   \n",
       "1                             1   152   180   152   185   151   180   152   \n",
       "2                             1   152   182   153   186   151   186   153   \n",
       "3                             1   155   183   155   189   155   182   155   \n",
       "4                             1   150   186   150   181   150   185   150   \n",
       "...                         ...   ...   ...   ...   ...   ...   ...   ...   \n",
       "7993                          5   153   174   156   175   155   177   153   \n",
       "7994                          2   241   278   235   282   234   277   238   \n",
       "7995                          5   157   173   157   174   156   174   158   \n",
       "7996                          3   172   196   163   191   162   192   165   \n",
       "7997                          5   173   192   166   198   175   190   176   \n",
       "\n",
       "      EURR  Temperature  \n",
       "0      181           43  \n",
       "1      181           42  \n",
       "2      183           41  \n",
       "3      186           40  \n",
       "4      188           41  \n",
       "...    ...          ...  \n",
       "7993   177           41  \n",
       "7994   281           41  \n",
       "7995   168           41  \n",
       "7996   194           41  \n",
       "7997   191           41  \n",
       "\n",
       "[7998 rows x 10 columns]"
      ]
     },
     "execution_count": 7,
     "metadata": {},
     "output_type": "execute_result"
    }
   ],
   "source": [
    "y = df['Health_Mastitis'].values\n",
    "\n",
    "\n",
    "x = df.drop('Health_Mastitis', axis=1)\n",
    "x.info()\n",
    "x"
   ]
  },
  {
   "cell_type": "code",
   "execution_count": 8,
   "id": "21ba195d",
   "metadata": {
    "execution": {
     "iopub.execute_input": "2024-06-30T20:54:36.851694Z",
     "iopub.status.busy": "2024-06-30T20:54:36.850764Z",
     "iopub.status.idle": "2024-06-30T20:54:39.641962Z",
     "shell.execute_reply": "2024-06-30T20:54:39.640630Z"
    },
    "papermill": {
     "duration": 2.807027,
     "end_time": "2024-06-30T20:54:39.644440",
     "exception": false,
     "start_time": "2024-06-30T20:54:36.837413",
     "status": "completed"
    },
    "tags": []
   },
   "outputs": [
    {
     "name": "stdout",
     "output_type": "stream",
     "text": [
      "col:  Months_after_giving_birth\n"
     ]
    },
    {
     "data": {
      "image/png": "[encoded data removed]",
      "text/plain": [
       "<Figure size 640x480 with 1 Axes>"
      ]
     },
     "metadata": {},
     "output_type": "display_data"
    },
    {
     "name": "stdout",
     "output_type": "stream",
     "text": [
      "col:  IUFL\n"
     ]
    },
    {
     "data": {
      "image/png": "[encoded data removed]",
      "text/plain": [
       "<Figure size 640x480 with 1 Axes>"
      ]
     },
     "metadata": {},
     "output_type": "display_data"
    },
    {
     "name": "stdout",
     "output_type": "stream",
     "text": [
      "col:  EUFL\n"
     ]
    },
    {
     "data": {
      "image/png": "[encoded data removed]",
      "text/plain": [
       "<Figure size 640x480 with 1 Axes>"
      ]
     },
     "metadata": {},
     "output_type": "display_data"
    },
    {
     "name": "stdout",
     "output_type": "stream",
     "text": [
      "col:  IUFR\n"
     ]
    },
    {
     "data": {
      "image/png": "[encoded data removed]",
      "text/plain": [
       "<Figure size 640x480 with 1 Axes>"
      ]
     },
     "metadata": {},
     "output_type": "display_data"
    },
    {
     "name": "stdout",
     "output_type": "stream",
     "text": [
      "col:  EUFR\n"
     ]
    },
    {
     "data": {
      "image/png": "[encoded data removed]",
      "text/plain": [
       "<Figure size 640x480 with 1 Axes>"
      ]
     },
     "metadata": {},
     "output_type": "display_data"
    },
    {
     "name": "stdout",
     "output_type": "stream",
     "text": [
      "col:  IURL\n"
     ]
    },
    {
     "data": {
      "image/png": "[encoded data removed]",
      "text/plain": [
       "<Figure size 640x480 with 1 Axes>"
      ]
     },
     "metadata": {},
     "output_type": "display_data"
    },
    {
     "name": "stdout",
     "output_type": "stream",
     "text": [
      "col:  EURL\n"
     ]
    },
    {
     "data": {
      "image/png": "[encoded data removed]",
      "text/plain": [
       "<Figure size 640x480 with 1 Axes>"
      ]
     },
     "metadata": {},
     "output_type": "display_data"
    },
    {
     "name": "stdout",
     "output_type": "stream",
     "text": [
      "col:  IURR\n"
     ]
    },
    {
     "data": {
      "image/png": "[encoded data removed]",
      "text/plain": [
       "<Figure size 640x480 with 1 Axes>"
      ]
     },
     "metadata": {},
     "output_type": "display_data"
    },
    {
     "name": "stdout",
     "output_type": "stream",
     "text": [
      "col:  EURR\n"
     ]
    },
    {
     "data": {
      "image/png": "[encoded data removed]",
      "text/plain": [
       "<Figure size 640x480 with 1 Axes>"
      ]
     },
     "metadata": {},
     "output_type": "display_data"
    },
    {
     "name": "stdout",
     "output_type": "stream",
     "text": [
      "col:  Temperature\n"
     ]
    },
    {
     "data": {
      "image/png": "[encoded data removed]",
      "text/plain": [
       "<Figure size 640x480 with 1 Axes>"
      ]
     },
     "metadata": {},
     "output_type": "display_data"
    },
    {
     "name": "stdout",
     "output_type": "stream",
     "text": [
      "col:  Health_Mastitis\n"
     ]
    },
    {
     "data": {
      "image/png": "[encoded data removed]",
      "text/plain": [
       "<Figure size 640x480 with 1 Axes>"
      ]
     },
     "metadata": {},
     "output_type": "display_data"
    }
   ],
   "source": [
    "import matplotlib.pyplot as plt\n",
    "\n",
    "columns = df.columns\n",
    "for col in columns:\n",
    "    print(\"col: \", col)\n",
    "    df[col].hist()\n",
    "    plt.show()"
   ]
  },
  {
   "cell_type": "code",
   "execution_count": 9,
   "id": "6069c92b",
   "metadata": {
    "execution": {
     "iopub.execute_input": "2024-06-30T20:54:39.681037Z",
     "iopub.status.busy": "2024-06-30T20:54:39.680632Z",
     "iopub.status.idle": "2024-06-30T20:54:39.695980Z",
     "shell.execute_reply": "2024-06-30T20:54:39.694741Z"
    },
    "papermill": {
     "duration": 0.0362,
     "end_time": "2024-06-30T20:54:39.698423",
     "exception": false,
     "start_time": "2024-06-30T20:54:39.662223",
     "status": "completed"
    },
    "tags": []
   },
   "outputs": [
    {
     "name": "stdout",
     "output_type": "stream",
     "text": [
      "Training set size: 5598 or 70.0 %\n",
      "Test set size: 1608 or 20.1 %\n",
      "Validation set size: 792 or 9.9 %\n"
     ]
    }
   ],
   "source": [
    "# Split data into training, test, and validation sets\n",
    "X_train, X_temp, y_train, y_temp = train_test_split(x, y, test_size=0.3, random_state=42)\n",
    "X_test, X_val, y_test, y_val = train_test_split(X_temp, y_temp, test_size=0.33, random_state=42)\n",
    "\n",
    "print(\"Training set size:\", X_train.shape[0], \"or\", round(X_train.shape[0]/x.shape[0]*100, 1), \"%\")\n",
    "print(\"Test set size:\", X_test.shape[0], \"or\", round(X_test.shape[0]/x.shape[0]*100, 1), \"%\")\n",
    "print(\"Validation set size:\", X_val.shape[0], \"or\", round(X_val.shape[0]/x.shape[0]*100, 1), \"%\")"
   ]
  },
  {
   "cell_type": "code",
   "execution_count": 10,
   "id": "001b95e3",
   "metadata": {
    "execution": {
     "iopub.execute_input": "2024-06-30T20:54:39.735057Z",
     "iopub.status.busy": "2024-06-30T20:54:39.734621Z",
     "iopub.status.idle": "2024-06-30T20:54:39.745098Z",
     "shell.execute_reply": "2024-06-30T20:54:39.744019Z"
    },
    "papermill": {
     "duration": 0.031426,
     "end_time": "2024-06-30T20:54:39.747525",
     "exception": false,
     "start_time": "2024-06-30T20:54:39.716099",
     "status": "completed"
    },
    "tags": []
   },
   "outputs": [
    {
     "data": {
      "text/plain": [
       "array([[[  4, 165, 196, ..., 166, 194,  24]],\n",
       "\n",
       "       [[  4, 159, 192, ..., 151, 187,  43]],\n",
       "\n",
       "       [[  1, 233, 273, ..., 233, 273,  43]],\n",
       "\n",
       "       ...,\n",
       "\n",
       "       [[  2, 162, 193, ..., 163, 191,  43]],\n",
       "\n",
       "       [[  6, 154, 184, ..., 153, 183,  43]],\n",
       "\n",
       "       [[  4, 242, 271, ..., 242, 271,  43]]])"
      ]
     },
     "execution_count": 10,
     "metadata": {},
     "output_type": "execute_result"
    }
   ],
   "source": [
    "# Reshape the input data for LSTM (samples, time steps, features)\n",
    "n_features = X_train.shape[1]\n",
    "X_train_reshaped = X_train.values.reshape((X_train.shape[0], 1, n_features))\n",
    "X_test_reshaped = X_test.values.reshape((X_test.shape[0], 1, n_features))\n",
    "X_val_reshaped = X_val.values.reshape((X_val.shape[0], 1, n_features))\n",
    "\n",
    "X_val_reshaped"
   ]
  },
  {
   "cell_type": "code",
   "execution_count": 11,
   "id": "851da750",
   "metadata": {
    "execution": {
     "iopub.execute_input": "2024-06-30T20:54:39.787336Z",
     "iopub.status.busy": "2024-06-30T20:54:39.786891Z",
     "iopub.status.idle": "2024-06-30T20:54:39.794733Z",
     "shell.execute_reply": "2024-06-30T20:54:39.793826Z"
    },
    "papermill": {
     "duration": 0.030497,
     "end_time": "2024-06-30T20:54:39.797096",
     "exception": false,
     "start_time": "2024-06-30T20:54:39.766599",
     "status": "completed"
    },
    "tags": []
   },
   "outputs": [],
   "source": [
    "import tensorflow as tf\n",
    "from tensorflow.keras.losses import binary_crossentropy\n",
    "# Define the custom loss function\n",
    "def custom_loss(y_true, y_pred, temperature, threshold=42, penalty_factor=2.0):\n",
    "    # Apply penalty if temperature exceeds the threshold\n",
    "    penalty = tf.where(temperature > threshold, penalty_factor, 1.0)\n",
    "    # Compute binary cross-entropy loss\n",
    "    bce = binary_crossentropy(y_true, y_pred)\n",
    "    # Apply the penalty to the loss\n",
    "    loss = tf.reduce_mean(penalty * bce)\n",
    "    return loss\n"
   ]
  },
  {
   "cell_type": "code",
   "execution_count": 12,
   "id": "96fd3ec4",
   "metadata": {
    "execution": {
     "iopub.execute_input": "2024-06-30T20:54:39.833532Z",
     "iopub.status.busy": "2024-06-30T20:54:39.833111Z",
     "iopub.status.idle": "2024-06-30T20:54:39.956668Z",
     "shell.execute_reply": "2024-06-30T20:54:39.955501Z"
    },
    "papermill": {
     "duration": 0.145221,
     "end_time": "2024-06-30T20:54:39.959642",
     "exception": false,
     "start_time": "2024-06-30T20:54:39.814421",
     "status": "completed"
    },
    "tags": []
   },
   "outputs": [
    {
     "name": "stderr",
     "output_type": "stream",
     "text": [
      "Do not pass an `input_shape`/`input_dim` argument to a layer. When using Sequential models, prefer using an `Input(shape)` object as the first layer in the model instead.\n"
     ]
    }
   ],
   "source": [
    "# Define and compile the LSTM model\n",
    "model = Sequential([\n",
    "    LSTM(50, return_sequences=True, input_shape=(1, n_features)),\n",
    "    LSTM(50),\n",
    "    Dense(1, activation='sigmoid')\n",
    "])"
   ]
  },
  {
   "cell_type": "code",
   "execution_count": 13,
   "id": "0de980f2",
   "metadata": {
    "execution": {
     "iopub.execute_input": "2024-06-30T20:54:39.996710Z",
     "iopub.status.busy": "2024-06-30T20:54:39.996274Z",
     "iopub.status.idle": "2024-06-30T20:54:40.017372Z",
     "shell.execute_reply": "2024-06-30T20:54:40.016072Z"
    },
    "papermill": {
     "duration": 0.043213,
     "end_time": "2024-06-30T20:54:40.020239",
     "exception": false,
     "start_time": "2024-06-30T20:54:39.977026",
     "status": "completed"
    },
    "tags": []
   },
   "outputs": [],
   "source": [
    "#model.compile(optimizer='adam', loss='binary_crossentropy', metrics=['accuracy'])\n",
    "\n",
    "# Compile the model with a wrapper to include temperature in the loss calculation\n",
    "temperature_feature_index = 9  #  temperature is the 10th feature\n",
    "\n",
    "model.compile(optimizer='adam', \n",
    "              loss=lambda y_true, y_pred: custom_loss(y_true, y_pred, X_train_reshaped[:,:,temperature_feature_index]), \n",
    "              metrics=['accuracy'])\n",
    "\n",
    "\n"
   ]
  },
  {
   "cell_type": "code",
   "execution_count": 14,
   "id": "d1ef102a",
   "metadata": {
    "execution": {
     "iopub.execute_input": "2024-06-30T20:54:40.057723Z",
     "iopub.status.busy": "2024-06-30T20:54:40.057281Z",
     "iopub.status.idle": "2024-06-30T20:55:24.380075Z",
     "shell.execute_reply": "2024-06-30T20:55:24.378899Z"
    },
    "papermill": {
     "duration": 44.344302,
     "end_time": "2024-06-30T20:55:24.382734",
     "exception": false,
     "start_time": "2024-06-30T20:54:40.038432",
     "status": "completed"
    },
    "tags": []
   },
   "outputs": [
    {
     "name": "stdout",
     "output_type": "stream",
     "text": [
      "Epoch 1/50\n",
      "\u001b[1m175/175\u001b[0m \u001b[32m━━━━━━━━━━━━━━━━━━━━\u001b[0m\u001b[37m\u001b[0m \u001b[1m5s\u001b[0m 9ms/step - accuracy: 0.7649 - loss: 1.1464 - val_accuracy: 0.8523 - val_loss: 0.7218\n",
      "Epoch 2/50\n",
      "\u001b[1m175/175\u001b[0m \u001b[32m━━━━━━━━━━━━━━━━━━━━\u001b[0m\u001b[37m\u001b[0m \u001b[1m1s\u001b[0m 4ms/step - accuracy: 0.8615 - loss: 0.7143 - val_accuracy: 0.8573 - val_loss: 0.6896\n",
      "Epoch 3/50\n",
      "\u001b[1m175/175\u001b[0m \u001b[32m━━━━━━━━━━━━━━━━━━━━\u001b[0m\u001b[37m\u001b[0m \u001b[1m1s\u001b[0m 5ms/step - accuracy: 0.8686 - loss: 0.6619 - val_accuracy: 0.8586 - val_loss: 0.7409\n",
      "Epoch 4/50\n",
      "\u001b[1m175/175\u001b[0m \u001b[32m━━━━━━━━━━━━━━━━━━━━\u001b[0m\u001b[37m\u001b[0m \u001b[1m1s\u001b[0m 5ms/step - accuracy: 0.8638 - loss: 0.6665 - val_accuracy: 0.8561 - val_loss: 0.6932\n",
      "Epoch 5/50\n",
      "\u001b[1m175/175\u001b[0m \u001b[32m━━━━━━━━━━━━━━━━━━━━\u001b[0m\u001b[37m\u001b[0m \u001b[1m1s\u001b[0m 4ms/step - accuracy: 0.8617 - loss: 0.6733 - val_accuracy: 0.8561 - val_loss: 0.6948\n",
      "Epoch 6/50\n",
      "\u001b[1m175/175\u001b[0m \u001b[32m━━━━━━━━━━━━━━━━━━━━\u001b[0m\u001b[37m\u001b[0m \u001b[1m1s\u001b[0m 5ms/step - accuracy: 0.8558 - loss: 0.6806 - val_accuracy: 0.8561 - val_loss: 0.7116\n",
      "Epoch 7/50\n",
      "\u001b[1m175/175\u001b[0m \u001b[32m━━━━━━━━━━━━━━━━━━━━\u001b[0m\u001b[37m\u001b[0m \u001b[1m1s\u001b[0m 4ms/step - accuracy: 0.8601 - loss: 0.6770 - val_accuracy: 0.8586 - val_loss: 0.6985\n",
      "Epoch 8/50\n",
      "\u001b[1m175/175\u001b[0m \u001b[32m━━━━━━━━━━━━━━━━━━━━\u001b[0m\u001b[37m\u001b[0m \u001b[1m1s\u001b[0m 4ms/step - accuracy: 0.8698 - loss: 0.6445 - val_accuracy: 0.8573 - val_loss: 0.6897\n",
      "Epoch 9/50\n",
      "\u001b[1m175/175\u001b[0m \u001b[32m━━━━━━━━━━━━━━━━━━━━\u001b[0m\u001b[37m\u001b[0m \u001b[1m1s\u001b[0m 4ms/step - accuracy: 0.8669 - loss: 0.6499 - val_accuracy: 0.8548 - val_loss: 0.6951\n",
      "Epoch 10/50\n",
      "\u001b[1m175/175\u001b[0m \u001b[32m━━━━━━━━━━━━━━━━━━━━\u001b[0m\u001b[37m\u001b[0m \u001b[1m1s\u001b[0m 4ms/step - accuracy: 0.8595 - loss: 0.6787 - val_accuracy: 0.8561 - val_loss: 0.6903\n",
      "Epoch 11/50\n",
      "\u001b[1m175/175\u001b[0m \u001b[32m━━━━━━━━━━━━━━━━━━━━\u001b[0m\u001b[37m\u001b[0m \u001b[1m1s\u001b[0m 4ms/step - accuracy: 0.8665 - loss: 0.6533 - val_accuracy: 0.8586 - val_loss: 0.6878\n",
      "Epoch 12/50\n",
      "\u001b[1m175/175\u001b[0m \u001b[32m━━━━━━━━━━━━━━━━━━━━\u001b[0m\u001b[37m\u001b[0m \u001b[1m1s\u001b[0m 4ms/step - accuracy: 0.8727 - loss: 0.6319 - val_accuracy: 0.8573 - val_loss: 0.6931\n",
      "Epoch 13/50\n",
      "\u001b[1m175/175\u001b[0m \u001b[32m━━━━━━━━━━━━━━━━━━━━\u001b[0m\u001b[37m\u001b[0m \u001b[1m1s\u001b[0m 4ms/step - accuracy: 0.8680 - loss: 0.6581 - val_accuracy: 0.8586 - val_loss: 0.6886\n",
      "Epoch 14/50\n",
      "\u001b[1m175/175\u001b[0m \u001b[32m━━━━━━━━━━━━━━━━━━━━\u001b[0m\u001b[37m\u001b[0m \u001b[1m1s\u001b[0m 4ms/step - accuracy: 0.8623 - loss: 0.6749 - val_accuracy: 0.8561 - val_loss: 0.6921\n",
      "Epoch 15/50\n",
      "\u001b[1m175/175\u001b[0m \u001b[32m━━━━━━━━━━━━━━━━━━━━\u001b[0m\u001b[37m\u001b[0m \u001b[1m1s\u001b[0m 4ms/step - accuracy: 0.8643 - loss: 0.6560 - val_accuracy: 0.8573 - val_loss: 0.6869\n",
      "Epoch 16/50\n",
      "\u001b[1m175/175\u001b[0m \u001b[32m━━━━━━━━━━━━━━━━━━━━\u001b[0m\u001b[37m\u001b[0m \u001b[1m1s\u001b[0m 4ms/step - accuracy: 0.8731 - loss: 0.6239 - val_accuracy: 0.8598 - val_loss: 0.6806\n",
      "Epoch 17/50\n",
      "\u001b[1m175/175\u001b[0m \u001b[32m━━━━━━━━━━━━━━━━━━━━\u001b[0m\u001b[37m\u001b[0m \u001b[1m1s\u001b[0m 4ms/step - accuracy: 0.8717 - loss: 0.6215 - val_accuracy: 0.8586 - val_loss: 0.6865\n",
      "Epoch 18/50\n",
      "\u001b[1m175/175\u001b[0m \u001b[32m━━━━━━━━━━━━━━━━━━━━\u001b[0m\u001b[37m\u001b[0m \u001b[1m1s\u001b[0m 5ms/step - accuracy: 0.8638 - loss: 0.6520 - val_accuracy: 0.8586 - val_loss: 0.7012\n",
      "Epoch 19/50\n",
      "\u001b[1m175/175\u001b[0m \u001b[32m━━━━━━━━━━━━━━━━━━━━\u001b[0m\u001b[37m\u001b[0m \u001b[1m1s\u001b[0m 4ms/step - accuracy: 0.8601 - loss: 0.6845 - val_accuracy: 0.8598 - val_loss: 0.6746\n",
      "Epoch 20/50\n",
      "\u001b[1m175/175\u001b[0m \u001b[32m━━━━━━━━━━━━━━━━━━━━\u001b[0m\u001b[37m\u001b[0m \u001b[1m1s\u001b[0m 4ms/step - accuracy: 0.8644 - loss: 0.6479 - val_accuracy: 0.8573 - val_loss: 0.6919\n",
      "Epoch 21/50\n",
      "\u001b[1m175/175\u001b[0m \u001b[32m━━━━━━━━━━━━━━━━━━━━\u001b[0m\u001b[37m\u001b[0m \u001b[1m1s\u001b[0m 4ms/step - accuracy: 0.8460 - loss: 0.7022 - val_accuracy: 0.8220 - val_loss: 0.7852\n",
      "Epoch 22/50\n",
      "\u001b[1m175/175\u001b[0m \u001b[32m━━━━━━━━━━━━━━━━━━━━\u001b[0m\u001b[37m\u001b[0m \u001b[1m1s\u001b[0m 4ms/step - accuracy: 0.8173 - loss: 0.7818 - val_accuracy: 0.8194 - val_loss: 0.7882\n",
      "Epoch 23/50\n",
      "\u001b[1m175/175\u001b[0m \u001b[32m━━━━━━━━━━━━━━━━━━━━\u001b[0m\u001b[37m\u001b[0m \u001b[1m1s\u001b[0m 4ms/step - accuracy: 0.8032 - loss: 0.8179 - val_accuracy: 0.8207 - val_loss: 0.7884\n",
      "Epoch 24/50\n",
      "\u001b[1m175/175\u001b[0m \u001b[32m━━━━━━━━━━━━━━━━━━━━\u001b[0m\u001b[37m\u001b[0m \u001b[1m1s\u001b[0m 4ms/step - accuracy: 0.8037 - loss: 0.8115 - val_accuracy: 0.8194 - val_loss: 0.7933\n",
      "Epoch 25/50\n",
      "\u001b[1m175/175\u001b[0m \u001b[32m━━━━━━━━━━━━━━━━━━━━\u001b[0m\u001b[37m\u001b[0m \u001b[1m1s\u001b[0m 4ms/step - accuracy: 0.8047 - loss: 0.8139 - val_accuracy: 0.8194 - val_loss: 0.7846\n",
      "Epoch 26/50\n",
      "\u001b[1m175/175\u001b[0m \u001b[32m━━━━━━━━━━━━━━━━━━━━\u001b[0m\u001b[37m\u001b[0m \u001b[1m1s\u001b[0m 4ms/step - accuracy: 0.7967 - loss: 0.8268 - val_accuracy: 0.8220 - val_loss: 0.7954\n",
      "Epoch 27/50\n",
      "\u001b[1m175/175\u001b[0m \u001b[32m━━━━━━━━━━━━━━━━━━━━\u001b[0m\u001b[37m\u001b[0m \u001b[1m1s\u001b[0m 4ms/step - accuracy: 0.8149 - loss: 0.7903 - val_accuracy: 0.8194 - val_loss: 0.7853\n",
      "Epoch 28/50\n",
      "\u001b[1m175/175\u001b[0m \u001b[32m━━━━━━━━━━━━━━━━━━━━\u001b[0m\u001b[37m\u001b[0m \u001b[1m1s\u001b[0m 4ms/step - accuracy: 0.8022 - loss: 0.8130 - val_accuracy: 0.8182 - val_loss: 0.7793\n",
      "Epoch 29/50\n",
      "\u001b[1m175/175\u001b[0m \u001b[32m━━━━━━━━━━━━━━━━━━━━\u001b[0m\u001b[37m\u001b[0m \u001b[1m1s\u001b[0m 4ms/step - accuracy: 0.7954 - loss: 0.8255 - val_accuracy: 0.8182 - val_loss: 0.7782\n",
      "Epoch 30/50\n",
      "\u001b[1m175/175\u001b[0m \u001b[32m━━━━━━━━━━━━━━━━━━━━\u001b[0m\u001b[37m\u001b[0m \u001b[1m1s\u001b[0m 4ms/step - accuracy: 0.8062 - loss: 0.8076 - val_accuracy: 0.8182 - val_loss: 0.7776\n",
      "Epoch 31/50\n",
      "\u001b[1m175/175\u001b[0m \u001b[32m━━━━━━━━━━━━━━━━━━━━\u001b[0m\u001b[37m\u001b[0m \u001b[1m1s\u001b[0m 4ms/step - accuracy: 0.8101 - loss: 0.7931 - val_accuracy: 0.8194 - val_loss: 0.7764\n",
      "Epoch 32/50\n",
      "\u001b[1m175/175\u001b[0m \u001b[32m━━━━━━━━━━━━━━━━━━━━\u001b[0m\u001b[37m\u001b[0m \u001b[1m1s\u001b[0m 4ms/step - accuracy: 0.8047 - loss: 0.8097 - val_accuracy: 0.8194 - val_loss: 0.7784\n",
      "Epoch 33/50\n",
      "\u001b[1m175/175\u001b[0m \u001b[32m━━━━━━━━━━━━━━━━━━━━\u001b[0m\u001b[37m\u001b[0m \u001b[1m1s\u001b[0m 4ms/step - accuracy: 0.8023 - loss: 0.8220 - val_accuracy: 0.8194 - val_loss: 0.7785\n",
      "Epoch 34/50\n",
      "\u001b[1m175/175\u001b[0m \u001b[32m━━━━━━━━━━━━━━━━━━━━\u001b[0m\u001b[37m\u001b[0m \u001b[1m1s\u001b[0m 4ms/step - accuracy: 0.8088 - loss: 0.7987 - val_accuracy: 0.8194 - val_loss: 0.7879\n",
      "Epoch 35/50\n",
      "\u001b[1m175/175\u001b[0m \u001b[32m━━━━━━━━━━━━━━━━━━━━\u001b[0m\u001b[37m\u001b[0m \u001b[1m1s\u001b[0m 4ms/step - accuracy: 0.8047 - loss: 0.8122 - val_accuracy: 0.8194 - val_loss: 0.7771\n",
      "Epoch 36/50\n",
      "\u001b[1m175/175\u001b[0m \u001b[32m━━━━━━━━━━━━━━━━━━━━\u001b[0m\u001b[37m\u001b[0m \u001b[1m1s\u001b[0m 4ms/step - accuracy: 0.8011 - loss: 0.8181 - val_accuracy: 0.8194 - val_loss: 0.7858\n",
      "Epoch 37/50\n",
      "\u001b[1m175/175\u001b[0m \u001b[32m━━━━━━━━━━━━━━━━━━━━\u001b[0m\u001b[37m\u001b[0m \u001b[1m1s\u001b[0m 4ms/step - accuracy: 0.8068 - loss: 0.8006 - val_accuracy: 0.8207 - val_loss: 0.7758\n",
      "Epoch 38/50\n",
      "\u001b[1m175/175\u001b[0m \u001b[32m━━━━━━━━━━━━━━━━━━━━\u001b[0m\u001b[37m\u001b[0m \u001b[1m1s\u001b[0m 4ms/step - accuracy: 0.8044 - loss: 0.8136 - val_accuracy: 0.8207 - val_loss: 0.7841\n",
      "Epoch 39/50\n",
      "\u001b[1m175/175\u001b[0m \u001b[32m━━━━━━━━━━━━━━━━━━━━\u001b[0m\u001b[37m\u001b[0m \u001b[1m1s\u001b[0m 4ms/step - accuracy: 0.8050 - loss: 0.8069 - val_accuracy: 0.8194 - val_loss: 0.7747\n",
      "Epoch 40/50\n",
      "\u001b[1m175/175\u001b[0m \u001b[32m━━━━━━━━━━━━━━━━━━━━\u001b[0m\u001b[37m\u001b[0m \u001b[1m1s\u001b[0m 4ms/step - accuracy: 0.8059 - loss: 0.8141 - val_accuracy: 0.8194 - val_loss: 0.7816\n",
      "Epoch 41/50\n",
      "\u001b[1m175/175\u001b[0m \u001b[32m━━━━━━━━━━━━━━━━━━━━\u001b[0m\u001b[37m\u001b[0m \u001b[1m1s\u001b[0m 4ms/step - accuracy: 0.8095 - loss: 0.8010 - val_accuracy: 0.8194 - val_loss: 0.7805\n",
      "Epoch 42/50\n",
      "\u001b[1m175/175\u001b[0m \u001b[32m━━━━━━━━━━━━━━━━━━━━\u001b[0m\u001b[37m\u001b[0m \u001b[1m1s\u001b[0m 4ms/step - accuracy: 0.8153 - loss: 0.7847 - val_accuracy: 0.8194 - val_loss: 0.7826\n",
      "Epoch 43/50\n",
      "\u001b[1m175/175\u001b[0m \u001b[32m━━━━━━━━━━━━━━━━━━━━\u001b[0m\u001b[37m\u001b[0m \u001b[1m1s\u001b[0m 5ms/step - accuracy: 0.8079 - loss: 0.8059 - val_accuracy: 0.8194 - val_loss: 0.7879\n",
      "Epoch 44/50\n",
      "\u001b[1m175/175\u001b[0m \u001b[32m━━━━━━━━━━━━━━━━━━━━\u001b[0m\u001b[37m\u001b[0m \u001b[1m1s\u001b[0m 5ms/step - accuracy: 0.8058 - loss: 0.8038 - val_accuracy: 0.8207 - val_loss: 0.7711\n",
      "Epoch 45/50\n",
      "\u001b[1m175/175\u001b[0m \u001b[32m━━━━━━━━━━━━━━━━━━━━\u001b[0m\u001b[37m\u001b[0m \u001b[1m1s\u001b[0m 4ms/step - accuracy: 0.8014 - loss: 0.8113 - val_accuracy: 0.8207 - val_loss: 0.7787\n",
      "Epoch 46/50\n",
      "\u001b[1m175/175\u001b[0m \u001b[32m━━━━━━━━━━━━━━━━━━━━\u001b[0m\u001b[37m\u001b[0m \u001b[1m1s\u001b[0m 4ms/step - accuracy: 0.7191 - loss: 0.9856 - val_accuracy: 0.5985 - val_loss: 1.2299\n",
      "Epoch 47/50\n",
      "\u001b[1m175/175\u001b[0m \u001b[32m━━━━━━━━━━━━━━━━━━━━\u001b[0m\u001b[37m\u001b[0m \u001b[1m1s\u001b[0m 4ms/step - accuracy: 0.5795 - loss: 1.2317 - val_accuracy: 0.5934 - val_loss: 1.2307\n",
      "Epoch 48/50\n",
      "\u001b[1m175/175\u001b[0m \u001b[32m━━━━━━━━━━━━━━━━━━━━\u001b[0m\u001b[37m\u001b[0m \u001b[1m1s\u001b[0m 4ms/step - accuracy: 0.6475 - loss: 1.1526 - val_accuracy: 0.8207 - val_loss: 0.8405\n",
      "Epoch 49/50\n",
      "\u001b[1m175/175\u001b[0m \u001b[32m━━━━━━━━━━━━━━━━━━━━\u001b[0m\u001b[37m\u001b[0m \u001b[1m1s\u001b[0m 4ms/step - accuracy: 0.8050 - loss: 0.8623 - val_accuracy: 0.8106 - val_loss: 0.8486\n",
      "Epoch 50/50\n",
      "\u001b[1m175/175\u001b[0m \u001b[32m━━━━━━━━━━━━━━━━━━━━\u001b[0m\u001b[37m\u001b[0m \u001b[1m1s\u001b[0m 4ms/step - accuracy: 0.8060 - loss: 0.8309 - val_accuracy: 0.7374 - val_loss: 0.9879\n"
     ]
    }
   ],
   "source": [
    "# Train the model\n",
    "history = model.fit(X_train_reshaped, y_train, epochs=50,  validation_data=(X_val_reshaped, y_val))"
   ]
  },
  {
   "cell_type": "code",
   "execution_count": 15,
   "id": "98f02009",
   "metadata": {
    "execution": {
     "iopub.execute_input": "2024-06-30T20:55:24.565367Z",
     "iopub.status.busy": "2024-06-30T20:55:24.564974Z",
     "iopub.status.idle": "2024-06-30T20:55:24.569739Z",
     "shell.execute_reply": "2024-06-30T20:55:24.568591Z"
    },
    "papermill": {
     "duration": 0.098301,
     "end_time": "2024-06-30T20:55:24.572021",
     "exception": false,
     "start_time": "2024-06-30T20:55:24.473720",
     "status": "completed"
    },
    "tags": []
   },
   "outputs": [],
   "source": [
    "# Train the model\n",
    "#history = model.fit(X_train_reshaped, y_train, epochs=50, validation_data=(X_val_reshaped, y_val))"
   ]
  },
  {
   "cell_type": "code",
   "execution_count": 16,
   "id": "566f9b40",
   "metadata": {
    "execution": {
     "iopub.execute_input": "2024-06-30T20:55:24.754326Z",
     "iopub.status.busy": "2024-06-30T20:55:24.753893Z",
     "iopub.status.idle": "2024-06-30T20:55:24.778386Z",
     "shell.execute_reply": "2024-06-30T20:55:24.777278Z"
    },
    "papermill": {
     "duration": 0.117935,
     "end_time": "2024-06-30T20:55:24.780598",
     "exception": false,
     "start_time": "2024-06-30T20:55:24.662663",
     "status": "completed"
    },
    "tags": []
   },
   "outputs": [
    {
     "data": {
      "text/html": [
       "<pre style=\"white-space:pre;overflow-x:auto;line-height:normal;font-family:Menlo,'DejaVu Sans Mono',consolas,'Courier New',monospace\"><span style=\"font-weight: bold\">Model: \"sequential\"</span>\n",
       "</pre>\n"
      ],
      "text/plain": [
       "\u001b[1mModel: \"sequential\"\u001b[0m\n"
      ]
     },
     "metadata": {},
     "output_type": "display_data"
    },
    {
     "data": {
      "text/html": [
       "<pre style=\"white-space:pre;overflow-x:auto;line-height:normal;font-family:Menlo,'DejaVu Sans Mono',consolas,'Courier New',monospace\">┏━━━━━━━━━━━━━━━━━━━━━━━━━━━━━━━━━┳━━━━━━━━━━━━━━━━━━━━━━━━┳━━━━━━━━━━━━━━━┓\n",
       "┃<span style=\"font-weight: bold\"> Layer (type)                    </span>┃<span style=\"font-weight: bold\"> Output Shape           </span>┃<span style=\"font-weight: bold\">       Param # </span>┃\n",
       "┡━━━━━━━━━━━━━━━━━━━━━━━━━━━━━━━━━╇━━━━━━━━━━━━━━━━━━━━━━━━╇━━━━━━━━━━━━━━━┩\n",
       "│ lstm (<span style=\"color: #0087ff; text-decoration-color: #0087ff\">LSTM</span>)                     │ (<span style=\"color: #00d7ff; text-decoration-color: #00d7ff\">None</span>, <span style=\"color: #00af00; text-decoration-color: #00af00\">1</span>, <span style=\"color: #00af00; text-decoration-color: #00af00\">50</span>)          │        <span style=\"color: #00af00; text-decoration-color: #00af00\">12,200</span> │\n",
       "├─────────────────────────────────┼────────────────────────┼───────────────┤\n",
       "│ lstm_1 (<span style=\"color: #0087ff; text-decoration-color: #0087ff\">LSTM</span>)                   │ (<span style=\"color: #00d7ff; text-decoration-color: #00d7ff\">None</span>, <span style=\"color: #00af00; text-decoration-color: #00af00\">50</span>)             │        <span style=\"color: #00af00; text-decoration-color: #00af00\">20,200</span> │\n",
       "├─────────────────────────────────┼────────────────────────┼───────────────┤\n",
       "│ dense (<span style=\"color: #0087ff; text-decoration-color: #0087ff\">Dense</span>)                   │ (<span style=\"color: #00d7ff; text-decoration-color: #00d7ff\">None</span>, <span style=\"color: #00af00; text-decoration-color: #00af00\">1</span>)              │            <span style=\"color: #00af00; text-decoration-color: #00af00\">51</span> │\n",
       "└─────────────────────────────────┴────────────────────────┴───────────────┘\n",
       "</pre>\n"
      ],
      "text/plain": [
       "┏━━━━━━━━━━━━━━━━━━━━━━━━━━━━━━━━━┳━━━━━━━━━━━━━━━━━━━━━━━━┳━━━━━━━━━━━━━━━┓\n",
       "┃\u001b[1m \u001b[0m\u001b[1mLayer (type)                   \u001b[0m\u001b[1m \u001b[0m┃\u001b[1m \u001b[0m\u001b[1mOutput Shape          \u001b[0m\u001b[1m \u001b[0m┃\u001b[1m \u001b[0m\u001b[1m      Param #\u001b[0m\u001b[1m \u001b[0m┃\n",
       "┡━━━━━━━━━━━━━━━━━━━━━━━━━━━━━━━━━╇━━━━━━━━━━━━━━━━━━━━━━━━╇━━━━━━━━━━━━━━━┩\n",
       "│ lstm (\u001b[38;5;33mLSTM\u001b[0m)                     │ (\u001b[38;5;45mNone\u001b[0m, \u001b[38;5;34m1\u001b[0m, \u001b[38;5;34m50\u001b[0m)          │        \u001b[38;5;34m12,200\u001b[0m │\n",
       "├─────────────────────────────────┼────────────────────────┼───────────────┤\n",
       "│ lstm_1 (\u001b[38;5;33mLSTM\u001b[0m)                   │ (\u001b[38;5;45mNone\u001b[0m, \u001b[38;5;34m50\u001b[0m)             │        \u001b[38;5;34m20,200\u001b[0m │\n",
       "├─────────────────────────────────┼────────────────────────┼───────────────┤\n",
       "│ dense (\u001b[38;5;33mDense\u001b[0m)                   │ (\u001b[38;5;45mNone\u001b[0m, \u001b[38;5;34m1\u001b[0m)              │            \u001b[38;5;34m51\u001b[0m │\n",
       "└─────────────────────────────────┴────────────────────────┴───────────────┘\n"
      ]
     },
     "metadata": {},
     "output_type": "display_data"
    },
    {
     "data": {
      "text/html": [
       "<pre style=\"white-space:pre;overflow-x:auto;line-height:normal;font-family:Menlo,'DejaVu Sans Mono',consolas,'Courier New',monospace\"><span style=\"font-weight: bold\"> Total params: </span><span style=\"color: #00af00; text-decoration-color: #00af00\">97,355</span> (380.30 KB)\n",
       "</pre>\n"
      ],
      "text/plain": [
       "\u001b[1m Total params: \u001b[0m\u001b[38;5;34m97,355\u001b[0m (380.30 KB)\n"
      ]
     },
     "metadata": {},
     "output_type": "display_data"
    },
    {
     "data": {
      "text/html": [
       "<pre style=\"white-space:pre;overflow-x:auto;line-height:normal;font-family:Menlo,'DejaVu Sans Mono',consolas,'Courier New',monospace\"><span style=\"font-weight: bold\"> Trainable params: </span><span style=\"color: #00af00; text-decoration-color: #00af00\">32,451</span> (126.76 KB)\n",
       "</pre>\n"
      ],
      "text/plain": [
       "\u001b[1m Trainable params: \u001b[0m\u001b[38;5;34m32,451\u001b[0m (126.76 KB)\n"
      ]
     },
     "metadata": {},
     "output_type": "display_data"
    },
    {
     "data": {
      "text/html": [
       "<pre style=\"white-space:pre;overflow-x:auto;line-height:normal;font-family:Menlo,'DejaVu Sans Mono',consolas,'Courier New',monospace\"><span style=\"font-weight: bold\"> Non-trainable params: </span><span style=\"color: #00af00; text-decoration-color: #00af00\">0</span> (0.00 B)\n",
       "</pre>\n"
      ],
      "text/plain": [
       "\u001b[1m Non-trainable params: \u001b[0m\u001b[38;5;34m0\u001b[0m (0.00 B)\n"
      ]
     },
     "metadata": {},
     "output_type": "display_data"
    },
    {
     "data": {
      "text/html": [
       "<pre style=\"white-space:pre;overflow-x:auto;line-height:normal;font-family:Menlo,'DejaVu Sans Mono',consolas,'Courier New',monospace\"><span style=\"font-weight: bold\"> Optimizer params: </span><span style=\"color: #00af00; text-decoration-color: #00af00\">64,904</span> (253.54 KB)\n",
       "</pre>\n"
      ],
      "text/plain": [
       "\u001b[1m Optimizer params: \u001b[0m\u001b[38;5;34m64,904\u001b[0m (253.54 KB)\n"
      ]
     },
     "metadata": {},
     "output_type": "display_data"
    }
   ],
   "source": [
    "model.summary()"
   ]
  },
  {
   "cell_type": "code",
   "execution_count": 17,
   "id": "8d798395",
   "metadata": {
    "execution": {
     "iopub.execute_input": "2024-06-30T20:55:25.022998Z",
     "iopub.status.busy": "2024-06-30T20:55:25.022581Z",
     "iopub.status.idle": "2024-06-30T20:55:25.208393Z",
     "shell.execute_reply": "2024-06-30T20:55:25.207021Z"
    },
    "papermill": {
     "duration": 0.340369,
     "end_time": "2024-06-30T20:55:25.211008",
     "exception": false,
     "start_time": "2024-06-30T20:55:24.870639",
     "status": "completed"
    },
    "tags": []
   },
   "outputs": [
    {
     "name": "stdout",
     "output_type": "stream",
     "text": [
      "\u001b[1m51/51\u001b[0m \u001b[32m━━━━━━━━━━━━━━━━━━━━\u001b[0m\u001b[37m\u001b[0m \u001b[1m0s\u001b[0m 2ms/step - accuracy: 0.7204 - loss: 0.9977\n",
      "Test Accuracy: 0.7276119589805603\n"
     ]
    }
   ],
   "source": [
    "# Evaluate the model\n",
    "test_loss, test_acc = model.evaluate(X_test_reshaped, y_test)\n",
    "print(\"Test Accuracy:\", test_acc)"
   ]
  },
  {
   "cell_type": "code",
   "execution_count": 18,
   "id": "e4157a50",
   "metadata": {
    "execution": {
     "iopub.execute_input": "2024-06-30T20:55:25.395067Z",
     "iopub.status.busy": "2024-06-30T20:55:25.394179Z",
     "iopub.status.idle": "2024-06-30T20:55:26.137131Z",
     "shell.execute_reply": "2024-06-30T20:55:26.136025Z"
    },
    "papermill": {
     "duration": 0.838174,
     "end_time": "2024-06-30T20:55:26.139856",
     "exception": false,
     "start_time": "2024-06-30T20:55:25.301682",
     "status": "completed"
    },
    "tags": []
   },
   "outputs": [
    {
     "name": "stdout",
     "output_type": "stream",
     "text": [
      "\u001b[1m51/51\u001b[0m \u001b[32m━━━━━━━━━━━━━━━━━━━━\u001b[0m\u001b[37m\u001b[0m \u001b[1m1s\u001b[0m 7ms/step\n"
     ]
    }
   ],
   "source": [
    "# Making predictions\n",
    "predictions = model.predict(X_test_reshaped)\n",
    "binary_predictions = (predictions > 0.5).astype(int)"
   ]
  },
  {
   "cell_type": "code",
   "execution_count": 19,
   "id": "4cbf0ee7",
   "metadata": {
    "execution": {
     "iopub.execute_input": "2024-06-30T20:55:26.328177Z",
     "iopub.status.busy": "2024-06-30T20:55:26.327764Z",
     "iopub.status.idle": "2024-06-30T20:55:26.338188Z",
     "shell.execute_reply": "2024-06-30T20:55:26.337074Z"
    },
    "papermill": {
     "duration": 0.108463,
     "end_time": "2024-06-30T20:55:26.340830",
     "exception": false,
     "start_time": "2024-06-30T20:55:26.232367",
     "status": "completed"
    },
    "tags": []
   },
   "outputs": [],
   "source": [
    "import pandas as pd\n",
    "\n",
    "# Assuming 'predictions' are in the format returned by model.predict() and are probabilities\n",
    "# Flatten the predictions array and round them off for better readability\n",
    "predicted_probs = predictions.flatten().round(2)\n",
    "\n",
    "# Create a DataFrame from the test set features\n",
    "test_features = pd.DataFrame(X_test_reshaped.reshape(X_test_reshaped.shape[0], n_features), columns=X_test.columns)\n",
    "\n",
    "# Add the predictions and the actual labels to the DataFrame\n",
    "test_features['Predicted Probability'] = predicted_probs\n",
    "test_features['Actual Label'] = y_test  \n",
    "\n",
    "# Sort the DataFrame by 'Predicted Probability' to get the top predictions\n",
    "test_features_sorted = test_features.sort_values(by='Predicted Probability', ascending=False)"
   ]
  },
  {
   "cell_type": "code",
   "execution_count": 20,
   "id": "7b445eab",
   "metadata": {
    "execution": {
     "iopub.execute_input": "2024-06-30T20:55:26.528347Z",
     "iopub.status.busy": "2024-06-30T20:55:26.527880Z",
     "iopub.status.idle": "2024-06-30T20:55:26.539153Z",
     "shell.execute_reply": "2024-06-30T20:55:26.537920Z"
    },
    "papermill": {
     "duration": 0.109009,
     "end_time": "2024-06-30T20:55:26.541697",
     "exception": false,
     "start_time": "2024-06-30T20:55:26.432688",
     "status": "completed"
    },
    "tags": []
   },
   "outputs": [
    {
     "name": "stdout",
     "output_type": "stream",
     "text": [
      "      Months_after_giving_birth  IUFL  EUFL  IUFR  EUFR  IURL  EURL  IURR  \\\n",
      "1266                          3   234   278   233   279   302   353   238   \n",
      "249                           4   233   276   235   273   302   363   232   \n",
      "472                           4   158   185   333   389   151   190   155   \n",
      "1399                          3   312   362   151   181   151   182   152   \n",
      "1252                          2   234   273   243   279   305   357   234   \n",
      "\n",
      "      EURR  Temperature  Predicted Probability  Actual Label  \n",
      "1266   277           43                    1.0             1  \n",
      "249    270           43                    1.0             1  \n",
      "472    189           45                    1.0             1  \n",
      "1399   181           52                    1.0             1  \n",
      "1252   277           48                    1.0             1  \n"
     ]
    }
   ],
   "source": [
    "# Display the top 5 predictions\n",
    "top_5_predictions = test_features_sorted.head(5)\n",
    "print(top_5_predictions)"
   ]
  },
  {
   "cell_type": "code",
   "execution_count": 21,
   "id": "d176f5f3",
   "metadata": {
    "execution": {
     "iopub.execute_input": "2024-06-30T20:55:26.730172Z",
     "iopub.status.busy": "2024-06-30T20:55:26.729731Z",
     "iopub.status.idle": "2024-06-30T20:55:26.744317Z",
     "shell.execute_reply": "2024-06-30T20:55:26.743244Z"
    },
    "papermill": {
     "duration": 0.111361,
     "end_time": "2024-06-30T20:55:26.746688",
     "exception": false,
     "start_time": "2024-06-30T20:55:26.635327",
     "status": "completed"
    },
    "tags": []
   },
   "outputs": [
    {
     "data": {
      "text/plain": [
       "<bound method DataFrame.info of       Months_after_giving_birth  IUFL  EUFL  IUFR  EUFR  IURL  EURL  IURR  \\\n",
       "1266                          3   234   278   233   279   302   353   238   \n",
       "249                           4   233   276   235   273   302   363   232   \n",
       "472                           4   158   185   333   389   151   190   155   \n",
       "1399                          3   312   362   151   181   151   182   152   \n",
       "1252                          2   234   273   243   279   305   357   234   \n",
       "\n",
       "      EURR  Temperature  Predicted Probability  Actual Label  \n",
       "1266   277           43                    1.0             1  \n",
       "249    270           43                    1.0             1  \n",
       "472    189           45                    1.0             1  \n",
       "1399   181           52                    1.0             1  \n",
       "1252   277           48                    1.0             1  >"
      ]
     },
     "execution_count": 21,
     "metadata": {},
     "output_type": "execute_result"
    }
   ],
   "source": [
    "top_5_predictions.to_csv(\"top_5_predictions_v1.0.csv\", index=False)\n",
    "top_5_predictions.info"
   ]
  },
  {
   "cell_type": "code",
   "execution_count": 22,
   "id": "fa1b4161",
   "metadata": {
    "execution": {
     "iopub.execute_input": "2024-06-30T20:55:26.933987Z",
     "iopub.status.busy": "2024-06-30T20:55:26.933580Z",
     "iopub.status.idle": "2024-06-30T20:55:26.939157Z",
     "shell.execute_reply": "2024-06-30T20:55:26.938074Z"
    },
    "papermill": {
     "duration": 0.101281,
     "end_time": "2024-06-30T20:55:26.941476",
     "exception": false,
     "start_time": "2024-06-30T20:55:26.840195",
     "status": "completed"
    },
    "tags": []
   },
   "outputs": [],
   "source": [
    "# Convert probabilities to binary predictions\n",
    "threshold = 0.5\n",
    "binary_predictions = (predictions > threshold).astype(int)"
   ]
  },
  {
   "cell_type": "code",
   "execution_count": 23,
   "id": "9485d441",
   "metadata": {
    "execution": {
     "iopub.execute_input": "2024-06-30T20:55:27.130266Z",
     "iopub.status.busy": "2024-06-30T20:55:27.129868Z",
     "iopub.status.idle": "2024-06-30T20:55:27.137149Z",
     "shell.execute_reply": "2024-06-30T20:55:27.136096Z"
    },
    "papermill": {
     "duration": 0.102988,
     "end_time": "2024-06-30T20:55:27.139691",
     "exception": false,
     "start_time": "2024-06-30T20:55:27.036703",
     "status": "completed"
    },
    "tags": []
   },
   "outputs": [],
   "source": [
    "from sklearn.metrics import confusion_matrix\n",
    "\n",
    "# Generate the confusion matrix\n",
    "conf_matrix = confusion_matrix(y_test, binary_predictions)"
   ]
  },
  {
   "cell_type": "code",
   "execution_count": 24,
   "id": "e8cc2bc7",
   "metadata": {
    "execution": {
     "iopub.execute_input": "2024-06-30T20:55:27.325530Z",
     "iopub.status.busy": "2024-06-30T20:55:27.325126Z",
     "iopub.status.idle": "2024-06-30T20:55:27.886538Z",
     "shell.execute_reply": "2024-06-30T20:55:27.885361Z"
    },
    "papermill": {
     "duration": 0.657696,
     "end_time": "2024-06-30T20:55:27.889035",
     "exception": false,
     "start_time": "2024-06-30T20:55:27.231339",
     "status": "completed"
    },
    "tags": []
   },
   "outputs": [
    {
     "data": {
      "image/png": "[encoded data removed]",
      "text/plain": [
       "<Figure size 1200x400 with 2 Axes>"
      ]
     },
     "metadata": {},
     "output_type": "display_data"
    }
   ],
   "source": [
    "# Plot training & validation loss values\n",
    "plt.figure(figsize=(12, 4))\n",
    "plt.subplot(1, 2, 1)\n",
    "plt.plot(history.history['loss'], label='Train Loss')\n",
    "plt.plot(history.history['val_loss'], label='Validation Loss')\n",
    "plt.title('Model Loss Over Epochs')\n",
    "plt.xlabel('Epoch')\n",
    "plt.ylabel('Loss')\n",
    "plt.legend(loc='upper right')\n",
    "\n",
    "# Plot training & validation accuracy values\n",
    "plt.subplot(1, 2, 2)\n",
    "plt.plot(history.history['accuracy'], label='Train Accuracy')\n",
    "plt.plot(history.history['val_accuracy'], label='Validation Accuracy')\n",
    "plt.title('Model Accuracy Over Epochs')\n",
    "plt.xlabel('Epoch')\n",
    "plt.ylabel('Accuracy')\n",
    "plt.legend(loc='lower right')\n",
    "\n",
    "plt.tight_layout()\n",
    "plt.show()\n"
   ]
  },
  {
   "cell_type": "code",
   "execution_count": 25,
   "id": "b86a93b5",
   "metadata": {
    "execution": {
     "iopub.execute_input": "2024-06-30T20:55:28.079129Z",
     "iopub.status.busy": "2024-06-30T20:55:28.078670Z",
     "iopub.status.idle": "2024-06-30T20:55:28.613579Z",
     "shell.execute_reply": "2024-06-30T20:55:28.612423Z"
    },
    "papermill": {
     "duration": 0.633562,
     "end_time": "2024-06-30T20:55:28.615989",
     "exception": false,
     "start_time": "2024-06-30T20:55:27.982427",
     "status": "completed"
    },
    "tags": []
   },
   "outputs": [
    {
     "data": {
      "image/png": "[encoded data removed]",
      "text/plain": [
       "<Figure size 800x600 with 2 Axes>"
      ]
     },
     "metadata": {},
     "output_type": "display_data"
    }
   ],
   "source": [
    "import matplotlib.pyplot as plt\n",
    "import seaborn as sns\n",
    "\n",
    "# Define the labels for the confusion matrix (adjust labels for your specific case)\n",
    "labels = ['Negative', 'Positive']\n",
    "\n",
    "# Create a heatmap from the confusion matrix\n",
    "plt.figure(figsize=(8, 6))\n",
    "sns.heatmap(conf_matrix, annot=True, fmt='d', cmap=\"Blues\", xticklabels=labels, yticklabels=labels)\n",
    "plt.title('Confusion Matrix')\n",
    "plt.ylabel('Actual Class')\n",
    "plt.xlabel('Predicted Class')\n",
    "plt.show()"
   ]
  },
  {
   "cell_type": "code",
   "execution_count": 26,
   "id": "d86c74d2",
   "metadata": {
    "execution": {
     "iopub.execute_input": "2024-06-30T20:55:28.811431Z",
     "iopub.status.busy": "2024-06-30T20:55:28.811000Z",
     "iopub.status.idle": "2024-06-30T20:55:28.829698Z",
     "shell.execute_reply": "2024-06-30T20:55:28.828107Z"
    },
    "papermill": {
     "duration": 0.119068,
     "end_time": "2024-06-30T20:55:28.833714",
     "exception": false,
     "start_time": "2024-06-30T20:55:28.714646",
     "status": "completed"
    },
    "tags": []
   },
   "outputs": [
    {
     "name": "stdout",
     "output_type": "stream",
     "text": [
      "Accuracy: 0.7276119402985075\n",
      "Precision: 1.0\n",
      "Recall: 0.456575682382134\n",
      "F1 Score: 0.626916524701874\n"
     ]
    }
   ],
   "source": [
    "from sklearn.metrics import accuracy_score, precision_score, recall_score, f1_score\n",
    "\n",
    "# Calculate metrics\n",
    "accuracy = accuracy_score(y_test, binary_predictions)\n",
    "precision = precision_score(y_test, binary_predictions)\n",
    "recall = recall_score(y_test, binary_predictions)\n",
    "f1 = f1_score(y_test, binary_predictions)\n",
    "\n",
    "# Print metrics\n",
    "print(\"Accuracy:\", accuracy)\n",
    "print(\"Precision:\", precision)\n",
    "print(\"Recall:\", recall)\n",
    "print(\"F1 Score:\", f1)"
   ]
  },
  {
   "cell_type": "code",
   "execution_count": 27,
   "id": "fbacf46c",
   "metadata": {
    "execution": {
     "iopub.execute_input": "2024-06-30T20:55:29.044221Z",
     "iopub.status.busy": "2024-06-30T20:55:29.043805Z",
     "iopub.status.idle": "2024-06-30T20:55:29.464272Z",
     "shell.execute_reply": "2024-06-30T20:55:29.463141Z"
    },
    "papermill": {
     "duration": 0.51947,
     "end_time": "2024-06-30T20:55:29.466819",
     "exception": false,
     "start_time": "2024-06-30T20:55:28.947349",
     "status": "completed"
    },
    "tags": []
   },
   "outputs": [
    {
     "name": "stdout",
     "output_type": "stream",
     "text": [
      "\u001b[1m51/51\u001b[0m \u001b[32m━━━━━━━━━━━━━━━━━━━━\u001b[0m\u001b[37m\u001b[0m \u001b[1m0s\u001b[0m 2ms/step\n"
     ]
    },
    {
     "data": {
      "image/png": "[encoded data removed]",
      "text/plain": [
       "<Figure size 640x480 with 1 Axes>"
      ]
     },
     "metadata": {},
     "output_type": "display_data"
    }
   ],
   "source": [
    "from sklearn.metrics import precision_recall_curve, average_precision_score\n",
    "\n",
    "# Predict probabilities\n",
    "y_pred_prob = model.predict(X_test_reshaped).ravel()\n",
    "# Compute precision-recall pairs for different probability thresholds\n",
    "precision, recall, thresholds = precision_recall_curve(y_test, y_pred_prob)\n",
    "\n",
    "# Compute average precision score\n",
    "average_precision = average_precision_score(y_test, y_pred_prob)\n",
    "\n",
    "# Plot the precision-recall curve\n",
    "plt.figure()\n",
    "plt.plot(recall, precision, color='b', lw=2, label=f'Precision-Recall curve (area = {average_precision:.2f})')\n",
    "plt.xlabel('Recall')\n",
    "plt.ylabel('Precision')\n",
    "plt.title('Precision-Recall Curve')\n",
    "plt.legend(loc='lower left')\n",
    "plt.show()"
   ]
  },
  {
   "cell_type": "code",
   "execution_count": 28,
   "id": "86b51c90",
   "metadata": {
    "execution": {
     "iopub.execute_input": "2024-06-30T20:55:29.661363Z",
     "iopub.status.busy": "2024-06-30T20:55:29.660901Z",
     "iopub.status.idle": "2024-06-30T20:55:29.997051Z",
     "shell.execute_reply": "2024-06-30T20:55:29.995924Z"
    },
    "papermill": {
     "duration": 0.435403,
     "end_time": "2024-06-30T20:55:29.999721",
     "exception": false,
     "start_time": "2024-06-30T20:55:29.564318",
     "status": "completed"
    },
    "tags": []
   },
   "outputs": [
    {
     "name": "stdout",
     "output_type": "stream",
     "text": [
      "True Negatives (TN): 802\n",
      "False Positives (FP): 0\n",
      "False Negatives (FN): 438\n",
      "True Positives (TP): 368\n"
     ]
    },
    {
     "data": {
      "image/png": "[encoded data removed]",
      "text/plain": [
       "<Figure size 800x600 with 2 Axes>"
      ]
     },
     "metadata": {},
     "output_type": "display_data"
    }
   ],
   "source": [
    "import numpy as np\n",
    "import matplotlib.pyplot as plt\n",
    "import seaborn as sns\n",
    "from sklearn.metrics import confusion_matrix\n",
    "\n",
    "# Assuming binary_predictions and y_test are already defined\n",
    "\n",
    "# Generate the confusion matrix\n",
    "conf_matrix = confusion_matrix(y_test, binary_predictions)\n",
    "\n",
    "# Extract TN, FP, FN, TP\n",
    "TN, FP, FN, TP = conf_matrix.ravel()\n",
    "\n",
    "# Print TN, FP, FN, TP\n",
    "print(f\"True Negatives (TN): {TN}\")\n",
    "print(f\"False Positives (FP): {FP}\")\n",
    "print(f\"False Negatives (FN): {FN}\")\n",
    "print(f\"True Positives (TP): {TP}\")\n",
    "\n",
    "# Optional: Visualize the confusion matrix\n",
    "plt.figure(figsize=(8, 6))\n",
    "sns.heatmap(conf_matrix, annot=True, fmt='d', cmap=\"Blues\", xticklabels=['Healthy', 'Mastitis'], yticklabels=['Healthy', 'Mastitis'])\n",
    "plt.title('Confusion Matrix')\n",
    "plt.ylabel('Actual Class')\n",
    "plt.xlabel('Predicted Class')\n",
    "plt.show()"
   ]
  },
  {
   "cell_type": "code",
   "execution_count": 29,
   "id": "5479e250",
   "metadata": {
    "execution": {
     "iopub.execute_input": "2024-06-30T20:55:30.193126Z",
     "iopub.status.busy": "2024-06-30T20:55:30.192702Z",
     "iopub.status.idle": "2024-06-30T20:55:30.624442Z",
     "shell.execute_reply": "2024-06-30T20:55:30.623236Z"
    },
    "papermill": {
     "duration": 0.531106,
     "end_time": "2024-06-30T20:55:30.626706",
     "exception": false,
     "start_time": "2024-06-30T20:55:30.095600",
     "status": "completed"
    },
    "tags": []
   },
   "outputs": [
    {
     "name": "stdout",
     "output_type": "stream",
     "text": [
      "\u001b[1m51/51\u001b[0m \u001b[32m━━━━━━━━━━━━━━━━━━━━\u001b[0m\u001b[37m\u001b[0m \u001b[1m0s\u001b[0m 2ms/step\n"
     ]
    },
    {
     "data": {
      "image/png": "[encoded data removed]",
      "text/plain": [
       "<Figure size 640x480 with 1 Axes>"
      ]
     },
     "metadata": {},
     "output_type": "display_data"
    }
   ],
   "source": [
    "from sklearn.metrics import roc_curve, auc\n",
    "\n",
    "# Predict probabilities\n",
    "y_pred_prob = model.predict(X_test_reshaped).ravel()\n",
    "\n",
    "# Compute ROC curve and ROC area\n",
    "fpr, tpr, thresholds = roc_curve(y_test, y_pred_prob)\n",
    "roc_auc = auc(fpr, tpr)\n",
    "\n",
    "# Plot ROC curve\n",
    "plt.figure()\n",
    "plt.plot(fpr, tpr, color='darkorange', lw=2, label=f'ROC curve (area = {roc_auc:.2f})')\n",
    "plt.plot([0, 1], [0, 1], color='navy', lw=2, linestyle='--')\n",
    "plt.xlim([0.0, 1.0])\n",
    "plt.ylim([0.0, 1.05])\n",
    "plt.xlabel('False Positive Rate')\n",
    "plt.ylabel('True Positive Rate')\n",
    "plt.title('Receiver Operating Characteristic (ROC) Curve')\n",
    "plt.legend(loc='lower right')\n",
    "plt.show()"
   ]
  },
  {
   "cell_type": "code",
   "execution_count": 30,
   "id": "db62bfb4",
   "metadata": {
    "execution": {
     "iopub.execute_input": "2024-06-30T20:55:30.822764Z",
     "iopub.status.busy": "2024-06-30T20:55:30.822206Z",
     "iopub.status.idle": "2024-06-30T20:55:30.861566Z",
     "shell.execute_reply": "2024-06-30T20:55:30.860614Z"
    },
    "papermill": {
     "duration": 0.140057,
     "end_time": "2024-06-30T20:55:30.864124",
     "exception": false,
     "start_time": "2024-06-30T20:55:30.724067",
     "status": "completed"
    },
    "tags": []
   },
   "outputs": [],
   "source": [
    "# Save the entire model\n",
    "model.save('lstm_model.h5')"
   ]
  }
 ],
 "metadata": {
  "kaggle": {
   "accelerator": "none",
   "dataSources": [
    {
     "databundleVersionId": 8979183,
     "datasetId": 5279900,
     "sourceId": 8821041,
     "sourceType": "datasetVersion"
    },
    {
     "databundleVersionId": 8985592,
     "datasetId": 5279788,
     "sourceId": 8827177,
     "sourceType": "datasetVersion"
    }
   ],
   "dockerImageVersionId": 30732,
   "isGpuEnabled": false,
   "isInternetEnabled": false,
   "language": "python",
   "sourceType": "notebook"
  },
  "kernelspec": {
   "display_name": "Python 3",
   "language": "python",
   "name": "python3"
  },
  "language_info": {
   "codemirror_mode": {
    "name": "ipython",
    "version": 3
   },
   "file_extension": ".py",
   "mimetype": "text/x-python",
   "name": "python",
   "nbconvert_exporter": "python",
   "pygments_lexer": "ipython3",
   "version": "3.10.13"
  },
  "papermill": {
   "default_parameters": {},
   "duration": 83.218952,
   "end_time": "2024-06-30T20:55:33.490729",
   "environment_variables": {},
   "exception": null,
   "input_path": "__notebook__.ipynb",
   "output_path": "__notebook__.ipynb",
   "parameters": {},
   "start_time": "2024-06-30T20:54:10.271777",
   "version": "2.5.0"
  }
 },
 "nbformat": 4,
 "nbformat_minor": 5
}
