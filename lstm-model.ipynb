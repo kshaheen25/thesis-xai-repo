{
 "cells": [
  {
   "cell_type": "code",
   "execution_count": 1,
   "id": "8dc816f4",
   "metadata": {
    "_cell_guid": "b1076dfc-b9ad-4769-8c92-a6c4dae69d19",
    "_uuid": "8f2839f25d086af736a60e9eeb907d3b93b6e0e5",
    "execution": {
     "iopub.execute_input": "2024-06-30T20:07:14.778567Z",
     "iopub.status.busy": "2024-06-30T20:07:14.778097Z",
     "iopub.status.idle": "2024-06-30T20:07:15.604581Z",
     "shell.execute_reply": "2024-06-30T20:07:15.603191Z"
    },
    "papermill": {
     "duration": 0.838311,
     "end_time": "2024-06-30T20:07:15.606990",
     "exception": false,
     "start_time": "2024-06-30T20:07:14.768679",
     "status": "completed"
    },
    "tags": []
   },
   "outputs": [
    {
     "name": "stdout",
     "output_type": "stream",
     "text": [
      "/kaggle/input/xai-dataset-2/clinical_mastitis_cows.csv\n",
      "/kaggle/input/test-cases/s3.UseCase.csv\n",
      "/kaggle/input/test-cases/S1. Curated Input.csv\n",
      "/kaggle/input/test-cases/S2. Example Input.csv\n",
      "/kaggle/input/test-cases/S4Example.csv\n"
     ]
    }
   ],
   "source": [
    "# This Python 3 environment comes with many helpful analytics libraries installed\n",
    "# It is defined by the kaggle/python Docker image: https://github.com/kaggle/docker-python\n",
    "# For example, here's several helpful packages to load\n",
    "\n",
    "import numpy as np # linear algebra\n",
    "import pandas as pd # data processing, CSV file I/O (e.g. pd.read_csv)\n",
    "\n",
    "# Input data files are available in the read-only \"../input/\" directory\n",
    "# For example, running this (by clicking run or pressing Shift+Enter) will list all files under the input directory\n",
    "\n",
    "import os\n",
    "for dirname, _, filenames in os.walk('/kaggle/input'):\n",
    "    for filename in filenames:\n",
    "        print(os.path.join(dirname, filename))\n",
    "\n",
    "# You can write up to 20GB to the current directory (/kaggle/working/) that gets preserved as output when you create a version using \"Save & Run All\" \n",
    "# You can also write temporary files to /kaggle/temp/, but they won't be saved outside of the current session"
   ]
  },
  {
   "cell_type": "code",
   "execution_count": 2,
   "id": "45101717",
   "metadata": {
    "execution": {
     "iopub.execute_input": "2024-06-30T20:07:15.623582Z",
     "iopub.status.busy": "2024-06-30T20:07:15.622772Z",
     "iopub.status.idle": "2024-06-30T20:07:35.194946Z",
     "shell.execute_reply": "2024-06-30T20:07:35.194008Z"
    },
    "papermill": {
     "duration": 19.583242,
     "end_time": "2024-06-30T20:07:35.197579",
     "exception": false,
     "start_time": "2024-06-30T20:07:15.614337",
     "status": "completed"
    },
    "tags": []
   },
   "outputs": [
    {
     "name": "stderr",
     "output_type": "stream",
     "text": [
      "2024-06-30 20:07:19.019176: E external/local_xla/xla/stream_executor/cuda/cuda_dnn.cc:9261] Unable to register cuDNN factory: Attempting to register factory for plugin cuDNN when one has already been registered\n",
      "2024-06-30 20:07:19.019372: E external/local_xla/xla/stream_executor/cuda/cuda_fft.cc:607] Unable to register cuFFT factory: Attempting to register factory for plugin cuFFT when one has already been registered\n",
      "2024-06-30 20:07:19.171332: E external/local_xla/xla/stream_executor/cuda/cuda_blas.cc:1515] Unable to register cuBLAS factory: Attempting to register factory for plugin cuBLAS when one has already been registered\n"
     ]
    }
   ],
   "source": [
    "# Import necessary libraries\n",
    "import pandas as pd\n",
    "from sklearn.preprocessing import LabelEncoder\n",
    "from sklearn.model_selection import train_test_split\n",
    "import numpy as np\n",
    "from tensorflow.keras.models import Sequential\n",
    "from tensorflow.keras.layers import LSTM, Dense\n",
    "import shap"
   ]
  },
  {
   "cell_type": "code",
   "execution_count": 3,
   "id": "4d08eb73",
   "metadata": {
    "execution": {
     "iopub.execute_input": "2024-06-30T20:07:35.214175Z",
     "iopub.status.busy": "2024-06-30T20:07:35.213504Z",
     "iopub.status.idle": "2024-06-30T20:07:35.254736Z",
     "shell.execute_reply": "2024-06-30T20:07:35.253852Z"
    },
    "papermill": {
     "duration": 0.052096,
     "end_time": "2024-06-30T20:07:35.257155",
     "exception": false,
     "start_time": "2024-06-30T20:07:35.205059",
     "status": "completed"
    },
    "tags": []
   },
   "outputs": [],
   "source": [
    "# Load the dataset\n",
    "file_path = \"/kaggle/input/test-cases/S1. Curated Input.csv\"  # Update with the correct path\n",
    "df = pd.read_csv(file_path)"
   ]
  },
  {
   "cell_type": "code",
   "execution_count": 4,
   "id": "416fe3df",
   "metadata": {
    "execution": {
     "iopub.execute_input": "2024-06-30T20:07:35.274035Z",
     "iopub.status.busy": "2024-06-30T20:07:35.273042Z",
     "iopub.status.idle": "2024-06-30T20:07:35.308954Z",
     "shell.execute_reply": "2024-06-30T20:07:35.307631Z"
    },
    "papermill": {
     "duration": 0.046653,
     "end_time": "2024-06-30T20:07:35.311240",
     "exception": false,
     "start_time": "2024-06-30T20:07:35.264587",
     "status": "completed"
    },
    "tags": []
   },
   "outputs": [
    {
     "data": {
      "text/html": [
       "<div>\n",
       "<style scoped>\n",
       "    .dataframe tbody tr th:only-of-type {\n",
       "        vertical-align: middle;\n",
       "    }\n",
       "\n",
       "    .dataframe tbody tr th {\n",
       "        vertical-align: top;\n",
       "    }\n",
       "\n",
       "    .dataframe thead th {\n",
       "        text-align: right;\n",
       "    }\n",
       "</style>\n",
       "<table border=\"1\" class=\"dataframe\">\n",
       "  <thead>\n",
       "    <tr style=\"text-align: right;\">\n",
       "      <th></th>\n",
       "      <th>Months_after_giving_birth</th>\n",
       "      <th>IUFL</th>\n",
       "      <th>EUFL</th>\n",
       "      <th>IUFR</th>\n",
       "      <th>EUFR</th>\n",
       "      <th>IURL</th>\n",
       "      <th>EURL</th>\n",
       "      <th>IURR</th>\n",
       "      <th>EURR</th>\n",
       "      <th>Temperature</th>\n",
       "      <th>Health_Healthy</th>\n",
       "      <th>Health_Mastitis</th>\n",
       "    </tr>\n",
       "  </thead>\n",
       "  <tbody>\n",
       "    <tr>\n",
       "      <th>0</th>\n",
       "      <td>1</td>\n",
       "      <td>150</td>\n",
       "      <td>180</td>\n",
       "      <td>150</td>\n",
       "      <td>180</td>\n",
       "      <td>150</td>\n",
       "      <td>181</td>\n",
       "      <td>150</td>\n",
       "      <td>181</td>\n",
       "      <td>43</td>\n",
       "      <td>True</td>\n",
       "      <td>False</td>\n",
       "    </tr>\n",
       "    <tr>\n",
       "      <th>1</th>\n",
       "      <td>1</td>\n",
       "      <td>152</td>\n",
       "      <td>180</td>\n",
       "      <td>152</td>\n",
       "      <td>185</td>\n",
       "      <td>151</td>\n",
       "      <td>180</td>\n",
       "      <td>152</td>\n",
       "      <td>181</td>\n",
       "      <td>42</td>\n",
       "      <td>True</td>\n",
       "      <td>False</td>\n",
       "    </tr>\n",
       "    <tr>\n",
       "      <th>2</th>\n",
       "      <td>1</td>\n",
       "      <td>152</td>\n",
       "      <td>182</td>\n",
       "      <td>153</td>\n",
       "      <td>186</td>\n",
       "      <td>151</td>\n",
       "      <td>186</td>\n",
       "      <td>153</td>\n",
       "      <td>183</td>\n",
       "      <td>41</td>\n",
       "      <td>True</td>\n",
       "      <td>False</td>\n",
       "    </tr>\n",
       "    <tr>\n",
       "      <th>3</th>\n",
       "      <td>1</td>\n",
       "      <td>155</td>\n",
       "      <td>183</td>\n",
       "      <td>155</td>\n",
       "      <td>189</td>\n",
       "      <td>155</td>\n",
       "      <td>182</td>\n",
       "      <td>155</td>\n",
       "      <td>186</td>\n",
       "      <td>40</td>\n",
       "      <td>True</td>\n",
       "      <td>False</td>\n",
       "    </tr>\n",
       "    <tr>\n",
       "      <th>4</th>\n",
       "      <td>1</td>\n",
       "      <td>150</td>\n",
       "      <td>186</td>\n",
       "      <td>150</td>\n",
       "      <td>181</td>\n",
       "      <td>150</td>\n",
       "      <td>185</td>\n",
       "      <td>150</td>\n",
       "      <td>188</td>\n",
       "      <td>41</td>\n",
       "      <td>True</td>\n",
       "      <td>False</td>\n",
       "    </tr>\n",
       "    <tr>\n",
       "      <th>...</th>\n",
       "      <td>...</td>\n",
       "      <td>...</td>\n",
       "      <td>...</td>\n",
       "      <td>...</td>\n",
       "      <td>...</td>\n",
       "      <td>...</td>\n",
       "      <td>...</td>\n",
       "      <td>...</td>\n",
       "      <td>...</td>\n",
       "      <td>...</td>\n",
       "      <td>...</td>\n",
       "      <td>...</td>\n",
       "    </tr>\n",
       "    <tr>\n",
       "      <th>7917</th>\n",
       "      <td>6</td>\n",
       "      <td>238</td>\n",
       "      <td>277</td>\n",
       "      <td>231</td>\n",
       "      <td>273</td>\n",
       "      <td>303</td>\n",
       "      <td>355</td>\n",
       "      <td>231</td>\n",
       "      <td>275</td>\n",
       "      <td>44</td>\n",
       "      <td>False</td>\n",
       "      <td>True</td>\n",
       "    </tr>\n",
       "    <tr>\n",
       "      <th>7918</th>\n",
       "      <td>1</td>\n",
       "      <td>238</td>\n",
       "      <td>285</td>\n",
       "      <td>238</td>\n",
       "      <td>281</td>\n",
       "      <td>313</td>\n",
       "      <td>358</td>\n",
       "      <td>247</td>\n",
       "      <td>278</td>\n",
       "      <td>43</td>\n",
       "      <td>False</td>\n",
       "      <td>True</td>\n",
       "    </tr>\n",
       "    <tr>\n",
       "      <th>7919</th>\n",
       "      <td>3</td>\n",
       "      <td>311</td>\n",
       "      <td>359</td>\n",
       "      <td>236</td>\n",
       "      <td>282</td>\n",
       "      <td>245</td>\n",
       "      <td>285</td>\n",
       "      <td>238</td>\n",
       "      <td>278</td>\n",
       "      <td>43</td>\n",
       "      <td>False</td>\n",
       "      <td>True</td>\n",
       "    </tr>\n",
       "    <tr>\n",
       "      <th>7920</th>\n",
       "      <td>6</td>\n",
       "      <td>238</td>\n",
       "      <td>282</td>\n",
       "      <td>237</td>\n",
       "      <td>283</td>\n",
       "      <td>306</td>\n",
       "      <td>357</td>\n",
       "      <td>242</td>\n",
       "      <td>281</td>\n",
       "      <td>43</td>\n",
       "      <td>False</td>\n",
       "      <td>True</td>\n",
       "    </tr>\n",
       "    <tr>\n",
       "      <th>7921</th>\n",
       "      <td>6</td>\n",
       "      <td>231</td>\n",
       "      <td>256</td>\n",
       "      <td>306</td>\n",
       "      <td>361</td>\n",
       "      <td>233</td>\n",
       "      <td>262</td>\n",
       "      <td>235</td>\n",
       "      <td>256</td>\n",
       "      <td>56</td>\n",
       "      <td>False</td>\n",
       "      <td>True</td>\n",
       "    </tr>\n",
       "  </tbody>\n",
       "</table>\n",
       "<p>7922 rows × 12 columns</p>\n",
       "</div>"
      ],
      "text/plain": [
       "      Months_after_giving_birth  IUFL  EUFL  IUFR  EUFR  IURL  EURL  IURR  \\\n",
       "0                             1   150   180   150   180   150   181   150   \n",
       "1                             1   152   180   152   185   151   180   152   \n",
       "2                             1   152   182   153   186   151   186   153   \n",
       "3                             1   155   183   155   189   155   182   155   \n",
       "4                             1   150   186   150   181   150   185   150   \n",
       "...                         ...   ...   ...   ...   ...   ...   ...   ...   \n",
       "7917                          6   238   277   231   273   303   355   231   \n",
       "7918                          1   238   285   238   281   313   358   247   \n",
       "7919                          3   311   359   236   282   245   285   238   \n",
       "7920                          6   238   282   237   283   306   357   242   \n",
       "7921                          6   231   256   306   361   233   262   235   \n",
       "\n",
       "      EURR  Temperature  Health_Healthy  Health_Mastitis  \n",
       "0      181           43            True            False  \n",
       "1      181           42            True            False  \n",
       "2      183           41            True            False  \n",
       "3      186           40            True            False  \n",
       "4      188           41            True            False  \n",
       "...    ...          ...             ...              ...  \n",
       "7917   275           44           False             True  \n",
       "7918   278           43           False             True  \n",
       "7919   278           43           False             True  \n",
       "7920   281           43           False             True  \n",
       "7921   256           56           False             True  \n",
       "\n",
       "[7922 rows x 12 columns]"
      ]
     },
     "execution_count": 4,
     "metadata": {},
     "output_type": "execute_result"
    }
   ],
   "source": [
    "from sklearn.preprocessing import MinMaxScaler\n",
    "\n",
    "# Load dataset \n",
    "\n",
    "df = df.drop(columns=[ 'ID'])\n",
    "df = pd.get_dummies(df)\n",
    "\n",
    "df"
   ]
  },
  {
   "cell_type": "code",
   "execution_count": 5,
   "id": "902f3ed8",
   "metadata": {
    "execution": {
     "iopub.execute_input": "2024-06-30T20:07:35.328258Z",
     "iopub.status.busy": "2024-06-30T20:07:35.327556Z",
     "iopub.status.idle": "2024-06-30T20:07:35.350129Z",
     "shell.execute_reply": "2024-06-30T20:07:35.349139Z"
    },
    "papermill": {
     "duration": 0.033382,
     "end_time": "2024-06-30T20:07:35.352310",
     "exception": false,
     "start_time": "2024-06-30T20:07:35.318928",
     "status": "completed"
    },
    "tags": []
   },
   "outputs": [
    {
     "data": {
      "text/html": [
       "<div>\n",
       "<style scoped>\n",
       "    .dataframe tbody tr th:only-of-type {\n",
       "        vertical-align: middle;\n",
       "    }\n",
       "\n",
       "    .dataframe tbody tr th {\n",
       "        vertical-align: top;\n",
       "    }\n",
       "\n",
       "    .dataframe thead th {\n",
       "        text-align: right;\n",
       "    }\n",
       "</style>\n",
       "<table border=\"1\" class=\"dataframe\">\n",
       "  <thead>\n",
       "    <tr style=\"text-align: right;\">\n",
       "      <th></th>\n",
       "      <th>Months_after_giving_birth</th>\n",
       "      <th>IUFL</th>\n",
       "      <th>EUFL</th>\n",
       "      <th>IUFR</th>\n",
       "      <th>EUFR</th>\n",
       "      <th>IURL</th>\n",
       "      <th>EURL</th>\n",
       "      <th>IURR</th>\n",
       "      <th>EURR</th>\n",
       "      <th>Temperature</th>\n",
       "      <th>Health_Healthy</th>\n",
       "      <th>Health_Mastitis</th>\n",
       "    </tr>\n",
       "  </thead>\n",
       "  <tbody>\n",
       "    <tr>\n",
       "      <th>0</th>\n",
       "      <td>1</td>\n",
       "      <td>150</td>\n",
       "      <td>180</td>\n",
       "      <td>150</td>\n",
       "      <td>180</td>\n",
       "      <td>150</td>\n",
       "      <td>181</td>\n",
       "      <td>150</td>\n",
       "      <td>181</td>\n",
       "      <td>43</td>\n",
       "      <td>1</td>\n",
       "      <td>0</td>\n",
       "    </tr>\n",
       "    <tr>\n",
       "      <th>1</th>\n",
       "      <td>1</td>\n",
       "      <td>152</td>\n",
       "      <td>180</td>\n",
       "      <td>152</td>\n",
       "      <td>185</td>\n",
       "      <td>151</td>\n",
       "      <td>180</td>\n",
       "      <td>152</td>\n",
       "      <td>181</td>\n",
       "      <td>42</td>\n",
       "      <td>1</td>\n",
       "      <td>0</td>\n",
       "    </tr>\n",
       "    <tr>\n",
       "      <th>2</th>\n",
       "      <td>1</td>\n",
       "      <td>152</td>\n",
       "      <td>182</td>\n",
       "      <td>153</td>\n",
       "      <td>186</td>\n",
       "      <td>151</td>\n",
       "      <td>186</td>\n",
       "      <td>153</td>\n",
       "      <td>183</td>\n",
       "      <td>41</td>\n",
       "      <td>1</td>\n",
       "      <td>0</td>\n",
       "    </tr>\n",
       "    <tr>\n",
       "      <th>3</th>\n",
       "      <td>1</td>\n",
       "      <td>155</td>\n",
       "      <td>183</td>\n",
       "      <td>155</td>\n",
       "      <td>189</td>\n",
       "      <td>155</td>\n",
       "      <td>182</td>\n",
       "      <td>155</td>\n",
       "      <td>186</td>\n",
       "      <td>40</td>\n",
       "      <td>1</td>\n",
       "      <td>0</td>\n",
       "    </tr>\n",
       "    <tr>\n",
       "      <th>4</th>\n",
       "      <td>1</td>\n",
       "      <td>150</td>\n",
       "      <td>186</td>\n",
       "      <td>150</td>\n",
       "      <td>181</td>\n",
       "      <td>150</td>\n",
       "      <td>185</td>\n",
       "      <td>150</td>\n",
       "      <td>188</td>\n",
       "      <td>41</td>\n",
       "      <td>1</td>\n",
       "      <td>0</td>\n",
       "    </tr>\n",
       "    <tr>\n",
       "      <th>...</th>\n",
       "      <td>...</td>\n",
       "      <td>...</td>\n",
       "      <td>...</td>\n",
       "      <td>...</td>\n",
       "      <td>...</td>\n",
       "      <td>...</td>\n",
       "      <td>...</td>\n",
       "      <td>...</td>\n",
       "      <td>...</td>\n",
       "      <td>...</td>\n",
       "      <td>...</td>\n",
       "      <td>...</td>\n",
       "    </tr>\n",
       "    <tr>\n",
       "      <th>7917</th>\n",
       "      <td>6</td>\n",
       "      <td>238</td>\n",
       "      <td>277</td>\n",
       "      <td>231</td>\n",
       "      <td>273</td>\n",
       "      <td>303</td>\n",
       "      <td>355</td>\n",
       "      <td>231</td>\n",
       "      <td>275</td>\n",
       "      <td>44</td>\n",
       "      <td>0</td>\n",
       "      <td>1</td>\n",
       "    </tr>\n",
       "    <tr>\n",
       "      <th>7918</th>\n",
       "      <td>1</td>\n",
       "      <td>238</td>\n",
       "      <td>285</td>\n",
       "      <td>238</td>\n",
       "      <td>281</td>\n",
       "      <td>313</td>\n",
       "      <td>358</td>\n",
       "      <td>247</td>\n",
       "      <td>278</td>\n",
       "      <td>43</td>\n",
       "      <td>0</td>\n",
       "      <td>1</td>\n",
       "    </tr>\n",
       "    <tr>\n",
       "      <th>7919</th>\n",
       "      <td>3</td>\n",
       "      <td>311</td>\n",
       "      <td>359</td>\n",
       "      <td>236</td>\n",
       "      <td>282</td>\n",
       "      <td>245</td>\n",
       "      <td>285</td>\n",
       "      <td>238</td>\n",
       "      <td>278</td>\n",
       "      <td>43</td>\n",
       "      <td>0</td>\n",
       "      <td>1</td>\n",
       "    </tr>\n",
       "    <tr>\n",
       "      <th>7920</th>\n",
       "      <td>6</td>\n",
       "      <td>238</td>\n",
       "      <td>282</td>\n",
       "      <td>237</td>\n",
       "      <td>283</td>\n",
       "      <td>306</td>\n",
       "      <td>357</td>\n",
       "      <td>242</td>\n",
       "      <td>281</td>\n",
       "      <td>43</td>\n",
       "      <td>0</td>\n",
       "      <td>1</td>\n",
       "    </tr>\n",
       "    <tr>\n",
       "      <th>7921</th>\n",
       "      <td>6</td>\n",
       "      <td>231</td>\n",
       "      <td>256</td>\n",
       "      <td>306</td>\n",
       "      <td>361</td>\n",
       "      <td>233</td>\n",
       "      <td>262</td>\n",
       "      <td>235</td>\n",
       "      <td>256</td>\n",
       "      <td>56</td>\n",
       "      <td>0</td>\n",
       "      <td>1</td>\n",
       "    </tr>\n",
       "  </tbody>\n",
       "</table>\n",
       "<p>7922 rows × 12 columns</p>\n",
       "</div>"
      ],
      "text/plain": [
       "      Months_after_giving_birth  IUFL  EUFL  IUFR  EUFR  IURL  EURL  IURR  \\\n",
       "0                             1   150   180   150   180   150   181   150   \n",
       "1                             1   152   180   152   185   151   180   152   \n",
       "2                             1   152   182   153   186   151   186   153   \n",
       "3                             1   155   183   155   189   155   182   155   \n",
       "4                             1   150   186   150   181   150   185   150   \n",
       "...                         ...   ...   ...   ...   ...   ...   ...   ...   \n",
       "7917                          6   238   277   231   273   303   355   231   \n",
       "7918                          1   238   285   238   281   313   358   247   \n",
       "7919                          3   311   359   236   282   245   285   238   \n",
       "7920                          6   238   282   237   283   306   357   242   \n",
       "7921                          6   231   256   306   361   233   262   235   \n",
       "\n",
       "      EURR  Temperature  Health_Healthy  Health_Mastitis  \n",
       "0      181           43               1                0  \n",
       "1      181           42               1                0  \n",
       "2      183           41               1                0  \n",
       "3      186           40               1                0  \n",
       "4      188           41               1                0  \n",
       "...    ...          ...             ...              ...  \n",
       "7917   275           44               0                1  \n",
       "7918   278           43               0                1  \n",
       "7919   278           43               0                1  \n",
       "7920   281           43               0                1  \n",
       "7921   256           56               0                1  \n",
       "\n",
       "[7922 rows x 12 columns]"
      ]
     },
     "execution_count": 5,
     "metadata": {},
     "output_type": "execute_result"
    }
   ],
   "source": [
    "df['Health_Healthy'] = df['Health_Healthy'].apply(lambda x: 1 if x else 0)\n",
    "df['Health_Mastitis'] = df['Health_Mastitis'].apply(lambda x: 1 if x else 0)\n",
    "\n",
    "\n",
    "df"
   ]
  },
  {
   "cell_type": "code",
   "execution_count": 6,
   "id": "f4527d23",
   "metadata": {
    "execution": {
     "iopub.execute_input": "2024-06-30T20:07:35.369774Z",
     "iopub.status.busy": "2024-06-30T20:07:35.369403Z",
     "iopub.status.idle": "2024-06-30T20:07:35.385999Z",
     "shell.execute_reply": "2024-06-30T20:07:35.384706Z"
    },
    "papermill": {
     "duration": 0.027836,
     "end_time": "2024-06-30T20:07:35.388160",
     "exception": false,
     "start_time": "2024-06-30T20:07:35.360324",
     "status": "completed"
    },
    "tags": []
   },
   "outputs": [
    {
     "data": {
      "text/html": [
       "<div>\n",
       "<style scoped>\n",
       "    .dataframe tbody tr th:only-of-type {\n",
       "        vertical-align: middle;\n",
       "    }\n",
       "\n",
       "    .dataframe tbody tr th {\n",
       "        vertical-align: top;\n",
       "    }\n",
       "\n",
       "    .dataframe thead th {\n",
       "        text-align: right;\n",
       "    }\n",
       "</style>\n",
       "<table border=\"1\" class=\"dataframe\">\n",
       "  <thead>\n",
       "    <tr style=\"text-align: right;\">\n",
       "      <th></th>\n",
       "      <th>Months_after_giving_birth</th>\n",
       "      <th>IUFL</th>\n",
       "      <th>EUFL</th>\n",
       "      <th>IUFR</th>\n",
       "      <th>EUFR</th>\n",
       "      <th>IURL</th>\n",
       "      <th>EURL</th>\n",
       "      <th>IURR</th>\n",
       "      <th>EURR</th>\n",
       "      <th>Temperature</th>\n",
       "      <th>Health_Mastitis</th>\n",
       "    </tr>\n",
       "  </thead>\n",
       "  <tbody>\n",
       "    <tr>\n",
       "      <th>0</th>\n",
       "      <td>1</td>\n",
       "      <td>150</td>\n",
       "      <td>180</td>\n",
       "      <td>150</td>\n",
       "      <td>180</td>\n",
       "      <td>150</td>\n",
       "      <td>181</td>\n",
       "      <td>150</td>\n",
       "      <td>181</td>\n",
       "      <td>43</td>\n",
       "      <td>0</td>\n",
       "    </tr>\n",
       "    <tr>\n",
       "      <th>1</th>\n",
       "      <td>1</td>\n",
       "      <td>152</td>\n",
       "      <td>180</td>\n",
       "      <td>152</td>\n",
       "      <td>185</td>\n",
       "      <td>151</td>\n",
       "      <td>180</td>\n",
       "      <td>152</td>\n",
       "      <td>181</td>\n",
       "      <td>42</td>\n",
       "      <td>0</td>\n",
       "    </tr>\n",
       "    <tr>\n",
       "      <th>2</th>\n",
       "      <td>1</td>\n",
       "      <td>152</td>\n",
       "      <td>182</td>\n",
       "      <td>153</td>\n",
       "      <td>186</td>\n",
       "      <td>151</td>\n",
       "      <td>186</td>\n",
       "      <td>153</td>\n",
       "      <td>183</td>\n",
       "      <td>41</td>\n",
       "      <td>0</td>\n",
       "    </tr>\n",
       "    <tr>\n",
       "      <th>3</th>\n",
       "      <td>1</td>\n",
       "      <td>155</td>\n",
       "      <td>183</td>\n",
       "      <td>155</td>\n",
       "      <td>189</td>\n",
       "      <td>155</td>\n",
       "      <td>182</td>\n",
       "      <td>155</td>\n",
       "      <td>186</td>\n",
       "      <td>40</td>\n",
       "      <td>0</td>\n",
       "    </tr>\n",
       "    <tr>\n",
       "      <th>4</th>\n",
       "      <td>1</td>\n",
       "      <td>150</td>\n",
       "      <td>186</td>\n",
       "      <td>150</td>\n",
       "      <td>181</td>\n",
       "      <td>150</td>\n",
       "      <td>185</td>\n",
       "      <td>150</td>\n",
       "      <td>188</td>\n",
       "      <td>41</td>\n",
       "      <td>0</td>\n",
       "    </tr>\n",
       "    <tr>\n",
       "      <th>...</th>\n",
       "      <td>...</td>\n",
       "      <td>...</td>\n",
       "      <td>...</td>\n",
       "      <td>...</td>\n",
       "      <td>...</td>\n",
       "      <td>...</td>\n",
       "      <td>...</td>\n",
       "      <td>...</td>\n",
       "      <td>...</td>\n",
       "      <td>...</td>\n",
       "      <td>...</td>\n",
       "    </tr>\n",
       "    <tr>\n",
       "      <th>7917</th>\n",
       "      <td>6</td>\n",
       "      <td>238</td>\n",
       "      <td>277</td>\n",
       "      <td>231</td>\n",
       "      <td>273</td>\n",
       "      <td>303</td>\n",
       "      <td>355</td>\n",
       "      <td>231</td>\n",
       "      <td>275</td>\n",
       "      <td>44</td>\n",
       "      <td>1</td>\n",
       "    </tr>\n",
       "    <tr>\n",
       "      <th>7918</th>\n",
       "      <td>1</td>\n",
       "      <td>238</td>\n",
       "      <td>285</td>\n",
       "      <td>238</td>\n",
       "      <td>281</td>\n",
       "      <td>313</td>\n",
       "      <td>358</td>\n",
       "      <td>247</td>\n",
       "      <td>278</td>\n",
       "      <td>43</td>\n",
       "      <td>1</td>\n",
       "    </tr>\n",
       "    <tr>\n",
       "      <th>7919</th>\n",
       "      <td>3</td>\n",
       "      <td>311</td>\n",
       "      <td>359</td>\n",
       "      <td>236</td>\n",
       "      <td>282</td>\n",
       "      <td>245</td>\n",
       "      <td>285</td>\n",
       "      <td>238</td>\n",
       "      <td>278</td>\n",
       "      <td>43</td>\n",
       "      <td>1</td>\n",
       "    </tr>\n",
       "    <tr>\n",
       "      <th>7920</th>\n",
       "      <td>6</td>\n",
       "      <td>238</td>\n",
       "      <td>282</td>\n",
       "      <td>237</td>\n",
       "      <td>283</td>\n",
       "      <td>306</td>\n",
       "      <td>357</td>\n",
       "      <td>242</td>\n",
       "      <td>281</td>\n",
       "      <td>43</td>\n",
       "      <td>1</td>\n",
       "    </tr>\n",
       "    <tr>\n",
       "      <th>7921</th>\n",
       "      <td>6</td>\n",
       "      <td>231</td>\n",
       "      <td>256</td>\n",
       "      <td>306</td>\n",
       "      <td>361</td>\n",
       "      <td>233</td>\n",
       "      <td>262</td>\n",
       "      <td>235</td>\n",
       "      <td>256</td>\n",
       "      <td>56</td>\n",
       "      <td>1</td>\n",
       "    </tr>\n",
       "  </tbody>\n",
       "</table>\n",
       "<p>7922 rows × 11 columns</p>\n",
       "</div>"
      ],
      "text/plain": [
       "      Months_after_giving_birth  IUFL  EUFL  IUFR  EUFR  IURL  EURL  IURR  \\\n",
       "0                             1   150   180   150   180   150   181   150   \n",
       "1                             1   152   180   152   185   151   180   152   \n",
       "2                             1   152   182   153   186   151   186   153   \n",
       "3                             1   155   183   155   189   155   182   155   \n",
       "4                             1   150   186   150   181   150   185   150   \n",
       "...                         ...   ...   ...   ...   ...   ...   ...   ...   \n",
       "7917                          6   238   277   231   273   303   355   231   \n",
       "7918                          1   238   285   238   281   313   358   247   \n",
       "7919                          3   311   359   236   282   245   285   238   \n",
       "7920                          6   238   282   237   283   306   357   242   \n",
       "7921                          6   231   256   306   361   233   262   235   \n",
       "\n",
       "      EURR  Temperature  Health_Mastitis  \n",
       "0      181           43                0  \n",
       "1      181           42                0  \n",
       "2      183           41                0  \n",
       "3      186           40                0  \n",
       "4      188           41                0  \n",
       "...    ...          ...              ...  \n",
       "7917   275           44                1  \n",
       "7918   278           43                1  \n",
       "7919   278           43                1  \n",
       "7920   281           43                1  \n",
       "7921   256           56                1  \n",
       "\n",
       "[7922 rows x 11 columns]"
      ]
     },
     "execution_count": 6,
     "metadata": {},
     "output_type": "execute_result"
    }
   ],
   "source": [
    "df= df.drop('Health_Healthy', axis=1)\n",
    "df"
   ]
  },
  {
   "cell_type": "code",
   "execution_count": 7,
   "id": "4989da6e",
   "metadata": {
    "execution": {
     "iopub.execute_input": "2024-06-30T20:07:35.406635Z",
     "iopub.status.busy": "2024-06-30T20:07:35.405852Z",
     "iopub.status.idle": "2024-06-30T20:07:35.433777Z",
     "shell.execute_reply": "2024-06-30T20:07:35.432373Z"
    },
    "papermill": {
     "duration": 0.039713,
     "end_time": "2024-06-30T20:07:35.436138",
     "exception": false,
     "start_time": "2024-06-30T20:07:35.396425",
     "status": "completed"
    },
    "tags": []
   },
   "outputs": [
    {
     "name": "stdout",
     "output_type": "stream",
     "text": [
      "<class 'pandas.core.frame.DataFrame'>\n",
      "RangeIndex: 7922 entries, 0 to 7921\n",
      "Data columns (total 10 columns):\n",
      " #   Column                     Non-Null Count  Dtype\n",
      "---  ------                     --------------  -----\n",
      " 0   Months_after_giving_birth  7922 non-null   int64\n",
      " 1   IUFL                       7922 non-null   int64\n",
      " 2   EUFL                       7922 non-null   int64\n",
      " 3   IUFR                       7922 non-null   int64\n",
      " 4   EUFR                       7922 non-null   int64\n",
      " 5   IURL                       7922 non-null   int64\n",
      " 6   EURL                       7922 non-null   int64\n",
      " 7   IURR                       7922 non-null   int64\n",
      " 8   EURR                       7922 non-null   int64\n",
      " 9   Temperature                7922 non-null   int64\n",
      "dtypes: int64(10)\n",
      "memory usage: 619.0 KB\n"
     ]
    },
    {
     "data": {
      "text/html": [
       "<div>\n",
       "<style scoped>\n",
       "    .dataframe tbody tr th:only-of-type {\n",
       "        vertical-align: middle;\n",
       "    }\n",
       "\n",
       "    .dataframe tbody tr th {\n",
       "        vertical-align: top;\n",
       "    }\n",
       "\n",
       "    .dataframe thead th {\n",
       "        text-align: right;\n",
       "    }\n",
       "</style>\n",
       "<table border=\"1\" class=\"dataframe\">\n",
       "  <thead>\n",
       "    <tr style=\"text-align: right;\">\n",
       "      <th></th>\n",
       "      <th>Months_after_giving_birth</th>\n",
       "      <th>IUFL</th>\n",
       "      <th>EUFL</th>\n",
       "      <th>IUFR</th>\n",
       "      <th>EUFR</th>\n",
       "      <th>IURL</th>\n",
       "      <th>EURL</th>\n",
       "      <th>IURR</th>\n",
       "      <th>EURR</th>\n",
       "      <th>Temperature</th>\n",
       "    </tr>\n",
       "  </thead>\n",
       "  <tbody>\n",
       "    <tr>\n",
       "      <th>0</th>\n",
       "      <td>1</td>\n",
       "      <td>150</td>\n",
       "      <td>180</td>\n",
       "      <td>150</td>\n",
       "      <td>180</td>\n",
       "      <td>150</td>\n",
       "      <td>181</td>\n",
       "      <td>150</td>\n",
       "      <td>181</td>\n",
       "      <td>43</td>\n",
       "    </tr>\n",
       "    <tr>\n",
       "      <th>1</th>\n",
       "      <td>1</td>\n",
       "      <td>152</td>\n",
       "      <td>180</td>\n",
       "      <td>152</td>\n",
       "      <td>185</td>\n",
       "      <td>151</td>\n",
       "      <td>180</td>\n",
       "      <td>152</td>\n",
       "      <td>181</td>\n",
       "      <td>42</td>\n",
       "    </tr>\n",
       "    <tr>\n",
       "      <th>2</th>\n",
       "      <td>1</td>\n",
       "      <td>152</td>\n",
       "      <td>182</td>\n",
       "      <td>153</td>\n",
       "      <td>186</td>\n",
       "      <td>151</td>\n",
       "      <td>186</td>\n",
       "      <td>153</td>\n",
       "      <td>183</td>\n",
       "      <td>41</td>\n",
       "    </tr>\n",
       "    <tr>\n",
       "      <th>3</th>\n",
       "      <td>1</td>\n",
       "      <td>155</td>\n",
       "      <td>183</td>\n",
       "      <td>155</td>\n",
       "      <td>189</td>\n",
       "      <td>155</td>\n",
       "      <td>182</td>\n",
       "      <td>155</td>\n",
       "      <td>186</td>\n",
       "      <td>40</td>\n",
       "    </tr>\n",
       "    <tr>\n",
       "      <th>4</th>\n",
       "      <td>1</td>\n",
       "      <td>150</td>\n",
       "      <td>186</td>\n",
       "      <td>150</td>\n",
       "      <td>181</td>\n",
       "      <td>150</td>\n",
       "      <td>185</td>\n",
       "      <td>150</td>\n",
       "      <td>188</td>\n",
       "      <td>41</td>\n",
       "    </tr>\n",
       "    <tr>\n",
       "      <th>...</th>\n",
       "      <td>...</td>\n",
       "      <td>...</td>\n",
       "      <td>...</td>\n",
       "      <td>...</td>\n",
       "      <td>...</td>\n",
       "      <td>...</td>\n",
       "      <td>...</td>\n",
       "      <td>...</td>\n",
       "      <td>...</td>\n",
       "      <td>...</td>\n",
       "    </tr>\n",
       "    <tr>\n",
       "      <th>7917</th>\n",
       "      <td>6</td>\n",
       "      <td>238</td>\n",
       "      <td>277</td>\n",
       "      <td>231</td>\n",
       "      <td>273</td>\n",
       "      <td>303</td>\n",
       "      <td>355</td>\n",
       "      <td>231</td>\n",
       "      <td>275</td>\n",
       "      <td>44</td>\n",
       "    </tr>\n",
       "    <tr>\n",
       "      <th>7918</th>\n",
       "      <td>1</td>\n",
       "      <td>238</td>\n",
       "      <td>285</td>\n",
       "      <td>238</td>\n",
       "      <td>281</td>\n",
       "      <td>313</td>\n",
       "      <td>358</td>\n",
       "      <td>247</td>\n",
       "      <td>278</td>\n",
       "      <td>43</td>\n",
       "    </tr>\n",
       "    <tr>\n",
       "      <th>7919</th>\n",
       "      <td>3</td>\n",
       "      <td>311</td>\n",
       "      <td>359</td>\n",
       "      <td>236</td>\n",
       "      <td>282</td>\n",
       "      <td>245</td>\n",
       "      <td>285</td>\n",
       "      <td>238</td>\n",
       "      <td>278</td>\n",
       "      <td>43</td>\n",
       "    </tr>\n",
       "    <tr>\n",
       "      <th>7920</th>\n",
       "      <td>6</td>\n",
       "      <td>238</td>\n",
       "      <td>282</td>\n",
       "      <td>237</td>\n",
       "      <td>283</td>\n",
       "      <td>306</td>\n",
       "      <td>357</td>\n",
       "      <td>242</td>\n",
       "      <td>281</td>\n",
       "      <td>43</td>\n",
       "    </tr>\n",
       "    <tr>\n",
       "      <th>7921</th>\n",
       "      <td>6</td>\n",
       "      <td>231</td>\n",
       "      <td>256</td>\n",
       "      <td>306</td>\n",
       "      <td>361</td>\n",
       "      <td>233</td>\n",
       "      <td>262</td>\n",
       "      <td>235</td>\n",
       "      <td>256</td>\n",
       "      <td>56</td>\n",
       "    </tr>\n",
       "  </tbody>\n",
       "</table>\n",
       "<p>7922 rows × 10 columns</p>\n",
       "</div>"
      ],
      "text/plain": [
       "      Months_after_giving_birth  IUFL  EUFL  IUFR  EUFR  IURL  EURL  IURR  \\\n",
       "0                             1   150   180   150   180   150   181   150   \n",
       "1                             1   152   180   152   185   151   180   152   \n",
       "2                             1   152   182   153   186   151   186   153   \n",
       "3                             1   155   183   155   189   155   182   155   \n",
       "4                             1   150   186   150   181   150   185   150   \n",
       "...                         ...   ...   ...   ...   ...   ...   ...   ...   \n",
       "7917                          6   238   277   231   273   303   355   231   \n",
       "7918                          1   238   285   238   281   313   358   247   \n",
       "7919                          3   311   359   236   282   245   285   238   \n",
       "7920                          6   238   282   237   283   306   357   242   \n",
       "7921                          6   231   256   306   361   233   262   235   \n",
       "\n",
       "      EURR  Temperature  \n",
       "0      181           43  \n",
       "1      181           42  \n",
       "2      183           41  \n",
       "3      186           40  \n",
       "4      188           41  \n",
       "...    ...          ...  \n",
       "7917   275           44  \n",
       "7918   278           43  \n",
       "7919   278           43  \n",
       "7920   281           43  \n",
       "7921   256           56  \n",
       "\n",
       "[7922 rows x 10 columns]"
      ]
     },
     "execution_count": 7,
     "metadata": {},
     "output_type": "execute_result"
    }
   ],
   "source": [
    "y = df['Health_Mastitis'].values\n",
    "\n",
    "\n",
    "x = df.drop('Health_Mastitis', axis=1)\n",
    "x.info()\n",
    "x"
   ]
  },
  {
   "cell_type": "code",
   "execution_count": 8,
   "id": "a608e308",
   "metadata": {
    "execution": {
     "iopub.execute_input": "2024-06-30T20:07:35.455695Z",
     "iopub.status.busy": "2024-06-30T20:07:35.455295Z",
     "iopub.status.idle": "2024-06-30T20:07:37.814733Z",
     "shell.execute_reply": "2024-06-30T20:07:37.813690Z"
    },
    "papermill": {
     "duration": 2.371681,
     "end_time": "2024-06-30T20:07:37.816928",
     "exception": false,
     "start_time": "2024-06-30T20:07:35.445247",
     "status": "completed"
    },
    "tags": []
   },
   "outputs": [
    {
     "name": "stdout",
     "output_type": "stream",
     "text": [
      "col:  Months_after_giving_birth\n"
     ]
    },
    {
     "data": {
      "image/png": "[encoded data removed]",
      "text/plain": [
       "<Figure size 640x480 with 1 Axes>"
      ]
     },
     "metadata": {},
     "output_type": "display_data"
    },
    {
     "name": "stdout",
     "output_type": "stream",
     "text": [
      "col:  IUFL\n"
     ]
    },
    {
     "data": {
      "image/png": "[encoded data removed]",
      "text/plain": [
       "<Figure size 640x480 with 1 Axes>"
      ]
     },
     "metadata": {},
     "output_type": "display_data"
    },
    {
     "name": "stdout",
     "output_type": "stream",
     "text": [
      "col:  EUFL\n"
     ]
    },
    {
     "data": {
      "image/png": "[encoded data removed]",
      "text/plain": [
       "<Figure size 640x480 with 1 Axes>"
      ]
     },
     "metadata": {},
     "output_type": "display_data"
    },
    {
     "name": "stdout",
     "output_type": "stream",
     "text": [
      "col:  IUFR\n"
     ]
    },
    {
     "data": {
      "image/png": "[encoded data removed]",
      "text/plain": [
       "<Figure size 640x480 with 1 Axes>"
      ]
     },
     "metadata": {},
     "output_type": "display_data"
    },
    {
     "name": "stdout",
     "output_type": "stream",
     "text": [
      "col:  EUFR\n"
     ]
    },
    {
     "data": {
      "image/png": "[encoded data removed]",
      "text/plain": [
       "<Figure size 640x480 with 1 Axes>"
      ]
     },
     "metadata": {},
     "output_type": "display_data"
    },
    {
     "name": "stdout",
     "output_type": "stream",
     "text": [
      "col:  IURL\n"
     ]
    },
    {
     "data": {
      "image/png": "[encoded data removed]",
      "text/plain": [
       "<Figure size 640x480 with 1 Axes>"
      ]
     },
     "metadata": {},
     "output_type": "display_data"
    },
    {
     "name": "stdout",
     "output_type": "stream",
     "text": [
      "col:  EURL\n"
     ]
    },
    {
     "data": {
      "image/png": "[encoded data removed]",
      "text/plain": [
       "<Figure size 640x480 with 1 Axes>"
      ]
     },
     "metadata": {},
     "output_type": "display_data"
    },
    {
     "name": "stdout",
     "output_type": "stream",
     "text": [
      "col:  IURR\n"
     ]
    },
    {
     "data": {
      "image/png": "[encoded data removed]",
      "text/plain": [
       "<Figure size 640x480 with 1 Axes>"
      ]
     },
     "metadata": {},
     "output_type": "display_data"
    },
    {
     "name": "stdout",
     "output_type": "stream",
     "text": [
      "col:  EURR\n"
     ]
    },
    {
     "data": {
      "image/png": "[encoded data removed]",
      "text/plain": [
       "<Figure size 640x480 with 1 Axes>"
      ]
     },
     "metadata": {},
     "output_type": "display_data"
    },
    {
     "name": "stdout",
     "output_type": "stream",
     "text": [
      "col:  Temperature\n"
     ]
    },
    {
     "data": {
      "image/png": "[encoded data removed]",
      "text/plain": [
       "<Figure size 640x480 with 1 Axes>"
      ]
     },
     "metadata": {},
     "output_type": "display_data"
    },
    {
     "name": "stdout",
     "output_type": "stream",
     "text": [
      "col:  Health_Mastitis\n"
     ]
    },
    {
     "data": {
      "image/png": "[encoded data removed]",
      "text/plain": [
       "<Figure size 640x480 with 1 Axes>"
      ]
     },
     "metadata": {},
     "output_type": "display_data"
    }
   ],
   "source": [
    "import matplotlib.pyplot as plt\n",
    "\n",
    "columns = df.columns\n",
    "for col in columns:\n",
    "    print(\"col: \", col)\n",
    "    df[col].hist()\n",
    "    plt.show()"
   ]
  },
  {
   "cell_type": "code",
   "execution_count": 9,
   "id": "3be87c85",
   "metadata": {
    "execution": {
     "iopub.execute_input": "2024-06-30T20:07:37.843791Z",
     "iopub.status.busy": "2024-06-30T20:07:37.843101Z",
     "iopub.status.idle": "2024-06-30T20:07:37.855504Z",
     "shell.execute_reply": "2024-06-30T20:07:37.854369Z"
    },
    "papermill": {
     "duration": 0.028296,
     "end_time": "2024-06-30T20:07:37.857796",
     "exception": false,
     "start_time": "2024-06-30T20:07:37.829500",
     "status": "completed"
    },
    "tags": []
   },
   "outputs": [
    {
     "name": "stdout",
     "output_type": "stream",
     "text": [
      "Training set size: 5545 or 70.0 %\n",
      "Test set size: 1592 or 20.1 %\n",
      "Validation set size: 785 or 9.9 %\n"
     ]
    }
   ],
   "source": [
    "# Split data into training, test, and validation sets\n",
    "X_train, X_temp, y_train, y_temp = train_test_split(x, y, test_size=0.3, random_state=42)\n",
    "X_test, X_val, y_test, y_val = train_test_split(X_temp, y_temp, test_size=0.33, random_state=42)\n",
    "\n",
    "print(\"Training set size:\", X_train.shape[0], \"or\", round(X_train.shape[0]/x.shape[0]*100, 1), \"%\")\n",
    "print(\"Test set size:\", X_test.shape[0], \"or\", round(X_test.shape[0]/x.shape[0]*100, 1), \"%\")\n",
    "print(\"Validation set size:\", X_val.shape[0], \"or\", round(X_val.shape[0]/x.shape[0]*100, 1), \"%\")"
   ]
  },
  {
   "cell_type": "code",
   "execution_count": 10,
   "id": "1e3d556f",
   "metadata": {
    "execution": {
     "iopub.execute_input": "2024-06-30T20:07:37.886366Z",
     "iopub.status.busy": "2024-06-30T20:07:37.885519Z",
     "iopub.status.idle": "2024-06-30T20:07:37.893924Z",
     "shell.execute_reply": "2024-06-30T20:07:37.892952Z"
    },
    "papermill": {
     "duration": 0.024889,
     "end_time": "2024-06-30T20:07:37.896079",
     "exception": false,
     "start_time": "2024-06-30T20:07:37.871190",
     "status": "completed"
    },
    "tags": []
   },
   "outputs": [
    {
     "data": {
      "text/plain": [
       "array([[[  6, 231, 275, ..., 232, 272,  43]],\n",
       "\n",
       "       [[  4, 159, 191, ..., 154, 190,  43]],\n",
       "\n",
       "       [[  3, 231, 267, ..., 231, 269,  43]],\n",
       "\n",
       "       ...,\n",
       "\n",
       "       [[  1, 270, 278, ..., 274, 296,  43]],\n",
       "\n",
       "       [[  1, 272, 295, ..., 270, 288,  43]],\n",
       "\n",
       "       [[  1, 304, 328, ..., 267, 296,  56]]])"
      ]
     },
     "execution_count": 10,
     "metadata": {},
     "output_type": "execute_result"
    }
   ],
   "source": [
    "# Reshape the input data for LSTM (samples, time steps, features)\n",
    "n_features = X_train.shape[1]\n",
    "X_train_reshaped = X_train.values.reshape((X_train.shape[0], 1, n_features))\n",
    "X_test_reshaped = X_test.values.reshape((X_test.shape[0], 1, n_features))\n",
    "X_val_reshaped = X_val.values.reshape((X_val.shape[0], 1, n_features))\n",
    "\n",
    "X_val_reshaped"
   ]
  },
  {
   "cell_type": "code",
   "execution_count": 11,
   "id": "055bec97",
   "metadata": {
    "execution": {
     "iopub.execute_input": "2024-06-30T20:07:37.924678Z",
     "iopub.status.busy": "2024-06-30T20:07:37.924280Z",
     "iopub.status.idle": "2024-06-30T20:07:37.931566Z",
     "shell.execute_reply": "2024-06-30T20:07:37.930468Z"
    },
    "papermill": {
     "duration": 0.02425,
     "end_time": "2024-06-30T20:07:37.933836",
     "exception": false,
     "start_time": "2024-06-30T20:07:37.909586",
     "status": "completed"
    },
    "tags": []
   },
   "outputs": [],
   "source": [
    "import tensorflow as tf\n",
    "from tensorflow.keras.losses import binary_crossentropy\n",
    "# Define the custom loss function\n",
    "def custom_loss(y_true, y_pred, temperature, threshold=42, penalty_factor=2.0):\n",
    "    # Apply penalty if temperature exceeds the threshold\n",
    "    penalty = tf.where(temperature > threshold, penalty_factor, 1.0)\n",
    "    # Compute binary cross-entropy loss\n",
    "    bce = binary_crossentropy(y_true, y_pred)\n",
    "    # Apply the penalty to the loss\n",
    "    loss = tf.reduce_mean(penalty * bce)\n",
    "    return loss\n"
   ]
  },
  {
   "cell_type": "code",
   "execution_count": 12,
   "id": "203edb6c",
   "metadata": {
    "execution": {
     "iopub.execute_input": "2024-06-30T20:07:37.962814Z",
     "iopub.status.busy": "2024-06-30T20:07:37.962437Z",
     "iopub.status.idle": "2024-06-30T20:07:38.073992Z",
     "shell.execute_reply": "2024-06-30T20:07:38.072947Z"
    },
    "papermill": {
     "duration": 0.129425,
     "end_time": "2024-06-30T20:07:38.076627",
     "exception": false,
     "start_time": "2024-06-30T20:07:37.947202",
     "status": "completed"
    },
    "tags": []
   },
   "outputs": [
    {
     "name": "stderr",
     "output_type": "stream",
     "text": [
      "Do not pass an `input_shape`/`input_dim` argument to a layer. When using Sequential models, prefer using an `Input(shape)` object as the first layer in the model instead.\n"
     ]
    }
   ],
   "source": [
    "# Define and compile the LSTM model\n",
    "model = Sequential([\n",
    "    LSTM(50, return_sequences=True, input_shape=(1, n_features)),\n",
    "    LSTM(50),\n",
    "    Dense(1, activation='sigmoid')\n",
    "])"
   ]
  },
  {
   "cell_type": "code",
   "execution_count": 13,
   "id": "0ed2b12b",
   "metadata": {
    "execution": {
     "iopub.execute_input": "2024-06-30T20:07:38.104987Z",
     "iopub.status.busy": "2024-06-30T20:07:38.104255Z",
     "iopub.status.idle": "2024-06-30T20:07:38.120721Z",
     "shell.execute_reply": "2024-06-30T20:07:38.119328Z"
    },
    "papermill": {
     "duration": 0.033782,
     "end_time": "2024-06-30T20:07:38.123384",
     "exception": false,
     "start_time": "2024-06-30T20:07:38.089602",
     "status": "completed"
    },
    "tags": []
   },
   "outputs": [],
   "source": [
    "#model.compile(optimizer='adam', loss='binary_crossentropy', metrics=['accuracy'])\n",
    "\n",
    "# Compile the model with a wrapper to include temperature in the loss calculation\n",
    "temperature_feature_index = 9  #  temperature is the 10th feature\n",
    "\n",
    "model.compile(optimizer='adam', \n",
    "              loss=lambda y_true, y_pred: custom_loss(y_true, y_pred, X_train_reshaped[:,:,temperature_feature_index]), \n",
    "              metrics=['accuracy'])\n",
    "\n",
    "\n"
   ]
  },
  {
   "cell_type": "code",
   "execution_count": 14,
   "id": "dd54e38c",
   "metadata": {
    "execution": {
     "iopub.execute_input": "2024-06-30T20:07:38.152140Z",
     "iopub.status.busy": "2024-06-30T20:07:38.151378Z",
     "iopub.status.idle": "2024-06-30T20:08:15.053417Z",
     "shell.execute_reply": "2024-06-30T20:08:15.052325Z"
    },
    "papermill": {
     "duration": 36.919182,
     "end_time": "2024-06-30T20:08:15.055989",
     "exception": false,
     "start_time": "2024-06-30T20:07:38.136807",
     "status": "completed"
    },
    "tags": []
   },
   "outputs": [
    {
     "name": "stdout",
     "output_type": "stream",
     "text": [
      "Epoch 1/50\n",
      "\u001b[1m174/174\u001b[0m \u001b[32m━━━━━━━━━━━━━━━━━━━━\u001b[0m\u001b[37m\u001b[0m \u001b[1m4s\u001b[0m 7ms/step - accuracy: 0.7949 - loss: 1.0535 - val_accuracy: 0.8752 - val_loss: 0.6492\n",
      "Epoch 2/50\n",
      "\u001b[1m174/174\u001b[0m \u001b[32m━━━━━━━━━━━━━━━━━━━━\u001b[0m\u001b[37m\u001b[0m \u001b[1m1s\u001b[0m 3ms/step - accuracy: 0.8792 - loss: 0.6457 - val_accuracy: 0.8662 - val_loss: 0.6850\n",
      "Epoch 3/50\n",
      "\u001b[1m174/174\u001b[0m \u001b[32m━━━━━━━━━━━━━━━━━━━━\u001b[0m\u001b[37m\u001b[0m \u001b[1m1s\u001b[0m 4ms/step - accuracy: 0.8746 - loss: 0.6271 - val_accuracy: 0.8790 - val_loss: 0.6517\n",
      "Epoch 4/50\n",
      "\u001b[1m174/174\u001b[0m \u001b[32m━━━━━━━━━━━━━━━━━━━━\u001b[0m\u001b[37m\u001b[0m \u001b[1m1s\u001b[0m 4ms/step - accuracy: 0.8794 - loss: 0.5961 - val_accuracy: 0.8726 - val_loss: 0.6668\n",
      "Epoch 5/50\n",
      "\u001b[1m174/174\u001b[0m \u001b[32m━━━━━━━━━━━━━━━━━━━━\u001b[0m\u001b[37m\u001b[0m \u001b[1m1s\u001b[0m 4ms/step - accuracy: 0.8771 - loss: 0.6416 - val_accuracy: 0.8726 - val_loss: 0.6417\n",
      "Epoch 6/50\n",
      "\u001b[1m174/174\u001b[0m \u001b[32m━━━━━━━━━━━━━━━━━━━━\u001b[0m\u001b[37m\u001b[0m \u001b[1m1s\u001b[0m 4ms/step - accuracy: 0.8818 - loss: 0.6139 - val_accuracy: 0.8803 - val_loss: 0.6275\n",
      "Epoch 7/50\n",
      "\u001b[1m174/174\u001b[0m \u001b[32m━━━━━━━━━━━━━━━━━━━━\u001b[0m\u001b[37m\u001b[0m \u001b[1m1s\u001b[0m 4ms/step - accuracy: 0.8884 - loss: 0.5971 - val_accuracy: 0.8726 - val_loss: 0.6512\n",
      "Epoch 8/50\n",
      "\u001b[1m174/174\u001b[0m \u001b[32m━━━━━━━━━━━━━━━━━━━━\u001b[0m\u001b[37m\u001b[0m \u001b[1m1s\u001b[0m 4ms/step - accuracy: 0.8788 - loss: 0.6196 - val_accuracy: 0.8726 - val_loss: 0.6422\n",
      "Epoch 9/50\n",
      "\u001b[1m174/174\u001b[0m \u001b[32m━━━━━━━━━━━━━━━━━━━━\u001b[0m\u001b[37m\u001b[0m \u001b[1m1s\u001b[0m 3ms/step - accuracy: 0.8767 - loss: 0.6192 - val_accuracy: 0.8764 - val_loss: 0.6150\n",
      "Epoch 10/50\n",
      "\u001b[1m174/174\u001b[0m \u001b[32m━━━━━━━━━━━━━━━━━━━━\u001b[0m\u001b[37m\u001b[0m \u001b[1m1s\u001b[0m 4ms/step - accuracy: 0.8773 - loss: 0.6318 - val_accuracy: 0.8726 - val_loss: 0.6301\n",
      "Epoch 11/50\n",
      "\u001b[1m174/174\u001b[0m \u001b[32m━━━━━━━━━━━━━━━━━━━━\u001b[0m\u001b[37m\u001b[0m \u001b[1m1s\u001b[0m 4ms/step - accuracy: 0.8780 - loss: 0.6222 - val_accuracy: 0.8510 - val_loss: 0.7440\n",
      "Epoch 12/50\n",
      "\u001b[1m174/174\u001b[0m \u001b[32m━━━━━━━━━━━━━━━━━━━━\u001b[0m\u001b[37m\u001b[0m \u001b[1m1s\u001b[0m 4ms/step - accuracy: 0.8500 - loss: 0.7377 - val_accuracy: 0.8752 - val_loss: 0.7205\n",
      "Epoch 13/50\n",
      "\u001b[1m174/174\u001b[0m \u001b[32m━━━━━━━━━━━━━━━━━━━━\u001b[0m\u001b[37m\u001b[0m \u001b[1m1s\u001b[0m 4ms/step - accuracy: 0.8809 - loss: 0.6515 - val_accuracy: 0.8739 - val_loss: 0.6478\n",
      "Epoch 14/50\n",
      "\u001b[1m174/174\u001b[0m \u001b[32m━━━━━━━━━━━━━━━━━━━━\u001b[0m\u001b[37m\u001b[0m \u001b[1m1s\u001b[0m 4ms/step - accuracy: 0.8854 - loss: 0.6077 - val_accuracy: 0.8803 - val_loss: 0.6331\n",
      "Epoch 15/50\n",
      "\u001b[1m174/174\u001b[0m \u001b[32m━━━━━━━━━━━━━━━━━━━━\u001b[0m\u001b[37m\u001b[0m \u001b[1m1s\u001b[0m 4ms/step - accuracy: 0.8798 - loss: 0.6225 - val_accuracy: 0.8803 - val_loss: 0.6271\n",
      "Epoch 16/50\n",
      "\u001b[1m174/174\u001b[0m \u001b[32m━━━━━━━━━━━━━━━━━━━━\u001b[0m\u001b[37m\u001b[0m \u001b[1m1s\u001b[0m 4ms/step - accuracy: 0.8886 - loss: 0.5877 - val_accuracy: 0.8624 - val_loss: 0.7040\n",
      "Epoch 17/50\n",
      "\u001b[1m174/174\u001b[0m \u001b[32m━━━━━━━━━━━━━━━━━━━━\u001b[0m\u001b[37m\u001b[0m \u001b[1m1s\u001b[0m 4ms/step - accuracy: 0.8796 - loss: 0.6234 - val_accuracy: 0.8777 - val_loss: 0.6245\n",
      "Epoch 18/50\n",
      "\u001b[1m174/174\u001b[0m \u001b[32m━━━━━━━━━━━━━━━━━━━━\u001b[0m\u001b[37m\u001b[0m \u001b[1m1s\u001b[0m 4ms/step - accuracy: 0.8787 - loss: 0.6313 - val_accuracy: 0.8777 - val_loss: 0.6495\n",
      "Epoch 19/50\n",
      "\u001b[1m174/174\u001b[0m \u001b[32m━━━━━━━━━━━━━━━━━━━━\u001b[0m\u001b[37m\u001b[0m \u001b[1m1s\u001b[0m 4ms/step - accuracy: 0.8756 - loss: 0.6320 - val_accuracy: 0.8713 - val_loss: 0.6856\n",
      "Epoch 20/50\n",
      "\u001b[1m174/174\u001b[0m \u001b[32m━━━━━━━━━━━━━━━━━━━━\u001b[0m\u001b[37m\u001b[0m \u001b[1m1s\u001b[0m 4ms/step - accuracy: 0.8786 - loss: 0.6311 - val_accuracy: 0.8790 - val_loss: 0.5932\n",
      "Epoch 21/50\n",
      "\u001b[1m174/174\u001b[0m \u001b[32m━━━━━━━━━━━━━━━━━━━━\u001b[0m\u001b[37m\u001b[0m \u001b[1m1s\u001b[0m 3ms/step - accuracy: 0.8758 - loss: 0.6343 - val_accuracy: 0.8790 - val_loss: 0.6318\n",
      "Epoch 22/50\n",
      "\u001b[1m174/174\u001b[0m \u001b[32m━━━━━━━━━━━━━━━━━━━━\u001b[0m\u001b[37m\u001b[0m \u001b[1m1s\u001b[0m 4ms/step - accuracy: 0.8710 - loss: 0.6438 - val_accuracy: 0.8790 - val_loss: 0.6182\n",
      "Epoch 23/50\n",
      "\u001b[1m174/174\u001b[0m \u001b[32m━━━━━━━━━━━━━━━━━━━━\u001b[0m\u001b[37m\u001b[0m \u001b[1m1s\u001b[0m 4ms/step - accuracy: 0.8764 - loss: 0.6316 - val_accuracy: 0.8790 - val_loss: 0.6195\n",
      "Epoch 24/50\n",
      "\u001b[1m174/174\u001b[0m \u001b[32m━━━━━━━━━━━━━━━━━━━━\u001b[0m\u001b[37m\u001b[0m \u001b[1m1s\u001b[0m 4ms/step - accuracy: 0.8585 - loss: 0.6812 - val_accuracy: 0.8777 - val_loss: 0.6265\n",
      "Epoch 25/50\n",
      "\u001b[1m174/174\u001b[0m \u001b[32m━━━━━━━━━━━━━━━━━━━━\u001b[0m\u001b[37m\u001b[0m \u001b[1m1s\u001b[0m 4ms/step - accuracy: 0.8735 - loss: 0.6414 - val_accuracy: 0.8803 - val_loss: 0.6320\n",
      "Epoch 26/50\n",
      "\u001b[1m174/174\u001b[0m \u001b[32m━━━━━━━━━━━━━━━━━━━━\u001b[0m\u001b[37m\u001b[0m \u001b[1m1s\u001b[0m 4ms/step - accuracy: 0.8777 - loss: 0.6160 - val_accuracy: 0.8790 - val_loss: 0.6181\n",
      "Epoch 27/50\n",
      "\u001b[1m174/174\u001b[0m \u001b[32m━━━━━━━━━━━━━━━━━━━━\u001b[0m\u001b[37m\u001b[0m \u001b[1m1s\u001b[0m 4ms/step - accuracy: 0.8750 - loss: 0.6318 - val_accuracy: 0.8790 - val_loss: 0.6206\n",
      "Epoch 28/50\n",
      "\u001b[1m174/174\u001b[0m \u001b[32m━━━━━━━━━━━━━━━━━━━━\u001b[0m\u001b[37m\u001b[0m \u001b[1m1s\u001b[0m 4ms/step - accuracy: 0.8859 - loss: 0.5903 - val_accuracy: 0.8790 - val_loss: 0.6243\n",
      "Epoch 29/50\n",
      "\u001b[1m174/174\u001b[0m \u001b[32m━━━━━━━━━━━━━━━━━━━━\u001b[0m\u001b[37m\u001b[0m \u001b[1m1s\u001b[0m 4ms/step - accuracy: 0.8761 - loss: 0.6244 - val_accuracy: 0.8803 - val_loss: 0.6167\n",
      "Epoch 30/50\n",
      "\u001b[1m174/174\u001b[0m \u001b[32m━━━━━━━━━━━━━━━━━━━━\u001b[0m\u001b[37m\u001b[0m \u001b[1m1s\u001b[0m 4ms/step - accuracy: 0.8841 - loss: 0.6078 - val_accuracy: 0.8790 - val_loss: 0.6223\n",
      "Epoch 31/50\n",
      "\u001b[1m174/174\u001b[0m \u001b[32m━━━━━━━━━━━━━━━━━━━━\u001b[0m\u001b[37m\u001b[0m \u001b[1m1s\u001b[0m 4ms/step - accuracy: 0.8845 - loss: 0.5936 - val_accuracy: 0.8790 - val_loss: 0.6283\n",
      "Epoch 32/50\n",
      "\u001b[1m174/174\u001b[0m \u001b[32m━━━━━━━━━━━━━━━━━━━━\u001b[0m\u001b[37m\u001b[0m \u001b[1m1s\u001b[0m 4ms/step - accuracy: 0.8850 - loss: 0.6036 - val_accuracy: 0.8790 - val_loss: 0.6312\n",
      "Epoch 33/50\n",
      "\u001b[1m174/174\u001b[0m \u001b[32m━━━━━━━━━━━━━━━━━━━━\u001b[0m\u001b[37m\u001b[0m \u001b[1m1s\u001b[0m 4ms/step - accuracy: 0.8823 - loss: 0.6036 - val_accuracy: 0.8790 - val_loss: 0.6197\n",
      "Epoch 34/50\n",
      "\u001b[1m174/174\u001b[0m \u001b[32m━━━━━━━━━━━━━━━━━━━━\u001b[0m\u001b[37m\u001b[0m \u001b[1m1s\u001b[0m 4ms/step - accuracy: 0.8749 - loss: 0.6261 - val_accuracy: 0.8790 - val_loss: 0.6205\n",
      "Epoch 35/50\n",
      "\u001b[1m174/174\u001b[0m \u001b[32m━━━━━━━━━━━━━━━━━━━━\u001b[0m\u001b[37m\u001b[0m \u001b[1m1s\u001b[0m 4ms/step - accuracy: 0.8770 - loss: 0.6185 - val_accuracy: 0.8777 - val_loss: 0.6433\n",
      "Epoch 36/50\n",
      "\u001b[1m174/174\u001b[0m \u001b[32m━━━━━━━━━━━━━━━━━━━━\u001b[0m\u001b[37m\u001b[0m \u001b[1m1s\u001b[0m 4ms/step - accuracy: 0.8800 - loss: 0.6234 - val_accuracy: 0.8790 - val_loss: 0.6182\n",
      "Epoch 37/50\n",
      "\u001b[1m174/174\u001b[0m \u001b[32m━━━━━━━━━━━━━━━━━━━━\u001b[0m\u001b[37m\u001b[0m \u001b[1m1s\u001b[0m 4ms/step - accuracy: 0.8714 - loss: 0.6398 - val_accuracy: 0.8790 - val_loss: 0.6203\n",
      "Epoch 38/50\n",
      "\u001b[1m174/174\u001b[0m \u001b[32m━━━━━━━━━━━━━━━━━━━━\u001b[0m\u001b[37m\u001b[0m \u001b[1m1s\u001b[0m 4ms/step - accuracy: 0.8801 - loss: 0.6161 - val_accuracy: 0.8790 - val_loss: 0.6215\n",
      "Epoch 39/50\n",
      "\u001b[1m174/174\u001b[0m \u001b[32m━━━━━━━━━━━━━━━━━━━━\u001b[0m\u001b[37m\u001b[0m \u001b[1m1s\u001b[0m 4ms/step - accuracy: 0.8682 - loss: 0.6491 - val_accuracy: 0.8803 - val_loss: 0.6163\n",
      "Epoch 40/50\n",
      "\u001b[1m174/174\u001b[0m \u001b[32m━━━━━━━━━━━━━━━━━━━━\u001b[0m\u001b[37m\u001b[0m \u001b[1m1s\u001b[0m 4ms/step - accuracy: 0.8915 - loss: 0.5842 - val_accuracy: 0.8790 - val_loss: 0.6888\n",
      "Epoch 41/50\n",
      "\u001b[1m174/174\u001b[0m \u001b[32m━━━━━━━━━━━━━━━━━━━━\u001b[0m\u001b[37m\u001b[0m \u001b[1m1s\u001b[0m 3ms/step - accuracy: 0.8770 - loss: 0.6403 - val_accuracy: 0.8803 - val_loss: 0.6238\n",
      "Epoch 42/50\n",
      "\u001b[1m174/174\u001b[0m \u001b[32m━━━━━━━━━━━━━━━━━━━━\u001b[0m\u001b[37m\u001b[0m \u001b[1m1s\u001b[0m 4ms/step - accuracy: 0.8795 - loss: 0.6175 - val_accuracy: 0.8803 - val_loss: 0.6160\n",
      "Epoch 43/50\n",
      "\u001b[1m174/174\u001b[0m \u001b[32m━━━━━━━━━━━━━━━━━━━━\u001b[0m\u001b[37m\u001b[0m \u001b[1m1s\u001b[0m 4ms/step - accuracy: 0.8823 - loss: 0.6088 - val_accuracy: 0.8803 - val_loss: 0.6147\n",
      "Epoch 44/50\n",
      "\u001b[1m174/174\u001b[0m \u001b[32m━━━━━━━━━━━━━━━━━━━━\u001b[0m\u001b[37m\u001b[0m \u001b[1m1s\u001b[0m 4ms/step - accuracy: 0.8847 - loss: 0.6038 - val_accuracy: 0.8803 - val_loss: 0.6197\n",
      "Epoch 45/50\n",
      "\u001b[1m174/174\u001b[0m \u001b[32m━━━━━━━━━━━━━━━━━━━━\u001b[0m\u001b[37m\u001b[0m \u001b[1m1s\u001b[0m 4ms/step - accuracy: 0.8742 - loss: 0.6362 - val_accuracy: 0.8815 - val_loss: 0.6134\n",
      "Epoch 46/50\n",
      "\u001b[1m174/174\u001b[0m \u001b[32m━━━━━━━━━━━━━━━━━━━━\u001b[0m\u001b[37m\u001b[0m \u001b[1m1s\u001b[0m 4ms/step - accuracy: 0.8764 - loss: 0.6228 - val_accuracy: 0.8153 - val_loss: 0.8186\n",
      "Epoch 47/50\n",
      "\u001b[1m174/174\u001b[0m \u001b[32m━━━━━━━━━━━━━━━━━━━━\u001b[0m\u001b[37m\u001b[0m \u001b[1m1s\u001b[0m 4ms/step - accuracy: 0.8632 - loss: 0.6688 - val_accuracy: 0.8803 - val_loss: 0.6265\n",
      "Epoch 48/50\n",
      "\u001b[1m174/174\u001b[0m \u001b[32m━━━━━━━━━━━━━━━━━━━━\u001b[0m\u001b[37m\u001b[0m \u001b[1m1s\u001b[0m 4ms/step - accuracy: 0.8748 - loss: 0.6244 - val_accuracy: 0.8815 - val_loss: 0.6150\n",
      "Epoch 49/50\n",
      "\u001b[1m174/174\u001b[0m \u001b[32m━━━━━━━━━━━━━━━━━━━━\u001b[0m\u001b[37m\u001b[0m \u001b[1m1s\u001b[0m 4ms/step - accuracy: 0.8739 - loss: 0.6378 - val_accuracy: 0.8803 - val_loss: 0.6588\n",
      "Epoch 50/50\n",
      "\u001b[1m174/174\u001b[0m \u001b[32m━━━━━━━━━━━━━━━━━━━━\u001b[0m\u001b[37m\u001b[0m \u001b[1m1s\u001b[0m 4ms/step - accuracy: 0.8851 - loss: 0.6031 - val_accuracy: 0.8790 - val_loss: 0.6503\n"
     ]
    }
   ],
   "source": [
    "# Train the model\n",
    "history = model.fit(X_train_reshaped, y_train, epochs=50,  validation_data=(X_val_reshaped, y_val))"
   ]
  },
  {
   "cell_type": "code",
   "execution_count": 15,
   "id": "da2c6553",
   "metadata": {
    "execution": {
     "iopub.execute_input": "2024-06-30T20:08:15.174911Z",
     "iopub.status.busy": "2024-06-30T20:08:15.174519Z",
     "iopub.status.idle": "2024-06-30T20:08:15.178789Z",
     "shell.execute_reply": "2024-06-30T20:08:15.177822Z"
    },
    "papermill": {
     "duration": 0.065759,
     "end_time": "2024-06-30T20:08:15.180746",
     "exception": false,
     "start_time": "2024-06-30T20:08:15.114987",
     "status": "completed"
    },
    "tags": []
   },
   "outputs": [],
   "source": [
    "# Train the model\n",
    "#history = model.fit(X_train_reshaped, y_train, epochs=50, validation_data=(X_val_reshaped, y_val))"
   ]
  },
  {
   "cell_type": "code",
   "execution_count": 16,
   "id": "8bff1b8a",
   "metadata": {
    "execution": {
     "iopub.execute_input": "2024-06-30T20:08:15.295643Z",
     "iopub.status.busy": "2024-06-30T20:08:15.294712Z",
     "iopub.status.idle": "2024-06-30T20:08:15.317394Z",
     "shell.execute_reply": "2024-06-30T20:08:15.316353Z"
    },
    "papermill": {
     "duration": 0.082463,
     "end_time": "2024-06-30T20:08:15.319486",
     "exception": false,
     "start_time": "2024-06-30T20:08:15.237023",
     "status": "completed"
    },
    "tags": []
   },
   "outputs": [
    {
     "data": {
      "text/html": [
       "<pre style=\"white-space:pre;overflow-x:auto;line-height:normal;font-family:Menlo,'DejaVu Sans Mono',consolas,'Courier New',monospace\"><span style=\"font-weight: bold\">Model: \"sequential\"</span>\n",
       "</pre>\n"
      ],
      "text/plain": [
       "\u001b[1mModel: \"sequential\"\u001b[0m\n"
      ]
     },
     "metadata": {},
     "output_type": "display_data"
    },
    {
     "data": {
      "text/html": [
       "<pre style=\"white-space:pre;overflow-x:auto;line-height:normal;font-family:Menlo,'DejaVu Sans Mono',consolas,'Courier New',monospace\">┏━━━━━━━━━━━━━━━━━━━━━━━━━━━━━━━━━┳━━━━━━━━━━━━━━━━━━━━━━━━┳━━━━━━━━━━━━━━━┓\n",
       "┃<span style=\"font-weight: bold\"> Layer (type)                    </span>┃<span style=\"font-weight: bold\"> Output Shape           </span>┃<span style=\"font-weight: bold\">       Param # </span>┃\n",
       "┡━━━━━━━━━━━━━━━━━━━━━━━━━━━━━━━━━╇━━━━━━━━━━━━━━━━━━━━━━━━╇━━━━━━━━━━━━━━━┩\n",
       "│ lstm (<span style=\"color: #0087ff; text-decoration-color: #0087ff\">LSTM</span>)                     │ (<span style=\"color: #00d7ff; text-decoration-color: #00d7ff\">None</span>, <span style=\"color: #00af00; text-decoration-color: #00af00\">1</span>, <span style=\"color: #00af00; text-decoration-color: #00af00\">50</span>)          │        <span style=\"color: #00af00; text-decoration-color: #00af00\">12,200</span> │\n",
       "├─────────────────────────────────┼────────────────────────┼───────────────┤\n",
       "│ lstm_1 (<span style=\"color: #0087ff; text-decoration-color: #0087ff\">LSTM</span>)                   │ (<span style=\"color: #00d7ff; text-decoration-color: #00d7ff\">None</span>, <span style=\"color: #00af00; text-decoration-color: #00af00\">50</span>)             │        <span style=\"color: #00af00; text-decoration-color: #00af00\">20,200</span> │\n",
       "├─────────────────────────────────┼────────────────────────┼───────────────┤\n",
       "│ dense (<span style=\"color: #0087ff; text-decoration-color: #0087ff\">Dense</span>)                   │ (<span style=\"color: #00d7ff; text-decoration-color: #00d7ff\">None</span>, <span style=\"color: #00af00; text-decoration-color: #00af00\">1</span>)              │            <span style=\"color: #00af00; text-decoration-color: #00af00\">51</span> │\n",
       "└─────────────────────────────────┴────────────────────────┴───────────────┘\n",
       "</pre>\n"
      ],
      "text/plain": [
       "┏━━━━━━━━━━━━━━━━━━━━━━━━━━━━━━━━━┳━━━━━━━━━━━━━━━━━━━━━━━━┳━━━━━━━━━━━━━━━┓\n",
       "┃\u001b[1m \u001b[0m\u001b[1mLayer (type)                   \u001b[0m\u001b[1m \u001b[0m┃\u001b[1m \u001b[0m\u001b[1mOutput Shape          \u001b[0m\u001b[1m \u001b[0m┃\u001b[1m \u001b[0m\u001b[1m      Param #\u001b[0m\u001b[1m \u001b[0m┃\n",
       "┡━━━━━━━━━━━━━━━━━━━━━━━━━━━━━━━━━╇━━━━━━━━━━━━━━━━━━━━━━━━╇━━━━━━━━━━━━━━━┩\n",
       "│ lstm (\u001b[38;5;33mLSTM\u001b[0m)                     │ (\u001b[38;5;45mNone\u001b[0m, \u001b[38;5;34m1\u001b[0m, \u001b[38;5;34m50\u001b[0m)          │        \u001b[38;5;34m12,200\u001b[0m │\n",
       "├─────────────────────────────────┼────────────────────────┼───────────────┤\n",
       "│ lstm_1 (\u001b[38;5;33mLSTM\u001b[0m)                   │ (\u001b[38;5;45mNone\u001b[0m, \u001b[38;5;34m50\u001b[0m)             │        \u001b[38;5;34m20,200\u001b[0m │\n",
       "├─────────────────────────────────┼────────────────────────┼───────────────┤\n",
       "│ dense (\u001b[38;5;33mDense\u001b[0m)                   │ (\u001b[38;5;45mNone\u001b[0m, \u001b[38;5;34m1\u001b[0m)              │            \u001b[38;5;34m51\u001b[0m │\n",
       "└─────────────────────────────────┴────────────────────────┴───────────────┘\n"
      ]
     },
     "metadata": {},
     "output_type": "display_data"
    },
    {
     "data": {
      "text/html": [
       "<pre style=\"white-space:pre;overflow-x:auto;line-height:normal;font-family:Menlo,'DejaVu Sans Mono',consolas,'Courier New',monospace\"><span style=\"font-weight: bold\"> Total params: </span><span style=\"color: #00af00; text-decoration-color: #00af00\">97,355</span> (380.30 KB)\n",
       "</pre>\n"
      ],
      "text/plain": [
       "\u001b[1m Total params: \u001b[0m\u001b[38;5;34m97,355\u001b[0m (380.30 KB)\n"
      ]
     },
     "metadata": {},
     "output_type": "display_data"
    },
    {
     "data": {
      "text/html": [
       "<pre style=\"white-space:pre;overflow-x:auto;line-height:normal;font-family:Menlo,'DejaVu Sans Mono',consolas,'Courier New',monospace\"><span style=\"font-weight: bold\"> Trainable params: </span><span style=\"color: #00af00; text-decoration-color: #00af00\">32,451</span> (126.76 KB)\n",
       "</pre>\n"
      ],
      "text/plain": [
       "\u001b[1m Trainable params: \u001b[0m\u001b[38;5;34m32,451\u001b[0m (126.76 KB)\n"
      ]
     },
     "metadata": {},
     "output_type": "display_data"
    },
    {
     "data": {
      "text/html": [
       "<pre style=\"white-space:pre;overflow-x:auto;line-height:normal;font-family:Menlo,'DejaVu Sans Mono',consolas,'Courier New',monospace\"><span style=\"font-weight: bold\"> Non-trainable params: </span><span style=\"color: #00af00; text-decoration-color: #00af00\">0</span> (0.00 B)\n",
       "</pre>\n"
      ],
      "text/plain": [
       "\u001b[1m Non-trainable params: \u001b[0m\u001b[38;5;34m0\u001b[0m (0.00 B)\n"
      ]
     },
     "metadata": {},
     "output_type": "display_data"
    },
    {
     "data": {
      "text/html": [
       "<pre style=\"white-space:pre;overflow-x:auto;line-height:normal;font-family:Menlo,'DejaVu Sans Mono',consolas,'Courier New',monospace\"><span style=\"font-weight: bold\"> Optimizer params: </span><span style=\"color: #00af00; text-decoration-color: #00af00\">64,904</span> (253.54 KB)\n",
       "</pre>\n"
      ],
      "text/plain": [
       "\u001b[1m Optimizer params: \u001b[0m\u001b[38;5;34m64,904\u001b[0m (253.54 KB)\n"
      ]
     },
     "metadata": {},
     "output_type": "display_data"
    }
   ],
   "source": [
    "model.summary()"
   ]
  },
  {
   "cell_type": "code",
   "execution_count": 17,
   "id": "1da46b5a",
   "metadata": {
    "execution": {
     "iopub.execute_input": "2024-06-30T20:08:15.435841Z",
     "iopub.status.busy": "2024-06-30T20:08:15.435453Z",
     "iopub.status.idle": "2024-06-30T20:08:15.963587Z",
     "shell.execute_reply": "2024-06-30T20:08:15.962199Z"
    },
    "papermill": {
     "duration": 0.58966,
     "end_time": "2024-06-30T20:08:15.966477",
     "exception": false,
     "start_time": "2024-06-30T20:08:15.376817",
     "status": "completed"
    },
    "tags": []
   },
   "outputs": [
    {
     "name": "stdout",
     "output_type": "stream",
     "text": [
      "\u001b[1m50/50\u001b[0m \u001b[32m━━━━━━━━━━━━━━━━━━━━\u001b[0m\u001b[37m\u001b[0m \u001b[1m0s\u001b[0m 2ms/step - accuracy: 0.8582 - loss: 0.7012\n",
      "Test Accuracy: 0.8712311387062073\n"
     ]
    }
   ],
   "source": [
    "# Evaluate the model\n",
    "test_loss, test_acc = model.evaluate(X_test_reshaped, y_test)\n",
    "print(\"Test Accuracy:\", test_acc)"
   ]
  },
  {
   "cell_type": "code",
   "execution_count": 18,
   "id": "b1ba0d57",
   "metadata": {
    "execution": {
     "iopub.execute_input": "2024-06-30T20:08:16.146776Z",
     "iopub.status.busy": "2024-06-30T20:08:16.145964Z",
     "iopub.status.idle": "2024-06-30T20:08:16.849975Z",
     "shell.execute_reply": "2024-06-30T20:08:16.848956Z"
    },
    "papermill": {
     "duration": 0.769598,
     "end_time": "2024-06-30T20:08:16.852576",
     "exception": false,
     "start_time": "2024-06-30T20:08:16.082978",
     "status": "completed"
    },
    "tags": []
   },
   "outputs": [
    {
     "name": "stdout",
     "output_type": "stream",
     "text": [
      "\u001b[1m50/50\u001b[0m \u001b[32m━━━━━━━━━━━━━━━━━━━━\u001b[0m\u001b[37m\u001b[0m \u001b[1m1s\u001b[0m 7ms/step\n"
     ]
    }
   ],
   "source": [
    "# Making predictions\n",
    "predictions = model.predict(X_test_reshaped)\n",
    "binary_predictions = (predictions > 0.5).astype(int)"
   ]
  },
  {
   "cell_type": "code",
   "execution_count": 19,
   "id": "4b5c75b5",
   "metadata": {
    "execution": {
     "iopub.execute_input": "2024-06-30T20:08:16.972669Z",
     "iopub.status.busy": "2024-06-30T20:08:16.972269Z",
     "iopub.status.idle": "2024-06-30T20:08:16.981497Z",
     "shell.execute_reply": "2024-06-30T20:08:16.980624Z"
    },
    "papermill": {
     "duration": 0.072094,
     "end_time": "2024-06-30T20:08:16.983618",
     "exception": false,
     "start_time": "2024-06-30T20:08:16.911524",
     "status": "completed"
    },
    "tags": []
   },
   "outputs": [],
   "source": [
    "import pandas as pd\n",
    "\n",
    "# Assuming 'predictions' are in the format returned by model.predict() and are probabilities\n",
    "# Flatten the predictions array and round them off for better readability\n",
    "predicted_probs = predictions.flatten().round(2)\n",
    "\n",
    "# Create a DataFrame from the test set features\n",
    "test_features = pd.DataFrame(X_test_reshaped.reshape(X_test_reshaped.shape[0], n_features), columns=X_test.columns)\n",
    "\n",
    "# Add the predictions and the actual labels to the DataFrame\n",
    "test_features['Predicted Probability'] = predicted_probs\n",
    "test_features['Actual Label'] = y_test  \n",
    "\n",
    "# Sort the DataFrame by 'Predicted Probability' to get the top predictions\n",
    "test_features_sorted = test_features.sort_values(by='Predicted Probability', ascending=False)"
   ]
  },
  {
   "cell_type": "code",
   "execution_count": 20,
   "id": "c028bc3b",
   "metadata": {
    "execution": {
     "iopub.execute_input": "2024-06-30T20:08:17.102619Z",
     "iopub.status.busy": "2024-06-30T20:08:17.102225Z",
     "iopub.status.idle": "2024-06-30T20:08:17.111639Z",
     "shell.execute_reply": "2024-06-30T20:08:17.110644Z"
    },
    "papermill": {
     "duration": 0.071504,
     "end_time": "2024-06-30T20:08:17.113817",
     "exception": false,
     "start_time": "2024-06-30T20:08:17.042313",
     "status": "completed"
    },
    "tags": []
   },
   "outputs": [
    {
     "name": "stdout",
     "output_type": "stream",
     "text": [
      "      Months_after_giving_birth  IUFL  EUFL  IUFR  EUFR  IURL  EURL  IURR  \\\n",
      "445                           5   239   279   241   281   308   360   240   \n",
      "546                           1   244   276   246   281   314   367   237   \n",
      "1340                          4   154   183   310   360   151   183   154   \n",
      "1339                          1   242   284   309   360   240   284   245   \n",
      "537                           2   243   287   242   288   311   362   247   \n",
      "\n",
      "      EURR  Temperature  Predicted Probability  Actual Label  \n",
      "445    280           43                    1.0             1  \n",
      "546    283           43                    1.0             1  \n",
      "1340   191           49                    1.0             1  \n",
      "1339   280           43                    1.0             1  \n",
      "537    286           43                    1.0             1  \n"
     ]
    }
   ],
   "source": [
    "# Display the top 5 predictions\n",
    "top_5_predictions = test_features_sorted.head(5)\n",
    "print(top_5_predictions)"
   ]
  },
  {
   "cell_type": "code",
   "execution_count": 21,
   "id": "d8f773df",
   "metadata": {
    "execution": {
     "iopub.execute_input": "2024-06-30T20:08:17.235720Z",
     "iopub.status.busy": "2024-06-30T20:08:17.234737Z",
     "iopub.status.idle": "2024-06-30T20:08:17.247999Z",
     "shell.execute_reply": "2024-06-30T20:08:17.246951Z"
    },
    "papermill": {
     "duration": 0.076431,
     "end_time": "2024-06-30T20:08:17.250337",
     "exception": false,
     "start_time": "2024-06-30T20:08:17.173906",
     "status": "completed"
    },
    "tags": []
   },
   "outputs": [
    {
     "data": {
      "text/plain": [
       "<bound method DataFrame.info of       Months_after_giving_birth  IUFL  EUFL  IUFR  EUFR  IURL  EURL  IURR  \\\n",
       "445                           5   239   279   241   281   308   360   240   \n",
       "546                           1   244   276   246   281   314   367   237   \n",
       "1340                          4   154   183   310   360   151   183   154   \n",
       "1339                          1   242   284   309   360   240   284   245   \n",
       "537                           2   243   287   242   288   311   362   247   \n",
       "\n",
       "      EURR  Temperature  Predicted Probability  Actual Label  \n",
       "445    280           43                    1.0             1  \n",
       "546    283           43                    1.0             1  \n",
       "1340   191           49                    1.0             1  \n",
       "1339   280           43                    1.0             1  \n",
       "537    286           43                    1.0             1  >"
      ]
     },
     "execution_count": 21,
     "metadata": {},
     "output_type": "execute_result"
    }
   ],
   "source": [
    "top_5_predictions.to_csv(\"top_5_predictions_v1.0.csv\", index=False)\n",
    "top_5_predictions.info"
   ]
  },
  {
   "cell_type": "code",
   "execution_count": 22,
   "id": "6158a0b1",
   "metadata": {
    "execution": {
     "iopub.execute_input": "2024-06-30T20:08:17.371809Z",
     "iopub.status.busy": "2024-06-30T20:08:17.370891Z",
     "iopub.status.idle": "2024-06-30T20:08:17.375933Z",
     "shell.execute_reply": "2024-06-30T20:08:17.374929Z"
    },
    "papermill": {
     "duration": 0.068467,
     "end_time": "2024-06-30T20:08:17.377993",
     "exception": false,
     "start_time": "2024-06-30T20:08:17.309526",
     "status": "completed"
    },
    "tags": []
   },
   "outputs": [],
   "source": [
    "# Convert probabilities to binary predictions\n",
    "threshold = 0.5\n",
    "binary_predictions = (predictions > threshold).astype(int)"
   ]
  },
  {
   "cell_type": "code",
   "execution_count": 23,
   "id": "d1d1186f",
   "metadata": {
    "execution": {
     "iopub.execute_input": "2024-06-30T20:08:17.498559Z",
     "iopub.status.busy": "2024-06-30T20:08:17.497910Z",
     "iopub.status.idle": "2024-06-30T20:08:17.504368Z",
     "shell.execute_reply": "2024-06-30T20:08:17.503456Z"
    },
    "papermill": {
     "duration": 0.06962,
     "end_time": "2024-06-30T20:08:17.506440",
     "exception": false,
     "start_time": "2024-06-30T20:08:17.436820",
     "status": "completed"
    },
    "tags": []
   },
   "outputs": [],
   "source": [
    "from sklearn.metrics import confusion_matrix\n",
    "\n",
    "# Generate the confusion matrix\n",
    "conf_matrix = confusion_matrix(y_test, binary_predictions)"
   ]
  },
  {
   "cell_type": "code",
   "execution_count": 24,
   "id": "c72621f0",
   "metadata": {
    "execution": {
     "iopub.execute_input": "2024-06-30T20:08:17.624994Z",
     "iopub.status.busy": "2024-06-30T20:08:17.624118Z",
     "iopub.status.idle": "2024-06-30T20:08:18.120913Z",
     "shell.execute_reply": "2024-06-30T20:08:18.118926Z"
    },
    "papermill": {
     "duration": 0.559144,
     "end_time": "2024-06-30T20:08:18.123668",
     "exception": false,
     "start_time": "2024-06-30T20:08:17.564524",
     "status": "completed"
    },
    "tags": []
   },
   "outputs": [
    {
     "data": {
      "image/png": "[encoded data removed]",
      "text/plain": [
       "<Figure size 1200x400 with 2 Axes>"
      ]
     },
     "metadata": {},
     "output_type": "display_data"
    }
   ],
   "source": [
    "# Plot training & validation loss values\n",
    "plt.figure(figsize=(12, 4))\n",
    "plt.subplot(1, 2, 1)\n",
    "plt.plot(history.history['loss'], label='Train Loss')\n",
    "plt.plot(history.history['val_loss'], label='Validation Loss')\n",
    "plt.title('Model Loss Over Epochs')\n",
    "plt.xlabel('Epoch')\n",
    "plt.ylabel('Loss')\n",
    "plt.legend(loc='upper right')\n",
    "\n",
    "# Plot training & validation accuracy values\n",
    "plt.subplot(1, 2, 2)\n",
    "plt.plot(history.history['accuracy'], label='Train Accuracy')\n",
    "plt.plot(history.history['val_accuracy'], label='Validation Accuracy')\n",
    "plt.title('Model Accuracy Over Epochs')\n",
    "plt.xlabel('Epoch')\n",
    "plt.ylabel('Accuracy')\n",
    "plt.legend(loc='lower right')\n",
    "\n",
    "plt.tight_layout()\n",
    "plt.show()\n"
   ]
  },
  {
   "cell_type": "code",
   "execution_count": 25,
   "id": "324db7d7",
   "metadata": {
    "execution": {
     "iopub.execute_input": "2024-06-30T20:08:18.246592Z",
     "iopub.status.busy": "2024-06-30T20:08:18.246198Z",
     "iopub.status.idle": "2024-06-30T20:08:18.655444Z",
     "shell.execute_reply": "2024-06-30T20:08:18.654349Z"
    },
    "papermill": {
     "duration": 0.473362,
     "end_time": "2024-06-30T20:08:18.658192",
     "exception": false,
     "start_time": "2024-06-30T20:08:18.184830",
     "status": "completed"
    },
    "tags": []
   },
   "outputs": [
    {
     "data": {
      "image/png": "[encoded data removed]",
      "text/plain": [
       "<Figure size 800x600 with 2 Axes>"
      ]
     },
     "metadata": {},
     "output_type": "display_data"
    }
   ],
   "source": [
    "import matplotlib.pyplot as plt\n",
    "import seaborn as sns\n",
    "\n",
    "# Define the labels for the confusion matrix (adjust labels for your specific case)\n",
    "labels = ['Negative', 'Positive']\n",
    "\n",
    "# Create a heatmap from the confusion matrix\n",
    "plt.figure(figsize=(8, 6))\n",
    "sns.heatmap(conf_matrix, annot=True, fmt='d', cmap=\"Blues\", xticklabels=labels, yticklabels=labels)\n",
    "plt.title('Confusion Matrix')\n",
    "plt.ylabel('Actual Class')\n",
    "plt.xlabel('Predicted Class')\n",
    "plt.show()"
   ]
  },
  {
   "cell_type": "code",
   "execution_count": 26,
   "id": "a84a7a60",
   "metadata": {
    "execution": {
     "iopub.execute_input": "2024-06-30T20:08:18.783507Z",
     "iopub.status.busy": "2024-06-30T20:08:18.783118Z",
     "iopub.status.idle": "2024-06-30T20:08:18.800368Z",
     "shell.execute_reply": "2024-06-30T20:08:18.798762Z"
    },
    "papermill": {
     "duration": 0.082851,
     "end_time": "2024-06-30T20:08:18.802717",
     "exception": false,
     "start_time": "2024-06-30T20:08:18.719866",
     "status": "completed"
    },
    "tags": []
   },
   "outputs": [
    {
     "name": "stdout",
     "output_type": "stream",
     "text": [
      "Accuracy: 0.8712311557788944\n",
      "Precision: 0.9951845906902087\n",
      "Recall: 0.754257907542579\n",
      "F1 Score: 0.8581314878892734\n"
     ]
    }
   ],
   "source": [
    "from sklearn.metrics import accuracy_score, precision_score, recall_score, f1_score\n",
    "\n",
    "# Calculate metrics\n",
    "accuracy = accuracy_score(y_test, binary_predictions)\n",
    "precision = precision_score(y_test, binary_predictions)\n",
    "recall = recall_score(y_test, binary_predictions)\n",
    "f1 = f1_score(y_test, binary_predictions)\n",
    "\n",
    "# Print metrics\n",
    "print(\"Accuracy:\", accuracy)\n",
    "print(\"Precision:\", precision)\n",
    "print(\"Recall:\", recall)\n",
    "print(\"F1 Score:\", f1)"
   ]
  },
  {
   "cell_type": "code",
   "execution_count": 27,
   "id": "1f41fe8b",
   "metadata": {
    "execution": {
     "iopub.execute_input": "2024-06-30T20:08:18.929072Z",
     "iopub.status.busy": "2024-06-30T20:08:18.928651Z",
     "iopub.status.idle": "2024-06-30T20:08:19.300991Z",
     "shell.execute_reply": "2024-06-30T20:08:19.299837Z"
    },
    "papermill": {
     "duration": 0.438295,
     "end_time": "2024-06-30T20:08:19.303306",
     "exception": false,
     "start_time": "2024-06-30T20:08:18.865011",
     "status": "completed"
    },
    "tags": []
   },
   "outputs": [
    {
     "name": "stdout",
     "output_type": "stream",
     "text": [
      "\u001b[1m50/50\u001b[0m \u001b[32m━━━━━━━━━━━━━━━━━━━━\u001b[0m\u001b[37m\u001b[0m \u001b[1m0s\u001b[0m 1ms/step\n"
     ]
    },
    {
     "data": {
      "image/png": "[encoded data removed]",
      "text/plain": [
       "<Figure size 640x480 with 1 Axes>"
      ]
     },
     "metadata": {},
     "output_type": "display_data"
    }
   ],
   "source": [
    "from sklearn.metrics import precision_recall_curve, average_precision_score\n",
    "\n",
    "# Predict probabilities\n",
    "y_pred_prob = model.predict(X_test_reshaped).ravel()\n",
    "# Compute precision-recall pairs for different probability thresholds\n",
    "precision, recall, thresholds = precision_recall_curve(y_test, y_pred_prob)\n",
    "\n",
    "# Compute average precision score\n",
    "average_precision = average_precision_score(y_test, y_pred_prob)\n",
    "\n",
    "# Plot the precision-recall curve\n",
    "plt.figure()\n",
    "plt.plot(recall, precision, color='b', lw=2, label=f'Precision-Recall curve (area = {average_precision:.2f})')\n",
    "plt.xlabel('Recall')\n",
    "plt.ylabel('Precision')\n",
    "plt.title('Precision-Recall Curve')\n",
    "plt.legend(loc='lower left')\n",
    "plt.show()"
   ]
  },
  {
   "cell_type": "code",
   "execution_count": 28,
   "id": "fc9c5569",
   "metadata": {
    "execution": {
     "iopub.execute_input": "2024-06-30T20:08:19.427088Z",
     "iopub.status.busy": "2024-06-30T20:08:19.426674Z",
     "iopub.status.idle": "2024-06-30T20:08:19.657173Z",
     "shell.execute_reply": "2024-06-30T20:08:19.656038Z"
    },
    "papermill": {
     "duration": 0.294994,
     "end_time": "2024-06-30T20:08:19.659284",
     "exception": false,
     "start_time": "2024-06-30T20:08:19.364290",
     "status": "completed"
    },
    "tags": []
   },
   "outputs": [
    {
     "name": "stdout",
     "output_type": "stream",
     "text": [
      "True Negatives (TN): 767\n",
      "False Positives (FP): 3\n",
      "False Negatives (FN): 202\n",
      "True Positives (TP): 620\n"
     ]
    },
    {
     "data": {
      "image/png": "[encoded data removed]",
      "text/plain": [
       "<Figure size 800x600 with 2 Axes>"
      ]
     },
     "metadata": {},
     "output_type": "display_data"
    }
   ],
   "source": [
    "import numpy as np\n",
    "import matplotlib.pyplot as plt\n",
    "import seaborn as sns\n",
    "from sklearn.metrics import confusion_matrix\n",
    "\n",
    "# Assuming binary_predictions and y_test are already defined\n",
    "\n",
    "# Generate the confusion matrix\n",
    "conf_matrix = confusion_matrix(y_test, binary_predictions)\n",
    "\n",
    "# Extract TN, FP, FN, TP\n",
    "TN, FP, FN, TP = conf_matrix.ravel()\n",
    "\n",
    "# Print TN, FP, FN, TP\n",
    "print(f\"True Negatives (TN): {TN}\")\n",
    "print(f\"False Positives (FP): {FP}\")\n",
    "print(f\"False Negatives (FN): {FN}\")\n",
    "print(f\"True Positives (TP): {TP}\")\n",
    "\n",
    "# Optional: Visualize the confusion matrix\n",
    "plt.figure(figsize=(8, 6))\n",
    "sns.heatmap(conf_matrix, annot=True, fmt='d', cmap=\"Blues\", xticklabels=['Healthy', 'Mastitis'], yticklabels=['Healthy', 'Mastitis'])\n",
    "plt.title('Confusion Matrix')\n",
    "plt.ylabel('Actual Class')\n",
    "plt.xlabel('Predicted Class')\n",
    "plt.show()"
   ]
  },
  {
   "cell_type": "code",
   "execution_count": 29,
   "id": "0d52bf1e",
   "metadata": {
    "execution": {
     "iopub.execute_input": "2024-06-30T20:08:19.783425Z",
     "iopub.status.busy": "2024-06-30T20:08:19.782601Z",
     "iopub.status.idle": "2024-06-30T20:08:20.196813Z",
     "shell.execute_reply": "2024-06-30T20:08:20.195695Z"
    },
    "papermill": {
     "duration": 0.479269,
     "end_time": "2024-06-30T20:08:20.199370",
     "exception": false,
     "start_time": "2024-06-30T20:08:19.720101",
     "status": "completed"
    },
    "tags": []
   },
   "outputs": [
    {
     "name": "stdout",
     "output_type": "stream",
     "text": [
      "\u001b[1m50/50\u001b[0m \u001b[32m━━━━━━━━━━━━━━━━━━━━\u001b[0m\u001b[37m\u001b[0m \u001b[1m0s\u001b[0m 1ms/step\n"
     ]
    },
    {
     "data": {
      "image/png": "[encoded data removed]",
      "text/plain": [
       "<Figure size 640x480 with 1 Axes>"
      ]
     },
     "metadata": {},
     "output_type": "display_data"
    }
   ],
   "source": [
    "from sklearn.metrics import roc_curve, auc\n",
    "\n",
    "# Predict probabilities\n",
    "y_pred_prob = model.predict(X_test_reshaped).ravel()\n",
    "\n",
    "# Compute ROC curve and ROC area\n",
    "fpr, tpr, thresholds = roc_curve(y_test, y_pred_prob)\n",
    "roc_auc = auc(fpr, tpr)\n",
    "\n",
    "# Plot ROC curve\n",
    "plt.figure()\n",
    "plt.plot(fpr, tpr, color='darkorange', lw=2, label=f'ROC curve (area = {roc_auc:.2f})')\n",
    "plt.plot([0, 1], [0, 1], color='navy', lw=2, linestyle='--')\n",
    "plt.xlim([0.0, 1.0])\n",
    "plt.ylim([0.0, 1.05])\n",
    "plt.xlabel('False Positive Rate')\n",
    "plt.ylabel('True Positive Rate')\n",
    "plt.title('Receiver Operating Characteristic (ROC) Curve')\n",
    "plt.legend(loc='lower right')\n",
    "plt.show()"
   ]
  },
  {
   "cell_type": "code",
   "execution_count": 30,
   "id": "27e7b793",
   "metadata": {
    "execution": {
     "iopub.execute_input": "2024-06-30T20:08:20.327605Z",
     "iopub.status.busy": "2024-06-30T20:08:20.327212Z",
     "iopub.status.idle": "2024-06-30T20:08:20.364606Z",
     "shell.execute_reply": "2024-06-30T20:08:20.363669Z"
    },
    "papermill": {
     "duration": 0.103823,
     "end_time": "2024-06-30T20:08:20.367135",
     "exception": false,
     "start_time": "2024-06-30T20:08:20.263312",
     "status": "completed"
    },
    "tags": []
   },
   "outputs": [],
   "source": [
    "# Save the entire model\n",
    "model.save('lstm_model.h5')"
   ]
  }
 ],
 "metadata": {
  "kaggle": {
   "accelerator": "none",
   "dataSources": [
    {
     "datasetId": 5279788,
     "sourceId": 8783492,
     "sourceType": "datasetVersion"
    },
    {
     "datasetId": 5279900,
     "sourceId": 8821041,
     "sourceType": "datasetVersion"
    }
   ],
   "dockerImageVersionId": 30732,
   "isGpuEnabled": false,
   "isInternetEnabled": false,
   "language": "python",
   "sourceType": "notebook"
  },
  "kernelspec": {
   "display_name": "Python 3",
   "language": "python",
   "name": "python3"
  },
  "language_info": {
   "codemirror_mode": {
    "name": "ipython",
    "version": 3
   },
   "file_extension": ".py",
   "mimetype": "text/x-python",
   "name": "python",
   "nbconvert_exporter": "python",
   "pygments_lexer": "ipython3",
   "version": "3.10.13"
  },
  "papermill": {
   "default_parameters": {},
   "duration": 71.051602,
   "end_time": "2024-06-30T20:08:23.186090",
   "environment_variables": {},
   "exception": null,
   "input_path": "__notebook__.ipynb",
   "output_path": "__notebook__.ipynb",
   "parameters": {},
   "start_time": "2024-06-30T20:07:12.134488",
   "version": "2.5.0"
  }
 },
 "nbformat": 4,
 "nbformat_minor": 5
}
