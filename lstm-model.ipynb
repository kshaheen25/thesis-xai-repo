{
 "cells": [
  {
   "cell_type": "code",
   "execution_count": 1,
   "id": "2b214e59",
   "metadata": {
    "_cell_guid": "b1076dfc-b9ad-4769-8c92-a6c4dae69d19",
    "_uuid": "8f2839f25d086af736a60e9eeb907d3b93b6e0e5",
    "execution": {
     "iopub.execute_input": "2024-06-30T21:07:31.079894Z",
     "iopub.status.busy": "2024-06-30T21:07:31.079463Z",
     "iopub.status.idle": "2024-06-30T21:07:32.005731Z",
     "shell.execute_reply": "2024-06-30T21:07:32.004402Z"
    },
    "papermill": {
     "duration": 0.939629,
     "end_time": "2024-06-30T21:07:32.009247",
     "exception": false,
     "start_time": "2024-06-30T21:07:31.069618",
     "status": "completed"
    },
    "tags": []
   },
   "outputs": [
    {
     "name": "stdout",
     "output_type": "stream",
     "text": [
      "/kaggle/input/xai-dataset-2/clinical_mastitis_cows.csv\n",
      "/kaggle/input/xai-dataset-2/S1. Curated Input_v1.csv\n",
      "/kaggle/input/test-cases/s3.UseCase.csv\n",
      "/kaggle/input/test-cases/S1. Curated Input.csv\n",
      "/kaggle/input/test-cases/S2. Example Input.csv\n",
      "/kaggle/input/test-cases/S4Example.csv\n"
     ]
    }
   ],
   "source": [
    "# This Python 3 environment comes with many helpful analytics libraries installed\n",
    "# It is defined by the kaggle/python Docker image: https://github.com/kaggle/docker-python\n",
    "# For example, here's several helpful packages to load\n",
    "\n",
    "import numpy as np # linear algebra\n",
    "import pandas as pd # data processing, CSV file I/O (e.g. pd.read_csv)\n",
    "\n",
    "# Input data files are available in the read-only \"../input/\" directory\n",
    "# For example, running this (by clicking run or pressing Shift+Enter) will list all files under the input directory\n",
    "\n",
    "import os\n",
    "for dirname, _, filenames in os.walk('/kaggle/input'):\n",
    "    for filename in filenames:\n",
    "        print(os.path.join(dirname, filename))\n",
    "\n",
    "# You can write up to 20GB to the current directory (/kaggle/working/) that gets preserved as output when you create a version using \"Save & Run All\" \n",
    "# You can also write temporary files to /kaggle/temp/, but they won't be saved outside of the current session"
   ]
  },
  {
   "cell_type": "code",
   "execution_count": 2,
   "id": "756a3093",
   "metadata": {
    "execution": {
     "iopub.execute_input": "2024-06-30T21:07:32.027166Z",
     "iopub.status.busy": "2024-06-30T21:07:32.026660Z",
     "iopub.status.idle": "2024-06-30T21:07:52.717683Z",
     "shell.execute_reply": "2024-06-30T21:07:52.716379Z"
    },
    "papermill": {
     "duration": 20.702372,
     "end_time": "2024-06-30T21:07:52.720221",
     "exception": false,
     "start_time": "2024-06-30T21:07:32.017849",
     "status": "completed"
    },
    "tags": []
   },
   "outputs": [
    {
     "name": "stderr",
     "output_type": "stream",
     "text": [
      "2024-06-30 21:07:35.626808: E external/local_xla/xla/stream_executor/cuda/cuda_dnn.cc:9261] Unable to register cuDNN factory: Attempting to register factory for plugin cuDNN when one has already been registered\n",
      "2024-06-30 21:07:35.626994: E external/local_xla/xla/stream_executor/cuda/cuda_fft.cc:607] Unable to register cuFFT factory: Attempting to register factory for plugin cuFFT when one has already been registered\n",
      "2024-06-30 21:07:35.789236: E external/local_xla/xla/stream_executor/cuda/cuda_blas.cc:1515] Unable to register cuBLAS factory: Attempting to register factory for plugin cuBLAS when one has already been registered\n"
     ]
    }
   ],
   "source": [
    "# Import necessary libraries\n",
    "import pandas as pd\n",
    "from sklearn.preprocessing import LabelEncoder\n",
    "from sklearn.model_selection import train_test_split\n",
    "import numpy as np\n",
    "from tensorflow.keras.models import Sequential\n",
    "from tensorflow.keras.layers import LSTM, Dense\n",
    "import shap"
   ]
  },
  {
   "cell_type": "code",
   "execution_count": 3,
   "id": "4d86445d",
   "metadata": {
    "execution": {
     "iopub.execute_input": "2024-06-30T21:07:52.737489Z",
     "iopub.status.busy": "2024-06-30T21:07:52.736401Z",
     "iopub.status.idle": "2024-06-30T21:07:52.778073Z",
     "shell.execute_reply": "2024-06-30T21:07:52.776527Z"
    },
    "papermill": {
     "duration": 0.052812,
     "end_time": "2024-06-30T21:07:52.780652",
     "exception": false,
     "start_time": "2024-06-30T21:07:52.727840",
     "status": "completed"
    },
    "tags": []
   },
   "outputs": [],
   "source": [
    "# Load the dataset\n",
    "file_path = \"/kaggle/input/xai-dataset-2/S1. Curated Input_v1.csv\"  # Update with the correct path\n",
    "df = pd.read_csv(file_path)"
   ]
  },
  {
   "cell_type": "code",
   "execution_count": 4,
   "id": "8c005e89",
   "metadata": {
    "execution": {
     "iopub.execute_input": "2024-06-30T21:07:52.797305Z",
     "iopub.status.busy": "2024-06-30T21:07:52.796893Z",
     "iopub.status.idle": "2024-06-30T21:07:52.834811Z",
     "shell.execute_reply": "2024-06-30T21:07:52.833719Z"
    },
    "papermill": {
     "duration": 0.048882,
     "end_time": "2024-06-30T21:07:52.837202",
     "exception": false,
     "start_time": "2024-06-30T21:07:52.788320",
     "status": "completed"
    },
    "tags": []
   },
   "outputs": [
    {
     "data": {
      "text/html": [
       "<div>\n",
       "<style scoped>\n",
       "    .dataframe tbody tr th:only-of-type {\n",
       "        vertical-align: middle;\n",
       "    }\n",
       "\n",
       "    .dataframe tbody tr th {\n",
       "        vertical-align: top;\n",
       "    }\n",
       "\n",
       "    .dataframe thead th {\n",
       "        text-align: right;\n",
       "    }\n",
       "</style>\n",
       "<table border=\"1\" class=\"dataframe\">\n",
       "  <thead>\n",
       "    <tr style=\"text-align: right;\">\n",
       "      <th></th>\n",
       "      <th>Months_after_giving_birth</th>\n",
       "      <th>IUFL</th>\n",
       "      <th>EUFL</th>\n",
       "      <th>IUFR</th>\n",
       "      <th>EUFR</th>\n",
       "      <th>IURL</th>\n",
       "      <th>EURL</th>\n",
       "      <th>IURR</th>\n",
       "      <th>EURR</th>\n",
       "      <th>Temperature</th>\n",
       "      <th>Health_Healthy</th>\n",
       "      <th>Health_Mastitis</th>\n",
       "    </tr>\n",
       "  </thead>\n",
       "  <tbody>\n",
       "    <tr>\n",
       "      <th>0</th>\n",
       "      <td>1</td>\n",
       "      <td>150</td>\n",
       "      <td>180</td>\n",
       "      <td>150</td>\n",
       "      <td>180</td>\n",
       "      <td>150</td>\n",
       "      <td>181</td>\n",
       "      <td>150</td>\n",
       "      <td>181</td>\n",
       "      <td>43</td>\n",
       "      <td>False</td>\n",
       "      <td>True</td>\n",
       "    </tr>\n",
       "    <tr>\n",
       "      <th>1</th>\n",
       "      <td>1</td>\n",
       "      <td>152</td>\n",
       "      <td>180</td>\n",
       "      <td>152</td>\n",
       "      <td>185</td>\n",
       "      <td>151</td>\n",
       "      <td>180</td>\n",
       "      <td>152</td>\n",
       "      <td>181</td>\n",
       "      <td>42</td>\n",
       "      <td>True</td>\n",
       "      <td>False</td>\n",
       "    </tr>\n",
       "    <tr>\n",
       "      <th>2</th>\n",
       "      <td>1</td>\n",
       "      <td>152</td>\n",
       "      <td>182</td>\n",
       "      <td>153</td>\n",
       "      <td>186</td>\n",
       "      <td>151</td>\n",
       "      <td>186</td>\n",
       "      <td>153</td>\n",
       "      <td>183</td>\n",
       "      <td>41</td>\n",
       "      <td>True</td>\n",
       "      <td>False</td>\n",
       "    </tr>\n",
       "    <tr>\n",
       "      <th>3</th>\n",
       "      <td>1</td>\n",
       "      <td>155</td>\n",
       "      <td>183</td>\n",
       "      <td>155</td>\n",
       "      <td>189</td>\n",
       "      <td>155</td>\n",
       "      <td>182</td>\n",
       "      <td>155</td>\n",
       "      <td>186</td>\n",
       "      <td>40</td>\n",
       "      <td>True</td>\n",
       "      <td>False</td>\n",
       "    </tr>\n",
       "    <tr>\n",
       "      <th>4</th>\n",
       "      <td>1</td>\n",
       "      <td>150</td>\n",
       "      <td>186</td>\n",
       "      <td>150</td>\n",
       "      <td>181</td>\n",
       "      <td>150</td>\n",
       "      <td>185</td>\n",
       "      <td>150</td>\n",
       "      <td>188</td>\n",
       "      <td>41</td>\n",
       "      <td>True</td>\n",
       "      <td>False</td>\n",
       "    </tr>\n",
       "    <tr>\n",
       "      <th>...</th>\n",
       "      <td>...</td>\n",
       "      <td>...</td>\n",
       "      <td>...</td>\n",
       "      <td>...</td>\n",
       "      <td>...</td>\n",
       "      <td>...</td>\n",
       "      <td>...</td>\n",
       "      <td>...</td>\n",
       "      <td>...</td>\n",
       "      <td>...</td>\n",
       "      <td>...</td>\n",
       "      <td>...</td>\n",
       "    </tr>\n",
       "    <tr>\n",
       "      <th>7993</th>\n",
       "      <td>5</td>\n",
       "      <td>153</td>\n",
       "      <td>174</td>\n",
       "      <td>156</td>\n",
       "      <td>175</td>\n",
       "      <td>155</td>\n",
       "      <td>177</td>\n",
       "      <td>153</td>\n",
       "      <td>177</td>\n",
       "      <td>41</td>\n",
       "      <td>True</td>\n",
       "      <td>False</td>\n",
       "    </tr>\n",
       "    <tr>\n",
       "      <th>7994</th>\n",
       "      <td>2</td>\n",
       "      <td>241</td>\n",
       "      <td>278</td>\n",
       "      <td>235</td>\n",
       "      <td>282</td>\n",
       "      <td>234</td>\n",
       "      <td>277</td>\n",
       "      <td>238</td>\n",
       "      <td>281</td>\n",
       "      <td>41</td>\n",
       "      <td>True</td>\n",
       "      <td>False</td>\n",
       "    </tr>\n",
       "    <tr>\n",
       "      <th>7995</th>\n",
       "      <td>5</td>\n",
       "      <td>157</td>\n",
       "      <td>173</td>\n",
       "      <td>157</td>\n",
       "      <td>174</td>\n",
       "      <td>156</td>\n",
       "      <td>174</td>\n",
       "      <td>158</td>\n",
       "      <td>168</td>\n",
       "      <td>41</td>\n",
       "      <td>True</td>\n",
       "      <td>False</td>\n",
       "    </tr>\n",
       "    <tr>\n",
       "      <th>7996</th>\n",
       "      <td>3</td>\n",
       "      <td>172</td>\n",
       "      <td>196</td>\n",
       "      <td>163</td>\n",
       "      <td>191</td>\n",
       "      <td>162</td>\n",
       "      <td>192</td>\n",
       "      <td>165</td>\n",
       "      <td>194</td>\n",
       "      <td>41</td>\n",
       "      <td>True</td>\n",
       "      <td>False</td>\n",
       "    </tr>\n",
       "    <tr>\n",
       "      <th>7997</th>\n",
       "      <td>5</td>\n",
       "      <td>173</td>\n",
       "      <td>192</td>\n",
       "      <td>166</td>\n",
       "      <td>198</td>\n",
       "      <td>175</td>\n",
       "      <td>190</td>\n",
       "      <td>176</td>\n",
       "      <td>191</td>\n",
       "      <td>41</td>\n",
       "      <td>True</td>\n",
       "      <td>False</td>\n",
       "    </tr>\n",
       "  </tbody>\n",
       "</table>\n",
       "<p>7998 rows × 12 columns</p>\n",
       "</div>"
      ],
      "text/plain": [
       "      Months_after_giving_birth  IUFL  EUFL  IUFR  EUFR  IURL  EURL  IURR  \\\n",
       "0                             1   150   180   150   180   150   181   150   \n",
       "1                             1   152   180   152   185   151   180   152   \n",
       "2                             1   152   182   153   186   151   186   153   \n",
       "3                             1   155   183   155   189   155   182   155   \n",
       "4                             1   150   186   150   181   150   185   150   \n",
       "...                         ...   ...   ...   ...   ...   ...   ...   ...   \n",
       "7993                          5   153   174   156   175   155   177   153   \n",
       "7994                          2   241   278   235   282   234   277   238   \n",
       "7995                          5   157   173   157   174   156   174   158   \n",
       "7996                          3   172   196   163   191   162   192   165   \n",
       "7997                          5   173   192   166   198   175   190   176   \n",
       "\n",
       "      EURR  Temperature  Health_Healthy  Health_Mastitis  \n",
       "0      181           43           False             True  \n",
       "1      181           42            True            False  \n",
       "2      183           41            True            False  \n",
       "3      186           40            True            False  \n",
       "4      188           41            True            False  \n",
       "...    ...          ...             ...              ...  \n",
       "7993   177           41            True            False  \n",
       "7994   281           41            True            False  \n",
       "7995   168           41            True            False  \n",
       "7996   194           41            True            False  \n",
       "7997   191           41            True            False  \n",
       "\n",
       "[7998 rows x 12 columns]"
      ]
     },
     "execution_count": 4,
     "metadata": {},
     "output_type": "execute_result"
    }
   ],
   "source": [
    "from sklearn.preprocessing import MinMaxScaler\n",
    "\n",
    "# Load dataset \n",
    "\n",
    "df = df.drop(columns=[ 'ID'])\n",
    "df = pd.get_dummies(df)\n",
    "\n",
    "df"
   ]
  },
  {
   "cell_type": "code",
   "execution_count": 5,
   "id": "766c7bb1",
   "metadata": {
    "execution": {
     "iopub.execute_input": "2024-06-30T21:07:52.854682Z",
     "iopub.status.busy": "2024-06-30T21:07:52.854239Z",
     "iopub.status.idle": "2024-06-30T21:07:52.878436Z",
     "shell.execute_reply": "2024-06-30T21:07:52.877350Z"
    },
    "papermill": {
     "duration": 0.035389,
     "end_time": "2024-06-30T21:07:52.880676",
     "exception": false,
     "start_time": "2024-06-30T21:07:52.845287",
     "status": "completed"
    },
    "tags": []
   },
   "outputs": [
    {
     "data": {
      "text/html": [
       "<div>\n",
       "<style scoped>\n",
       "    .dataframe tbody tr th:only-of-type {\n",
       "        vertical-align: middle;\n",
       "    }\n",
       "\n",
       "    .dataframe tbody tr th {\n",
       "        vertical-align: top;\n",
       "    }\n",
       "\n",
       "    .dataframe thead th {\n",
       "        text-align: right;\n",
       "    }\n",
       "</style>\n",
       "<table border=\"1\" class=\"dataframe\">\n",
       "  <thead>\n",
       "    <tr style=\"text-align: right;\">\n",
       "      <th></th>\n",
       "      <th>Months_after_giving_birth</th>\n",
       "      <th>IUFL</th>\n",
       "      <th>EUFL</th>\n",
       "      <th>IUFR</th>\n",
       "      <th>EUFR</th>\n",
       "      <th>IURL</th>\n",
       "      <th>EURL</th>\n",
       "      <th>IURR</th>\n",
       "      <th>EURR</th>\n",
       "      <th>Temperature</th>\n",
       "      <th>Health_Healthy</th>\n",
       "      <th>Health_Mastitis</th>\n",
       "    </tr>\n",
       "  </thead>\n",
       "  <tbody>\n",
       "    <tr>\n",
       "      <th>0</th>\n",
       "      <td>1</td>\n",
       "      <td>150</td>\n",
       "      <td>180</td>\n",
       "      <td>150</td>\n",
       "      <td>180</td>\n",
       "      <td>150</td>\n",
       "      <td>181</td>\n",
       "      <td>150</td>\n",
       "      <td>181</td>\n",
       "      <td>43</td>\n",
       "      <td>0</td>\n",
       "      <td>1</td>\n",
       "    </tr>\n",
       "    <tr>\n",
       "      <th>1</th>\n",
       "      <td>1</td>\n",
       "      <td>152</td>\n",
       "      <td>180</td>\n",
       "      <td>152</td>\n",
       "      <td>185</td>\n",
       "      <td>151</td>\n",
       "      <td>180</td>\n",
       "      <td>152</td>\n",
       "      <td>181</td>\n",
       "      <td>42</td>\n",
       "      <td>1</td>\n",
       "      <td>0</td>\n",
       "    </tr>\n",
       "    <tr>\n",
       "      <th>2</th>\n",
       "      <td>1</td>\n",
       "      <td>152</td>\n",
       "      <td>182</td>\n",
       "      <td>153</td>\n",
       "      <td>186</td>\n",
       "      <td>151</td>\n",
       "      <td>186</td>\n",
       "      <td>153</td>\n",
       "      <td>183</td>\n",
       "      <td>41</td>\n",
       "      <td>1</td>\n",
       "      <td>0</td>\n",
       "    </tr>\n",
       "    <tr>\n",
       "      <th>3</th>\n",
       "      <td>1</td>\n",
       "      <td>155</td>\n",
       "      <td>183</td>\n",
       "      <td>155</td>\n",
       "      <td>189</td>\n",
       "      <td>155</td>\n",
       "      <td>182</td>\n",
       "      <td>155</td>\n",
       "      <td>186</td>\n",
       "      <td>40</td>\n",
       "      <td>1</td>\n",
       "      <td>0</td>\n",
       "    </tr>\n",
       "    <tr>\n",
       "      <th>4</th>\n",
       "      <td>1</td>\n",
       "      <td>150</td>\n",
       "      <td>186</td>\n",
       "      <td>150</td>\n",
       "      <td>181</td>\n",
       "      <td>150</td>\n",
       "      <td>185</td>\n",
       "      <td>150</td>\n",
       "      <td>188</td>\n",
       "      <td>41</td>\n",
       "      <td>1</td>\n",
       "      <td>0</td>\n",
       "    </tr>\n",
       "    <tr>\n",
       "      <th>...</th>\n",
       "      <td>...</td>\n",
       "      <td>...</td>\n",
       "      <td>...</td>\n",
       "      <td>...</td>\n",
       "      <td>...</td>\n",
       "      <td>...</td>\n",
       "      <td>...</td>\n",
       "      <td>...</td>\n",
       "      <td>...</td>\n",
       "      <td>...</td>\n",
       "      <td>...</td>\n",
       "      <td>...</td>\n",
       "    </tr>\n",
       "    <tr>\n",
       "      <th>7993</th>\n",
       "      <td>5</td>\n",
       "      <td>153</td>\n",
       "      <td>174</td>\n",
       "      <td>156</td>\n",
       "      <td>175</td>\n",
       "      <td>155</td>\n",
       "      <td>177</td>\n",
       "      <td>153</td>\n",
       "      <td>177</td>\n",
       "      <td>41</td>\n",
       "      <td>1</td>\n",
       "      <td>0</td>\n",
       "    </tr>\n",
       "    <tr>\n",
       "      <th>7994</th>\n",
       "      <td>2</td>\n",
       "      <td>241</td>\n",
       "      <td>278</td>\n",
       "      <td>235</td>\n",
       "      <td>282</td>\n",
       "      <td>234</td>\n",
       "      <td>277</td>\n",
       "      <td>238</td>\n",
       "      <td>281</td>\n",
       "      <td>41</td>\n",
       "      <td>1</td>\n",
       "      <td>0</td>\n",
       "    </tr>\n",
       "    <tr>\n",
       "      <th>7995</th>\n",
       "      <td>5</td>\n",
       "      <td>157</td>\n",
       "      <td>173</td>\n",
       "      <td>157</td>\n",
       "      <td>174</td>\n",
       "      <td>156</td>\n",
       "      <td>174</td>\n",
       "      <td>158</td>\n",
       "      <td>168</td>\n",
       "      <td>41</td>\n",
       "      <td>1</td>\n",
       "      <td>0</td>\n",
       "    </tr>\n",
       "    <tr>\n",
       "      <th>7996</th>\n",
       "      <td>3</td>\n",
       "      <td>172</td>\n",
       "      <td>196</td>\n",
       "      <td>163</td>\n",
       "      <td>191</td>\n",
       "      <td>162</td>\n",
       "      <td>192</td>\n",
       "      <td>165</td>\n",
       "      <td>194</td>\n",
       "      <td>41</td>\n",
       "      <td>1</td>\n",
       "      <td>0</td>\n",
       "    </tr>\n",
       "    <tr>\n",
       "      <th>7997</th>\n",
       "      <td>5</td>\n",
       "      <td>173</td>\n",
       "      <td>192</td>\n",
       "      <td>166</td>\n",
       "      <td>198</td>\n",
       "      <td>175</td>\n",
       "      <td>190</td>\n",
       "      <td>176</td>\n",
       "      <td>191</td>\n",
       "      <td>41</td>\n",
       "      <td>1</td>\n",
       "      <td>0</td>\n",
       "    </tr>\n",
       "  </tbody>\n",
       "</table>\n",
       "<p>7998 rows × 12 columns</p>\n",
       "</div>"
      ],
      "text/plain": [
       "      Months_after_giving_birth  IUFL  EUFL  IUFR  EUFR  IURL  EURL  IURR  \\\n",
       "0                             1   150   180   150   180   150   181   150   \n",
       "1                             1   152   180   152   185   151   180   152   \n",
       "2                             1   152   182   153   186   151   186   153   \n",
       "3                             1   155   183   155   189   155   182   155   \n",
       "4                             1   150   186   150   181   150   185   150   \n",
       "...                         ...   ...   ...   ...   ...   ...   ...   ...   \n",
       "7993                          5   153   174   156   175   155   177   153   \n",
       "7994                          2   241   278   235   282   234   277   238   \n",
       "7995                          5   157   173   157   174   156   174   158   \n",
       "7996                          3   172   196   163   191   162   192   165   \n",
       "7997                          5   173   192   166   198   175   190   176   \n",
       "\n",
       "      EURR  Temperature  Health_Healthy  Health_Mastitis  \n",
       "0      181           43               0                1  \n",
       "1      181           42               1                0  \n",
       "2      183           41               1                0  \n",
       "3      186           40               1                0  \n",
       "4      188           41               1                0  \n",
       "...    ...          ...             ...              ...  \n",
       "7993   177           41               1                0  \n",
       "7994   281           41               1                0  \n",
       "7995   168           41               1                0  \n",
       "7996   194           41               1                0  \n",
       "7997   191           41               1                0  \n",
       "\n",
       "[7998 rows x 12 columns]"
      ]
     },
     "execution_count": 5,
     "metadata": {},
     "output_type": "execute_result"
    }
   ],
   "source": [
    "df['Health_Healthy'] = df['Health_Healthy'].apply(lambda x: 1 if x else 0)\n",
    "df['Health_Mastitis'] = df['Health_Mastitis'].apply(lambda x: 1 if x else 0)\n",
    "\n",
    "\n",
    "df"
   ]
  },
  {
   "cell_type": "code",
   "execution_count": 6,
   "id": "bc9c434c",
   "metadata": {
    "execution": {
     "iopub.execute_input": "2024-06-30T21:07:52.898567Z",
     "iopub.status.busy": "2024-06-30T21:07:52.898154Z",
     "iopub.status.idle": "2024-06-30T21:07:52.913934Z",
     "shell.execute_reply": "2024-06-30T21:07:52.912827Z"
    },
    "papermill": {
     "duration": 0.027321,
     "end_time": "2024-06-30T21:07:52.916256",
     "exception": false,
     "start_time": "2024-06-30T21:07:52.888935",
     "status": "completed"
    },
    "tags": []
   },
   "outputs": [
    {
     "data": {
      "text/html": [
       "<div>\n",
       "<style scoped>\n",
       "    .dataframe tbody tr th:only-of-type {\n",
       "        vertical-align: middle;\n",
       "    }\n",
       "\n",
       "    .dataframe tbody tr th {\n",
       "        vertical-align: top;\n",
       "    }\n",
       "\n",
       "    .dataframe thead th {\n",
       "        text-align: right;\n",
       "    }\n",
       "</style>\n",
       "<table border=\"1\" class=\"dataframe\">\n",
       "  <thead>\n",
       "    <tr style=\"text-align: right;\">\n",
       "      <th></th>\n",
       "      <th>Months_after_giving_birth</th>\n",
       "      <th>IUFL</th>\n",
       "      <th>EUFL</th>\n",
       "      <th>IUFR</th>\n",
       "      <th>EUFR</th>\n",
       "      <th>IURL</th>\n",
       "      <th>EURL</th>\n",
       "      <th>IURR</th>\n",
       "      <th>EURR</th>\n",
       "      <th>Temperature</th>\n",
       "      <th>Health_Mastitis</th>\n",
       "    </tr>\n",
       "  </thead>\n",
       "  <tbody>\n",
       "    <tr>\n",
       "      <th>0</th>\n",
       "      <td>1</td>\n",
       "      <td>150</td>\n",
       "      <td>180</td>\n",
       "      <td>150</td>\n",
       "      <td>180</td>\n",
       "      <td>150</td>\n",
       "      <td>181</td>\n",
       "      <td>150</td>\n",
       "      <td>181</td>\n",
       "      <td>43</td>\n",
       "      <td>1</td>\n",
       "    </tr>\n",
       "    <tr>\n",
       "      <th>1</th>\n",
       "      <td>1</td>\n",
       "      <td>152</td>\n",
       "      <td>180</td>\n",
       "      <td>152</td>\n",
       "      <td>185</td>\n",
       "      <td>151</td>\n",
       "      <td>180</td>\n",
       "      <td>152</td>\n",
       "      <td>181</td>\n",
       "      <td>42</td>\n",
       "      <td>0</td>\n",
       "    </tr>\n",
       "    <tr>\n",
       "      <th>2</th>\n",
       "      <td>1</td>\n",
       "      <td>152</td>\n",
       "      <td>182</td>\n",
       "      <td>153</td>\n",
       "      <td>186</td>\n",
       "      <td>151</td>\n",
       "      <td>186</td>\n",
       "      <td>153</td>\n",
       "      <td>183</td>\n",
       "      <td>41</td>\n",
       "      <td>0</td>\n",
       "    </tr>\n",
       "    <tr>\n",
       "      <th>3</th>\n",
       "      <td>1</td>\n",
       "      <td>155</td>\n",
       "      <td>183</td>\n",
       "      <td>155</td>\n",
       "      <td>189</td>\n",
       "      <td>155</td>\n",
       "      <td>182</td>\n",
       "      <td>155</td>\n",
       "      <td>186</td>\n",
       "      <td>40</td>\n",
       "      <td>0</td>\n",
       "    </tr>\n",
       "    <tr>\n",
       "      <th>4</th>\n",
       "      <td>1</td>\n",
       "      <td>150</td>\n",
       "      <td>186</td>\n",
       "      <td>150</td>\n",
       "      <td>181</td>\n",
       "      <td>150</td>\n",
       "      <td>185</td>\n",
       "      <td>150</td>\n",
       "      <td>188</td>\n",
       "      <td>41</td>\n",
       "      <td>0</td>\n",
       "    </tr>\n",
       "    <tr>\n",
       "      <th>...</th>\n",
       "      <td>...</td>\n",
       "      <td>...</td>\n",
       "      <td>...</td>\n",
       "      <td>...</td>\n",
       "      <td>...</td>\n",
       "      <td>...</td>\n",
       "      <td>...</td>\n",
       "      <td>...</td>\n",
       "      <td>...</td>\n",
       "      <td>...</td>\n",
       "      <td>...</td>\n",
       "    </tr>\n",
       "    <tr>\n",
       "      <th>7993</th>\n",
       "      <td>5</td>\n",
       "      <td>153</td>\n",
       "      <td>174</td>\n",
       "      <td>156</td>\n",
       "      <td>175</td>\n",
       "      <td>155</td>\n",
       "      <td>177</td>\n",
       "      <td>153</td>\n",
       "      <td>177</td>\n",
       "      <td>41</td>\n",
       "      <td>0</td>\n",
       "    </tr>\n",
       "    <tr>\n",
       "      <th>7994</th>\n",
       "      <td>2</td>\n",
       "      <td>241</td>\n",
       "      <td>278</td>\n",
       "      <td>235</td>\n",
       "      <td>282</td>\n",
       "      <td>234</td>\n",
       "      <td>277</td>\n",
       "      <td>238</td>\n",
       "      <td>281</td>\n",
       "      <td>41</td>\n",
       "      <td>0</td>\n",
       "    </tr>\n",
       "    <tr>\n",
       "      <th>7995</th>\n",
       "      <td>5</td>\n",
       "      <td>157</td>\n",
       "      <td>173</td>\n",
       "      <td>157</td>\n",
       "      <td>174</td>\n",
       "      <td>156</td>\n",
       "      <td>174</td>\n",
       "      <td>158</td>\n",
       "      <td>168</td>\n",
       "      <td>41</td>\n",
       "      <td>0</td>\n",
       "    </tr>\n",
       "    <tr>\n",
       "      <th>7996</th>\n",
       "      <td>3</td>\n",
       "      <td>172</td>\n",
       "      <td>196</td>\n",
       "      <td>163</td>\n",
       "      <td>191</td>\n",
       "      <td>162</td>\n",
       "      <td>192</td>\n",
       "      <td>165</td>\n",
       "      <td>194</td>\n",
       "      <td>41</td>\n",
       "      <td>0</td>\n",
       "    </tr>\n",
       "    <tr>\n",
       "      <th>7997</th>\n",
       "      <td>5</td>\n",
       "      <td>173</td>\n",
       "      <td>192</td>\n",
       "      <td>166</td>\n",
       "      <td>198</td>\n",
       "      <td>175</td>\n",
       "      <td>190</td>\n",
       "      <td>176</td>\n",
       "      <td>191</td>\n",
       "      <td>41</td>\n",
       "      <td>0</td>\n",
       "    </tr>\n",
       "  </tbody>\n",
       "</table>\n",
       "<p>7998 rows × 11 columns</p>\n",
       "</div>"
      ],
      "text/plain": [
       "      Months_after_giving_birth  IUFL  EUFL  IUFR  EUFR  IURL  EURL  IURR  \\\n",
       "0                             1   150   180   150   180   150   181   150   \n",
       "1                             1   152   180   152   185   151   180   152   \n",
       "2                             1   152   182   153   186   151   186   153   \n",
       "3                             1   155   183   155   189   155   182   155   \n",
       "4                             1   150   186   150   181   150   185   150   \n",
       "...                         ...   ...   ...   ...   ...   ...   ...   ...   \n",
       "7993                          5   153   174   156   175   155   177   153   \n",
       "7994                          2   241   278   235   282   234   277   238   \n",
       "7995                          5   157   173   157   174   156   174   158   \n",
       "7996                          3   172   196   163   191   162   192   165   \n",
       "7997                          5   173   192   166   198   175   190   176   \n",
       "\n",
       "      EURR  Temperature  Health_Mastitis  \n",
       "0      181           43                1  \n",
       "1      181           42                0  \n",
       "2      183           41                0  \n",
       "3      186           40                0  \n",
       "4      188           41                0  \n",
       "...    ...          ...              ...  \n",
       "7993   177           41                0  \n",
       "7994   281           41                0  \n",
       "7995   168           41                0  \n",
       "7996   194           41                0  \n",
       "7997   191           41                0  \n",
       "\n",
       "[7998 rows x 11 columns]"
      ]
     },
     "execution_count": 6,
     "metadata": {},
     "output_type": "execute_result"
    }
   ],
   "source": [
    "df= df.drop('Health_Healthy', axis=1)\n",
    "df"
   ]
  },
  {
   "cell_type": "code",
   "execution_count": 7,
   "id": "18c7e2f0",
   "metadata": {
    "execution": {
     "iopub.execute_input": "2024-06-30T21:07:52.935919Z",
     "iopub.status.busy": "2024-06-30T21:07:52.935533Z",
     "iopub.status.idle": "2024-06-30T21:07:52.965764Z",
     "shell.execute_reply": "2024-06-30T21:07:52.964635Z"
    },
    "papermill": {
     "duration": 0.043228,
     "end_time": "2024-06-30T21:07:52.967976",
     "exception": false,
     "start_time": "2024-06-30T21:07:52.924748",
     "status": "completed"
    },
    "tags": []
   },
   "outputs": [
    {
     "name": "stdout",
     "output_type": "stream",
     "text": [
      "<class 'pandas.core.frame.DataFrame'>\n",
      "RangeIndex: 7998 entries, 0 to 7997\n",
      "Data columns (total 10 columns):\n",
      " #   Column                     Non-Null Count  Dtype\n",
      "---  ------                     --------------  -----\n",
      " 0   Months_after_giving_birth  7998 non-null   int64\n",
      " 1   IUFL                       7998 non-null   int64\n",
      " 2   EUFL                       7998 non-null   int64\n",
      " 3   IUFR                       7998 non-null   int64\n",
      " 4   EUFR                       7998 non-null   int64\n",
      " 5   IURL                       7998 non-null   int64\n",
      " 6   EURL                       7998 non-null   int64\n",
      " 7   IURR                       7998 non-null   int64\n",
      " 8   EURR                       7998 non-null   int64\n",
      " 9   Temperature                7998 non-null   int64\n",
      "dtypes: int64(10)\n",
      "memory usage: 625.0 KB\n"
     ]
    },
    {
     "data": {
      "text/html": [
       "<div>\n",
       "<style scoped>\n",
       "    .dataframe tbody tr th:only-of-type {\n",
       "        vertical-align: middle;\n",
       "    }\n",
       "\n",
       "    .dataframe tbody tr th {\n",
       "        vertical-align: top;\n",
       "    }\n",
       "\n",
       "    .dataframe thead th {\n",
       "        text-align: right;\n",
       "    }\n",
       "</style>\n",
       "<table border=\"1\" class=\"dataframe\">\n",
       "  <thead>\n",
       "    <tr style=\"text-align: right;\">\n",
       "      <th></th>\n",
       "      <th>Months_after_giving_birth</th>\n",
       "      <th>IUFL</th>\n",
       "      <th>EUFL</th>\n",
       "      <th>IUFR</th>\n",
       "      <th>EUFR</th>\n",
       "      <th>IURL</th>\n",
       "      <th>EURL</th>\n",
       "      <th>IURR</th>\n",
       "      <th>EURR</th>\n",
       "      <th>Temperature</th>\n",
       "    </tr>\n",
       "  </thead>\n",
       "  <tbody>\n",
       "    <tr>\n",
       "      <th>0</th>\n",
       "      <td>1</td>\n",
       "      <td>150</td>\n",
       "      <td>180</td>\n",
       "      <td>150</td>\n",
       "      <td>180</td>\n",
       "      <td>150</td>\n",
       "      <td>181</td>\n",
       "      <td>150</td>\n",
       "      <td>181</td>\n",
       "      <td>43</td>\n",
       "    </tr>\n",
       "    <tr>\n",
       "      <th>1</th>\n",
       "      <td>1</td>\n",
       "      <td>152</td>\n",
       "      <td>180</td>\n",
       "      <td>152</td>\n",
       "      <td>185</td>\n",
       "      <td>151</td>\n",
       "      <td>180</td>\n",
       "      <td>152</td>\n",
       "      <td>181</td>\n",
       "      <td>42</td>\n",
       "    </tr>\n",
       "    <tr>\n",
       "      <th>2</th>\n",
       "      <td>1</td>\n",
       "      <td>152</td>\n",
       "      <td>182</td>\n",
       "      <td>153</td>\n",
       "      <td>186</td>\n",
       "      <td>151</td>\n",
       "      <td>186</td>\n",
       "      <td>153</td>\n",
       "      <td>183</td>\n",
       "      <td>41</td>\n",
       "    </tr>\n",
       "    <tr>\n",
       "      <th>3</th>\n",
       "      <td>1</td>\n",
       "      <td>155</td>\n",
       "      <td>183</td>\n",
       "      <td>155</td>\n",
       "      <td>189</td>\n",
       "      <td>155</td>\n",
       "      <td>182</td>\n",
       "      <td>155</td>\n",
       "      <td>186</td>\n",
       "      <td>40</td>\n",
       "    </tr>\n",
       "    <tr>\n",
       "      <th>4</th>\n",
       "      <td>1</td>\n",
       "      <td>150</td>\n",
       "      <td>186</td>\n",
       "      <td>150</td>\n",
       "      <td>181</td>\n",
       "      <td>150</td>\n",
       "      <td>185</td>\n",
       "      <td>150</td>\n",
       "      <td>188</td>\n",
       "      <td>41</td>\n",
       "    </tr>\n",
       "    <tr>\n",
       "      <th>...</th>\n",
       "      <td>...</td>\n",
       "      <td>...</td>\n",
       "      <td>...</td>\n",
       "      <td>...</td>\n",
       "      <td>...</td>\n",
       "      <td>...</td>\n",
       "      <td>...</td>\n",
       "      <td>...</td>\n",
       "      <td>...</td>\n",
       "      <td>...</td>\n",
       "    </tr>\n",
       "    <tr>\n",
       "      <th>7993</th>\n",
       "      <td>5</td>\n",
       "      <td>153</td>\n",
       "      <td>174</td>\n",
       "      <td>156</td>\n",
       "      <td>175</td>\n",
       "      <td>155</td>\n",
       "      <td>177</td>\n",
       "      <td>153</td>\n",
       "      <td>177</td>\n",
       "      <td>41</td>\n",
       "    </tr>\n",
       "    <tr>\n",
       "      <th>7994</th>\n",
       "      <td>2</td>\n",
       "      <td>241</td>\n",
       "      <td>278</td>\n",
       "      <td>235</td>\n",
       "      <td>282</td>\n",
       "      <td>234</td>\n",
       "      <td>277</td>\n",
       "      <td>238</td>\n",
       "      <td>281</td>\n",
       "      <td>41</td>\n",
       "    </tr>\n",
       "    <tr>\n",
       "      <th>7995</th>\n",
       "      <td>5</td>\n",
       "      <td>157</td>\n",
       "      <td>173</td>\n",
       "      <td>157</td>\n",
       "      <td>174</td>\n",
       "      <td>156</td>\n",
       "      <td>174</td>\n",
       "      <td>158</td>\n",
       "      <td>168</td>\n",
       "      <td>41</td>\n",
       "    </tr>\n",
       "    <tr>\n",
       "      <th>7996</th>\n",
       "      <td>3</td>\n",
       "      <td>172</td>\n",
       "      <td>196</td>\n",
       "      <td>163</td>\n",
       "      <td>191</td>\n",
       "      <td>162</td>\n",
       "      <td>192</td>\n",
       "      <td>165</td>\n",
       "      <td>194</td>\n",
       "      <td>41</td>\n",
       "    </tr>\n",
       "    <tr>\n",
       "      <th>7997</th>\n",
       "      <td>5</td>\n",
       "      <td>173</td>\n",
       "      <td>192</td>\n",
       "      <td>166</td>\n",
       "      <td>198</td>\n",
       "      <td>175</td>\n",
       "      <td>190</td>\n",
       "      <td>176</td>\n",
       "      <td>191</td>\n",
       "      <td>41</td>\n",
       "    </tr>\n",
       "  </tbody>\n",
       "</table>\n",
       "<p>7998 rows × 10 columns</p>\n",
       "</div>"
      ],
      "text/plain": [
       "      Months_after_giving_birth  IUFL  EUFL  IUFR  EUFR  IURL  EURL  IURR  \\\n",
       "0                             1   150   180   150   180   150   181   150   \n",
       "1                             1   152   180   152   185   151   180   152   \n",
       "2                             1   152   182   153   186   151   186   153   \n",
       "3                             1   155   183   155   189   155   182   155   \n",
       "4                             1   150   186   150   181   150   185   150   \n",
       "...                         ...   ...   ...   ...   ...   ...   ...   ...   \n",
       "7993                          5   153   174   156   175   155   177   153   \n",
       "7994                          2   241   278   235   282   234   277   238   \n",
       "7995                          5   157   173   157   174   156   174   158   \n",
       "7996                          3   172   196   163   191   162   192   165   \n",
       "7997                          5   173   192   166   198   175   190   176   \n",
       "\n",
       "      EURR  Temperature  \n",
       "0      181           43  \n",
       "1      181           42  \n",
       "2      183           41  \n",
       "3      186           40  \n",
       "4      188           41  \n",
       "...    ...          ...  \n",
       "7993   177           41  \n",
       "7994   281           41  \n",
       "7995   168           41  \n",
       "7996   194           41  \n",
       "7997   191           41  \n",
       "\n",
       "[7998 rows x 10 columns]"
      ]
     },
     "execution_count": 7,
     "metadata": {},
     "output_type": "execute_result"
    }
   ],
   "source": [
    "y = df['Health_Mastitis'].values\n",
    "\n",
    "\n",
    "x = df.drop('Health_Mastitis', axis=1)\n",
    "x.info()\n",
    "x"
   ]
  },
  {
   "cell_type": "code",
   "execution_count": 8,
   "id": "c33048f4",
   "metadata": {
    "execution": {
     "iopub.execute_input": "2024-06-30T21:07:52.987060Z",
     "iopub.status.busy": "2024-06-30T21:07:52.986688Z",
     "iopub.status.idle": "2024-06-30T21:07:55.456033Z",
     "shell.execute_reply": "2024-06-30T21:07:55.454864Z"
    },
    "papermill": {
     "duration": 2.481485,
     "end_time": "2024-06-30T21:07:55.458274",
     "exception": false,
     "start_time": "2024-06-30T21:07:52.976789",
     "status": "completed"
    },
    "tags": []
   },
   "outputs": [
    {
     "name": "stdout",
     "output_type": "stream",
     "text": [
      "col:  Months_after_giving_birth\n"
     ]
    },
    {
     "data": {
      "image/png": "[encoded data removed]",
      "text/plain": [
       "<Figure size 640x480 with 1 Axes>"
      ]
     },
     "metadata": {},
     "output_type": "display_data"
    },
    {
     "name": "stdout",
     "output_type": "stream",
     "text": [
      "col:  IUFL\n"
     ]
    },
    {
     "data": {
      "image/png": "[encoded data removed]",
      "text/plain": [
       "<Figure size 640x480 with 1 Axes>"
      ]
     },
     "metadata": {},
     "output_type": "display_data"
    },
    {
     "name": "stdout",
     "output_type": "stream",
     "text": [
      "col:  EUFL\n"
     ]
    },
    {
     "data": {
      "image/png": "[encoded data removed]",
      "text/plain": [
       "<Figure size 640x480 with 1 Axes>"
      ]
     },
     "metadata": {},
     "output_type": "display_data"
    },
    {
     "name": "stdout",
     "output_type": "stream",
     "text": [
      "col:  IUFR\n"
     ]
    },
    {
     "data": {
      "image/png": "[encoded data removed]",
      "text/plain": [
       "<Figure size 640x480 with 1 Axes>"
      ]
     },
     "metadata": {},
     "output_type": "display_data"
    },
    {
     "name": "stdout",
     "output_type": "stream",
     "text": [
      "col:  EUFR\n"
     ]
    },
    {
     "data": {
      "image/png": "[encoded data removed]",
      "text/plain": [
       "<Figure size 640x480 with 1 Axes>"
      ]
     },
     "metadata": {},
     "output_type": "display_data"
    },
    {
     "name": "stdout",
     "output_type": "stream",
     "text": [
      "col:  IURL\n"
     ]
    },
    {
     "data": {
      "image/png": "[encoded data removed]",
      "text/plain": [
       "<Figure size 640x480 with 1 Axes>"
      ]
     },
     "metadata": {},
     "output_type": "display_data"
    },
    {
     "name": "stdout",
     "output_type": "stream",
     "text": [
      "col:  EURL\n"
     ]
    },
    {
     "data": {
      "image/png": "[encoded data removed]",
      "text/plain": [
       "<Figure size 640x480 with 1 Axes>"
      ]
     },
     "metadata": {},
     "output_type": "display_data"
    },
    {
     "name": "stdout",
     "output_type": "stream",
     "text": [
      "col:  IURR\n"
     ]
    },
    {
     "data": {
      "image/png": "[encoded data removed]",
      "text/plain": [
       "<Figure size 640x480 with 1 Axes>"
      ]
     },
     "metadata": {},
     "output_type": "display_data"
    },
    {
     "name": "stdout",
     "output_type": "stream",
     "text": [
      "col:  EURR\n"
     ]
    },
    {
     "data": {
      "image/png": "[encoded data removed]",
      "text/plain": [
       "<Figure size 640x480 with 1 Axes>"
      ]
     },
     "metadata": {},
     "output_type": "display_data"
    },
    {
     "name": "stdout",
     "output_type": "stream",
     "text": [
      "col:  Temperature\n"
     ]
    },
    {
     "data": {
      "image/png": "[encoded data removed]",
      "text/plain": [
       "<Figure size 640x480 with 1 Axes>"
      ]
     },
     "metadata": {},
     "output_type": "display_data"
    },
    {
     "name": "stdout",
     "output_type": "stream",
     "text": [
      "col:  Health_Mastitis\n"
     ]
    },
    {
     "data": {
      "image/png": "[encoded data removed]",
      "text/plain": [
       "<Figure size 640x480 with 1 Axes>"
      ]
     },
     "metadata": {},
     "output_type": "display_data"
    }
   ],
   "source": [
    "import matplotlib.pyplot as plt\n",
    "\n",
    "columns = df.columns\n",
    "for col in columns:\n",
    "    print(\"col: \", col)\n",
    "    df[col].hist()\n",
    "    plt.show()"
   ]
  },
  {
   "cell_type": "code",
   "execution_count": 9,
   "id": "6e66336f",
   "metadata": {
    "execution": {
     "iopub.execute_input": "2024-06-30T21:07:55.485880Z",
     "iopub.status.busy": "2024-06-30T21:07:55.485467Z",
     "iopub.status.idle": "2024-06-30T21:07:55.501662Z",
     "shell.execute_reply": "2024-06-30T21:07:55.500460Z"
    },
    "papermill": {
     "duration": 0.033106,
     "end_time": "2024-06-30T21:07:55.504240",
     "exception": false,
     "start_time": "2024-06-30T21:07:55.471134",
     "status": "completed"
    },
    "tags": []
   },
   "outputs": [
    {
     "name": "stdout",
     "output_type": "stream",
     "text": [
      "Training set size: 5598 or 70.0 %\n",
      "Test set size: 1608 or 20.1 %\n",
      "Validation set size: 792 or 9.9 %\n"
     ]
    }
   ],
   "source": [
    "# Split data into training, test, and validation sets\n",
    "X_train, X_temp, y_train, y_temp = train_test_split(x, y, test_size=0.3, random_state=42)\n",
    "X_test, X_val, y_test, y_val = train_test_split(X_temp, y_temp, test_size=0.33, random_state=42)\n",
    "\n",
    "print(\"Training set size:\", X_train.shape[0], \"or\", round(X_train.shape[0]/x.shape[0]*100, 1), \"%\")\n",
    "print(\"Test set size:\", X_test.shape[0], \"or\", round(X_test.shape[0]/x.shape[0]*100, 1), \"%\")\n",
    "print(\"Validation set size:\", X_val.shape[0], \"or\", round(X_val.shape[0]/x.shape[0]*100, 1), \"%\")"
   ]
  },
  {
   "cell_type": "code",
   "execution_count": 10,
   "id": "c1c430af",
   "metadata": {
    "execution": {
     "iopub.execute_input": "2024-06-30T21:07:55.532470Z",
     "iopub.status.busy": "2024-06-30T21:07:55.531467Z",
     "iopub.status.idle": "2024-06-30T21:07:55.540437Z",
     "shell.execute_reply": "2024-06-30T21:07:55.539390Z"
    },
    "papermill": {
     "duration": 0.025193,
     "end_time": "2024-06-30T21:07:55.542703",
     "exception": false,
     "start_time": "2024-06-30T21:07:55.517510",
     "status": "completed"
    },
    "tags": []
   },
   "outputs": [
    {
     "data": {
      "text/plain": [
       "array([[[  4, 165, 196, ..., 166, 194,  24]],\n",
       "\n",
       "       [[  4, 159, 192, ..., 151, 187,  43]],\n",
       "\n",
       "       [[  1, 233, 273, ..., 233, 273,  43]],\n",
       "\n",
       "       ...,\n",
       "\n",
       "       [[  2, 162, 193, ..., 163, 191,  43]],\n",
       "\n",
       "       [[  6, 154, 184, ..., 153, 183,  43]],\n",
       "\n",
       "       [[  4, 242, 271, ..., 242, 271,  43]]])"
      ]
     },
     "execution_count": 10,
     "metadata": {},
     "output_type": "execute_result"
    }
   ],
   "source": [
    "# Reshape the input data for LSTM (samples, time steps, features)\n",
    "n_features = X_train.shape[1]\n",
    "X_train_reshaped = X_train.values.reshape((X_train.shape[0], 1, n_features))\n",
    "X_test_reshaped = X_test.values.reshape((X_test.shape[0], 1, n_features))\n",
    "X_val_reshaped = X_val.values.reshape((X_val.shape[0], 1, n_features))\n",
    "\n",
    "X_val_reshaped"
   ]
  },
  {
   "cell_type": "code",
   "execution_count": 11,
   "id": "bb4f8e71",
   "metadata": {
    "execution": {
     "iopub.execute_input": "2024-06-30T21:07:55.571733Z",
     "iopub.status.busy": "2024-06-30T21:07:55.570607Z",
     "iopub.status.idle": "2024-06-30T21:07:55.579380Z",
     "shell.execute_reply": "2024-06-30T21:07:55.578278Z"
    },
    "papermill": {
     "duration": 0.025484,
     "end_time": "2024-06-30T21:07:55.581569",
     "exception": false,
     "start_time": "2024-06-30T21:07:55.556085",
     "status": "completed"
    },
    "tags": []
   },
   "outputs": [],
   "source": [
    "import tensorflow as tf\n",
    "from tensorflow.keras.losses import binary_crossentropy\n",
    "# Define the custom loss function\n",
    "def custom_loss(y_true, y_pred, temperature_feature, threshold=39, penalty_factor=2.0):\n",
    "    # Apply penalty if temperature exceeds the threshold\n",
    "    penalty = tf.where(temperature_feature > threshold, penalty_factor, 1.0)\n",
    "    # Compute binary cross-entropy loss\n",
    "    bce = binary_crossentropy(y_true, y_pred)\n",
    "    # Apply the penalty to the loss\n",
    "    loss = tf.reduce_mean(penalty * bce)\n",
    "    return loss\n",
    "\n",
    "def custom_loss_wrapper(temperature_feature_index, threshold=39, penalty_factor=2.0):\n",
    "    def loss(y_true, y_pred):\n",
    "        # Assuming temperature is passed as a part of y_true for simplicity\n",
    "        temperature_feature = y_true[:, temperature_feature_index]\n",
    "        return custom_loss(y_true, y_pred, temperature_feature, threshold, penalty_factor)\n",
    "    return loss"
   ]
  },
  {
   "cell_type": "code",
   "execution_count": 12,
   "id": "8baad982",
   "metadata": {
    "execution": {
     "iopub.execute_input": "2024-06-30T21:07:55.609225Z",
     "iopub.status.busy": "2024-06-30T21:07:55.608857Z",
     "iopub.status.idle": "2024-06-30T21:07:55.724369Z",
     "shell.execute_reply": "2024-06-30T21:07:55.723197Z"
    },
    "papermill": {
     "duration": 0.132269,
     "end_time": "2024-06-30T21:07:55.726797",
     "exception": false,
     "start_time": "2024-06-30T21:07:55.594528",
     "status": "completed"
    },
    "tags": []
   },
   "outputs": [
    {
     "name": "stderr",
     "output_type": "stream",
     "text": [
      "Do not pass an `input_shape`/`input_dim` argument to a layer. When using Sequential models, prefer using an `Input(shape)` object as the first layer in the model instead.\n"
     ]
    }
   ],
   "source": [
    "# Define and compile the LSTM model\n",
    "model = Sequential([\n",
    "    LSTM(50, return_sequences=True, input_shape=(1, n_features)),\n",
    "    LSTM(50),\n",
    "    Dense(1, activation='sigmoid')\n",
    "])"
   ]
  },
  {
   "cell_type": "code",
   "execution_count": 13,
   "id": "609226c8",
   "metadata": {
    "execution": {
     "iopub.execute_input": "2024-06-30T21:07:55.755353Z",
     "iopub.status.busy": "2024-06-30T21:07:55.754418Z",
     "iopub.status.idle": "2024-06-30T21:07:55.769655Z",
     "shell.execute_reply": "2024-06-30T21:07:55.768720Z"
    },
    "papermill": {
     "duration": 0.032305,
     "end_time": "2024-06-30T21:07:55.772029",
     "exception": false,
     "start_time": "2024-06-30T21:07:55.739724",
     "status": "completed"
    },
    "tags": []
   },
   "outputs": [],
   "source": [
    "#model.compile(optimizer='adam', loss='binary_crossentropy', metrics=['accuracy'])\n",
    "\n",
    "# Compile the model with a wrapper to include temperature in the loss calculation\n",
    "temperature_feature_index = 9  #  temperature is the 10th feature\n",
    "\n",
    "model.compile(optimizer='adam', \n",
    "              loss='binary_crossentropy', \n",
    "              metrics=['accuracy'])\n",
    "\n",
    "\n"
   ]
  },
  {
   "cell_type": "code",
   "execution_count": 14,
   "id": "62cb3b7a",
   "metadata": {
    "execution": {
     "iopub.execute_input": "2024-06-30T21:07:55.800772Z",
     "iopub.status.busy": "2024-06-30T21:07:55.800390Z",
     "iopub.status.idle": "2024-06-30T21:08:26.656953Z",
     "shell.execute_reply": "2024-06-30T21:08:26.655739Z"
    },
    "papermill": {
     "duration": 30.87367,
     "end_time": "2024-06-30T21:08:26.659801",
     "exception": false,
     "start_time": "2024-06-30T21:07:55.786131",
     "status": "completed"
    },
    "tags": []
   },
   "outputs": [
    {
     "name": "stdout",
     "output_type": "stream",
     "text": [
      "Epoch 1/50\n",
      "\u001b[1m175/175\u001b[0m \u001b[32m━━━━━━━━━━━━━━━━━━━━\u001b[0m\u001b[37m\u001b[0m \u001b[1m4s\u001b[0m 5ms/step - accuracy: 0.7256 - loss: 0.6128 - val_accuracy: 0.8523 - val_loss: 0.3748\n",
      "Epoch 2/50\n",
      "\u001b[1m175/175\u001b[0m \u001b[32m━━━━━━━━━━━━━━━━━━━━\u001b[0m\u001b[37m\u001b[0m \u001b[1m1s\u001b[0m 3ms/step - accuracy: 0.8422 - loss: 0.3714 - val_accuracy: 0.8561 - val_loss: 0.3448\n",
      "Epoch 3/50\n",
      "\u001b[1m175/175\u001b[0m \u001b[32m━━━━━━━━━━━━━━━━━━━━\u001b[0m\u001b[37m\u001b[0m \u001b[1m1s\u001b[0m 3ms/step - accuracy: 0.8484 - loss: 0.3615 - val_accuracy: 0.8523 - val_loss: 0.3362\n",
      "Epoch 4/50\n",
      "\u001b[1m175/175\u001b[0m \u001b[32m━━━━━━━━━━━━━━━━━━━━\u001b[0m\u001b[37m\u001b[0m \u001b[1m1s\u001b[0m 3ms/step - accuracy: 0.8654 - loss: 0.3326 - val_accuracy: 0.8548 - val_loss: 0.3302\n",
      "Epoch 5/50\n",
      "\u001b[1m175/175\u001b[0m \u001b[32m━━━━━━━━━━━━━━━━━━━━\u001b[0m\u001b[37m\u001b[0m \u001b[1m1s\u001b[0m 3ms/step - accuracy: 0.8415 - loss: 0.3609 - val_accuracy: 0.8497 - val_loss: 0.3492\n",
      "Epoch 6/50\n",
      "\u001b[1m175/175\u001b[0m \u001b[32m━━━━━━━━━━━━━━━━━━━━\u001b[0m\u001b[37m\u001b[0m \u001b[1m1s\u001b[0m 3ms/step - accuracy: 0.8515 - loss: 0.3550 - val_accuracy: 0.8460 - val_loss: 0.3404\n",
      "Epoch 7/50\n",
      "\u001b[1m175/175\u001b[0m \u001b[32m━━━━━━━━━━━━━━━━━━━━\u001b[0m\u001b[37m\u001b[0m \u001b[1m1s\u001b[0m 3ms/step - accuracy: 0.8535 - loss: 0.3507 - val_accuracy: 0.8460 - val_loss: 0.3727\n",
      "Epoch 8/50\n",
      "\u001b[1m175/175\u001b[0m \u001b[32m━━━━━━━━━━━━━━━━━━━━\u001b[0m\u001b[37m\u001b[0m \u001b[1m1s\u001b[0m 3ms/step - accuracy: 0.8477 - loss: 0.3694 - val_accuracy: 0.8384 - val_loss: 0.3695\n",
      "Epoch 9/50\n",
      "\u001b[1m175/175\u001b[0m \u001b[32m━━━━━━━━━━━━━━━━━━━━\u001b[0m\u001b[37m\u001b[0m \u001b[1m1s\u001b[0m 3ms/step - accuracy: 0.8475 - loss: 0.3574 - val_accuracy: 0.8497 - val_loss: 0.3619\n",
      "Epoch 10/50\n",
      "\u001b[1m175/175\u001b[0m \u001b[32m━━━━━━━━━━━━━━━━━━━━\u001b[0m\u001b[37m\u001b[0m \u001b[1m1s\u001b[0m 3ms/step - accuracy: 0.8538 - loss: 0.3481 - val_accuracy: 0.8510 - val_loss: 0.3646\n",
      "Epoch 11/50\n",
      "\u001b[1m175/175\u001b[0m \u001b[32m━━━━━━━━━━━━━━━━━━━━\u001b[0m\u001b[37m\u001b[0m \u001b[1m1s\u001b[0m 3ms/step - accuracy: 0.8528 - loss: 0.3473 - val_accuracy: 0.8523 - val_loss: 0.3542\n",
      "Epoch 12/50\n",
      "\u001b[1m175/175\u001b[0m \u001b[32m━━━━━━━━━━━━━━━━━━━━\u001b[0m\u001b[37m\u001b[0m \u001b[1m1s\u001b[0m 3ms/step - accuracy: 0.8584 - loss: 0.3423 - val_accuracy: 0.8548 - val_loss: 0.3597\n",
      "Epoch 13/50\n",
      "\u001b[1m175/175\u001b[0m \u001b[32m━━━━━━━━━━━━━━━━━━━━\u001b[0m\u001b[37m\u001b[0m \u001b[1m1s\u001b[0m 3ms/step - accuracy: 0.8516 - loss: 0.3550 - val_accuracy: 0.8535 - val_loss: 0.3684\n",
      "Epoch 14/50\n",
      "\u001b[1m175/175\u001b[0m \u001b[32m━━━━━━━━━━━━━━━━━━━━\u001b[0m\u001b[37m\u001b[0m \u001b[1m1s\u001b[0m 3ms/step - accuracy: 0.8604 - loss: 0.3416 - val_accuracy: 0.8447 - val_loss: 0.3489\n",
      "Epoch 15/50\n",
      "\u001b[1m175/175\u001b[0m \u001b[32m━━━━━━━━━━━━━━━━━━━━\u001b[0m\u001b[37m\u001b[0m \u001b[1m1s\u001b[0m 3ms/step - accuracy: 0.8562 - loss: 0.3379 - val_accuracy: 0.8472 - val_loss: 0.3377\n",
      "Epoch 16/50\n",
      "\u001b[1m175/175\u001b[0m \u001b[32m━━━━━━━━━━━━━━━━━━━━\u001b[0m\u001b[37m\u001b[0m \u001b[1m1s\u001b[0m 3ms/step - accuracy: 0.8420 - loss: 0.3574 - val_accuracy: 0.8523 - val_loss: 0.3587\n",
      "Epoch 17/50\n",
      "\u001b[1m175/175\u001b[0m \u001b[32m━━━━━━━━━━━━━━━━━━━━\u001b[0m\u001b[37m\u001b[0m \u001b[1m1s\u001b[0m 3ms/step - accuracy: 0.8607 - loss: 0.3411 - val_accuracy: 0.8497 - val_loss: 0.3330\n",
      "Epoch 18/50\n",
      "\u001b[1m175/175\u001b[0m \u001b[32m━━━━━━━━━━━━━━━━━━━━\u001b[0m\u001b[37m\u001b[0m \u001b[1m1s\u001b[0m 3ms/step - accuracy: 0.8511 - loss: 0.3464 - val_accuracy: 0.8535 - val_loss: 0.3395\n",
      "Epoch 19/50\n",
      "\u001b[1m175/175\u001b[0m \u001b[32m━━━━━━━━━━━━━━━━━━━━\u001b[0m\u001b[37m\u001b[0m \u001b[1m1s\u001b[0m 3ms/step - accuracy: 0.8591 - loss: 0.3397 - val_accuracy: 0.8510 - val_loss: 0.3460\n",
      "Epoch 20/50\n",
      "\u001b[1m175/175\u001b[0m \u001b[32m━━━━━━━━━━━━━━━━━━━━\u001b[0m\u001b[37m\u001b[0m \u001b[1m1s\u001b[0m 3ms/step - accuracy: 0.8632 - loss: 0.3387 - val_accuracy: 0.8434 - val_loss: 0.3307\n",
      "Epoch 21/50\n",
      "\u001b[1m175/175\u001b[0m \u001b[32m━━━━━━━━━━━━━━━━━━━━\u001b[0m\u001b[37m\u001b[0m \u001b[1m1s\u001b[0m 3ms/step - accuracy: 0.8593 - loss: 0.3398 - val_accuracy: 0.8460 - val_loss: 0.3461\n",
      "Epoch 22/50\n",
      "\u001b[1m175/175\u001b[0m \u001b[32m━━━━━━━━━━━━━━━━━━━━\u001b[0m\u001b[37m\u001b[0m \u001b[1m1s\u001b[0m 3ms/step - accuracy: 0.8625 - loss: 0.3386 - val_accuracy: 0.8409 - val_loss: 0.3608\n",
      "Epoch 23/50\n",
      "\u001b[1m175/175\u001b[0m \u001b[32m━━━━━━━━━━━━━━━━━━━━\u001b[0m\u001b[37m\u001b[0m \u001b[1m1s\u001b[0m 3ms/step - accuracy: 0.8470 - loss: 0.3542 - val_accuracy: 0.8548 - val_loss: 0.3378\n",
      "Epoch 24/50\n",
      "\u001b[1m175/175\u001b[0m \u001b[32m━━━━━━━━━━━━━━━━━━━━\u001b[0m\u001b[37m\u001b[0m \u001b[1m1s\u001b[0m 3ms/step - accuracy: 0.8585 - loss: 0.3447 - val_accuracy: 0.8561 - val_loss: 0.3497\n",
      "Epoch 25/50\n",
      "\u001b[1m175/175\u001b[0m \u001b[32m━━━━━━━━━━━━━━━━━━━━\u001b[0m\u001b[37m\u001b[0m \u001b[1m1s\u001b[0m 3ms/step - accuracy: 0.8609 - loss: 0.3378 - val_accuracy: 0.8460 - val_loss: 0.3479\n",
      "Epoch 26/50\n",
      "\u001b[1m175/175\u001b[0m \u001b[32m━━━━━━━━━━━━━━━━━━━━\u001b[0m\u001b[37m\u001b[0m \u001b[1m1s\u001b[0m 3ms/step - accuracy: 0.8555 - loss: 0.3470 - val_accuracy: 0.8194 - val_loss: 0.3789\n",
      "Epoch 27/50\n",
      "\u001b[1m175/175\u001b[0m \u001b[32m━━━━━━━━━━━━━━━━━━━━\u001b[0m\u001b[37m\u001b[0m \u001b[1m1s\u001b[0m 3ms/step - accuracy: 0.8632 - loss: 0.3379 - val_accuracy: 0.8535 - val_loss: 0.3474\n",
      "Epoch 28/50\n",
      "\u001b[1m175/175\u001b[0m \u001b[32m━━━━━━━━━━━━━━━━━━━━\u001b[0m\u001b[37m\u001b[0m \u001b[1m1s\u001b[0m 3ms/step - accuracy: 0.8611 - loss: 0.3363 - val_accuracy: 0.6389 - val_loss: 0.5940\n",
      "Epoch 29/50\n",
      "\u001b[1m175/175\u001b[0m \u001b[32m━━━━━━━━━━━━━━━━━━━━\u001b[0m\u001b[37m\u001b[0m \u001b[1m1s\u001b[0m 3ms/step - accuracy: 0.8229 - loss: 0.3987 - val_accuracy: 0.8535 - val_loss: 0.3265\n",
      "Epoch 30/50\n",
      "\u001b[1m175/175\u001b[0m \u001b[32m━━━━━━━━━━━━━━━━━━━━\u001b[0m\u001b[37m\u001b[0m \u001b[1m1s\u001b[0m 3ms/step - accuracy: 0.8624 - loss: 0.3336 - val_accuracy: 0.8460 - val_loss: 0.3233\n",
      "Epoch 31/50\n",
      "\u001b[1m175/175\u001b[0m \u001b[32m━━━━━━━━━━━━━━━━━━━━\u001b[0m\u001b[37m\u001b[0m \u001b[1m1s\u001b[0m 3ms/step - accuracy: 0.8535 - loss: 0.3476 - val_accuracy: 0.8548 - val_loss: 0.3307\n",
      "Epoch 32/50\n",
      "\u001b[1m175/175\u001b[0m \u001b[32m━━━━━━━━━━━━━━━━━━━━\u001b[0m\u001b[37m\u001b[0m \u001b[1m1s\u001b[0m 3ms/step - accuracy: 0.8602 - loss: 0.3351 - val_accuracy: 0.8573 - val_loss: 0.3495\n",
      "Epoch 33/50\n",
      "\u001b[1m175/175\u001b[0m \u001b[32m━━━━━━━━━━━━━━━━━━━━\u001b[0m\u001b[37m\u001b[0m \u001b[1m1s\u001b[0m 3ms/step - accuracy: 0.8560 - loss: 0.3470 - val_accuracy: 0.8548 - val_loss: 0.3532\n",
      "Epoch 34/50\n",
      "\u001b[1m175/175\u001b[0m \u001b[32m━━━━━━━━━━━━━━━━━━━━\u001b[0m\u001b[37m\u001b[0m \u001b[1m1s\u001b[0m 3ms/step - accuracy: 0.8634 - loss: 0.3333 - val_accuracy: 0.8573 - val_loss: 0.3514\n",
      "Epoch 35/50\n",
      "\u001b[1m175/175\u001b[0m \u001b[32m━━━━━━━━━━━━━━━━━━━━\u001b[0m\u001b[37m\u001b[0m \u001b[1m1s\u001b[0m 3ms/step - accuracy: 0.8570 - loss: 0.3464 - val_accuracy: 0.8561 - val_loss: 0.3356\n",
      "Epoch 36/50\n",
      "\u001b[1m175/175\u001b[0m \u001b[32m━━━━━━━━━━━━━━━━━━━━\u001b[0m\u001b[37m\u001b[0m \u001b[1m1s\u001b[0m 3ms/step - accuracy: 0.8186 - loss: 0.4108 - val_accuracy: 0.8485 - val_loss: 0.3614\n",
      "Epoch 37/50\n",
      "\u001b[1m175/175\u001b[0m \u001b[32m━━━━━━━━━━━━━━━━━━━━\u001b[0m\u001b[37m\u001b[0m \u001b[1m1s\u001b[0m 3ms/step - accuracy: 0.8443 - loss: 0.3775 - val_accuracy: 0.8535 - val_loss: 0.3689\n",
      "Epoch 38/50\n",
      "\u001b[1m175/175\u001b[0m \u001b[32m━━━━━━━━━━━━━━━━━━━━\u001b[0m\u001b[37m\u001b[0m \u001b[1m1s\u001b[0m 3ms/step - accuracy: 0.8540 - loss: 0.3508 - val_accuracy: 0.8535 - val_loss: 0.3482\n",
      "Epoch 39/50\n",
      "\u001b[1m175/175\u001b[0m \u001b[32m━━━━━━━━━━━━━━━━━━━━\u001b[0m\u001b[37m\u001b[0m \u001b[1m1s\u001b[0m 3ms/step - accuracy: 0.8522 - loss: 0.3547 - val_accuracy: 0.8561 - val_loss: 0.3543\n",
      "Epoch 40/50\n",
      "\u001b[1m175/175\u001b[0m \u001b[32m━━━━━━━━━━━━━━━━━━━━\u001b[0m\u001b[37m\u001b[0m \u001b[1m1s\u001b[0m 3ms/step - accuracy: 0.8591 - loss: 0.3504 - val_accuracy: 0.8523 - val_loss: 0.3648\n",
      "Epoch 41/50\n",
      "\u001b[1m175/175\u001b[0m \u001b[32m━━━━━━━━━━━━━━━━━━━━\u001b[0m\u001b[37m\u001b[0m \u001b[1m1s\u001b[0m 3ms/step - accuracy: 0.8504 - loss: 0.3613 - val_accuracy: 0.8535 - val_loss: 0.3438\n",
      "Epoch 42/50\n",
      "\u001b[1m175/175\u001b[0m \u001b[32m━━━━━━━━━━━━━━━━━━━━\u001b[0m\u001b[37m\u001b[0m \u001b[1m1s\u001b[0m 3ms/step - accuracy: 0.8614 - loss: 0.3412 - val_accuracy: 0.8548 - val_loss: 0.3567\n",
      "Epoch 43/50\n",
      "\u001b[1m175/175\u001b[0m \u001b[32m━━━━━━━━━━━━━━━━━━━━\u001b[0m\u001b[37m\u001b[0m \u001b[1m1s\u001b[0m 3ms/step - accuracy: 0.8600 - loss: 0.3422 - val_accuracy: 0.8523 - val_loss: 0.3896\n",
      "Epoch 44/50\n",
      "\u001b[1m175/175\u001b[0m \u001b[32m━━━━━━━━━━━━━━━━━━━━\u001b[0m\u001b[37m\u001b[0m \u001b[1m1s\u001b[0m 3ms/step - accuracy: 0.8594 - loss: 0.3539 - val_accuracy: 0.8535 - val_loss: 0.3445\n",
      "Epoch 45/50\n",
      "\u001b[1m175/175\u001b[0m \u001b[32m━━━━━━━━━━━━━━━━━━━━\u001b[0m\u001b[37m\u001b[0m \u001b[1m1s\u001b[0m 3ms/step - accuracy: 0.8495 - loss: 0.3587 - val_accuracy: 0.8497 - val_loss: 0.3261\n",
      "Epoch 46/50\n",
      "\u001b[1m175/175\u001b[0m \u001b[32m━━━━━━━━━━━━━━━━━━━━\u001b[0m\u001b[37m\u001b[0m \u001b[1m1s\u001b[0m 3ms/step - accuracy: 0.8507 - loss: 0.3566 - val_accuracy: 0.8573 - val_loss: 0.3558\n",
      "Epoch 47/50\n",
      "\u001b[1m175/175\u001b[0m \u001b[32m━━━━━━━━━━━━━━━━━━━━\u001b[0m\u001b[37m\u001b[0m \u001b[1m1s\u001b[0m 3ms/step - accuracy: 0.8621 - loss: 0.3377 - val_accuracy: 0.8548 - val_loss: 0.3599\n",
      "Epoch 48/50\n",
      "\u001b[1m175/175\u001b[0m \u001b[32m━━━━━━━━━━━━━━━━━━━━\u001b[0m\u001b[37m\u001b[0m \u001b[1m1s\u001b[0m 3ms/step - accuracy: 0.8593 - loss: 0.3389 - val_accuracy: 0.8485 - val_loss: 0.3316\n",
      "Epoch 49/50\n",
      "\u001b[1m175/175\u001b[0m \u001b[32m━━━━━━━━━━━━━━━━━━━━\u001b[0m\u001b[37m\u001b[0m \u001b[1m1s\u001b[0m 4ms/step - accuracy: 0.8621 - loss: 0.3396 - val_accuracy: 0.8548 - val_loss: 0.3630\n",
      "Epoch 50/50\n",
      "\u001b[1m175/175\u001b[0m \u001b[32m━━━━━━━━━━━━━━━━━━━━\u001b[0m\u001b[37m\u001b[0m \u001b[1m1s\u001b[0m 3ms/step - accuracy: 0.8660 - loss: 0.3428 - val_accuracy: 0.8548 - val_loss: 0.3371\n"
     ]
    }
   ],
   "source": [
    "# Train the model\n",
    "history = model.fit(X_train_reshaped, y_train, epochs=50,  validation_data=(X_val_reshaped, y_val))"
   ]
  },
  {
   "cell_type": "code",
   "execution_count": 15,
   "id": "56b22d29",
   "metadata": {
    "execution": {
     "iopub.execute_input": "2024-06-30T21:08:26.760556Z",
     "iopub.status.busy": "2024-06-30T21:08:26.760138Z",
     "iopub.status.idle": "2024-06-30T21:08:26.764850Z",
     "shell.execute_reply": "2024-06-30T21:08:26.763809Z"
    },
    "papermill": {
     "duration": 0.057813,
     "end_time": "2024-06-30T21:08:26.767517",
     "exception": false,
     "start_time": "2024-06-30T21:08:26.709704",
     "status": "completed"
    },
    "tags": []
   },
   "outputs": [],
   "source": [
    "# Train the model\n",
    "#history = model.fit(X_train_reshaped, y_train, epochs=50, validation_data=(X_val_reshaped, y_val))"
   ]
  },
  {
   "cell_type": "code",
   "execution_count": 16,
   "id": "f9142f2a",
   "metadata": {
    "execution": {
     "iopub.execute_input": "2024-06-30T21:08:26.872070Z",
     "iopub.status.busy": "2024-06-30T21:08:26.871680Z",
     "iopub.status.idle": "2024-06-30T21:08:26.897522Z",
     "shell.execute_reply": "2024-06-30T21:08:26.896388Z"
    },
    "papermill": {
     "duration": 0.078436,
     "end_time": "2024-06-30T21:08:26.899793",
     "exception": false,
     "start_time": "2024-06-30T21:08:26.821357",
     "status": "completed"
    },
    "tags": []
   },
   "outputs": [
    {
     "data": {
      "text/html": [
       "<pre style=\"white-space:pre;overflow-x:auto;line-height:normal;font-family:Menlo,'DejaVu Sans Mono',consolas,'Courier New',monospace\"><span style=\"font-weight: bold\">Model: \"sequential\"</span>\n",
       "</pre>\n"
      ],
      "text/plain": [
       "\u001b[1mModel: \"sequential\"\u001b[0m\n"
      ]
     },
     "metadata": {},
     "output_type": "display_data"
    },
    {
     "data": {
      "text/html": [
       "<pre style=\"white-space:pre;overflow-x:auto;line-height:normal;font-family:Menlo,'DejaVu Sans Mono',consolas,'Courier New',monospace\">┏━━━━━━━━━━━━━━━━━━━━━━━━━━━━━━━━━┳━━━━━━━━━━━━━━━━━━━━━━━━┳━━━━━━━━━━━━━━━┓\n",
       "┃<span style=\"font-weight: bold\"> Layer (type)                    </span>┃<span style=\"font-weight: bold\"> Output Shape           </span>┃<span style=\"font-weight: bold\">       Param # </span>┃\n",
       "┡━━━━━━━━━━━━━━━━━━━━━━━━━━━━━━━━━╇━━━━━━━━━━━━━━━━━━━━━━━━╇━━━━━━━━━━━━━━━┩\n",
       "│ lstm (<span style=\"color: #0087ff; text-decoration-color: #0087ff\">LSTM</span>)                     │ (<span style=\"color: #00d7ff; text-decoration-color: #00d7ff\">None</span>, <span style=\"color: #00af00; text-decoration-color: #00af00\">1</span>, <span style=\"color: #00af00; text-decoration-color: #00af00\">50</span>)          │        <span style=\"color: #00af00; text-decoration-color: #00af00\">12,200</span> │\n",
       "├─────────────────────────────────┼────────────────────────┼───────────────┤\n",
       "│ lstm_1 (<span style=\"color: #0087ff; text-decoration-color: #0087ff\">LSTM</span>)                   │ (<span style=\"color: #00d7ff; text-decoration-color: #00d7ff\">None</span>, <span style=\"color: #00af00; text-decoration-color: #00af00\">50</span>)             │        <span style=\"color: #00af00; text-decoration-color: #00af00\">20,200</span> │\n",
       "├─────────────────────────────────┼────────────────────────┼───────────────┤\n",
       "│ dense (<span style=\"color: #0087ff; text-decoration-color: #0087ff\">Dense</span>)                   │ (<span style=\"color: #00d7ff; text-decoration-color: #00d7ff\">None</span>, <span style=\"color: #00af00; text-decoration-color: #00af00\">1</span>)              │            <span style=\"color: #00af00; text-decoration-color: #00af00\">51</span> │\n",
       "└─────────────────────────────────┴────────────────────────┴───────────────┘\n",
       "</pre>\n"
      ],
      "text/plain": [
       "┏━━━━━━━━━━━━━━━━━━━━━━━━━━━━━━━━━┳━━━━━━━━━━━━━━━━━━━━━━━━┳━━━━━━━━━━━━━━━┓\n",
       "┃\u001b[1m \u001b[0m\u001b[1mLayer (type)                   \u001b[0m\u001b[1m \u001b[0m┃\u001b[1m \u001b[0m\u001b[1mOutput Shape          \u001b[0m\u001b[1m \u001b[0m┃\u001b[1m \u001b[0m\u001b[1m      Param #\u001b[0m\u001b[1m \u001b[0m┃\n",
       "┡━━━━━━━━━━━━━━━━━━━━━━━━━━━━━━━━━╇━━━━━━━━━━━━━━━━━━━━━━━━╇━━━━━━━━━━━━━━━┩\n",
       "│ lstm (\u001b[38;5;33mLSTM\u001b[0m)                     │ (\u001b[38;5;45mNone\u001b[0m, \u001b[38;5;34m1\u001b[0m, \u001b[38;5;34m50\u001b[0m)          │        \u001b[38;5;34m12,200\u001b[0m │\n",
       "├─────────────────────────────────┼────────────────────────┼───────────────┤\n",
       "│ lstm_1 (\u001b[38;5;33mLSTM\u001b[0m)                   │ (\u001b[38;5;45mNone\u001b[0m, \u001b[38;5;34m50\u001b[0m)             │        \u001b[38;5;34m20,200\u001b[0m │\n",
       "├─────────────────────────────────┼────────────────────────┼───────────────┤\n",
       "│ dense (\u001b[38;5;33mDense\u001b[0m)                   │ (\u001b[38;5;45mNone\u001b[0m, \u001b[38;5;34m1\u001b[0m)              │            \u001b[38;5;34m51\u001b[0m │\n",
       "└─────────────────────────────────┴────────────────────────┴───────────────┘\n"
      ]
     },
     "metadata": {},
     "output_type": "display_data"
    },
    {
     "data": {
      "text/html": [
       "<pre style=\"white-space:pre;overflow-x:auto;line-height:normal;font-family:Menlo,'DejaVu Sans Mono',consolas,'Courier New',monospace\"><span style=\"font-weight: bold\"> Total params: </span><span style=\"color: #00af00; text-decoration-color: #00af00\">97,355</span> (380.30 KB)\n",
       "</pre>\n"
      ],
      "text/plain": [
       "\u001b[1m Total params: \u001b[0m\u001b[38;5;34m97,355\u001b[0m (380.30 KB)\n"
      ]
     },
     "metadata": {},
     "output_type": "display_data"
    },
    {
     "data": {
      "text/html": [
       "<pre style=\"white-space:pre;overflow-x:auto;line-height:normal;font-family:Menlo,'DejaVu Sans Mono',consolas,'Courier New',monospace\"><span style=\"font-weight: bold\"> Trainable params: </span><span style=\"color: #00af00; text-decoration-color: #00af00\">32,451</span> (126.76 KB)\n",
       "</pre>\n"
      ],
      "text/plain": [
       "\u001b[1m Trainable params: \u001b[0m\u001b[38;5;34m32,451\u001b[0m (126.76 KB)\n"
      ]
     },
     "metadata": {},
     "output_type": "display_data"
    },
    {
     "data": {
      "text/html": [
       "<pre style=\"white-space:pre;overflow-x:auto;line-height:normal;font-family:Menlo,'DejaVu Sans Mono',consolas,'Courier New',monospace\"><span style=\"font-weight: bold\"> Non-trainable params: </span><span style=\"color: #00af00; text-decoration-color: #00af00\">0</span> (0.00 B)\n",
       "</pre>\n"
      ],
      "text/plain": [
       "\u001b[1m Non-trainable params: \u001b[0m\u001b[38;5;34m0\u001b[0m (0.00 B)\n"
      ]
     },
     "metadata": {},
     "output_type": "display_data"
    },
    {
     "data": {
      "text/html": [
       "<pre style=\"white-space:pre;overflow-x:auto;line-height:normal;font-family:Menlo,'DejaVu Sans Mono',consolas,'Courier New',monospace\"><span style=\"font-weight: bold\"> Optimizer params: </span><span style=\"color: #00af00; text-decoration-color: #00af00\">64,904</span> (253.54 KB)\n",
       "</pre>\n"
      ],
      "text/plain": [
       "\u001b[1m Optimizer params: \u001b[0m\u001b[38;5;34m64,904\u001b[0m (253.54 KB)\n"
      ]
     },
     "metadata": {},
     "output_type": "display_data"
    }
   ],
   "source": [
    "model.summary()"
   ]
  },
  {
   "cell_type": "code",
   "execution_count": 17,
   "id": "c7727882",
   "metadata": {
    "execution": {
     "iopub.execute_input": "2024-06-30T21:08:27.006225Z",
     "iopub.status.busy": "2024-06-30T21:08:27.005111Z",
     "iopub.status.idle": "2024-06-30T21:08:27.493162Z",
     "shell.execute_reply": "2024-06-30T21:08:27.491754Z"
    },
    "papermill": {
     "duration": 0.542974,
     "end_time": "2024-06-30T21:08:27.495564",
     "exception": false,
     "start_time": "2024-06-30T21:08:26.952590",
     "status": "completed"
    },
    "tags": []
   },
   "outputs": [
    {
     "name": "stdout",
     "output_type": "stream",
     "text": [
      "\u001b[1m51/51\u001b[0m \u001b[32m━━━━━━━━━━━━━━━━━━━━\u001b[0m\u001b[37m\u001b[0m \u001b[1m0s\u001b[0m 2ms/step - accuracy: 0.8694 - loss: 0.3185\n",
      "Test Accuracy: 0.8650497794151306\n"
     ]
    }
   ],
   "source": [
    "# Evaluate the model\n",
    "test_loss, test_acc = model.evaluate(X_test_reshaped, y_test)\n",
    "print(\"Test Accuracy:\", test_acc)"
   ]
  },
  {
   "cell_type": "code",
   "execution_count": 18,
   "id": "14c891f7",
   "metadata": {
    "execution": {
     "iopub.execute_input": "2024-06-30T21:08:27.598004Z",
     "iopub.status.busy": "2024-06-30T21:08:27.597574Z",
     "iopub.status.idle": "2024-06-30T21:08:28.330580Z",
     "shell.execute_reply": "2024-06-30T21:08:28.329528Z"
    },
    "papermill": {
     "duration": 0.787211,
     "end_time": "2024-06-30T21:08:28.333188",
     "exception": false,
     "start_time": "2024-06-30T21:08:27.545977",
     "status": "completed"
    },
    "tags": []
   },
   "outputs": [
    {
     "name": "stdout",
     "output_type": "stream",
     "text": [
      "\u001b[1m51/51\u001b[0m \u001b[32m━━━━━━━━━━━━━━━━━━━━\u001b[0m\u001b[37m\u001b[0m \u001b[1m1s\u001b[0m 7ms/step\n"
     ]
    }
   ],
   "source": [
    "# Making predictions\n",
    "predictions = model.predict(X_test_reshaped)\n",
    "binary_predictions = (predictions > 0.5).astype(int)"
   ]
  },
  {
   "cell_type": "code",
   "execution_count": 19,
   "id": "efd02c58",
   "metadata": {
    "execution": {
     "iopub.execute_input": "2024-06-30T21:08:28.496021Z",
     "iopub.status.busy": "2024-06-30T21:08:28.495661Z",
     "iopub.status.idle": "2024-06-30T21:08:28.505200Z",
     "shell.execute_reply": "2024-06-30T21:08:28.504167Z"
    },
    "papermill": {
     "duration": 0.123991,
     "end_time": "2024-06-30T21:08:28.507554",
     "exception": false,
     "start_time": "2024-06-30T21:08:28.383563",
     "status": "completed"
    },
    "tags": []
   },
   "outputs": [],
   "source": [
    "import pandas as pd\n",
    "\n",
    "# Assuming 'predictions' are in the format returned by model.predict() and are probabilities\n",
    "# Flatten the predictions array and round them off for better readability\n",
    "predicted_probs = predictions.flatten().round(2)\n",
    "\n",
    "# Create a DataFrame from the test set features\n",
    "test_features = pd.DataFrame(X_test_reshaped.reshape(X_test_reshaped.shape[0], n_features), columns=X_test.columns)\n",
    "\n",
    "# Add the predictions and the actual labels to the DataFrame\n",
    "test_features['Predicted Probability'] = predicted_probs\n",
    "test_features['Actual Label'] = y_test  \n",
    "\n",
    "# Sort the DataFrame by 'Predicted Probability' to get the top predictions\n",
    "test_features_sorted = test_features.sort_values(by='Predicted Probability', ascending=False)"
   ]
  },
  {
   "cell_type": "code",
   "execution_count": 20,
   "id": "2c9c9024",
   "metadata": {
    "execution": {
     "iopub.execute_input": "2024-06-30T21:08:28.613793Z",
     "iopub.status.busy": "2024-06-30T21:08:28.613378Z",
     "iopub.status.idle": "2024-06-30T21:08:28.623349Z",
     "shell.execute_reply": "2024-06-30T21:08:28.622150Z"
    },
    "papermill": {
     "duration": 0.065917,
     "end_time": "2024-06-30T21:08:28.625844",
     "exception": false,
     "start_time": "2024-06-30T21:08:28.559927",
     "status": "completed"
    },
    "tags": []
   },
   "outputs": [
    {
     "name": "stdout",
     "output_type": "stream",
     "text": [
      "      Months_after_giving_birth  IUFL  EUFL  IUFR  EUFR  IURL  EURL  IURR  \\\n",
      "424                           2   237   277   232   276   302   357   237   \n",
      "1130                          3   234   278   233   279   302   353   238   \n",
      "270                           4   154   185   333   385   155   187   152   \n",
      "269                           2   238   282   237   283   306   357   242   \n",
      "558                           5   249   279   250   288   315   364   244   \n",
      "\n",
      "      EURR  Temperature  Predicted Probability  Actual Label  \n",
      "424    273           38                    1.0             1  \n",
      "1130   277           43                    1.0             1  \n",
      "270    181           45                    1.0             1  \n",
      "269    281           43                    1.0             1  \n",
      "558    281           43                    1.0             1  \n"
     ]
    }
   ],
   "source": [
    "# Display the top 5 predictions\n",
    "top_5_predictions = test_features_sorted.head(5)\n",
    "print(top_5_predictions)"
   ]
  },
  {
   "cell_type": "code",
   "execution_count": 21,
   "id": "ae27b649",
   "metadata": {
    "execution": {
     "iopub.execute_input": "2024-06-30T21:08:28.730434Z",
     "iopub.status.busy": "2024-06-30T21:08:28.729167Z",
     "iopub.status.idle": "2024-06-30T21:08:28.743384Z",
     "shell.execute_reply": "2024-06-30T21:08:28.742166Z"
    },
    "papermill": {
     "duration": 0.069161,
     "end_time": "2024-06-30T21:08:28.745722",
     "exception": false,
     "start_time": "2024-06-30T21:08:28.676561",
     "status": "completed"
    },
    "tags": []
   },
   "outputs": [
    {
     "data": {
      "text/plain": [
       "<bound method DataFrame.info of       Months_after_giving_birth  IUFL  EUFL  IUFR  EUFR  IURL  EURL  IURR  \\\n",
       "424                           2   237   277   232   276   302   357   237   \n",
       "1130                          3   234   278   233   279   302   353   238   \n",
       "270                           4   154   185   333   385   155   187   152   \n",
       "269                           2   238   282   237   283   306   357   242   \n",
       "558                           5   249   279   250   288   315   364   244   \n",
       "\n",
       "      EURR  Temperature  Predicted Probability  Actual Label  \n",
       "424    273           38                    1.0             1  \n",
       "1130   277           43                    1.0             1  \n",
       "270    181           45                    1.0             1  \n",
       "269    281           43                    1.0             1  \n",
       "558    281           43                    1.0             1  >"
      ]
     },
     "execution_count": 21,
     "metadata": {},
     "output_type": "execute_result"
    }
   ],
   "source": [
    "top_5_predictions.to_csv(\"top_5_predictions_v1.0.csv\", index=False)\n",
    "top_5_predictions.info"
   ]
  },
  {
   "cell_type": "code",
   "execution_count": 22,
   "id": "47733968",
   "metadata": {
    "execution": {
     "iopub.execute_input": "2024-06-30T21:08:28.850768Z",
     "iopub.status.busy": "2024-06-30T21:08:28.850327Z",
     "iopub.status.idle": "2024-06-30T21:08:28.856226Z",
     "shell.execute_reply": "2024-06-30T21:08:28.855141Z"
    },
    "papermill": {
     "duration": 0.061596,
     "end_time": "2024-06-30T21:08:28.858434",
     "exception": false,
     "start_time": "2024-06-30T21:08:28.796838",
     "status": "completed"
    },
    "tags": []
   },
   "outputs": [],
   "source": [
    "# Convert probabilities to binary predictions\n",
    "threshold = 0.5\n",
    "binary_predictions = (predictions > threshold).astype(int)"
   ]
  },
  {
   "cell_type": "code",
   "execution_count": 23,
   "id": "0e5f010e",
   "metadata": {
    "execution": {
     "iopub.execute_input": "2024-06-30T21:08:28.964066Z",
     "iopub.status.busy": "2024-06-30T21:08:28.963657Z",
     "iopub.status.idle": "2024-06-30T21:08:28.971147Z",
     "shell.execute_reply": "2024-06-30T21:08:28.970173Z"
    },
    "papermill": {
     "duration": 0.063405,
     "end_time": "2024-06-30T21:08:28.973482",
     "exception": false,
     "start_time": "2024-06-30T21:08:28.910077",
     "status": "completed"
    },
    "tags": []
   },
   "outputs": [],
   "source": [
    "from sklearn.metrics import confusion_matrix\n",
    "\n",
    "# Generate the confusion matrix\n",
    "conf_matrix = confusion_matrix(y_test, binary_predictions)"
   ]
  },
  {
   "cell_type": "code",
   "execution_count": 24,
   "id": "66ebb77f",
   "metadata": {
    "execution": {
     "iopub.execute_input": "2024-06-30T21:08:29.078653Z",
     "iopub.status.busy": "2024-06-30T21:08:29.077582Z",
     "iopub.status.idle": "2024-06-30T21:08:29.650773Z",
     "shell.execute_reply": "2024-06-30T21:08:29.649513Z"
    },
    "papermill": {
     "duration": 0.628302,
     "end_time": "2024-06-30T21:08:29.653168",
     "exception": false,
     "start_time": "2024-06-30T21:08:29.024866",
     "status": "completed"
    },
    "tags": []
   },
   "outputs": [
    {
     "data": {
      "image/png": "[encoded data removed]",
      "text/plain": [
       "<Figure size 1200x400 with 2 Axes>"
      ]
     },
     "metadata": {},
     "output_type": "display_data"
    }
   ],
   "source": [
    "# Plot training & validation loss values\n",
    "plt.figure(figsize=(12, 4))\n",
    "plt.subplot(1, 2, 1)\n",
    "plt.plot(history.history['loss'], label='Train Loss')\n",
    "plt.plot(history.history['val_loss'], label='Validation Loss')\n",
    "plt.title('Model Loss Over Epochs')\n",
    "plt.xlabel('Epoch')\n",
    "plt.ylabel('Loss')\n",
    "plt.legend(loc='upper right')\n",
    "\n",
    "# Plot training & validation accuracy values\n",
    "plt.subplot(1, 2, 2)\n",
    "plt.plot(history.history['accuracy'], label='Train Accuracy')\n",
    "plt.plot(history.history['val_accuracy'], label='Validation Accuracy')\n",
    "plt.title('Model Accuracy Over Epochs')\n",
    "plt.xlabel('Epoch')\n",
    "plt.ylabel('Accuracy')\n",
    "plt.legend(loc='lower right')\n",
    "\n",
    "plt.tight_layout()\n",
    "plt.show()\n"
   ]
  },
  {
   "cell_type": "code",
   "execution_count": 25,
   "id": "c14d6d0b",
   "metadata": {
    "execution": {
     "iopub.execute_input": "2024-06-30T21:08:29.763287Z",
     "iopub.status.busy": "2024-06-30T21:08:29.762588Z",
     "iopub.status.idle": "2024-06-30T21:08:30.235262Z",
     "shell.execute_reply": "2024-06-30T21:08:30.233925Z"
    },
    "papermill": {
     "duration": 0.528962,
     "end_time": "2024-06-30T21:08:30.237676",
     "exception": false,
     "start_time": "2024-06-30T21:08:29.708714",
     "status": "completed"
    },
    "tags": []
   },
   "outputs": [
    {
     "data": {
      "image/png": "[encoded data removed]",
      "text/plain": [
       "<Figure size 800x600 with 2 Axes>"
      ]
     },
     "metadata": {},
     "output_type": "display_data"
    }
   ],
   "source": [
    "import matplotlib.pyplot as plt\n",
    "import seaborn as sns\n",
    "\n",
    "# Define the labels for the confusion matrix (adjust labels for your specific case)\n",
    "labels = ['Negative', 'Positive']\n",
    "\n",
    "# Create a heatmap from the confusion matrix\n",
    "plt.figure(figsize=(8, 6))\n",
    "sns.heatmap(conf_matrix, annot=True, fmt='d', cmap=\"Blues\", xticklabels=labels, yticklabels=labels)\n",
    "plt.title('Confusion Matrix')\n",
    "plt.ylabel('Actual Class')\n",
    "plt.xlabel('Predicted Class')\n",
    "plt.show()"
   ]
  },
  {
   "cell_type": "code",
   "execution_count": 26,
   "id": "1030ec7c",
   "metadata": {
    "execution": {
     "iopub.execute_input": "2024-06-30T21:08:30.348009Z",
     "iopub.status.busy": "2024-06-30T21:08:30.347604Z",
     "iopub.status.idle": "2024-06-30T21:08:30.364595Z",
     "shell.execute_reply": "2024-06-30T21:08:30.363486Z"
    },
    "papermill": {
     "duration": 0.075248,
     "end_time": "2024-06-30T21:08:30.366969",
     "exception": false,
     "start_time": "2024-06-30T21:08:30.291721",
     "status": "completed"
    },
    "tags": []
   },
   "outputs": [
    {
     "name": "stdout",
     "output_type": "stream",
     "text": [
      "Accuracy: 0.8650497512437811\n",
      "Precision: 0.9637795275590552\n",
      "Recall: 0.7593052109181141\n",
      "F1 Score: 0.84941013185288\n"
     ]
    }
   ],
   "source": [
    "from sklearn.metrics import accuracy_score, precision_score, recall_score, f1_score\n",
    "\n",
    "# Calculate metrics\n",
    "accuracy = accuracy_score(y_test, binary_predictions)\n",
    "precision = precision_score(y_test, binary_predictions)\n",
    "recall = recall_score(y_test, binary_predictions)\n",
    "f1 = f1_score(y_test, binary_predictions)\n",
    "\n",
    "# Print metrics\n",
    "print(\"Accuracy:\", accuracy)\n",
    "print(\"Precision:\", precision)\n",
    "print(\"Recall:\", recall)\n",
    "print(\"F1 Score:\", f1)"
   ]
  },
  {
   "cell_type": "code",
   "execution_count": 27,
   "id": "6f653520",
   "metadata": {
    "execution": {
     "iopub.execute_input": "2024-06-30T21:08:30.474997Z",
     "iopub.status.busy": "2024-06-30T21:08:30.474193Z",
     "iopub.status.idle": "2024-06-30T21:08:30.895863Z",
     "shell.execute_reply": "2024-06-30T21:08:30.894295Z"
    },
    "papermill": {
     "duration": 0.47837,
     "end_time": "2024-06-30T21:08:30.898235",
     "exception": false,
     "start_time": "2024-06-30T21:08:30.419865",
     "status": "completed"
    },
    "tags": []
   },
   "outputs": [
    {
     "name": "stdout",
     "output_type": "stream",
     "text": [
      "\u001b[1m51/51\u001b[0m \u001b[32m━━━━━━━━━━━━━━━━━━━━\u001b[0m\u001b[37m\u001b[0m \u001b[1m0s\u001b[0m 1ms/step\n"
     ]
    },
    {
     "data": {
      "image/png": "[encoded data removed]",
      "text/plain": [
       "<Figure size 640x480 with 1 Axes>"
      ]
     },
     "metadata": {},
     "output_type": "display_data"
    }
   ],
   "source": [
    "from sklearn.metrics import precision_recall_curve, average_precision_score\n",
    "\n",
    "# Predict probabilities\n",
    "y_pred_prob = model.predict(X_test_reshaped).ravel()\n",
    "# Compute precision-recall pairs for different probability thresholds\n",
    "precision, recall, thresholds = precision_recall_curve(y_test, y_pred_prob)\n",
    "\n",
    "# Compute average precision score\n",
    "average_precision = average_precision_score(y_test, y_pred_prob)\n",
    "\n",
    "# Plot the precision-recall curve\n",
    "plt.figure()\n",
    "plt.plot(recall, precision, color='b', lw=2, label=f'Precision-Recall curve (area = {average_precision:.2f})')\n",
    "plt.xlabel('Recall')\n",
    "plt.ylabel('Precision')\n",
    "plt.title('Precision-Recall Curve')\n",
    "plt.legend(loc='lower left')\n",
    "plt.show()"
   ]
  },
  {
   "cell_type": "code",
   "execution_count": 28,
   "id": "31228e8c",
   "metadata": {
    "execution": {
     "iopub.execute_input": "2024-06-30T21:08:31.008309Z",
     "iopub.status.busy": "2024-06-30T21:08:31.007503Z",
     "iopub.status.idle": "2024-06-30T21:08:31.284770Z",
     "shell.execute_reply": "2024-06-30T21:08:31.283682Z"
    },
    "papermill": {
     "duration": 0.334906,
     "end_time": "2024-06-30T21:08:31.287306",
     "exception": false,
     "start_time": "2024-06-30T21:08:30.952400",
     "status": "completed"
    },
    "tags": []
   },
   "outputs": [
    {
     "name": "stdout",
     "output_type": "stream",
     "text": [
      "True Negatives (TN): 779\n",
      "False Positives (FP): 23\n",
      "False Negatives (FN): 194\n",
      "True Positives (TP): 612\n"
     ]
    },
    {
     "data": {
      "image/png": "[encoded data removed]",
      "text/plain": [
       "<Figure size 800x600 with 2 Axes>"
      ]
     },
     "metadata": {},
     "output_type": "display_data"
    }
   ],
   "source": [
    "import numpy as np\n",
    "import matplotlib.pyplot as plt\n",
    "import seaborn as sns\n",
    "from sklearn.metrics import confusion_matrix\n",
    "\n",
    "# Assuming binary_predictions and y_test are already defined\n",
    "\n",
    "# Generate the confusion matrix\n",
    "conf_matrix = confusion_matrix(y_test, binary_predictions)\n",
    "\n",
    "# Extract TN, FP, FN, TP\n",
    "TN, FP, FN, TP = conf_matrix.ravel()\n",
    "\n",
    "# Print TN, FP, FN, TP\n",
    "print(f\"True Negatives (TN): {TN}\")\n",
    "print(f\"False Positives (FP): {FP}\")\n",
    "print(f\"False Negatives (FN): {FN}\")\n",
    "print(f\"True Positives (TP): {TP}\")\n",
    "\n",
    "# Optional: Visualize the confusion matrix\n",
    "plt.figure(figsize=(8, 6))\n",
    "sns.heatmap(conf_matrix, annot=True, fmt='d', cmap=\"Blues\", xticklabels=['Healthy', 'Mastitis'], yticklabels=['Healthy', 'Mastitis'])\n",
    "plt.title('Confusion Matrix')\n",
    "plt.ylabel('Actual Class')\n",
    "plt.xlabel('Predicted Class')\n",
    "plt.show()"
   ]
  },
  {
   "cell_type": "code",
   "execution_count": 29,
   "id": "a63b7df7",
   "metadata": {
    "execution": {
     "iopub.execute_input": "2024-06-30T21:08:31.398649Z",
     "iopub.status.busy": "2024-06-30T21:08:31.398043Z",
     "iopub.status.idle": "2024-06-30T21:08:31.814284Z",
     "shell.execute_reply": "2024-06-30T21:08:31.813265Z"
    },
    "papermill": {
     "duration": 0.474492,
     "end_time": "2024-06-30T21:08:31.816709",
     "exception": false,
     "start_time": "2024-06-30T21:08:31.342217",
     "status": "completed"
    },
    "tags": []
   },
   "outputs": [
    {
     "name": "stdout",
     "output_type": "stream",
     "text": [
      "\u001b[1m51/51\u001b[0m \u001b[32m━━━━━━━━━━━━━━━━━━━━\u001b[0m\u001b[37m\u001b[0m \u001b[1m0s\u001b[0m 1ms/step\n"
     ]
    },
    {
     "data": {
      "image/png": "[encoded data removed]",
      "text/plain": [
       "<Figure size 640x480 with 1 Axes>"
      ]
     },
     "metadata": {},
     "output_type": "display_data"
    }
   ],
   "source": [
    "from sklearn.metrics import roc_curve, auc\n",
    "\n",
    "# Predict probabilities\n",
    "y_pred_prob = model.predict(X_test_reshaped).ravel()\n",
    "\n",
    "# Compute ROC curve and ROC area\n",
    "fpr, tpr, thresholds = roc_curve(y_test, y_pred_prob)\n",
    "roc_auc = auc(fpr, tpr)\n",
    "\n",
    "# Plot ROC curve\n",
    "plt.figure()\n",
    "plt.plot(fpr, tpr, color='darkorange', lw=2, label=f'ROC curve (area = {roc_auc:.2f})')\n",
    "plt.plot([0, 1], [0, 1], color='navy', lw=2, linestyle='--')\n",
    "plt.xlim([0.0, 1.0])\n",
    "plt.ylim([0.0, 1.05])\n",
    "plt.xlabel('False Positive Rate')\n",
    "plt.ylabel('True Positive Rate')\n",
    "plt.title('Receiver Operating Characteristic (ROC) Curve')\n",
    "plt.legend(loc='lower right')\n",
    "plt.show()"
   ]
  },
  {
   "cell_type": "code",
   "execution_count": 30,
   "id": "86264f7d",
   "metadata": {
    "execution": {
     "iopub.execute_input": "2024-06-30T21:08:31.929966Z",
     "iopub.status.busy": "2024-06-30T21:08:31.928949Z",
     "iopub.status.idle": "2024-06-30T21:08:31.969454Z",
     "shell.execute_reply": "2024-06-30T21:08:31.968255Z"
    },
    "papermill": {
     "duration": 0.099505,
     "end_time": "2024-06-30T21:08:31.971995",
     "exception": false,
     "start_time": "2024-06-30T21:08:31.872490",
     "status": "completed"
    },
    "tags": []
   },
   "outputs": [],
   "source": [
    "# Save the entire model\n",
    "model.save('lstm_model.h5')"
   ]
  }
 ],
 "metadata": {
  "kaggle": {
   "accelerator": "none",
   "dataSources": [
    {
     "databundleVersionId": 8979183,
     "datasetId": 5279900,
     "sourceId": 8821041,
     "sourceType": "datasetVersion"
    },
    {
     "databundleVersionId": 8985592,
     "datasetId": 5279788,
     "sourceId": 8827177,
     "sourceType": "datasetVersion"
    }
   ],
   "dockerImageVersionId": 30732,
   "isGpuEnabled": false,
   "isInternetEnabled": false,
   "language": "python",
   "sourceType": "notebook"
  },
  "kernelspec": {
   "display_name": "Python 3",
   "language": "python",
   "name": "python3"
  },
  "language_info": {
   "codemirror_mode": {
    "name": "ipython",
    "version": 3
   },
   "file_extension": ".py",
   "mimetype": "text/x-python",
   "name": "python",
   "nbconvert_exporter": "python",
   "pygments_lexer": "ipython3",
   "version": "3.10.13"
  },
  "papermill": {
   "default_parameters": {},
   "duration": 67.132002,
   "end_time": "2024-06-30T21:08:35.343236",
   "environment_variables": {},
   "exception": null,
   "input_path": "__notebook__.ipynb",
   "output_path": "__notebook__.ipynb",
   "parameters": {},
   "start_time": "2024-06-30T21:07:28.211234",
   "version": "2.5.0"
  }
 },
 "nbformat": 4,
 "nbformat_minor": 5
}
